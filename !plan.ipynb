{
 "cells": [
  {
   "cell_type": "markdown",
   "id": "185460bb-18af-4101-bdfd-bc84c7cc8a9b",
   "metadata": {
    "tags": []
   },
   "source": [
    "# Done"
   ]
  },
  {
   "cell_type": "markdown",
   "id": "82c322e1-255f-411d-94de-10a1aab57488",
   "metadata": {},
   "source": [
    "- find my image dupes notebook, I seem to have lost it!<br>\n",
    "  - clean up a bit at the same time\n",
    "- put all my ai work and notes in a git repo on github\n",
    "- make private branches of the fastai libs, for my work\n",
    "  - merging notebooks might be a hassle, but maybe they won't change much upstream\n",
    "- clone my ai repo on opal\n",
    "- clone my ai/repos/docs on opal\n",
    "- clone other repos on opal, including my branches\n",
    "- backup my ai/models and ai/data across two drives\n",
    "\n",
    "Thursday night:\n",
    "\n",
    "- stable diffusion notebook from lesson 9"
   ]
  },
  {
   "cell_type": "markdown",
   "id": "a707e0d0-c586-418b-8dac-e45db079a8e1",
   "metadata": {
    "tags": []
   },
   "source": [
    "# Doing"
   ]
  },
  {
   "cell_type": "markdown",
   "id": "d520bb55-48c5-42cc-b340-aaff1b5bb37c",
   "metadata": {},
   "source": [
    "- SD Deep Dive Notebook Run-through\n",
    "  - experiment with my own ideas"
   ]
  },
  {
   "cell_type": "code",
   "execution_count": null,
   "id": "4452c079-c3d7-4a86-a522-ab3a1c8ccf0d",
   "metadata": {},
   "outputs": [],
   "source": []
  },
  {
   "cell_type": "markdown",
   "id": "703bda5b-ca9e-467c-8426-dbea5c974b3a",
   "metadata": {},
   "source": [
    "# To-do"
   ]
  },
  {
   "cell_type": "markdown",
   "id": "d5a5828d-27c0-48d2-bda1-e5053618869b",
   "metadata": {},
   "source": [
    "- try implementing the diffedit method\n",
    "- try implementing the imagic method\n",
    "  - can look at other reference\n",
    "- what to do with symlinks in x? I would like to include them\n",
    "- backup my ai/models and ai/data remotely, maybe on the Mac?\n",
    "- catch up with lessons and work from part 2\n",
    "- catch up with lessons and work from part 1\n",
    "- I need a better \"parallel\" tool which also combines output properly in order and streaming as it is available.\n",
    "  - Try GNU parallel\n",
    "  - or write my own."
   ]
  },
  {
   "cell_type": "code",
   "execution_count": null,
   "id": "96dc7cde-e89a-432c-b5a8-a90cc75edfab",
   "metadata": {},
   "outputs": [],
   "source": []
  }
 ],
 "metadata": {
  "kernelspec": {
   "display_name": "Python 3 (ipykernel)",
   "language": "python",
   "name": "python3"
  },
  "language_info": {
   "codemirror_mode": {
    "name": "ipython",
    "version": 3
   },
   "file_extension": ".py",
   "mimetype": "text/x-python",
   "name": "python",
   "nbconvert_exporter": "python",
   "pygments_lexer": "ipython3",
   "version": "3.10.7"
  }
 },
 "nbformat": 4,
 "nbformat_minor": 5
}
