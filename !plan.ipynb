{
 "cells": [
  {
   "cell_type": "markdown",
   "id": "185460bb-18af-4101-bdfd-bc84c7cc8a9b",
   "metadata": {
    "tags": []
   },
   "source": [
    "# Done"
   ]
  },
  {
   "cell_type": "markdown",
   "id": "82c322e1-255f-411d-94de-10a1aab57488",
   "metadata": {},
   "source": [
    "- find my image dupes notebook, I seem to have lost it!<br>\n",
    "  - clean up a bit at the same time"
   ]
  },
  {
   "cell_type": "markdown",
   "id": "a707e0d0-c586-418b-8dac-e45db079a8e1",
   "metadata": {
    "tags": []
   },
   "source": [
    "# Doing"
   ]
  },
  {
   "cell_type": "markdown",
   "id": "703bda5b-ca9e-467c-8426-dbea5c974b3a",
   "metadata": {},
   "source": [
    "# To-do"
   ]
  },
  {
   "cell_type": "markdown",
   "id": "d5a5828d-27c0-48d2-bda1-e5053618869b",
   "metadata": {},
   "source": [
    "- make private forks of the fastai libs on github, for my work?\n",
    "  - can't do that on github, I'll just do it locally and mirror to my servers using arcs I guess\n",
    "  - merging notebooks might be a hassle though, maybe it's not worth it\n",
    "- put all my work and notes in a git repo and share them\n",
    "- catch up with lessons and work from part 2\n",
    "- catch up with lessons and work from part 1"
   ]
  }
 ],
 "metadata": {
  "kernelspec": {
   "display_name": "Python 3 (ipykernel)",
   "language": "python",
   "name": "python3"
  },
  "language_info": {
   "codemirror_mode": {
    "name": "ipython",
    "version": 3
   },
   "file_extension": ".py",
   "mimetype": "text/x-python",
   "name": "python",
   "nbconvert_exporter": "python",
   "pygments_lexer": "ipython3",
   "version": "3.10.7"
  }
 },
 "nbformat": 4,
 "nbformat_minor": 5
}
