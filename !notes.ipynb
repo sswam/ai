{
 "cells": [
  {
   "cell_type": "markdown",
   "id": "e77f45e9-622b-42f5-946c-d1eb3b7f2250",
   "metadata": {},
   "source": [
    "# General notes about things I've learned, not lesson specific"
   ]
  },
  {
   "cell_type": "markdown",
   "id": "83943d14-f3c7-41c1-8d9c-22a5417f7b34",
   "metadata": {
    "tags": []
   },
   "source": [
    "## How to install a python package for dev, or latest from git"
   ]
  },
  {
   "cell_type": "markdown",
   "id": "1ea94056-af6b-4213-94f4-ca36e5eadbe4",
   "metadata": {},
   "source": [
    "Clone the repo, the cd into it and:"
   ]
  },
  {
   "cell_type": "markdown",
   "id": "1dab945c-8088-41a0-8c88-7eda2166b0c1",
   "metadata": {},
   "source": [
    "    pip install -e ."
   ]
  },
  {
   "cell_type": "markdown",
   "id": "f93d7343-d408-44dc-ae77-0e9959ff834c",
   "metadata": {
    "tags": []
   },
   "source": [
    "## Jupyter"
   ]
  },
  {
   "cell_type": "markdown",
   "id": "4c7c909f-e916-4e09-8c0e-de6c085022e8",
   "metadata": {},
   "source": [
    "### Diff two notebooks"
   ]
  },
  {
   "cell_type": "code",
   "execution_count": null,
   "id": "a01d03fd-c6eb-49a6-96aa-d424f15ccfbb",
   "metadata": {},
   "outputs": [],
   "source": [
    "!pip install nbdime"
   ]
  },
  {
   "cell_type": "markdown",
   "id": "72cba03a-3c8c-44d8-9b5e-03dd3446b54a",
   "metadata": {
    "tags": []
   },
   "source": [
    "[nbdime](https://nbdime.readthedocs.io/en/latest/) is recommended [here on stackoverflow](https://stackoverflow.com/questions/18171968/is-there-any-way-to-generate-a-diff-between-two-versions-of-an-ipython-notebook).\n",
    "\n",
    "I don't recommend to run `nbdiff-web` from a notebook, it hangs the notebook, might have to kill it from a terminal!"
   ]
  },
  {
   "cell_type": "markdown",
   "id": "172bba96-192a-4618-b0f4-c5d175149f95",
   "metadata": {},
   "source": [
    "    nbdiff-web --ignore-outputs notes.ipynb 11_notes.ipynb"
   ]
  },
  {
   "cell_type": "markdown",
   "id": "2aa534d4-ae85-430f-9ac7-9b9b72a57aff",
   "metadata": {
    "tags": []
   },
   "source": [
    "### Trust a notebook"
   ]
  },
  {
   "cell_type": "code",
   "execution_count": null,
   "id": "2dc7dd98-9892-42aa-a257-c1deffe29688",
   "metadata": {},
   "outputs": [],
   "source": [
    "!jupyter trust notebook.ipynb"
   ]
  },
  {
   "cell_type": "markdown",
   "id": "adb1d892-0800-4df7-9f62-3b4ba84d7dff",
   "metadata": {
    "tags": []
   },
   "source": [
    "## Git"
   ]
  },
  {
   "cell_type": "markdown",
   "id": "8a8e13d6-a725-4f72-bb46-b30c683efb7a",
   "metadata": {},
   "source": [
    "Of course I still don't know much about git after more than 13 years...!\n",
    "\n",
    "Maybe I should RTFM and actually learn it with Anki or something."
   ]
  },
  {
   "cell_type": "markdown",
   "id": "569d2903-077d-42ea-9abe-7ddf1ad9aecc",
   "metadata": {},
   "source": [
    "Piping color git output to less:    \n",
    "\n",
    "    git -c color.status=always status | less -R"
   ]
  },
  {
   "cell_type": "markdown",
   "id": "e6831ccc-4a5f-44c4-b149-7039ee11a2ec",
   "metadata": {},
   "source": [
    "Unstage something from git:\n",
    "    \n",
    "    git reset -- file dir"
   ]
  },
  {
   "cell_type": "markdown",
   "id": "5a41c4e8-f79e-4037-a282-2f05a913d445",
   "metadata": {
    "tags": []
   },
   "source": [
    "## Cuda"
   ]
  },
  {
   "cell_type": "code",
   "execution_count": null,
   "id": "fbc9ba8b-431f-4f93-bea0-66f6205e6d20",
   "metadata": {
    "tags": []
   },
   "outputs": [],
   "source": [
    "torch.cuda.empty_cache()"
   ]
  },
  {
   "cell_type": "code",
   "execution_count": null,
   "id": "24e6ee4b-67e7-4ec7-93b0-9b8183ccf820",
   "metadata": {},
   "outputs": [],
   "source": [
    "torch.cuda.empty_cache()"
   ]
  },
  {
   "cell_type": "markdown",
   "id": "54cc6f21-180d-4b74-8751-a9333d166b65",
   "metadata": {},
   "source": [
    "## Miscellaneous"
   ]
  },
  {
   "cell_type": "markdown",
   "id": "f00efe92-4cd4-4145-bf55-0f36b449ea6d",
   "metadata": {},
   "source": [
    "- a fast.ai model.pkl file is actually a zip file containing archive dir, with archive/data.pkl file and other data files\n",
    "- I can do two prompts at once using diffusers on my 2060S (8GB) now."
   ]
  },
  {
   "cell_type": "code",
   "execution_count": null,
   "id": "11419a13-1f61-482a-a6fa-61b7c52a9e23",
   "metadata": {},
   "outputs": [],
   "source": []
  }
 ],
 "metadata": {
  "kernelspec": {
   "display_name": "Python 3 (ipykernel)",
   "language": "python",
   "name": "python3"
  },
  "language_info": {
   "codemirror_mode": {
    "name": "ipython",
    "version": 3
   },
   "file_extension": ".py",
   "mimetype": "text/x-python",
   "name": "python",
   "nbconvert_exporter": "python",
   "pygments_lexer": "ipython3",
   "version": "3.10.7"
  }
 },
 "nbformat": 4,
 "nbformat_minor": 5
}
