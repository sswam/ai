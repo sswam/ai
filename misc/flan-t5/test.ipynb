{
 "cells": [
  {
   "cell_type": "code",
   "execution_count": null,
   "id": "d731ebb4-ee27-402f-9472-a2b4d1389e88",
   "metadata": {},
   "outputs": [],
   "source": [
    "import torch\n",
    "from transformers import T5Tokenizer, T5ForConditionalGeneration"
   ]
  },
  {
   "cell_type": "code",
   "execution_count": null,
   "id": "eb47c3ac-4678-43e9-92a0-6f2b3e1794ae",
   "metadata": {},
   "outputs": [],
   "source": [
    "model = \"google/flan-t5-xl\""
   ]
  },
  {
   "cell_type": "code",
   "execution_count": null,
   "id": "d615f3fb-66af-4ef5-8a12-9039b3cfd547",
   "metadata": {},
   "outputs": [],
   "source": [
    "tokenizer = T5Tokenizer.from_pretrained(model)"
   ]
  },
  {
   "cell_type": "code",
   "execution_count": null,
   "id": "060c83ca-c8b0-4d88-9994-604b5deb520a",
   "metadata": {},
   "outputs": [],
   "source": [
    "cuda = True\n",
    "\n",
    "kwargs = {\n",
    "    \"offload_folder\": \"offload\", \n",
    "    \"device_map\": \"auto\",\n",
    "#    \"load_in_8bit\": True,\n",
    "    \"torch_dtype\": torch.float16,\n",
    "}"
   ]
  },
  {
   "cell_type": "code",
   "execution_count": null,
   "id": "ba95a49c-e768-417e-b6f4-a307a96cfda1",
   "metadata": {},
   "outputs": [],
   "source": [
    "model = T5ForConditionalGeneration.from_pretrained(model, **kwargs)"
   ]
  },
  {
   "cell_type": "code",
   "execution_count": null,
   "id": "a69580c0-1018-4891-9685-0627c66bd86e",
   "metadata": {},
   "outputs": [],
   "source": [
    "input_text = \"translate English to German: How old are you?\"\n",
    "input_ids = tokenizer(input_text, return_tensors=\"pt\").input_ids"
   ]
  },
  {
   "cell_type": "code",
   "execution_count": null,
   "id": "1ecc044b-f4f6-4a1a-9629-c2733c0abb32",
   "metadata": {},
   "outputs": [],
   "source": [
    "if cuda:\n",
    "    input_ids = input_ids.to(\"cuda\")"
   ]
  },
  {
   "cell_type": "code",
   "execution_count": null,
   "id": "3904e2d8-3465-4bdd-a728-02ff687a013b",
   "metadata": {},
   "outputs": [],
   "source": [
    "outputs = model.generate(input_ids)\n",
    "print(tokenizer.decode(outputs[0]))"
   ]
  }
 ],
 "metadata": {
  "kernelspec": {
   "display_name": "Python 3 (ipykernel)",
   "language": "python",
   "name": "python3"
  },
  "language_info": {
   "codemirror_mode": {
    "name": "ipython",
    "version": 3
   },
   "file_extension": ".py",
   "mimetype": "text/x-python",
   "name": "python",
   "nbconvert_exporter": "python",
   "pygments_lexer": "ipython3",
   "version": "3.10.7"
  }
 },
 "nbformat": 4,
 "nbformat_minor": 5
}
