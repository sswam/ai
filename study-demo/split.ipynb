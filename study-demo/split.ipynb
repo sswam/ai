{
 "cells": [
  {
   "cell_type": "code",
   "execution_count": null,
   "id": "7382912a-c516-4ef8-b4a5-6466cf6f6773",
   "metadata": {},
   "outputs": [],
   "source": [
    "from plot import bars"
   ]
  },
  {
   "cell_type": "code",
   "execution_count": null,
   "id": "6338a7a8-ce73-4350-b901-2c2a7ceccdf3",
   "metadata": {},
   "outputs": [],
   "source": [
    "with open(\"cryptography/audio.txt\") as inp:\n",
    "    text = inp.read()"
   ]
  },
  {
   "cell_type": "code",
   "execution_count": null,
   "id": "0dece31c-6532-47f9-b2ef-b46cc9bb72d0",
   "metadata": {},
   "outputs": [],
   "source": [
    "import textwrap"
   ]
  },
  {
   "cell_type": "code",
   "execution_count": null,
   "id": "d9262545-f6a3-48ba-9d07-3633a75a3c00",
   "metadata": {},
   "outputs": [],
   "source": [
    "chunks = textwrap.wrap(text, 100)"
   ]
  },
  {
   "cell_type": "code",
   "execution_count": null,
   "id": "4aa0bb87-b385-4a14-b121-d4687e79e96a",
   "metadata": {},
   "outputs": [
    {
     "data": {
      "text/plain": [
       "\"This probably looks like gibberish to you. And it should, because it's a cryptogram, a message in\""
      ]
     },
     "execution_count": null,
     "metadata": {},
     "output_type": "execute_result"
    }
   ],
   "source": [
    "chunks[0]"
   ]
  },
  {
   "cell_type": "code",
   "execution_count": null,
   "id": "9d7fbc3e-0104-479e-9ff5-478ab53c546d",
   "metadata": {},
   "outputs": [
    {
     "data": {
      "text/plain": [
       "'code. But if I told you that all I did was shift every letter in the sentence to the next one in the'"
      ]
     },
     "execution_count": null,
     "metadata": {},
     "output_type": "execute_result"
    }
   ],
   "source": [
    "chunks[1]"
   ]
  },
  {
   "cell_type": "code",
   "execution_count": null,
   "id": "b09abf92-3ea4-4fd2-95ea-4c6029bbba9b",
   "metadata": {},
   "outputs": [],
   "source": [
    "import nltk\n",
    "from nltk.tokenize import sent_tokenize\n",
    "\n",
    "def split_in_segments(text):\n",
    "    tokens = 0\n",
    "    mystring = list()\n",
    "    segments = []\n",
    "    for sent in sent_tokenize(text):\n",
    "        newtokens = len(sent.split())\n",
    "        tokens += newtokens\n",
    "        mystring.append(str(sent).strip())\n",
    "        if tokens > 512:\n",
    "            segments.append(\" \".join(mystring))\n",
    "            mystring = []\n",
    "            tokens = 0\n",
    "    if mystring:\n",
    "        segments.append(\" \".join(mystring))\n",
    "    return(segments)"
   ]
  },
  {
   "cell_type": "code",
   "execution_count": null,
   "id": "50653805-5382-48c3-9e82-5f88190fb4b6",
   "metadata": {},
   "outputs": [],
   "source": [
    "pieces = split_in_segments(text)"
   ]
  },
  {
   "cell_type": "code",
   "execution_count": null,
   "id": "2b1068b7-97dd-4de0-964a-25eb90b8a51d",
   "metadata": {},
   "outputs": [
    {
     "data": {
      "text/plain": [
       "4"
      ]
     },
     "execution_count": null,
     "metadata": {},
     "output_type": "execute_result"
    }
   ],
   "source": [
    "len(pieces)"
   ]
  },
  {
   "cell_type": "code",
   "execution_count": null,
   "id": "63dd25ac-1976-4249-809f-a646398d8d83",
   "metadata": {},
   "outputs": [
    {
     "data": {
      "text/plain": [
       "[2778, 2897, 2839, 1883]"
      ]
     },
     "execution_count": null,
     "metadata": {},
     "output_type": "execute_result"
    }
   ],
   "source": [
    "[len(p) for p in pieces]"
   ]
  },
  {
   "cell_type": "code",
   "execution_count": null,
   "id": "69651d41-1bf2-4c8c-966d-4c3f2efebe8d",
   "metadata": {},
   "outputs": [],
   "source": [
    "!hideout python -m spacy download en_core_web_sm"
   ]
  },
  {
   "cell_type": "code",
   "execution_count": null,
   "id": "723a4d76-245b-46ee-b294-2439abb673f3",
   "metadata": {},
   "outputs": [],
   "source": [
    "#|export\n",
    "import spacy\n",
    "from math import ceil"
   ]
  },
  {
   "cell_type": "code",
   "execution_count": null,
   "id": "a6656c93-3f51-4b54-a55b-caf8588b0bb1",
   "metadata": {},
   "outputs": [],
   "source": [
    "#|export\n",
    "nlp = None\n",
    "def spacy_init(model=\"en_core_web_sm\"):\n",
    "    global nlp\n",
    "    nlp = spacy.load(model)"
   ]
  },
  {
   "cell_type": "code",
   "execution_count": null,
   "id": "c62fb57a-53f3-4861-9565-98b6a2d99a31",
   "metadata": {},
   "outputs": [],
   "source": [
    "spacy_init()\n",
    "doc = nlp(text)"
   ]
  },
  {
   "cell_type": "code",
   "execution_count": null,
   "id": "3b14c7e3-3239-4a54-8ecd-bb02193f0756",
   "metadata": {},
   "outputs": [],
   "source": [
    "#|export\n",
    "def spacy_split(doc, size=None, n_pieces=1):\n",
    "    total = len(doc)\n",
    "    if size:\n",
    "        n_pieces = ceil(total / size)\n",
    "    pieces = []\n",
    "    tokens = 0\n",
    "    end_piece = 0\n",
    "    sents = list(doc.sents)\n",
    "    n_sents = len(sents)\n",
    "    for i, sent in enumerate(sents):\n",
    "        tokens += len(sent)\n",
    "        if tokens > end_piece or n_sents - i <= n_pieces - len(pieces):\n",
    "            pieces.append([])\n",
    "            end_piece = total * len(pieces) / n_pieces\n",
    "        pieces[-1].append(sent)\n",
    "    return pieces"
   ]
  },
  {
   "cell_type": "code",
   "execution_count": null,
   "id": "59cb927d-3921-4ead-b294-9bb8d104207b",
   "metadata": {},
   "outputs": [
    {
     "name": "stdout",
     "output_type": "stream",
     "text": [
      "[18, 26, 21, 20, 21]\n",
      "[426, 508, 458, 459, 486]\n",
      "5 2337\n"
     ]
    },
    {
     "data": {
      "image/png": "[encoded data removed]",
      "text/plain": [
       "<Figure size 640x480 with 1 Axes>"
      ]
     },
     "metadata": {},
     "output_type": "display_data"
    }
   ],
   "source": [
    "pieces = spacy_split(doc, size=512)\n",
    "lens = [sum(len(s) for s in p) for p in pieces]\n",
    "print([len(p) for p in pieces])\n",
    "print(lens)\n",
    "print(len(lens), sum(lens))\n",
    "bars(lens)"
   ]
  },
  {
   "cell_type": "code",
   "execution_count": null,
   "id": "3f03eebc-7b7b-4aa0-a7d0-a1dafcb652e0",
   "metadata": {},
   "outputs": [],
   "source": [
    "#|export\n",
    "def spacy_split_overlap(doc, size=None, n_pieces=1, overlap=0):\n",
    "    total = len(doc)\n",
    "    if size:\n",
    "        n_pieces = ceil(total / size)\n",
    "    overlap = min(overlap, ceil(total / (n_pieces+1)))\n",
    "    pieces = []\n",
    "    tokens = 0\n",
    "    end_piece = 0\n",
    "    sents = list(doc.sents)\n",
    "    n_sents = len(sents)\n",
    "    overlap_piece = []\n",
    "    end_piece_1 = 0\n",
    "    end_piece_2 = 0\n",
    "    for i, sent in enumerate(sents):\n",
    "        tokens += len(sent)\n",
    "        if tokens > end_piece_2 or n_sents - i <= n_pieces - len(pieces):\n",
    "            pieces.append(overlap_piece)\n",
    "            overlap_piece = []\n",
    "            end_piece_1 = (total - overlap) * len(pieces) / n_pieces\n",
    "            end_piece_2 = end_piece_1 + overlap\n",
    "        elif tokens > end_piece_1:\n",
    "            overlap_piece.append(sent)\n",
    "        pieces[-1].append(sent)\n",
    "    return pieces"
   ]
  },
  {
   "cell_type": "code",
   "execution_count": null,
   "id": "c7a13296-576f-4f7d-920f-4ac015c62dc0",
   "metadata": {},
   "outputs": [
    {
     "name": "stdout",
     "output_type": "stream",
     "text": [
      "[25, 29, 26, 23, 24]\n",
      "[554, 575, 544, 527, 577]\n",
      "5 2777\n"
     ]
    },
    {
     "data": {
      "image/png": "[encoded data removed]",
      "text/plain": [
       "<Figure size 640x480 with 1 Axes>"
      ]
     },
     "metadata": {},
     "output_type": "display_data"
    }
   ],
   "source": [
    "pieces = spacy_split_overlap(doc, size=512, overlap=128)\n",
    "lens = [sum(len(s) for s in p) for p in pieces]\n",
    "print([len(p) for p in pieces])\n",
    "print(lens)\n",
    "print(len(lens), sum(lens))\n",
    "\n",
    "import matplotlib.pyplot as plt\n",
    "plt.bar(range(len(lens)), lens)\n",
    "plt.show()"
   ]
  },
  {
   "cell_type": "code",
   "execution_count": null,
   "id": "26d7be6d-bbdb-4c86-8107-7d1e0d5323f1",
   "metadata": {},
   "outputs": [],
   "source": [
    "#|default_exp split\n",
    "import ucm\n",
    "ucm.export()"
   ]
  },
  {
   "cell_type": "markdown",
   "id": "cb868d26-def7-4196-ba79-76ad92aab0ea",
   "metadata": {},
   "source": [
    "<br><br><br><br><br><br><br><br>\n",
    "\n",
    "## scratch"
   ]
  },
  {
   "cell_type": "code",
   "execution_count": null,
   "id": "fd16d36d-add1-45c3-a969-77c58bba93e5",
   "metadata": {},
   "outputs": [],
   "source": [
    "from math import ceil\n",
    "\n",
    "size = 512\n",
    "overlap = 128\n",
    "total = sum(len(s) for s in doc.sents)\n",
    "n_pieces = ceil(total / size)"
   ]
  },
  {
   "cell_type": "code",
   "execution_count": null,
   "id": "e9b0f2c5-f4db-4b11-bc4e-98115f0be523",
   "metadata": {},
   "outputs": [],
   "source": [
    "chunks = []\n",
    "count = 0\n",
    "tokens = 0\n",
    "overlap_chunk = []\n",
    "end_chunk_1 = 0\n",
    "for sent in doc.sents:\n",
    "    tokens += len(sent)\n",
    "    if tokens > end_chunk_1:\n",
    "        overlap_chunk.append(sent)\n",
    "    if not chunks or tokens > end_chunk_2:\n",
    "        chunks.append(overlap_chunk.copy())\n",
    "        overlap_chunk = []\n",
    "        count += 1\n",
    "        end_chunk_2 = (total + overlap) * count / n_pieces\n",
    "        end_chunk_1 = end_chunk_2 - overlap\n",
    "    chunks[-1].append(sent)"
   ]
  },
  {
   "cell_type": "code",
   "execution_count": null,
   "id": "4d093922-5f40-4223-b317-180106102606",
   "metadata": {},
   "outputs": [
    {
     "data": {
      "text/plain": [
       "5"
      ]
     },
     "execution_count": null,
     "metadata": {},
     "output_type": "execute_result"
    }
   ],
   "source": [
    "n_pieces"
   ]
  },
  {
   "cell_type": "code",
   "execution_count": null,
   "id": "f25ff83a-2520-4f4c-87cb-f351dff94fd5",
   "metadata": {},
   "outputs": [],
   "source": [
    "chunks = []\n",
    "count = 0\n",
    "tokens = 0\n",
    "for sent in doc.sents:\n",
    "    tokens += len(sent)\n",
    "    if not chunks or tokens > end_chunk:\n",
    "        chunks.append([])\n",
    "        count += 1\n",
    "        end_chunk = total * count / n_pieces\n",
    "    chunks[-1].append(sent)"
   ]
  },
  {
   "cell_type": "code",
   "execution_count": null,
   "id": "b9c1a8a9-15be-4287-9577-650674508871",
   "metadata": {},
   "outputs": [
    {
     "data": {
      "text/plain": [
       "5"
      ]
     },
     "execution_count": null,
     "metadata": {},
     "output_type": "execute_result"
    }
   ],
   "source": [
    "len(chunks)"
   ]
  },
  {
   "cell_type": "code",
   "execution_count": null,
   "id": "e079e3a9-930a-4c9f-966f-ebdd6e1d1eda",
   "metadata": {},
   "outputs": [
    {
     "data": {
      "text/plain": [
       "([426, 508, 458, 459, 486], 2337)"
      ]
     },
     "execution_count": null,
     "metadata": {},
     "output_type": "execute_result"
    }
   ],
   "source": [
    "lens = [sum(len(s) for s in c) for c in chunks]\n",
    "lens, sum(lens)"
   ]
  },
  {
   "cell_type": "code",
   "execution_count": null,
   "id": "c145e8a9-de5b-433f-9d2c-c24de826258c",
   "metadata": {},
   "outputs": [],
   "source": [
    "chunks = []\n",
    "count = 0\n",
    "tokens = 0\n",
    "overlap_chunk = []\n",
    "end_chunk_1 = 0\n",
    "for sent in doc.sents:\n",
    "    tokens += len(sent)\n",
    "    if tokens > end_chunk_1:\n",
    "        overlap_chunk.append(sent)\n",
    "    if not chunks or tokens > end_chunk_2:\n",
    "        chunks.append(overlap_chunk.copy())\n",
    "        overlap_chunk = []\n",
    "        count += 1\n",
    "        end_chunk_2 = (total + overlap) * count / n_pieces\n",
    "        end_chunk_1 = end_chunk_2 - overlap\n",
    "    chunks[-1].append(sent)"
   ]
  },
  {
   "cell_type": "code",
   "execution_count": null,
   "id": "85b100ed-3861-4100-8992-0999e5887da5",
   "metadata": {},
   "outputs": [
    {
     "data": {
      "text/plain": [
       "5"
      ]
     },
     "execution_count": null,
     "metadata": {},
     "output_type": "execute_result"
    }
   ],
   "source": [
    "len(chunks)"
   ]
  },
  {
   "cell_type": "code",
   "execution_count": null,
   "id": "ecc2f12d-1de5-4cfb-9abc-90bac573189a",
   "metadata": {},
   "outputs": [
    {
     "data": {
      "text/plain": [
       "([489, 638, 658, 628, 561], 2974)"
      ]
     },
     "execution_count": null,
     "metadata": {},
     "output_type": "execute_result"
    }
   ],
   "source": [
    "lens = [sum(len(s) for s in c) for c in chunks]\n",
    "lens, sum(lens)"
   ]
  },
  {
   "cell_type": "code",
   "execution_count": null,
   "id": "ee664a78-7eda-4f22-b923-f18c61e780c0",
   "metadata": {},
   "outputs": [
    {
     "data": {
      "text/plain": [
       "This probably looks like gibberish to you."
      ]
     },
     "execution_count": null,
     "metadata": {},
     "output_type": "execute_result"
    }
   ],
   "source": [
    "next(doc.sents)"
   ]
  }
 ],
 "metadata": {
  "kernelspec": {
   "display_name": "python3",
   "language": "python",
   "name": "python3"
  }
 },
 "nbformat": 4,
 "nbformat_minor": 5
}
