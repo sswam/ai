{
  "cells": [
    {
      "cell_type": "raw",
      "metadata": {},
      "source": [
        "---\n",
        "title: 'quarto renders #|export wrongly'\n",
        "---"
      ],
      "id": "d5520486"
    },
    {
      "cell_type": "code",
      "metadata": {},
      "source": [
        "#| export\n",
        "print(\"Hello, world\")"
      ],
      "id": "e4e4953c",
      "execution_count": null,
      "outputs": []
    }
  ],
  "metadata": {
    "kernelspec": {
      "name": "python3",
      "language": "python",
      "display_name": "Python 3 (ipykernel)"
    }
  },
  "nbformat": 4,
  "nbformat_minor": 5
}