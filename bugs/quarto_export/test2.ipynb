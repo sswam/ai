{
 "cells": [
  {
   "cell_type": "raw",
   "id": "f360288e-bb2e-4bd7-9120-a313b9b0f6b5",
   "metadata": {},
   "source": [
    "---\n",
    "title: \"quarto renders #|export wrongly\"\n",
    "---"
   ]
  },
  {
   "cell_type": "code",
   "execution_count": null,
   "id": "b38565d2-0b01-4e99-9b3f-4c97250d12c3",
   "metadata": {},
   "outputs": [],
   "source": [
    "#|export: true\n",
    "print(\"Hello, world\")"
   ]
  }
 ],
 "metadata": {
  "kernelspec": {
   "display_name": "python3",
   "language": "python",
   "name": "python3"
  }
 },
 "nbformat": 4,
 "nbformat_minor": 5
}
