{
  "cells": [
    {
      "cell_type": "raw",
      "metadata": {},
      "source": [
        "---\n",
        "title: 'quarto renders #|export wrongly'\n",
        "---"
      ]
    },
    {
      "cell_type": "code",
      "source": [
        "#| hello: true\n",
        "#| export\n",
        "#| default_exp cow\n",
        "print(\"Hello, world\")"
      ],
      "execution_count": null,
      "outputs": []
    }
  ],
  "metadata": {
    "kernelspec": {
      "name": "python3",
      "language": "python",
      "display_name": "Python 3 (ipykernel)"
    }
  },
  "nbformat": 4,
  "nbformat_minor": 4
}
