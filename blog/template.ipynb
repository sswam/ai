{
 "cells": [
 {
  "cell_type": "raw",
  "metadata": {},
  "source": [
  "---\n",
  "title: \"$title\"\n",
  "date: \"$date\"\n",
  "format:\n",
  "  html:\n",
  "    code-fold: false\n",
  "    code-tools:\n",
  "      source: https://github.com/sswam/ai/blob/main/blog/posts/$name/$name.ipynb\n",
  "jupyter: $lang\n",
  "toc: true\n",
  "toc-depth: 2\n",
  "categories: []\n",
  "draft: true\n",
  "---"
  ]
 },
 {
  "cell_type": "markdown",
  "metadata": {},
  "source": [
  "## Introduction"
  ]
 }
 ],
 "metadata": {
  "kernelspec": {
   "display_name": "python3",
   "language": "python",
   "name": "python3"
  }
 },
 "nbformat": 4,
 "nbformat_minor": 5
}
