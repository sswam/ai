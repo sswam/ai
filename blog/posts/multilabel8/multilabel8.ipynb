{
 "cells": [
  {
   "cell_type": "raw",
   "id": "8d9cf14c-6cb8-4c2b-9fb0-30af34a082b3",
   "metadata": {},
   "source": [
    "---\n",
    "title: \"A multi-label classifier, part 8: deploying without fastai\"\n",
    "date: \"2023-03-12\"\n",
    "# date-modified: \"2023-03-12\"\n",
    "format:\n",
    "  html:\n",
    "    code-fold: false\n",
    "    code-tools:\n",
    "      source: https://github.com/sswam/ai/blob/main/blog/posts/multilabel8/multilabel8.ipynb\n",
    "jupyter: python\n",
    "toc: true\n",
    "toc-depth: 2\n",
    "categories: []\n",
    "draft: true\n",
    "---"
   ]
  },
  {
   "cell_type": "markdown",
   "id": "c38f3bf2-5e58-46ee-ab8a-23a2df3d91ef",
   "metadata": {},
   "source": [
    "## Introduction"
   ]
  }
 ],
 "metadata": {
  "kernelspec": {
   "display_name": "python3",
   "language": "python",
   "name": "python3"
  }
 },
 "nbformat": 4,
 "nbformat_minor": 5
}
