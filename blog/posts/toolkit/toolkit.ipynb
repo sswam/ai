{
 "cells": [
  {
   "cell_type": "raw",
   "id": "696b0ec6-49ee-4e00-8ee3-063947790e8e",
   "metadata": {},
   "source": [
    "---\n",
    "title: \"An AI toolkit\"\n",
    "date: \"2023-03-29\"\n",
    "# date-modified: \"2023-03-29\"\n",
    "format:\n",
    "  html:\n",
    "    code-fold: false\n",
    "    code-tools:\n",
    "      source: https://github.com/sswam/ai/blob/main/blog/posts/toolkit/toolkit.ipynb\n",
    "jupyter: python\n",
    "toc: true\n",
    "toc-depth: 2\n",
    "categories: []\n",
    "draft: false\n",
    "---"
   ]
  },
  {
   "cell_type": "markdown",
   "id": "0575c423-5c8f-4a2a-88ec-b01d6555658b",
   "metadata": {},
   "source": [
    "## Introduction"
   ]
  },
  {
   "cell_type": "markdown",
   "id": "3d177167-80ff-415f-8c46-1ae68ad7fde8",
   "metadata": {},
   "source": [
    "In recent weeks there has been rapid progress in AI, with the widespread availability of powerful Large Language Models such as OpenAI GPT3.5 and GPT4. We have also seen the release of LLMs that we can run at home, such as LLaMA, Point Alpaca, fine-tuned Galactica, OpenAssistant Pythia, and Cerebras GPT.\n",
    "\n",
    "Software development is being greatly accelerated by tools such a Github Copilot and OpenAI GPT. Copilot is able to complete code as the programmer types, saving a huge amount of time. GPT4 is able to write whole programs to spec in a matter of minutes, with relatively few bugs. We are, I think, at the start of an AI renaissance. Now is the time to have fun and achieve great things, before they've all been done by someone else, and before the robots and AI's completely eclipse us!\n",
    "\n",
    "I am admittedly more expert at toolkit programming than I am at AI model training, however I think that there is a place for the software-tools programmer in modern AI, and I intend to demonstrate that in this blog post."
   ]
  },
  {
   "cell_type": "markdown",
   "id": "f3e693f0-84d2-4119-92ac-172e29f82951",
   "metadata": {},
   "source": [
    "## The Toolkit Approach"
   ]
  },
  {
   "cell_type": "markdown",
   "id": "16cb8fce-8f6b-4fa8-9bcc-335ea7fc1945",
   "metadata": {},
   "source": [
    "Two very expressive programming languages are the shell, and make. Most people don't use the shell for programming, and even fewer use make to execute programs. Those people might be missing out!\n",
    "\n",
    "The shell enables to create pipelines of processes, which can solve problems much more concisely and in a modular fashion.\n",
    "\n",
    "Make enables to set up relations between objects, then try to build any requested object. This is particularly good for exploratory programming or for systems that might be flaky, as we can correct a part of the program than re-run just the steps that remain rather than starting from scratch.\n",
    "\n",
    "Both the shell and make are held back by fairly crufty and obscure syntax, but we can handle that. If a program seems better suited to Python, C, or some other language, we can use that language.\n",
    "\n",
    "Here are two main ideas from the software toolbox approach:\n",
    "\n",
    "1. *The Unix philosophy* is documented by Doug McIlroy in the Bell System Technical Journal from 1978:\n",
    "    - Make each program do one thing well.\n",
    "    - To do a new job, build afresh rather than complicate old programs by adding new \"features\".\n",
    "    - Expect the output of every program to become the input to another, as yet unknown, program.\n",
    "2. *The Practice of Programming*, as described by Brian W. Kernighan and Rob Pike:\n",
    "    - Simplicity, which keeps programs short and manageable;\n",
    "    - clarity, which makes sure they are easy to understand, for people as well as machines;\n",
    "    - generality, which means they work well in a broad range of situations and adapt well as new situations arise; and\n",
    "    - automation, which lets the machine do the work for us, freeing us from mundane tasks."
   ]
  },
  {
   "cell_type": "markdown",
   "id": "c182e68f-2226-4a0d-a239-e1ac16454a3a",
   "metadata": {},
   "source": [
    "## What types of entities do we deal with in the digital world?"
   ]
  },
  {
   "cell_type": "markdown",
   "id": "d3676f86-6008-4f99-80e0-864822b1cbe7",
   "metadata": {},
   "source": [
    "- Simple Media\n",
    "    - Data: Structured and unstructured data, including tabular, time-series, and geospatial data.\n",
    "    - Text: Written content in various formats and styles.\n",
    "    - Images: Visual content in various formats, such as photos, artwork, and diagrams; including bitmap and vector formats.\n",
    "    - Audio: Sound content, including music, speech, and environmental sounds.\n",
    "    - Video: Moving visual content, ranging from short clips to full-length films and animations.\n",
    "- Complex Media\n",
    "    - Multi-Media: Content that combines multiple formats, such as web pages, presentations, and graphic novels.\n",
    "    - Interactive Media: Content that requires user interaction, such as virtual reality experiences, simulations, data visualizations, and video games.\n",
    "- Active Agents\n",
    "    - Software: Operating systems, applications, and tools used to create, manage, and interact with digital content.\n",
    "    - AI Models: Artificial intelligence systems that generate, analyze, and enhance digital content.\n",
    "    - Humans: Users who create, consume, and interact with digital content.\n",
    "- Infrastructure\n",
    "    - Computers: Devices that store, process, and display digital content.\n",
    "    - Networks: Systems that enable the sharing, distribution, and communication of digital content."
   ]
  },
  {
   "cell_type": "markdown",
   "id": "1f72aa0a-dea0-497a-9902-76d761bfe070",
   "metadata": {},
   "source": [
    "## How can we connect these different types of entities?"
   ]
  },
  {
   "cell_type": "markdown",
   "id": "db68e338-b7ac-4a58-b3cd-983f92291378",
   "metadata": {},
   "source": [
    "```{dot}\n",
    "graph G {\n",
    "  layout=neato;\n",
    "  text;\n",
    "  data;\n",
    "  image;\n",
    "  audio;\n",
    "  video;\n",
    "  text -- image;\n",
    "  text -- audio;\n",
    "  text -- data;\n",
    "#  text -- video;\n",
    "  data -- image;\n",
    "  data -- audio;\n",
    "  data -- video;\n",
    "#  image -- audio;\n",
    "  image -- video;\n",
    "  audio -- video;\n",
    "}\n",
    "```"
   ]
  },
  {
   "cell_type": "markdown",
   "id": "d5c6537d-baf7-4ba8-a15b-6e12a5d7e6b4",
   "metadata": {},
   "source": [
    "- data is connected to all sorts of media\n",
    "    - data→media\n",
    "        - presenting and elucidating data in media\n",
    "        - creating media from data\n",
    "    - media→data\n",
    "        - measuring and analysing media\n",
    "        - encoding media in files"
   ]
  },
  {
   "cell_type": "markdown",
   "id": "9c0667e4-d8f5-4e05-95ee-52261fad5858",
   "metadata": {},
   "source": [
    "- text is connected to audio and images\n",
    "    - text→image\n",
    "        - rendering\n",
    "        - image generation\n",
    "    - text→audio\n",
    "        - speech synthesis\n",
    "        - music synthesis\n",
    "    - image→text\n",
    "        - OCR\n",
    "        - classification\n",
    "        - description\n",
    "    - audio->text\n",
    "        - speech recognition\n",
    "        - music analysis\n",
    "        - classification"
   ]
  },
  {
   "cell_type": "markdown",
   "id": "cc1c1365-65b4-442f-b85e-d40593baf5bf",
   "metadata": {},
   "source": [
    "- video consists of moving images with audio\n",
    "    - images+audio🡘video\n",
    "    - selecting best images\n",
    "    - can also have text\n",
    "        - subtitles, related to audio\n",
    "        - content, related to images"
   ]
  },
  {
   "cell_type": "markdown",
   "id": "3e00113e-e627-4d5b-86b3-367eda66968d",
   "metadata": {},
   "source": [
    "```{dot}\n",
    "graph G {\n",
    "  layout=neato;\n",
    "  text -- multimedia;\n",
    "  image -- multimedia;\n",
    "  audio -- multimedia;\n",
    "  video -- multimedia;\n",
    "  data -- multimedia;\n",
    "  multimedia -- interactive;\n",
    "  software -- interactive;\n",
    "  humans -- interactive;\n",
    "  models -- interactive;\n",
    "  models -- humans;\n",
    "  models -- software;\n",
    "  software -- text;\n",
    "  computers -- software;\n",
    "  networks -- computers;\n",
    "  networks -- multimedia;\n",
    "}\n",
    "```"
   ]
  },
  {
   "cell_type": "markdown",
   "id": "0aebf26e-2973-4a2b-93a1-87aec6dab9bc",
   "metadata": {},
   "source": [
    "- multimedia = text + data + image + audio + video\n",
    "    - or some of the above\n",
    "    - hyperlinks\n",
    "    - some interactivity\n",
    "- interactive = multimedia + software + humans\n",
    "    - forms\n",
    "    - apps\n",
    "    - dynamic content\n",
    "        - random\n",
    "        - customized\n",
    "- software\n",
    "    - tools\n",
    "    - apps\n",
    "    - web apps\n",
    "    - dynamic web pages\n",
    "    - services / APIs\n",
    "    - free vs proprietary\n",
    "- humans create and use media\n",
    "    - editors, browsers\n",
    "    - spreadsheets, forms, tables\n",
    "    - cameras, displays\n",
    "    - microphones, speakers\n",
    "    - video cameras, displays\n",
    "- models can imitate human intelligence\n",
    "    - can input and output all forms of media\n",
    "    - can perform processing tasks\n",
    "    - general intelligence\n",
    "    - can plan\n",
    "    - can solve problems\n",
    "    - can discover things\n",
    "    - can play games\n",
    "    - can interface with software\n",
    "    - can drive robots, cars, drones\n",
    "- computers store media, run software and models\n",
    "    - can calculate much more rapidly than an human\n",
    "    - includes phones, game consoles, and other devices\n",
    "    - includes servers, cloud services\n",
    "- networks connect computers\n",
    "    - connect humans, models and software via computers\n",
    "    - transport media, software, and models; not humans, computers or networks\n",
    "    - security and privacy become major concerns"
   ]
  },
  {
   "cell_type": "markdown",
   "id": "5c9d8baf-bf8e-4e9a-aa14-a33054a6b62d",
   "metadata": {},
   "source": [
    "It's useful in a software project to consider what data types and data structures may be involved, before we get into the program code and algorithms."
   ]
  },
  {
   "cell_type": "markdown",
   "id": "cec9b93c-b531-4bb6-9454-99a3776fb17a",
   "metadata": {},
   "source": [
    "### text🡘text"
   ]
  },
  {
   "cell_type": "markdown",
   "id": "3de2ee3f-b983-44b5-ac8c-2f88e6b31897",
   "metadata": {},
   "source": [
    "- format conversion\n",
    "    - pandoc\n",
    "    - w3m -dump\n",
    "    - html scraping\n",
    "- manipulation\n",
    "    - splitting / joining\n",
    "    - paginating\n",
    "    - formatting\n",
    "- LLM AI Processing\n",
    "    - summary\n",
    "    - correct\n",
    "    - re-express\n",
    "    - dot points\n",
    "    - analyse / respond / criticise / assess / suggestions / feedback\n",
    "    - expansion\n",
    "    - narrative\n",
    "    - ideas"
   ]
  },
  {
   "cell_type": "markdown",
   "id": "72416deb-d255-4add-a0d1-8e95de549ca7",
   "metadata": {},
   "source": [
    "### text🡘image"
   ]
  },
  {
   "cell_type": "markdown",
   "id": "ff6d8a35-a331-4b17-9cb3-9e80eacb72b8",
   "metadata": {},
   "source": [
    "- Text to Image:\n",
    "    - Stable Diffusion &c\n",
    "        - txt2img: prompts for image generation\n",
    "        - img2img: image + text -> image\n",
    "        - embeddings, etc.\n",
    "        - controlnet\n",
    "- Image to Text:\n",
    "    - Clip Interrogation &c\n",
    "        - image to prompt\n",
    "        - image + words to weights\n",
    "- Text to Image: Rendering\n",
    "    - e.g PDF to Image\n",
    "        - ghostscript\n",
    "    - word art\n",
    "        - gimp or imagemagick?\n",
    "        - ???\n",
    "- Image to Text: Optical Character Recognition\n",
    "    - Tesseract\n",
    "        - correct using LLM\n",
    "        - need to adjust black and white levels in the input images\n",
    "        - pre-process to extract columns\n",
    "    - Number plates, signs, book covers and spines, displays\n",
    "    - Handwriting recognition\n",
    "        - MNIST: Digits and Post Codes\n",
    "        - ???\n",
    "        - Pen Entry (easier)"
   ]
  },
  {
   "cell_type": "markdown",
   "id": "e5254ac5-a50a-439f-a994-2934472d1a9b",
   "metadata": {},
   "source": [
    "### image🡘image"
   ]
  },
  {
   "cell_type": "markdown",
   "id": "a03b568f-fc34-478c-bb41-0ffd9fc8c9a7",
   "metadata": {},
   "source": [
    "- enhancement, processing, and format conversion\n",
    "    - imagemagick, netpbm\n",
    "    - gimp\n",
    "    - super-resolution\n",
    "    - PIL\n",
    "    - OpenCV\n",
    "- AI tools\n",
    "    - segmentation\n",
    "    - deoldify\n",
    "    - colouring\n",
    "- Image to Image\n",
    "    - Stable Diffusion &c\n",
    "        - img2img: image + text -> image\n",
    "        - controlnet"
   ]
  },
  {
   "cell_type": "markdown",
   "id": "c7f9d8f6-c058-4be6-a9de-72c5179e26af",
   "metadata": {},
   "source": [
    "### text🡘audio"
   ]
  },
  {
   "cell_type": "markdown",
   "id": "9c147b0a-2f22-4f5b-a18b-1ab8c2d1a9f0",
   "metadata": {},
   "source": [
    "- Text to Audio: Speech Synthesis\n",
    "    - coqui-ai TTS\n",
    "        - needs help with some phonetics\n",
    "    - gtts-cli\n",
    "        - not open source\n",
    "- Audio to Text: Speech Recognition, Transcription\n",
    "    - whisper\n",
    "- Music Notation to Audio\n",
    "    - midi synthesis\n",
    "- Audio to Music Notation\n",
    "    - music analysis\n",
    "- Sound Effects (under Data?)"
   ]
  },
  {
   "cell_type": "markdown",
   "id": "112324dd-b090-4ed3-8a21-5676fa68b7d0",
   "metadata": {},
   "source": [
    "### image🡘audio ?"
   ]
  },
  {
   "cell_type": "markdown",
   "id": "9ef9d14a-d2cf-4497-b59c-6eb476e0a4e9",
   "metadata": {},
   "source": [
    "- Image to Audio\n",
    "    - colors to notes?\n",
    "    - sign language?\n",
    "- Audio to Image\n",
    "    - spectrogram\n",
    "        - useful as input to CNN models / classifiers\n",
    "    - waveform, more like data"
   ]
  },
  {
   "cell_type": "markdown",
   "id": "d0d15e0f-8058-47b1-bee2-b857a82b6b19",
   "metadata": {},
   "source": [
    "### audio🡘audio"
   ]
  },
  {
   "cell_type": "markdown",
   "id": "33a637cf-371e-4ad9-9787-2a617d9e62df",
   "metadata": {},
   "source": [
    "- enhancement\n",
    "    - noise reduction\n",
    "    - volume normalisation\n",
    "    - equaliser\n",
    "    - stereo / mono\n",
    "    - pitch\n",
    "    - speed\n",
    "- effects\n",
    "- tools\n",
    "    - ffmpeg\n",
    "    - sox\n",
    "    - audacity\n",
    "- split / join\n",
    "    - detect and crop silence / sound"
   ]
  },
  {
   "cell_type": "markdown",
   "id": "08deb473-16f9-406c-a390-0ec26fefa3ef",
   "metadata": {},
   "source": [
    "## Appendix 1: More Examples of Eeach Entity Type"
   ]
  },
  {
   "cell_type": "markdown",
   "id": "a6538252-8244-4bad-bb21-9b58f7a3d675",
   "metadata": {},
   "source": [
    "### Text"
   ]
  },
  {
   "cell_type": "markdown",
   "id": "f96325e3-f01f-479d-8b45-76c2db2c3fcb",
   "metadata": {},
   "source": [
    "- *plain text*, preferably utf-8 with UNIX line endings\n",
    "- *markdown*, for rich text\n",
    "- *HTML*, for the web\n",
    "- *LaTeX*, for math notation\n",
    "- *program code*, preferably Python\n",
    "- PDFs, presentation format\n",
    "- books, e-books, manuals, papers\n",
    "- articles and online content\n",
    "- news\n",
    "- text chat, email, etc\n",
    "- recipes\n",
    "- blogs, home pages\n",
    "- keyboard input\n",
    "- terminal output\n",
    "- text in an editor\n",
    "- forms"
   ]
  },
  {
   "cell_type": "markdown",
   "id": "580ba9d8-cf9f-4407-a22d-b6f866c3aea4",
   "metadata": {},
   "source": [
    "### Data"
   ]
  },
  {
   "cell_type": "markdown",
   "id": "b6c9e6a1-309b-404f-857e-6be71d4c9faa",
   "metadata": {},
   "source": [
    "- tabular / relational data\n",
    "- spreadsheets\n",
    "- time-series data\n",
    "- spectrograms\n",
    "- personal data\n",
    "- population statistics\n",
    "- scientific data\n",
    "- organisational data"
   ]
  },
  {
   "cell_type": "markdown",
   "id": "4c1916bd-0aff-4bab-ad1e-23686dc9a0c0",
   "metadata": {},
   "source": [
    "### Images"
   ]
  },
  {
   "cell_type": "markdown",
   "id": "613c1d01-4cc8-4e00-8b29-ce6f993b35ef",
   "metadata": {},
   "source": [
    "- various formats: png, jpeg, webp, etc.\n",
    "- photos: portraits, landscapes, nature\n",
    "- artworks: drawings, paintings, manga\n",
    "- scans or photos of documents\n",
    "- screenshots\n",
    "- graphs, charts, diagrams and figures\n",
    "- infographics\n",
    "- maps\n",
    "- camera input"
   ]
  },
  {
   "cell_type": "markdown",
   "id": "9b12b955-b079-4e13-b009-dda5ef658734",
   "metadata": {},
   "source": [
    "### Audio"
   ]
  },
  {
   "cell_type": "markdown",
   "id": "4f4af508-cd8a-4849-aa5a-95ed308ca85d",
   "metadata": {},
   "source": [
    "- various formats: flac, wav, ogg, mp3, etc.\n",
    "- speech, including sythnetic\n",
    "- audio tracks from a video\n",
    "- music\n",
    "- microphone input, e.g. from the user\n",
    "- natural or environmental sounds\n",
    "- telephony / voice chat\n",
    "- podcasts and interviews\n",
    "- audio books"
   ]
  },
  {
   "cell_type": "markdown",
   "id": "c5215569-37f5-4f72-b15d-64717bb5af5d",
   "metadata": {},
   "source": [
    "### Video"
   ]
  },
  {
   "cell_type": "markdown",
   "id": "63181543-41dc-4a56-a657-a2306f029830",
   "metadata": {},
   "source": [
    "- various formats: webm, mkv, mp4, etc.\n",
    "- web videos: youtube, etc\n",
    "- short films, movies, TV series\n",
    "- news and documentaries\n",
    "- promotional videos\n",
    "- security footage\n",
    "- video calls / chat / meetings\n",
    "- animation, anime, demos\n",
    "- webinars\n",
    "- camera input"
   ]
  },
  {
   "cell_type": "markdown",
   "id": "4e9a47bf-256a-4ca6-9949-69d93e57d394",
   "metadata": {},
   "source": [
    "### Multimedia"
   ]
  },
  {
   "cell_type": "markdown",
   "id": "5dc0b101-5b0c-4f0e-974b-dbea7eb496fc",
   "metadata": {},
   "source": [
    "- web pages\n",
    "- presentations\n",
    "- graphic novels\n",
    "- social media content\n",
    "- online courses"
   ]
  },
  {
   "cell_type": "markdown",
   "id": "95aa0bc2-99f0-4c24-975b-60adef6adbda",
   "metadata": {},
   "source": [
    "### Interactive Media:"
   ]
  },
  {
   "cell_type": "markdown",
   "id": "2acd7ea1-d593-4683-bc5b-420cdaf6ee53",
   "metadata": {},
   "source": [
    "- Virtual and augmented reality experiences\n",
    "- Interactive simulations and models (e.g., scientific simulations, architectural models)\n",
    "- Data visualizations and dashboards (e.g., interactive dashboards, heatmaps)\n",
    "- Virtual assistants, chatbots, and voice assistants\n",
    "- Educational games and quizzes\n",
    "- Interactive storytelling and narratives\n",
    "- Editors\n",
    "- flashcard decks\n",
    "- interactive resources\n",
    "- interactive fiction, adventure games\n",
    "- computer games"
   ]
  },
  {
   "cell_type": "markdown",
   "id": "eb2ec46c-10b9-4938-9983-fa2d0c1e9929",
   "metadata": {},
   "source": [
    "### Software and Applications"
   ]
  },
  {
   "cell_type": "markdown",
   "id": "521717c4-87b9-4951-acf7-22aed895eb7c",
   "metadata": {},
   "source": [
    "- Operating systems\n",
    "- Web applications\n",
    "- Mobile applications\n",
    "- Desktop applications"
   ]
  },
  {
   "cell_type": "markdown",
   "id": "f10270bc-c4cf-4578-810b-60c5e757dd05",
   "metadata": {},
   "source": [
    "### AI apps"
   ]
  },
  {
   "cell_type": "markdown",
   "id": "1427e921-8992-4bdc-bbde-b48c4bbe2045",
   "metadata": {},
   "source": [
    "- AI-generated content and recommendations\n",
    "- Personalization and adaptive learning systems\n",
    "- Conversational interfaces and natural language processing\n",
    "- AI-driven content analysis and summarization\n",
    "- Collaborative filtering and recommender systems"
   ]
  },
  {
   "cell_type": "markdown",
   "id": "d6b6afff-a978-4e37-94e2-734f164da3f9",
   "metadata": {},
   "source": [
    "## What tools do we have?"
   ]
  },
  {
   "cell_type": "markdown",
   "id": "63aa4022-27f6-4cff-9fbe-1b6ed9e15a00",
   "metadata": {},
   "source": [
    "## Appendix 2: Some Additional Entity Types"
   ]
  },
  {
   "cell_type": "markdown",
   "id": "2f1540e2-8660-47d9-b212-1fed3e14fa13",
   "metadata": {},
   "source": [
    "### Security and Privacy"
   ]
  },
  {
   "cell_type": "markdown",
   "id": "98edba6b-add6-4160-98c4-0ca53f665ea6",
   "metadata": {},
   "source": [
    "This category addresses the protection of digital content, user information, and systems from unauthorized access, manipulation, or damage. It also considers user privacy, data confidentiality, and compliance with relevant regulations. Including this category highlights the importance of safeguarding digital assets, personal information, and trust in the digital world.\n",
    "\n",
    "- Firewalls\n",
    "- Cryptosystems\n",
    "- Public and private keys\n",
    "- Passwords\n",
    "- Two-factor authentication (2FA) methods\n",
    "- 2FA devices (e.g., security tokens)\n",
    "- Digital wallets\n",
    "- Virtual private networks (VPNs)\n",
    "- Secure Sockets Layer/Transport Layer Security (SSL/TLS) certificates\n",
    "- Intrusion detection/prevention systems (IDS/IPS)\n",
    "- Biometrics (e.g., fingerprint, facial recognition)\n",
    "- End-to-end encryption (E2EE)\n",
    "- Data anonymization techniques\n",
    "- Security policies and protocols\n",
    "- Antivirus and anti-malware software\n",
    "- Access control systems\n",
    "- Secure file storage and sharing (e.g., encrypted cloud storage)\n",
    "- Secure messaging applications\n",
    "- Security audits and assessments\n",
    "- Data breach detection and response tools"
   ]
  },
  {
   "cell_type": "markdown",
   "id": "623d444b-6290-4908-bd17-797d07962c77",
   "metadata": {},
   "source": [
    "### 3D"
   ]
  },
  {
   "cell_type": "markdown",
   "id": "e6d2f2b6-6d14-4397-8c99-881876c27fe4",
   "metadata": {},
   "source": [
    "- 3D video\n",
    "- 3D game worlds\n",
    "- virtual reality\n",
    "- augmented reality"
   ]
  },
  {
   "cell_type": "markdown",
   "id": "a029eb8d-a92e-4696-a3aa-a99f984275b2",
   "metadata": {},
   "source": [
    "### Other Senses\n",
    "- touch\n",
    "- smell\n",
    "- taste\n",
    "- balance\n",
    "- echo-location"
   ]
  },
  {
   "cell_type": "markdown",
   "id": "e7311e29-7e8d-4ab0-8961-060d50a5eaa9",
   "metadata": {},
   "source": [
    "### Extra-Sensory\n",
    "- brain waves\n",
    "- internet\n",
    "- radio\n",
    "- GPS\n",
    "- radar, sonar, lidar"
   ]
  },
  {
   "cell_type": "markdown",
   "id": "983dd45d-7ec1-490e-9f88-15e466c3b521",
   "metadata": {},
   "source": [
    "### Geospatial Data"
   ]
  },
  {
   "cell_type": "markdown",
   "id": "79af387c-ecb5-4dbd-8a38-2ccd2f6c2331",
   "metadata": {},
   "source": [
    "- Geographical Information Systems (GIS) data\n",
    "- Satellite imagery\n",
    "- Geo-referenced data\n",
    "- Maps\n",
    "- Routing"
   ]
  },
  {
   "cell_type": "markdown",
   "id": "a717ac98-0f64-415f-8cfe-6eb0d4a5a9f4",
   "metadata": {},
   "source": [
    "### Ephemeral Content"
   ]
  },
  {
   "cell_type": "markdown",
   "id": "794423e9-47b1-4db8-88a0-68446ecf9266",
   "metadata": {},
   "source": [
    "- Social media stories (e.g., Instagram Stories, Snapchat Stories)\n",
    "- Live streaming (e.g., Twitch, YouTube Live)\n",
    "- Live event coverage (e.g., sports, concerts)"
   ]
  },
  {
   "cell_type": "markdown",
   "id": "c019f3db-f5ce-4235-9d7a-719978431c2d",
   "metadata": {},
   "source": [
    "### Metadata"
   ]
  },
  {
   "cell_type": "markdown",
   "id": "ce10b338-972a-4f8d-9c86-0271498ed687",
   "metadata": {},
   "source": [
    "- Tags, keywords, and descriptors for various types of content\n",
    "- EXIF data for images\n",
    "- ID3 tags for audio files"
   ]
  },
  {
   "cell_type": "markdown",
   "id": "0de704ea-dfef-4fe7-bc44-bbed43371fda",
   "metadata": {},
   "source": [
    "### Internet of Things (IoT) Data"
   ]
  },
  {
   "cell_type": "markdown",
   "id": "c36c8225-363e-4eb2-a9bf-f4f50cbc9b93",
   "metadata": {},
   "source": [
    "- Smart home devices (e.g., thermostats, lighting systems)\n",
    "- Wearable technology (e.g., smartwatches, fitness trackers)\n",
    "- Industrial sensors and systems"
   ]
  }
 ],
 "metadata": {
  "kernelspec": {
   "display_name": "python3",
   "language": "python",
   "name": "python3"
  }
 },
 "nbformat": 4,
 "nbformat_minor": 5
}
