{
 "cells": [
  {
   "cell_type": "raw",
   "id": "c04ccaf1-2d37-44ef-a930-9a579fbe4388",
   "metadata": {},
   "source": [
    "---\n",
    "title: \"A multi-label classifier, part 7: deploying with fastai\"\n",
    "date: \"2023-03-12\"\n",
    "# date-modified: \"2023-03-12\"\n",
    "format:\n",
    "  html:\n",
    "    code-fold: false\n",
    "    code-tools:\n",
    "      source: https://github.com/sswam/ai/blob/main/blog/posts/multilabel7/multilabel7.ipynb\n",
    "jupyter: python\n",
    "toc: true\n",
    "toc-depth: 2\n",
    "categories: []\n",
    "draft: true\n",
    "---"
   ]
  },
  {
   "cell_type": "markdown",
   "id": "c6f4fc2b-4258-447f-af7b-4c0ff503bd12",
   "metadata": {},
   "source": [
    "## Introduction"
   ]
  }
 ],
 "metadata": {
  "kernelspec": {
   "display_name": "python3",
   "language": "python",
   "name": "python3"
  }
 },
 "nbformat": 4,
 "nbformat_minor": 5
}
