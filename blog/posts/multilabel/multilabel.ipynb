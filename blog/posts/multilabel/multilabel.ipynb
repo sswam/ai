{
 "cells": [
  {
   "cell_type": "raw",
   "id": "3fbb100c-be3b-41ee-abc9-f9aceea88055",
   "metadata": {},
   "source": [
    "---\n",
    "title: \"A multi-label classifier for birds, cats, and dogs\"\n",
    "date: \"2023-03-09\"\n",
    "format:\n",
    "  html:\n",
    "    code-fold: false\n",
    "    code-tools:\n",
    "      source: https://github.com/sswam/ai/blob/main/blog/posts/multilabel/multilabel.ipynb\n",
    "jupyter: python\n",
    "toc: true\n",
    "toc-depth: 2\n",
    "categories: []\n",
    "draft: true\n",
    "---"
   ]
  },
  {
   "cell_type": "markdown",
   "id": "44124aa3-9ab6-4d70-b002-bd19804b3a05",
   "metadata": {},
   "source": [
    "## Introduction"
   ]
  },
  {
   "cell_type": "markdown",
   "id": "be33a0aa-66a7-476c-abde-b52648642286",
   "metadata": {},
   "source": [
    "I want to make a bird detector that works fairly reliably, when given any sort of input image, not only images it was trained on.\n",
    "\n",
    "A multi-label classifier for birds, cats, and dogs should be a good starting point."
   ]
  },
  {
   "cell_type": "code",
   "execution_count": null,
   "id": "64b85d79-2259-431f-aa46-5962d617881c",
   "metadata": {},
   "outputs": [],
   "source": [
    "%load_ext autoreload\n",
    "%autoreload 2"
   ]
  },
  {
   "cell_type": "markdown",
   "id": "5909bf79-b708-441e-b042-831e852631b6",
   "metadata": {},
   "source": [
    "## install requirements"
   ]
  },
  {
   "cell_type": "markdown",
   "id": "d12f69fa-14fb-439e-bb68-90669503d80b",
   "metadata": {},
   "source": [
    "* maybe I should use a fresh venv copied from ai base for each project?"
   ]
  },
  {
   "cell_type": "code",
   "execution_count": null,
   "id": "9d902276",
   "metadata": {},
   "outputs": [],
   "source": [
    "!pip install -qq -U fastai ipywidgets pillow pillow-avif-plugin inflect\n",
    "!pip install -qq -U selenium webdriver_manager retry\n",
    "!pip install -qq -U duckduckgo_search\n",
    "!pip install -qq -U clip-retrieval\n",
    "!pip install protobuf==3.20.0"
   ]
  },
  {
   "cell_type": "code",
   "execution_count": null,
   "id": "9b4e2376-b991-4a24-9f69-23295b6a659c",
   "metadata": {},
   "outputs": [
    {
     "name": "stdout",
     "output_type": "stream",
     "text": [
      "Enabling notebook extension jupyter-js-widgets/extension...\n",
      "      - Validating: \u001b[32mOK\u001b[0m\n"
     ]
    }
   ],
   "source": [
    "!jupyter nbextension enable --py --sys-prefix widgetsnbextension"
   ]
  },
  {
   "cell_type": "markdown",
   "id": "19735e2a-5d26-44df-842e-006e7d2f3db8",
   "metadata": {},
   "source": [
    "## import required libs"
   ]
  },
  {
   "cell_type": "code",
   "execution_count": null,
   "id": "e13e4358-075f-423a-9984-9d72fb3af95b",
   "metadata": {},
   "outputs": [],
   "source": [
    "import pillow_avif\n",
    "from fastai.vision.all import *\n",
    "from send2trash import send2trash"
   ]
  },
  {
   "cell_type": "code",
   "execution_count": null,
   "id": "d96c9a3a-2009-49f9-9b8a-0223b9ef238f",
   "metadata": {},
   "outputs": [],
   "source": [
    "import sys\n",
    "from duckduckgo_search import ddg_images\n",
    "from clip_retrieval.clip_client import ClipClient"
   ]
  },
  {
   "cell_type": "code",
   "execution_count": null,
   "id": "a532c906-c1ac-413a-85de-451684c00167",
   "metadata": {},
   "outputs": [],
   "source": [
    "sys.path.append('.')"
   ]
  },
  {
   "cell_type": "code",
   "execution_count": null,
   "id": "091204ff-2cf0-412b-b396-88def6125af8",
   "metadata": {},
   "outputs": [],
   "source": [
    "# this is my own google image search library / tool\n",
    "from google_images import install_webdriver, start_chrome, google_image_search"
   ]
  },
  {
   "cell_type": "markdown",
   "id": "b9c209fd-87e7-457f-b633-74377b066cb3",
   "metadata": {},
   "source": [
    "## reusable functions"
   ]
  },
  {
   "cell_type": "code",
   "execution_count": null,
   "id": "7c99d594-7bf8-4cd7-81c5-566d880851d6",
   "metadata": {},
   "outputs": [],
   "source": [
    "import os\n",
    "os.environ['TF_CPP_MIN_LOG_LEVEL'] = '1'"
   ]
  },
  {
   "cell_type": "code",
   "execution_count": null,
   "id": "d1c9e6bb-756c-4d36-9011-5ace89bd5579",
   "metadata": {},
   "outputs": [],
   "source": [
    "from itertools import chain, combinations\n",
    "import inflect\n",
    "from fastcore.foundation import L\n",
    "import ipywidgets as widgets\n",
    "import logging"
   ]
  },
  {
   "cell_type": "code",
   "execution_count": null,
   "id": "660894d1-023a-403d-85d5-8f9696b18974",
   "metadata": {},
   "outputs": [],
   "source": [
    "def powerset(iterable):\n",
    "    \"powerset([1,2,3]) --> () (1,) (2,) (3,) (1,2) (1,3) (2,3) (1,2,3)\"\n",
    "    s = list(iterable)\n",
    "    return chain.from_iterable(combinations(s, r) for r in range(len(s)+1))"
   ]
  },
  {
   "cell_type": "code",
   "execution_count": null,
   "id": "c843dd68-6284-4ab6-b7ca-ce8613d0b583",
   "metadata": {},
   "outputs": [],
   "source": [
    "p = inflect.engine()"
   ]
  },
  {
   "cell_type": "code",
   "execution_count": null,
   "id": "220b3c2d-b131-4e03-8276-b0edaf52ebff",
   "metadata": {},
   "outputs": [],
   "source": [
    "def join_a_foo_and_a_bar(comb):\n",
    "    return \" and \".join(p.a(x) for x in comb)"
   ]
  },
  {
   "cell_type": "code",
   "execution_count": null,
   "id": "47ba1e26-f40c-4d23-909c-99ee132fc31c",
   "metadata": {},
   "outputs": [
    {
     "data": {
      "text/plain": [
       "'a banana and an apple'"
      ]
     },
     "execution_count": null,
     "metadata": {},
     "output_type": "execute_result"
    }
   ],
   "source": [
    "join_a_foo_and_a_bar([\"banana\", \"apple\"])"
   ]
  },
  {
   "cell_type": "code",
   "execution_count": null,
   "id": "4625fe9e-bb87-4780-8ca7-702a5ff7790f",
   "metadata": {},
   "outputs": [],
   "source": [
    "def seq_diff(s1, s2):\n",
    "    return L(filter(lambda x: x not in s2, s1))"
   ]
  },
  {
   "cell_type": "code",
   "execution_count": null,
   "id": "12d76da2-2113-4f3a-8218-1d866a1ca73b",
   "metadata": {},
   "outputs": [
    {
     "name": "stdout",
     "output_type": "stream",
     "text": [
      "() ['bird', 'cat', 'dog']\n",
      "('bird',) ['cat', 'dog']\n",
      "('cat',) ['bird', 'dog']\n",
      "('dog',) ['bird', 'cat']\n",
      "('bird', 'cat') ['dog']\n",
      "('bird', 'dog') ['cat']\n",
      "('cat', 'dog') ['bird']\n",
      "('bird', 'cat', 'dog') []\n"
     ]
    }
   ],
   "source": [
    "def test_seq_diff():\n",
    "    labels = L(\"bird\", \"cat\", \"dog\")\n",
    "    for comb in powerset(labels):\n",
    "        print(comb, seq_diff(labels, comb))\n",
    "        \n",
    "test_seq_diff()"
   ]
  },
  {
   "cell_type": "code",
   "execution_count": null,
   "id": "03814449-26b2-4dba-abc5-45e7900a2449",
   "metadata": {},
   "outputs": [],
   "source": [
    "def confirm_delete(del_path):\n",
    "    button = widgets.Button(description=f\"Move data to trash: {del_path}?\", layout=widgets.Layout(width='20em'))\n",
    "    # button.on_click(lambda b: shutil.rmtree(del_path, ignore_errors=True))\n",
    "    button.on_click(lambda b: send2trash(del_path))\n",
    "    display(button)"
   ]
  },
  {
   "cell_type": "code",
   "execution_count": null,
   "id": "06f79ecf-2a7e-4c4e-bfab-cd7f287b6641",
   "metadata": {},
   "outputs": [],
   "source": [
    "def setup_logging(quiet=False, debug=False):\n",
    "    if debug:\n",
    "        logging.basicConfig(level=logging.DEBUG, format=\"%(asctime)s %(levelname)s %(message)s\")\n",
    "    elif quiet:\n",
    "        logging.basicConfig(level=logging.ERROR, format=\"%(message)s\")\n",
    "    else:\n",
    "        logging.basicConfig(level=logging.INFO, format=\"%(message)s\")"
   ]
  },
  {
   "cell_type": "markdown",
   "id": "c91f23c3-81bf-4a3d-b2fd-d499cd2f0a70",
   "metadata": {},
   "source": [
    "## general setup"
   ]
  },
  {
   "cell_type": "code",
   "execution_count": null,
   "id": "74ea50b7-19d0-40b9-a39d-9ba0bc98f668",
   "metadata": {},
   "outputs": [],
   "source": [
    "data = Path(\"bird_cat_dog\")"
   ]
  },
  {
   "cell_type": "code",
   "execution_count": null,
   "id": "11229554-beeb-4297-9881-db63ce53019b",
   "metadata": {},
   "outputs": [],
   "source": [
    "null_query = \"photo of outdoors\"\n",
    "labels = [\"bird\", \"cat\", \"dog\"]\n",
    "query_prefix = \"photo of \""
   ]
  },
  {
   "cell_type": "code",
   "execution_count": null,
   "id": "71d00f4f-9b9c-44d3-8b8b-f646a656b453",
   "metadata": {},
   "outputs": [],
   "source": [
    "samples_per_query = 200"
   ]
  },
  {
   "cell_type": "markdown",
   "id": "b5559cb6-829a-4203-b4da-3af92c425d3d",
   "metadata": {},
   "source": [
    "## 1. find images using duckduckgo_search"
   ]
  },
  {
   "cell_type": "code",
   "execution_count": null,
   "id": "35b4df80-e9bf-469b-b899-265f6ac809ae",
   "metadata": {},
   "outputs": [],
   "source": [
    "searcher = \"ddg\""
   ]
  },
  {
   "cell_type": "code",
   "execution_count": null,
   "id": "344d343e-1bb7-4956-b18e-1dbb94817299",
   "metadata": {},
   "outputs": [
    {
     "data": {
      "application/vnd.jupyter.widget-view+json": {
       "model_id": "5bf73c11ecbe473f92a1d22a50067756",
       "version_major": 2,
       "version_minor": 0
      },
      "text/plain": [
       "Button(description='Move data to trash: bird_cat_dog/ddg?', layout=Layout(width='20em'), style=ButtonStyle())"
      ]
     },
     "metadata": {},
     "output_type": "display_data"
    }
   ],
   "source": [
    "confirm_delete(data/searcher)"
   ]
  },
  {
   "cell_type": "code",
   "execution_count": null,
   "id": "4165b8d5-4c64-4a0e-a87f-d4fbc389b412",
   "metadata": {},
   "outputs": [
    {
     "name": "stdout",
     "output_type": "stream",
     "text": [
      "already downloaded: photo of outdoors -bird -cat -dog\n",
      "already downloaded: photo of a bird -cat -dog\n",
      "already downloaded: photo of a cat -bird -dog\n",
      "already downloaded: photo of a dog -bird -cat\n",
      "already downloaded: photo of a bird and a cat -dog\n",
      "already downloaded: photo of a bird and a dog -cat\n",
      "already downloaded: photo of a cat and a dog -bird\n",
      "already downloaded: photo of a bird and a cat and a dog \n"
     ]
    }
   ],
   "source": [
    "for comb in powerset(labels):\n",
    "    others = seq_diff(labels, comb)\n",
    "    dirname = \"_\".join(comb) + \"_\"\n",
    "    path = data/searcher/dirname\n",
    "    query = query_prefix + join_a_foo_and_a_bar(comb) if comb else null_query\n",
    "    query += \" \" + \" \".join(\"-\"+x for x in others)\n",
    "    try:\n",
    "        path.mkdir(parents=True, exist_ok=False)\n",
    "    except FileExistsError as e:\n",
    "        print(f\"already downloaded: {query}\")\n",
    "        continue\n",
    "    print(f\"downloading: {query}\")\n",
    "    # want any = CC to avoid stock photos, but not many CC images have all three\n",
    "    license = \"any\" if len(comb) < 2 else None\n",
    "    results = ddg_images(query, max_results=samples_per_query, license_image=license)\n",
    "    urls = [r[\"image\"] for r in results]\n",
    "    download_images(dest=path, urls=urls)"
   ]
  },
  {
   "cell_type": "markdown",
   "id": "9f4986c4-a44e-4991-926d-edc6ee6f0bdc",
   "metadata": {},
   "source": [
    "## 2. find images using laion"
   ]
  },
  {
   "cell_type": "markdown",
   "id": "250ab8d7-7e1f-40a3-94ef-2006c5072969",
   "metadata": {},
   "source": [
    "Deduplication means that fewer than `samples_per_query` images will be returned, around 75% or so."
   ]
  },
  {
   "cell_type": "code",
   "execution_count": null,
   "id": "0c35f683-b6c7-469e-a76f-1b89147fca90",
   "metadata": {},
   "outputs": [],
   "source": [
    "searcher = \"laion\""
   ]
  },
  {
   "cell_type": "code",
   "execution_count": null,
   "id": "9cd75334-f2b5-428f-8646-e1a12105d5cf",
   "metadata": {},
   "outputs": [
    {
     "data": {
      "application/vnd.jupyter.widget-view+json": {
       "model_id": "66155b17fb0245f783afaa883c0f08b6",
       "version_major": 2,
       "version_minor": 0
      },
      "text/plain": [
       "Button(description='Move data to trash: bird_cat_dog/laion?', layout=Layout(width='20em'), style=ButtonStyle()…"
      ]
     },
     "metadata": {},
     "output_type": "display_data"
    }
   ],
   "source": [
    "confirm_delete(data/searcher)"
   ]
  },
  {
   "cell_type": "code",
   "execution_count": null,
   "id": "7982d9f7-ffd2-4776-aff1-81b4d2b2d4c9",
   "metadata": {},
   "outputs": [],
   "source": [
    "laion = ClipClient(\n",
    "    url=\"https://knn.laion.ai/knn-service\",\n",
    "    indice_name=\"laion5B-H-14\",\n",
    "    aesthetic_score=0, aesthetic_weight=0,\n",
    "    num_images=samples_per_query)"
   ]
  },
  {
   "cell_type": "code",
   "execution_count": null,
   "id": "e5b303da-04d6-418a-8ba0-2c6ee11335a2",
   "metadata": {},
   "outputs": [
    {
     "name": "stdout",
     "output_type": "stream",
     "text": [
      "downloading: photo of outdoors\n",
      "downloading: photo of bird\n",
      "downloading: photo of cat\n",
      "downloading: photo of dog\n",
      "downloading: photo of bird, cat\n",
      "downloading: photo of bird, dog\n",
      "downloading: photo of cat, dog\n",
      "downloading: photo of bird, cat, dog\n"
     ]
    }
   ],
   "source": [
    "for comb in powerset(labels):\n",
    "    dirname = \"_\".join(comb) + \"_\"\n",
    "    path = data/searcher/dirname\n",
    "    query = query_prefix + \", \".join(comb) if comb else null_query\n",
    "    try:\n",
    "        path.mkdir(parents=True, exist_ok=False)\n",
    "    except FileExistsError as e:\n",
    "        print(f\"already downloaded: {query}\")\n",
    "        continue\n",
    "    print(f\"downloading: {query}\")\n",
    "    results = laion.query(text=query)\n",
    "    urls = [r[\"url\"] for r in results]\n",
    "    download_images(dest=path, urls=urls)"
   ]
  },
  {
   "cell_type": "markdown",
   "id": "a5b9979d-385f-44e4-9f83-c99e2f8d9b38",
   "metadata": {},
   "source": [
    "### references"
   ]
  },
  {
   "cell_type": "markdown",
   "id": "42d7aeb3-4f9c-4b58-ac54-0784b8de84ce",
   "metadata": {},
   "source": [
    "- https://replicate.com/blog/grab-hundreds-of-images-with-clip-and-laion\n",
    "- https://github.com/rom1504/clip-retrieval\n",
    "- https://rom1504.github.io/clip-retrieval/"
   ]
  },
  {
   "cell_type": "markdown",
   "id": "4147765a-f63d-4d00-9e44-84875752e4a7",
   "metadata": {},
   "source": [
    "## 3. find images using Google search"
   ]
  },
  {
   "cell_type": "code",
   "execution_count": null,
   "id": "4c454984-4e1a-4910-a619-be94460b2a10",
   "metadata": {},
   "outputs": [],
   "source": [
    "searcher = \"gimg\""
   ]
  },
  {
   "cell_type": "code",
   "execution_count": null,
   "id": "821b00ba-d37a-47bb-89d6-d5c36588d557",
   "metadata": {},
   "outputs": [
    {
     "data": {
      "application/vnd.jupyter.widget-view+json": {
       "model_id": "e8d3981197d644dd82a32bc573560408",
       "version_major": 2,
       "version_minor": 0
      },
      "text/plain": [
       "Button(description='Move data to trash: bird_cat_dog/laion?', layout=Layout(width='20em'), style=ButtonStyle()…"
      ]
     },
     "metadata": {},
     "output_type": "display_data"
    }
   ],
   "source": [
    "confirm_delete(data/searcher)"
   ]
  },
  {
   "cell_type": "code",
   "execution_count": null,
   "id": "ccf5a365-d9d2-487f-a2c8-5521534aa6bf",
   "metadata": {},
   "outputs": [
    {
     "name": "stderr",
     "output_type": "stream",
     "text": [
      "INFO:WDM:====== WebDriver manager ======\n",
      "INFO:WDM:Get LATEST chromedriver version for google-chrome 111.0.5563\n",
      "INFO:WDM:Driver [/home/sam/.wdm/drivers/chromedriver/linux64/111.0.5563/chromedriver] found in cache\n"
     ]
    },
    {
     "name": "stdout",
     "output_type": "stream",
     "text": [
      "downloading: photo of outdoors -bird -cat -dog -stock\n",
      "downloading: photo of a bird -cat -dog -stock\n",
      "downloading: photo of a cat -bird -dog -stock\n",
      "downloading: photo of a dog -bird -cat -stock\n",
      "downloading: photo of a bird and a cat -dog -stock\n",
      "downloading: photo of a bird and a dog -cat -stock\n",
      "downloading: photo of a cat and a dog -bird -stock\n",
      "downloading: photo of a bird and a cat and a dog -stock\n"
     ]
    }
   ],
   "source": [
    "with start_chrome() as wd:\n",
    "    for comb in powerset(labels):\n",
    "        others = seq_diff(labels, comb)\n",
    "        dirname = \"_\".join(comb) + \"_\"\n",
    "        path = data/searcher/dirname\n",
    "        query = query_prefix + join_a_foo_and_a_bar(comb) if comb else null_query\n",
    "        query += \" \" + \" \".join(\"-\"+x for x in [*others, \"stock\"])\n",
    "        try:\n",
    "            path.mkdir(parents=True, exist_ok=False)\n",
    "        except FileExistsError as e:\n",
    "            print(f\"already downloaded: {query}\")\n",
    "            continue\n",
    "        print(f\"downloading: {query}\")\n",
    "        # want any = CC to avoid stock photos, but not many CC images have all three\n",
    "        opts = \"tbs=il:cl\" if len(comb) < 2 else ''\n",
    "        urls = google_image_search(query, safe=True, n=samples_per_query, opts=opts, wd=wd)\n",
    "        download_images(dest=path, urls=urls)"
   ]
  },
  {
   "cell_type": "markdown",
   "id": "dbc58f82-ebce-441f-8363-adfd612bfa5b",
   "metadata": {},
   "source": [
    "## clean up the downloaded images"
   ]
  },
  {
   "cell_type": "markdown",
   "id": "97722e12-9a4c-4d45-b65b-5e28f15bc8cd",
   "metadata": {},
   "source": [
    "This is too much effort, should have just deleted any failing ones. I'm not sure why the AVIF images wouldn't load."
   ]
  },
  {
   "cell_type": "code",
   "execution_count": null,
   "id": "07c8a60e-90ab-4f5f-9917-8b6dc509de32",
   "metadata": {},
   "outputs": [],
   "source": [
    "from fastai.vision.all import *"
   ]
  },
  {
   "cell_type": "code",
   "execution_count": null,
   "id": "dc44dd1d-ebc0-48c3-9ded-d851ed242b01",
   "metadata": {},
   "outputs": [],
   "source": [
    "!find bird_cat_dog/ -type f | xargs rename 's/\\..*/.jpg/'"
   ]
  },
  {
   "cell_type": "code",
   "execution_count": null,
   "id": "8519cde0-7b6f-4ac2-a8fc-5105edcc48fb",
   "metadata": {},
   "outputs": [
    {
     "name": "stdout",
     "output_type": "stream",
     "text": [
      "removed 'bird_cat_dog/gimg/dog_/3f824c0e-aa4b-4395-acdd-15a4243f0e41.jpg'\n",
      "removed 'bird_cat_dog/laion/bird_/a9ff3712-5401-49e7-a9e9-1946a6ef46a9.jpg'\n",
      "removed 'bird_cat_dog/laion/dog_/96b30f11-eb9a-4960-a41c-667bcd3d4b61.jpg'\n"
     ]
    }
   ],
   "source": [
    "!find bird_cat_dog/ -size 0 | xargs rm -v"
   ]
  },
  {
   "cell_type": "code",
   "execution_count": null,
   "id": "bbba034d-a5d3-4719-babf-7a3fcb86677a",
   "metadata": {},
   "outputs": [],
   "source": [
    "failed = verify_images(get_image_files(data))"
   ]
  },
  {
   "cell_type": "code",
   "execution_count": null,
   "id": "bd839103-86fd-4da1-be9b-6dda77dff33b",
   "metadata": {},
   "outputs": [],
   "source": [
    "import subprocess\n",
    "with open(\"failed.txt\", \"w\") as f:\n",
    "    for p in failed:\n",
    "        print(p, file=f)"
   ]
  },
  {
   "cell_type": "code",
   "execution_count": null,
   "id": "bb5eefc5-b3f9-4466-9ded-98e4523190e2",
   "metadata": {},
   "outputs": [
    {
     "name": "stdout",
     "output_type": "stream",
     "text": [
      "13\tHTML document, ASCII text, with very long lines\n",
      "6\tJavaScript source, ASCII text, with very long lines\n",
      "3\tHTML document, ASCII text\n",
      "1\tHTML document, Unicode text, UTF-8 text, with CRLF, LF line terminators\n",
      "7\tHTML document, Unicode text, UTF-8 text, with very long lines\n",
      "2\tISO Media, AVIF Image\n",
      "1\tgzip compressed data, from Unix, original size modulo 2^32 98001\n",
      "2\tHTML document, Unicode text, UTF-8 text\n"
     ]
    }
   ],
   "source": [
    "!< failed.txt xargs file | sed 's/.*: *//' | sed 's/ (.*//' | uniqoc"
   ]
  },
  {
   "cell_type": "code",
   "execution_count": null,
   "id": "b288b4b0-890a-4e98-bafe-e73c7d8e4258",
   "metadata": {},
   "outputs": [
    {
     "name": "stdout",
     "output_type": "stream",
     "text": [
      "bird_cat_dog/gimg/bird_cat_/7ad0c40a-afaa-4b63-938d-8d661a5c2f7f.jpg:     ISO Media, AVIF Image\n",
      "bird_cat_dog/gimg/cat_dog_/cac07371-a384-4849-ad10-b7d143fcc4d2.jpg:      ISO Media, AVIF Image\n"
     ]
    }
   ],
   "source": [
    "!< failed.txt xargs file | grep AVIF"
   ]
  },
  {
   "cell_type": "code",
   "execution_count": null,
   "id": "e00680a8-9022-4924-84d6-3a24632ffcba",
   "metadata": {},
   "outputs": [],
   "source": [
    "!< failed.txt xargs file | grep AVIF | cut -d: -f1 | xa mogrify"
   ]
  },
  {
   "cell_type": "code",
   "execution_count": null,
   "id": "508bdb1f-7565-42ea-bc3c-1cdb7f85d370",
   "metadata": {},
   "outputs": [
    {
     "data": {
      "text/plain": [
       "35"
      ]
     },
     "execution_count": null,
     "metadata": {},
     "output_type": "execute_result"
    }
   ],
   "source": [
    "len(failed)"
   ]
  },
  {
   "cell_type": "code",
   "execution_count": null,
   "id": "c685e5a7-0d5e-47c4-817d-7965af37372a",
   "metadata": {},
   "outputs": [],
   "source": [
    "failed = verify_images(get_image_files(data))"
   ]
  },
  {
   "cell_type": "code",
   "execution_count": null,
   "id": "7f5ce0e1-d698-476d-a494-56bbb6a5d183",
   "metadata": {},
   "outputs": [
    {
     "data": {
      "text/plain": [
       "33"
      ]
     },
     "execution_count": null,
     "metadata": {},
     "output_type": "execute_result"
    }
   ],
   "source": [
    "len(failed)"
   ]
  },
  {
   "cell_type": "code",
   "execution_count": null,
   "id": "016f4679-28ae-4174-9214-5b8ecb3fb5b2",
   "metadata": {},
   "outputs": [
    {
     "name": "stdout",
     "output_type": "stream",
     "text": [
      "bird_cat_dog/laion/bird_/d9401f3b-c20e-4607-aa03-5a6049d714f5.jpg renamed as bird_cat_dog/laion/bird_/d9401f3b-c20e-4607-aa03-5a6049d714f5.jpg.gz\n"
     ]
    }
   ],
   "source": [
    "!< failed.txt xargs file | grep gzip | cut -d: -f1 | xa rename -v 's/$/.gz/'"
   ]
  },
  {
   "cell_type": "code",
   "execution_count": null,
   "id": "5c69ec0f-8794-42bf-9b25-64eff5cbac17",
   "metadata": {},
   "outputs": [],
   "source": [
    "!gunzip bird_cat_dog/laion/bird_/d9401f3b-c20e-4607-aa03-5a6049d714f5.jpg.gz"
   ]
  },
  {
   "cell_type": "code",
   "execution_count": null,
   "id": "c0d8db19-8226-49f1-b713-86db29a6c388",
   "metadata": {},
   "outputs": [],
   "source": [
    "failed = verify_images(get_image_files(data))"
   ]
  },
  {
   "cell_type": "code",
   "execution_count": null,
   "id": "35141234-5f1c-4405-a0f8-ac1ab066235d",
   "metadata": {},
   "outputs": [
    {
     "data": {
      "text/plain": [
       "33"
      ]
     },
     "execution_count": null,
     "metadata": {},
     "output_type": "execute_result"
    }
   ],
   "source": [
    "len(failed)"
   ]
  },
  {
   "cell_type": "code",
   "execution_count": null,
   "id": "b712bc5a-a6ff-4021-897b-5d13f761a314",
   "metadata": {},
   "outputs": [
    {
     "data": {
      "text/plain": [
       "(#33) [None,None,None,None,None,None,None,None,None,None...]"
      ]
     },
     "execution_count": null,
     "metadata": {},
     "output_type": "execute_result"
    }
   ],
   "source": [
    "failed.map(Path.unlink)"
   ]
  },
  {
   "cell_type": "code",
   "execution_count": null,
   "id": "6c978a0e-fb6e-4c01-b068-2ce2fdd5cade",
   "metadata": {},
   "outputs": [
    {
     "name": "stdout",
     "output_type": "stream",
     "text": [
      "3147\tJPEG image data\n",
      "294\tPNG image data\n",
      "467\tRIFF (little-endian) data\n",
      "15\tGIF image data\n",
      "50\tISO Media\n"
     ]
    }
   ],
   "source": [
    "!find bird_cat_dog/ -type f | xa file | perl -pe 's/^.*?: *//; s/,.*//' | uniqoc"
   ]
  },
  {
   "cell_type": "markdown",
   "id": "c984ab19-e2f4-42c6-8ea4-6b1ac8b3a1ae",
   "metadata": {},
   "source": [
    "Let's rename the images again to give them the right file extensions."
   ]
  },
  {
   "cell_type": "code",
   "execution_count": null,
   "id": "59e16fc4-568b-428c-9970-d46b79327393",
   "metadata": {},
   "outputs": [
    {
     "name": "stdout",
     "output_type": "stream",
     "text": [
      "bird_cat_dog/ddg/bird_/4034a955-d434-47b1-874e-10dd77414160.jpg:         JPEG image data, JFIF standard 1.01, aspect ratio, density 1x1, segment length 16, progressive, precision 8, 1920x1271, components 3\n",
      "bird_cat_dog/ddg/bird_/f3ae56d2-ebbe-4f09-b435-1d60f61f4e6a.jpg:         PNG image data, 500 x 401, 8-bit/color RGBA, interlaced\n"
     ]
    }
   ],
   "source": [
    "!find bird_cat_dog/ -type f | xa file | head -n 2"
   ]
  },
  {
   "cell_type": "code",
   "execution_count": null,
   "id": "b95ae450-d8af-4820-bf67-f4c0e5b95f30",
   "metadata": {},
   "outputs": [
    {
     "name": "stdout",
     "output_type": "stream",
     "text": [
      "bird_cat_dog/ddg/bird_/4034a955-d434-47b1-874e-10dd77414160 .jpg jpeg\n",
      "bird_cat_dog/ddg/bird_/f3ae56d2-ebbe-4f09-b435-1d60f61f4e6a .jpg png\n",
      "Unable to flush stdout: Broken pipe\n"
     ]
    }
   ],
   "source": [
    "!find bird_cat_dog/ -type f | xa file | perl -ne '/(.*?)(\\.\\w+):\\s*(\\w+)/; print \"$1 $2 \", lc $3, \"\\n\"' | head -n2"
   ]
  },
  {
   "cell_type": "code",
   "execution_count": null,
   "id": "b1affbc7-faee-4439-8799-aed4cb8b1cd5",
   "metadata": {},
   "outputs": [
    {
     "data": {
      "text/plain": [
       "3973"
      ]
     },
     "execution_count": null,
     "metadata": {},
     "output_type": "execute_result"
    }
   ],
   "source": [
    "images = get_image_files(data)\n",
    "len(images)"
   ]
  },
  {
   "cell_type": "code",
   "execution_count": null,
   "id": "d85c4f62-d01f-4353-bf93-bfd6fa21117e",
   "metadata": {},
   "outputs": [],
   "source": [
    "!find bird_cat_dog/ -type f | xa file | perl -ne '/(.*?)(\\.\\w+):\\s*(\\w+)/; rename(\"$1$2\", \"$1.\".lc($3))'"
   ]
  },
  {
   "cell_type": "code",
   "execution_count": null,
   "id": "733f036c-6b1a-4daf-a630-eaf1358bd272",
   "metadata": {},
   "outputs": [
    {
     "data": {
      "text/plain": [
       "3456"
      ]
     },
     "execution_count": null,
     "metadata": {},
     "output_type": "execute_result"
    }
   ],
   "source": [
    "images = get_image_files(data)\n",
    "len(images)"
   ]
  },
  {
   "cell_type": "code",
   "execution_count": null,
   "id": "81cddc9d-928b-4a9e-b327-197219efa24e",
   "metadata": {},
   "outputs": [
    {
     "data": {
      "text/plain": [
       "\u001b[0;31mSignature:\u001b[0m \u001b[0mget_image_files\u001b[0m\u001b[0;34m(\u001b[0m\u001b[0mpath\u001b[0m\u001b[0;34m,\u001b[0m \u001b[0mrecurse\u001b[0m\u001b[0;34m=\u001b[0m\u001b[0;32mTrue\u001b[0m\u001b[0;34m,\u001b[0m \u001b[0mfolders\u001b[0m\u001b[0;34m=\u001b[0m\u001b[0;32mNone\u001b[0m\u001b[0;34m)\u001b[0m\u001b[0;34m\u001b[0m\u001b[0;34m\u001b[0m\u001b[0m\n",
       "\u001b[0;31mSource:\u001b[0m   \n",
       "\u001b[0;32mdef\u001b[0m \u001b[0mget_image_files\u001b[0m\u001b[0;34m(\u001b[0m\u001b[0mpath\u001b[0m\u001b[0;34m,\u001b[0m \u001b[0mrecurse\u001b[0m\u001b[0;34m=\u001b[0m\u001b[0;32mTrue\u001b[0m\u001b[0;34m,\u001b[0m \u001b[0mfolders\u001b[0m\u001b[0;34m=\u001b[0m\u001b[0;32mNone\u001b[0m\u001b[0;34m)\u001b[0m\u001b[0;34m:\u001b[0m\u001b[0;34m\u001b[0m\n",
       "\u001b[0;34m\u001b[0m    \u001b[0;34m\"Get image files in `path` recursively, only in `folders`, if specified.\"\u001b[0m\u001b[0;34m\u001b[0m\n",
       "\u001b[0;34m\u001b[0m    \u001b[0;32mreturn\u001b[0m \u001b[0mget_files\u001b[0m\u001b[0;34m(\u001b[0m\u001b[0mpath\u001b[0m\u001b[0;34m,\u001b[0m \u001b[0mextensions\u001b[0m\u001b[0;34m=\u001b[0m\u001b[0mimage_extensions\u001b[0m\u001b[0;34m,\u001b[0m \u001b[0mrecurse\u001b[0m\u001b[0;34m=\u001b[0m\u001b[0mrecurse\u001b[0m\u001b[0;34m,\u001b[0m \u001b[0mfolders\u001b[0m\u001b[0;34m=\u001b[0m\u001b[0mfolders\u001b[0m\u001b[0;34m)\u001b[0m\u001b[0;34m\u001b[0m\u001b[0;34m\u001b[0m\u001b[0m\n",
       "\u001b[0;31mFile:\u001b[0m      /opt/venvs/python3.10-ai/venv/lib/python3.10/site-packages/fastai/data/transforms.py\n",
       "\u001b[0;31mType:\u001b[0m      function"
      ]
     },
     "metadata": {},
     "output_type": "display_data"
    }
   ],
   "source": [
    "get_image_files??"
   ]
  },
  {
   "cell_type": "code",
   "execution_count": null,
   "id": "16080592-c229-4317-aa3b-16675cca75ed",
   "metadata": {},
   "outputs": [
    {
     "data": {
      "text/plain": [
       "{'.iso', '.riff'}"
      ]
     },
     "execution_count": null,
     "metadata": {},
     "output_type": "execute_result"
    }
   ],
   "source": [
    "{'.jpeg','.png','.riff','.gif','.iso'} - image_extensions"
   ]
  },
  {
   "cell_type": "code",
   "execution_count": null,
   "id": "07295c1e-24be-4e68-99ee-6fb09bb292d2",
   "metadata": {},
   "outputs": [],
   "source": [
    "!find bird_cat_dog/ -type f | xargs rename 's/\\.riff$/.webp/; s/\\.iso$/.avif/'"
   ]
  },
  {
   "cell_type": "code",
   "execution_count": null,
   "id": "3acf9fcf-cbbc-477b-9483-aa1f1ba65ab7",
   "metadata": {},
   "outputs": [
    {
     "data": {
      "text/plain": [
       "3973"
      ]
     },
     "execution_count": null,
     "metadata": {},
     "output_type": "execute_result"
    }
   ],
   "source": [
    "images = get_image_files(data)\n",
    "len(images)"
   ]
  },
  {
   "cell_type": "code",
   "execution_count": null,
   "id": "328d98a6-290d-4d0e-b5b1-d83838169644",
   "metadata": {},
   "outputs": [
    {
     "name": "stdout",
     "output_type": "stream",
     "text": [
      "renamed 'bird_cat_dog' -> 'bird_cat_dog.orig'\n"
     ]
    }
   ],
   "source": [
    "mv -v bird_cat_dog bird_cat_dog.1.orig"
   ]
  },
  {
   "cell_type": "markdown",
   "id": "3289b2ce-5400-4449-b004-783060d49cf1",
   "metadata": {},
   "source": [
    "## resize the images to not larger than 400x400"
   ]
  },
  {
   "cell_type": "code",
   "execution_count": null,
   "id": "3b64d0c4-937b-413c-8c0d-fb4e4227dce9",
   "metadata": {},
   "outputs": [],
   "source": [
    "resize_images('bird_cat_dog.1.orig', dest='bird_cat_dog.2.resized', max_size=400, recurse=True)"
   ]
  },
  {
   "cell_type": "code",
   "execution_count": null,
   "id": "eda05b2b-047c-43e1-bcad-a86415ff6090",
   "metadata": {},
   "outputs": [
    {
     "name": "stdout",
     "output_type": "stream",
     "text": [
      "2.0G\tbird_cat_dog.1.orig\n",
      "101M\tbird_cat_dog.2.resized\n",
      "2.1G\ttotal\n"
     ]
    }
   ],
   "source": [
    "!du -csh bird_cat_dog*"
   ]
  },
  {
   "cell_type": "markdown",
   "id": "03fec535-c4e3-42dc-86fe-c9ae5f171c73",
   "metadata": {},
   "source": [
    "## combine images from the different search engines together"
   ]
  },
  {
   "cell_type": "code",
   "execution_count": null,
   "id": "500d7dca-35dd-47b0-b9a1-5fd987fa9877",
   "metadata": {},
   "outputs": [
    {
     "name": "stdout",
     "output_type": "stream",
     "text": [
      "/home/sam/ai/blog/posts/multilabel\n"
     ]
    }
   ],
   "source": [
    "cd ~/ai/blog/posts/multilabel"
   ]
  },
  {
   "cell_type": "code",
   "execution_count": null,
   "id": "df444443-4155-498b-a471-6c4ee14531cc",
   "metadata": {},
   "outputs": [
    {
     "name": "stdout",
     "output_type": "stream",
     "text": [
      "\u001b[0m\u001b[01;34mddg\u001b[0m/  \u001b[01;34mgimg\u001b[0m/  \u001b[01;34mlaion\u001b[0m/\n"
     ]
    }
   ],
   "source": [
    "ls bird_cat_dog.2.resized/"
   ]
  },
  {
   "cell_type": "code",
   "execution_count": null,
   "id": "5621b69e-c36f-4076-9247-706f74ec2241",
   "metadata": {},
   "outputs": [],
   "source": [
    "!cp -al bird_cat_dog.2.resized bird_cat_dog.3.together"
   ]
  },
  {
   "cell_type": "code",
   "execution_count": null,
   "id": "5897ffcd-6fc6-4595-a7d4-1ef16f69bbb6",
   "metadata": {},
   "outputs": [
    {
     "name": "stdout",
     "output_type": "stream",
     "text": [
      "/home/sam/ai/blog/posts/multilabel/bird_cat_dog.3.together\n"
     ]
    }
   ],
   "source": [
    "cd bird_cat_dog.3.together/"
   ]
  },
  {
   "cell_type": "code",
   "execution_count": null,
   "id": "1364f21f-c47c-4f5d-b423-d1bad8fb27f3",
   "metadata": {},
   "outputs": [],
   "source": [
    "!(mkdir -p $(cd ddg; ls); rename 's{(\\w+)/(\\w+)/(.*)}{$2/${1}_$3}' */*/*)"
   ]
  },
  {
   "cell_type": "code",
   "execution_count": null,
   "id": "798967fe-8279-4b25-8eea-c340ff3b572f",
   "metadata": {},
   "outputs": [],
   "source": [
    "!find . -mindepth 1 -depth -type d | xa rmdir --ignore-fail-on-non-empty"
   ]
  },
  {
   "cell_type": "code",
   "execution_count": null,
   "id": "3c1d2fd9-d752-4eb7-b1e4-bb938393d97c",
   "metadata": {},
   "outputs": [
    {
     "name": "stdout",
     "output_type": "stream",
     "text": [
      "/home/sam/ai/blog/posts/multilabel\n"
     ]
    }
   ],
   "source": [
    "cd .."
   ]
  },
  {
   "cell_type": "markdown",
   "id": "8ff53121-c819-4136-a7b0-fffa3e6786bc",
   "metadata": {},
   "source": [
    "## check for exact duplicates"
   ]
  },
  {
   "cell_type": "code",
   "execution_count": null,
   "id": "7cc2115e-dccb-4220-83db-3238234f310a",
   "metadata": {},
   "outputs": [],
   "source": [
    "cp -al bird_cat_dog.3.together bird_cat_dog.4.dedup"
   ]
  },
  {
   "cell_type": "code",
   "execution_count": null,
   "id": "83d2cc8b-6783-477e-87a9-f7a1572be68a",
   "metadata": {},
   "outputs": [
    {
     "name": "stdout",
     "output_type": "stream",
     "text": [
      "/home/sam/ai/blog/posts/multilabel/bird_cat_dog.4.dedup\n"
     ]
    }
   ],
   "source": [
    "cd bird_cat_dog.4.dedup/"
   ]
  },
  {
   "cell_type": "markdown",
   "id": "41d1f179-a14e-4ac1-9b9a-20376a99d503",
   "metadata": {},
   "source": [
    "Automatically delete duplicates with the same labels:"
   ]
  },
  {
   "cell_type": "code",
   "execution_count": null,
   "id": "758514b4-aa4e-4761-962f-6b572251850f",
   "metadata": {},
   "outputs": [
    {
     "name": "stdout",
     "output_type": "stream",
     "text": [
      "                                        \r"
     ]
    }
   ],
   "source": [
    "!for d in *; do fdupes -f -r $d; done | grep . | xa rm"
   ]
  },
  {
   "cell_type": "markdown",
   "id": "ad6856f0-c1a4-41be-be13-5c55f1a097b1",
   "metadata": {},
   "source": [
    "Manually delete duplicates with different labels:"
   ]
  },
  {
   "cell_type": "code",
   "execution_count": null,
   "id": "72703464-cbad-4fdd-98fc-5c59ad14d010",
   "metadata": {},
   "outputs": [
    {
     "name": "stdout",
     "output_type": "stream",
     "text": [
      "                                        \r"
     ]
    }
   ],
   "source": [
    "!fdupes -r . | grep . | xa qiv -D"
   ]
  },
  {
   "cell_type": "markdown",
   "id": "09fdbe0b-64ae-4ae0-83b3-f6e5121f97a8",
   "metadata": {},
   "source": [
    "## check for similar images"
   ]
  },
  {
   "cell_type": "markdown",
   "id": "1e259f9b-a08f-45d5-b519-eba3285997d7",
   "metadata": {},
   "source": [
    "Ideally, I would show each set of duplicates together across a row, visually check them, eliminate any that aren't in fact duplicates, and keep the best quality image from each set. I might not be able to determine which is best quality automatically after having resized them, so I might need to do step before resizing."
   ]
  },
  {
   "cell_type": "code",
   "execution_count": null,
   "id": "34372b98-843b-4e77-b811-68b54d600981",
   "metadata": {},
   "outputs": [],
   "source": [
    "!findimagedupes -R -f dups.db . 2>dups.err.txt > dups.txt"
   ]
  },
  {
   "cell_type": "code",
   "execution_count": null,
   "id": "9811a222-2e60-4299-ba19-c3ff94507adf",
   "metadata": {},
   "outputs": [],
   "source": [
    "!< dups.txt xargs qiv -D"
   ]
  },
  {
   "cell_type": "code",
   "execution_count": null,
   "id": "b96ee9c7-5204-4468-991d-8f80fe53ff58",
   "metadata": {},
   "outputs": [],
   "source": []
  },
  {
   "cell_type": "markdown",
   "id": "ae497df6-0937-4cd5-8c6c-6e885147a108",
   "metadata": {},
   "source": [
    "## create a CSV file describing the data"
   ]
  },
  {
   "cell_type": "markdown",
   "id": "97296bfc-2d09-40f2-9ad0-9079df50cf1a",
   "metadata": {},
   "source": [
    "I'll put 20% of each directory of images into the validation set."
   ]
  },
  {
   "cell_type": "code",
   "execution_count": null,
   "id": "ab42a095-37d1-4034-8e84-5a839f1ff579",
   "metadata": {},
   "outputs": [],
   "source": []
  },
  {
   "cell_type": "code",
   "execution_count": null,
   "id": "2e9067ca-278b-4220-8c5f-784fac7eaf83",
   "metadata": {},
   "outputs": [
    {
     "data": {
      "text/plain": [
       "(3973,\n",
       " (#1) [Path('bird_cat_dog/ddg/bird_/8f0a00b6-6140-40dd-81e9-c34bb0d37e15.jpeg')])"
      ]
     },
     "execution_count": null,
     "metadata": {},
     "output_type": "execute_result"
    }
   ],
   "source": [
    "images = get_image_files(data)\n",
    "len(images), images[:1]"
   ]
  },
  {
   "cell_type": "markdown",
   "id": "3f5357ff-14b8-47e8-b8ac-da1ce4dd3de0",
   "metadata": {},
   "source": [
    "## train the model"
   ]
  },
  {
   "cell_type": "code",
   "execution_count": null,
   "id": "a1dee316-a3a0-4181-865b-93bf1b1304f0",
   "metadata": {},
   "outputs": [],
   "source": [
    "from fastai.vision.all import *"
   ]
  },
  {
   "cell_type": "code",
   "execution_count": null,
   "id": "3e19f667-2e0f-4970-be51-cf7d8337702f",
   "metadata": {},
   "outputs": [],
   "source": []
  },
  {
   "cell_type": "markdown",
   "id": "0ee2d10c-e610-4ca9-87bd-3e3127d89cb2",
   "metadata": {},
   "source": [
    "<br><br><br><br><br><br><br><br><br><br><br><br><br><br><br><br>\n",
    "## scratch"
   ]
  },
  {
   "cell_type": "code",
   "execution_count": null,
   "id": "afba071f-514a-454b-884d-ef628dcca3ec",
   "metadata": {},
   "outputs": [
    {
     "name": "stdout",
     "output_type": "stream",
     "text": [
      "mkdir: created directory '/home/sam/ai/data/blog'\n",
      "mkdir: created directory '/home/sam/ai/data/blog/posts'\n",
      "mkdir: created directory '/home/sam/ai/data/blog/posts/multilabel'\n",
      "mv   renamed 'bird_cat_dog' -> '/home/sam/ai/data/blog/posts/multilabel/bird_cat_dog'\n",
      "ln   'bird_cat_dog' -> '/home/sam/ai/data/blog/posts/multilabel/bird_cat_dog'\n"
     ]
    }
   ],
   "source": [
    "!mvdata bird_cat_dog"
   ]
  },
  {
   "cell_type": "code",
   "execution_count": null,
   "id": "129ec0d9-cc7f-4761-a3d6-a70db5236ad0",
   "metadata": {},
   "outputs": [
    {
     "data": {
      "text/plain": [
       "Path('/home/sam/ai/data/blog/posts/multilabel/bird_cat_dog')"
      ]
     },
     "execution_count": null,
     "metadata": {},
     "output_type": "execute_result"
    }
   ],
   "source": [
    "data.readlink()"
   ]
  },
  {
   "cell_type": "code",
   "execution_count": null,
   "id": "ed69e2d7-1cd5-48a7-926e-506a05cb2dce",
   "metadata": {},
   "outputs": [],
   "source": [
    "!mv ~/ai/data/blog/posts/multilabel/{bird_cat_dog,bird_cat_dog.orig}"
   ]
  }
 ],
 "metadata": {
  "kernelspec": {
   "display_name": "python3",
   "language": "python",
   "name": "python3"
  }
 },
 "nbformat": 4,
 "nbformat_minor": 5
}
