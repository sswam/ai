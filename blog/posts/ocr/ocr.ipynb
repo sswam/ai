{
 "cells": [
  {
   "cell_type": "raw",
   "id": "ece8b5d0-b040-4af7-afec-cf90490a15c8",
   "metadata": {},
   "source": [
    "---\n",
    "title: \"OCR with Tessaract and ChatGPT\"\n",
    "date: \"2023-03-23\"\n",
    "# date-modified: \"2023-03-23\"\n",
    "format:\n",
    "  html:\n",
    "    code-fold: false\n",
    "    code-tools:\n",
    "      source: https://github.com/sswam/ai/blob/main/blog/posts/ocr/ocr.ipynb\n",
    "jupyter: python\n",
    "toc: true\n",
    "toc-depth: 2\n",
    "categories: []\n",
    "draft: true\n",
    "---"
   ]
  },
  {
   "cell_type": "markdown",
   "id": "3fb583b4-7c28-4eaf-8090-d02e0460acd6",
   "metadata": {},
   "source": [
    "## Introduction"
   ]
  }
 ],
 "metadata": {
  "kernelspec": {
   "display_name": "python3",
   "language": "python",
   "name": "python3"
  }
 },
 "nbformat": 4,
 "nbformat_minor": 5
}
