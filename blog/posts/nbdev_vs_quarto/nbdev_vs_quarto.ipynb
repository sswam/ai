{
 "cells": [
  {
   "cell_type": "raw",
   "id": "f360288e-bb2e-4bd7-9120-a313b9b0f6b5",
   "metadata": {},
   "source": [
    "---\n",
    "title: \"nbdev vs quarto incompatibility\"\n",
    "date: \"2023-03-12\"\n",
    "# date-modified: \"2023-03-12\"\n",
    "format:\n",
    "  html:\n",
    "    code-fold: false\n",
    "    code-tools:\n",
    "      source: https://github.com/sswam/ai/blob/main/blog/posts/nbdev_vs_quarto/nbdev_vs_quarto.ipynb\n",
    "jupyter: python\n",
    "toc: true\n",
    "toc-depth: 2\n",
    "categories: []\n",
    "draft: true\n",
    "---"
   ]
  },
  {
   "cell_type": "markdown",
   "id": "9e18a5e1-4faf-41c3-af24-dda49893b2e1",
   "metadata": {},
   "source": [
    "## Introduction"
   ]
  },
  {
   "cell_type": "markdown",
   "id": "eef8d48d-bbb1-40c5-8131-6c46f096f245",
   "metadata": {},
   "source": [
    "I'm finding that quarto blog render messes up nbdev directives:"
   ]
  },
  {
   "cell_type": "code",
   "execution_count": null,
   "id": "b38565d2-0b01-4e99-9b3f-4c97250d12c3",
   "metadata": {},
   "outputs": [],
   "source": [
    "#|export\n",
    "def hello():\n",
    "    print(\"Hello, world\")"
   ]
  },
  {
   "cell_type": "code",
   "execution_count": null,
   "id": "d5e89db4-6ab3-4bb5-a8bb-4a4450ae4aef",
   "metadata": {},
   "outputs": [
    {
     "name": "stdout",
     "output_type": "stream",
     "text": [
      "Hello, world\n"
     ]
    }
   ],
   "source": [
    "hello()"
   ]
  },
  {
   "cell_type": "code",
   "execution_count": null,
   "id": "aa429b57-3a28-4659-82e9-f0b679396e8a",
   "metadata": {},
   "outputs": [],
   "source": [
    "#| default_exp hello"
   ]
  },
  {
   "cell_type": "code",
   "execution_count": null,
   "id": "7201a82d-8e96-412c-a5a8-a6e47632c3dd",
   "metadata": {},
   "outputs": [],
   "source": [
    "from nbdev.export import nb_export\n",
    "nb_export(\"nbdev_vs_quarto.ipynb\", \"/home/sam/ai/lib/\")"
   ]
  }
 ],
 "metadata": {
  "kernelspec": {
   "display_name": "python3",
   "language": "python",
   "name": "python3"
  }
 },
 "nbformat": 4,
 "nbformat_minor": 5
}
