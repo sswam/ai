{
 "cells": [
  {
   "cell_type": "raw",
   "id": "91b4242f-78b6-4ebe-a87d-2f281b4184f4",
   "metadata": {},
   "source": [
    "---\n",
    "title: \"A multi-label classifier, part 2: reusable functions\"\n",
    "date: \"2023-03-11\"\n",
    "date-modified: \"2023-03-14\"\n",
    "format:\n",
    "  html:\n",
    "    code-fold: false\n",
    "    code-tools:\n",
    "      source: https://github.com/sswam/ai/blob/main/blog/posts/multilabel2/multilabel2.ipynb\n",
    "jupyter: python\n",
    "toc: true\n",
    "toc-depth: 2\n",
    "categories: [project, nbdev]\n",
    "draft: false\n",
    "---"
   ]
  },
  {
   "cell_type": "markdown",
   "id": "166a5069-a5bc-45f1-ada3-53815f7f59b9",
   "metadata": {},
   "source": [
    "## This project continues on from part 1: [collecting images](/posts/multilabel1/multilabel1.html)"
   ]
  },
  {
   "cell_type": "markdown",
   "id": "ff3294af-1944-49b4-83f6-00938bc0cb70",
   "metadata": {},
   "source": [
    "## Introduction"
   ]
  },
  {
   "cell_type": "markdown",
   "id": "87f8e338-a755-446f-ac77-5cfc10852d89",
   "metadata": {},
   "source": [
    "In this blog post, I am collecting some reusable functions that I am using for my multi-label classifier project. So far, they are mainly related to the image search queries. I'm exporting this stuff to a mini library called `ucm.py` using <span title=\"nbdev is a Python library that allows users to create Python packages and libraries directly from Jupyter notebooks. It provides tools for testing, documentation, and packaging code, making it easier for users to develop and share their work.\">nbdev</span>."
   ]
  },
  {
   "cell_type": "markdown",
   "id": "45005eaf-50c0-4cc9-803f-d19632f4dfdd",
   "metadata": {},
   "source": [
    "## Useful imports"
   ]
  },
  {
   "cell_type": "code",
   "execution_count": null,
   "id": "a1bdc498-1b1b-4bd2-96fb-cbd9f528d7d2",
   "metadata": {},
   "outputs": [],
   "source": [
    "#|export\n",
    "import sys\n",
    "import os\n",
    "from fastcore.foundation import L\n",
    "from pathlib import Path\n",
    "from fastcore.xtras import Path"
   ]
  },
  {
   "cell_type": "markdown",
   "id": "c9dc3b30-3a51-4906-97e4-8cee97278ab6",
   "metadata": {},
   "source": [
    "## Avoid warnings from tensorflow"
   ]
  },
  {
   "cell_type": "markdown",
   "id": "a8e5ca9e-0665-4655-9562-2d9a64851902",
   "metadata": {},
   "source": [
    "I also added this to my `ai.env` environment file."
   ]
  },
  {
   "cell_type": "code",
   "execution_count": null,
   "id": "262951b4-1f1e-4548-987c-e96f3a3b66f1",
   "metadata": {},
   "outputs": [],
   "source": [
    "#|export\n",
    "os.environ['TF_CPP_MIN_LOG_LEVEL'] = '1'"
   ]
  },
  {
   "cell_type": "markdown",
   "id": "a039bcd7-80f1-444e-98a4-4e16f04cc85c",
   "metadata": {},
   "source": [
    "## Collections"
   ]
  },
  {
   "cell_type": "code",
   "execution_count": null,
   "id": "cee84673-28e4-4f5d-90e1-0e96388dc54b",
   "metadata": {},
   "outputs": [],
   "source": [
    "#|export\n",
    "from itertools import chain, combinations\n",
    "\n",
    "def powerset(iterable):\n",
    "    \"powerset([1,2,3]) --> () (1,) (2,) (3,) (1,2) (1,3) (2,3) (1,2,3)\"\n",
    "    s = list(iterable)\n",
    "    return chain.from_iterable(combinations(s, r) for r in range(len(s)+1))"
   ]
  },
  {
   "cell_type": "code",
   "execution_count": null,
   "id": "c1d6f8fe-2c57-4abf-8198-1ba5f300d999",
   "metadata": {},
   "outputs": [],
   "source": [
    "#|export\n",
    "def seq_diff(s1, s2):\n",
    "    return L(filter(lambda x: x not in s2, s1))"
   ]
  },
  {
   "cell_type": "code",
   "execution_count": null,
   "id": "03a11544-1c9d-42a1-b0d8-15e9d65472b3",
   "metadata": {},
   "outputs": [
    {
     "name": "stdout",
     "output_type": "stream",
     "text": [
      "() ['bird', 'cat', 'dog']\n",
      "('bird',) ['cat', 'dog']\n",
      "('cat',) ['bird', 'dog']\n",
      "('dog',) ['bird', 'cat']\n",
      "('bird', 'cat') ['dog']\n",
      "('bird', 'dog') ['cat']\n",
      "('cat', 'dog') ['bird']\n",
      "('bird', 'cat', 'dog') []\n"
     ]
    }
   ],
   "source": [
    "def test_powerset_and_seq_diff():\n",
    "    labels = L(\"bird\", \"cat\", \"dog\")\n",
    "    for comb in powerset(labels):\n",
    "        print(comb, seq_diff(labels, comb))\n",
    "        \n",
    "test_powerset_and_seq_diff()"
   ]
  },
  {
   "cell_type": "markdown",
   "id": "b8d20f42-46ff-4a9f-83b5-152313e7f159",
   "metadata": {},
   "source": [
    "## A helper for search query text"
   ]
  },
  {
   "cell_type": "code",
   "execution_count": null,
   "id": "b3c2ca13-4455-4826-b5c6-4f5411b2bcba",
   "metadata": {},
   "outputs": [],
   "source": [
    "#|export\n",
    "import inflect\n",
    "\n",
    "p = inflect.engine()"
   ]
  },
  {
   "cell_type": "code",
   "execution_count": null,
   "id": "92417043-3549-4653-9229-7a306408153d",
   "metadata": {},
   "outputs": [],
   "source": [
    "#|export\n",
    "def join_a_foo_and_a_bar(comb):\n",
    "    return \" and \".join(p.a(x) for x in comb)"
   ]
  },
  {
   "cell_type": "code",
   "execution_count": null,
   "id": "d36be0f7-a48f-4f1f-9645-0348baef7bd7",
   "metadata": {},
   "outputs": [
    {
     "data": {
      "text/plain": [
       "'a banana and an apple'"
      ]
     },
     "execution_count": null,
     "metadata": {},
     "output_type": "execute_result"
    }
   ],
   "source": [
    "join_a_foo_and_a_bar([\"banana\", \"apple\"])"
   ]
  },
  {
   "cell_type": "markdown",
   "id": "716b0e5e-bb95-4a79-b56f-0bb3159c9458",
   "metadata": {},
   "source": [
    "## A button to confirm deleting data"
   ]
  },
  {
   "cell_type": "code",
   "execution_count": null,
   "id": "035c74ef-27d3-4cda-9ba5-88bb441dfa23",
   "metadata": {},
   "outputs": [],
   "source": [
    "#|export\n",
    "import ipywidgets as widgets\n",
    "from send2trash import send2trash\n",
    "\n",
    "def confirm_delete(del_path):\n",
    "    button = widgets.Button(description=f\"Move data to trash: {del_path}?\", layout=widgets.Layout(width='20em'))\n",
    "    # button.on_click(lambda b: shutil.rmtree(del_path, ignore_errors=True))\n",
    "    button.on_click(lambda b: send2trash(del_path))\n",
    "    display(button)"
   ]
  },
  {
   "cell_type": "code",
   "execution_count": null,
   "id": "853594c0-858a-4b84-89c3-8f5ee0a09176",
   "metadata": {},
   "outputs": [],
   "source": [
    "mkdir deleteme"
   ]
  },
  {
   "cell_type": "code",
   "execution_count": null,
   "id": "e412643c-ea03-44dd-92eb-a1d75833d107",
   "metadata": {},
   "outputs": [
    {
     "data": {
      "application/vnd.jupyter.widget-view+json": {
       "model_id": "567b19934d0d4aba9e3511f28d5476f7",
       "version_major": 2,
       "version_minor": 0
      },
      "text/plain": [
       "Button(description='Move data to trash: deleteme?', layout=Layout(width='20em'), style=ButtonStyle())"
      ]
     },
     "metadata": {},
     "output_type": "display_data"
    }
   ],
   "source": [
    "confirm_delete(\"deleteme\")"
   ]
  },
  {
   "cell_type": "markdown",
   "id": "c44b34b6-2030-4a7d-893a-b4a3321e7e34",
   "metadata": {},
   "source": [
    "## Logging"
   ]
  },
  {
   "cell_type": "code",
   "execution_count": null,
   "id": "1baf0d84-a339-4018-a857-ecb5b7df6016",
   "metadata": {},
   "outputs": [],
   "source": [
    "#|export\n",
    "import logging\n",
    "\n",
    "def setup_logging(args):\n",
    "    \"\"\" Set up logging. \"\"\"\n",
    "\n",
    "    # get basename of program in upper case\n",
    "    prog_name_uc = os.path.basename(sys.argv[0]).upper()\n",
    "\n",
    "    log_file = args.log or os.environ.get(f'{prog_name_uc}_LOG')\n",
    "    fmt = \"%(message)s\"\n",
    "    if args.log_level == logging.DEBUG:\n",
    "        fmt = \"%(asctime)s %(levelname)s %(name)s %(message)s\"\n",
    "\n",
    "    # if a log_file was specified, use it\n",
    "    log_file = log_file or os.environ.get('CHATGPT_LOG_FILE')\n",
    "    logging.basicConfig(level=args.log_level, format=fmt, filename=log_file)\n",
    "\n",
    "def add_logging_options(parser):\n",
    "    \"\"\" Add logging options to an argument parser. \"\"\"\n",
    "    logging_group = parser.add_argument_group('Logging options')\n",
    "    logging_group.set_defaults(log_level=logging.WARNING)\n",
    "    logging_group.add_argument('-d', '--debug', dest='log_level', action='store_const', const=logging.DEBUG, help=\"show debug messages\")\n",
    "    logging_group.add_argument('-v', '--verbose', dest='log_level', action='store_const', const=logging.INFO, help=\"show verbose messages\")\n",
    "    logging_group.add_argument('-q', '--quiet', dest='log_level', action='store_const', const=logging.ERROR, help=\"show only errors\")\n",
    "    logging_group.add_argument('-Q', '--silent', dest='log_level', action='store_const', const=logging.CRITICAL, help=\"show nothing\")\n",
    "    logging_group.add_argument('--log', default=None, help=\"log file\")"
   ]
  },
  {
   "cell_type": "markdown",
   "id": "c6614ec0-8114-431c-89a8-33c009943603",
   "metadata": {},
   "source": [
    "## Redirecting file handles, such as stderr to /dev/null"
   ]
  },
  {
   "cell_type": "code",
   "execution_count": null,
   "id": "d1505aa5-ea3a-46bf-8e58-e6f6b0a26bc2",
   "metadata": {},
   "outputs": [],
   "source": [
    "#|export\n",
    "import sys\n",
    "import os\n",
    "from contextlib import contextmanager\n",
    "from functools import partial\n",
    "\n",
    "@contextmanager\n",
    "def redirect(fileno, target):\n",
    "    \"\"\" Redirect a file descriptor temporarily \"\"\"\n",
    "    target_fd = os.open(target, os.O_WRONLY)\n",
    "    saved_fd = os.dup(fileno)\n",
    "    os.dup2(target_fd, fileno)\n",
    "    try:\n",
    "        yield\n",
    "    finally:\n",
    "        os.dup2(saved_fd, fileno)\n",
    "        os.close(saved_fd)\n",
    "        os.close(target_fd)\n",
    "\n",
    "redirect_stderr_to_dev_null = partial(redirect, sys.stderr.fileno(), \"/dev/null\")"
   ]
  },
  {
   "cell_type": "code",
   "execution_count": null,
   "id": "e25c2ef2-f0e8-4035-bcfd-224bb7780ae5",
   "metadata": {},
   "outputs": [
    {
     "name": "stderr",
     "output_type": "stream",
     "text": [
      "Hello\n",
      "this should not appear!\n",
      "world\n"
     ]
    }
   ],
   "source": [
    "# apparently this doesn't work in Jupyter :/\n",
    "print(\"Hello\", file=sys.stderr)\n",
    "with redirect_stderr_to_dev_null():\n",
    "    print(\"this should not appear!\", file=sys.stderr)\n",
    "print(\"world\", file=sys.stderr)"
   ]
  },
  {
   "cell_type": "markdown",
   "id": "66b49a18-1c57-4e94-8877-7410d93d8017",
   "metadata": {},
   "source": [
    "## Run an async coroutine, and exit immediately when the user presses ctrl-c"
   ]
  },
  {
   "cell_type": "code",
   "execution_count": null,
   "id": "cff89e37-afde-43ac-8d15-af3a2b40ad63",
   "metadata": {},
   "outputs": [],
   "source": [
    "#|export\n",
    "import os\n",
    "import asyncio\n",
    "\n",
    "def run_async(coro):\n",
    "    loop = asyncio.get_event_loop()\n",
    "    try:\n",
    "        loop.run_until_complete(coro)\n",
    "    except KeyboardInterrupt as e:\n",
    "        loop.close()\n",
    "        os._exit(130)\n",
    "    finally:\n",
    "        loop.close()"
   ]
  },
  {
   "cell_type": "markdown",
   "id": "facca644-1271-48c8-bb9e-3a93b0fea73e",
   "metadata": {},
   "source": [
    "## File-based Mutex"
   ]
  },
  {
   "cell_type": "markdown",
   "id": "1ec36ee2-f948-4efc-a61b-50ad6e0d162b",
   "metadata": {},
   "source": [
    "If lock_file is None / \"\" / False, it will be a no-op."
   ]
  },
  {
   "cell_type": "code",
   "execution_count": null,
   "id": "e23abb16-9d71-4d47-aeec-a345ee325c89",
   "metadata": {},
   "outputs": [],
   "source": [
    "#|export\n",
    "import os\n",
    "import fcntl\n",
    "\n",
    "class FileMutex:\n",
    "    def __init__(self, lock_file, mode=0o600):\n",
    "        self.lock_file = lock_file\n",
    "        self.fd = None\n",
    "        self.mode = mode\n",
    "\n",
    "    def acquire(self):\n",
    "        if not self.lock_file:\n",
    "            return\n",
    "        self.fd = os.open(self.lock_file, os.O_CREAT, self.mode)\n",
    "        fcntl.flock(self.fd, fcntl.LOCK_EX)\n",
    "\n",
    "    def release(self):\n",
    "        if not self.fd:\n",
    "            return\n",
    "        fcntl.flock(self.fd, fcntl.LOCK_UN)\n",
    "        os.close(self.fd)\n",
    "        self.fd = None\n",
    "\n",
    "    def __enter__(self):\n",
    "        self.acquire()\n",
    "\n",
    "    def __exit__(self, exc_type, exc_val, exc_tb):\n",
    "        self.release()"
   ]
  },
  {
   "cell_type": "code",
   "execution_count": null,
   "id": "adb95ba4-71a9-49f5-842d-588a2f8de9e9",
   "metadata": {},
   "outputs": [
    {
     "name": "stdout",
     "output_type": "stream",
     "text": [
      "hi\n"
     ]
    }
   ],
   "source": [
    "# not exactly a thorough test...\n",
    "with FileMutex(\"/tmp/lock\"):\n",
    "    print(\"hi\")"
   ]
  },
  {
   "cell_type": "markdown",
   "id": "d3bfbd0b-455f-456e-8dd4-b6350dd2cab4",
   "metadata": {},
   "source": [
    "## Exporting code with nbdev"
   ]
  },
  {
   "cell_type": "code",
   "execution_count": null,
   "id": "f39bbb81-ef3a-45ce-ba46-d417db4eba57",
   "metadata": {},
   "outputs": [],
   "source": [
    "#|export\n",
    "from nbdev.export import nb_export\n",
    "import ipynbname\n",
    "from pathlib import Path\n",
    "import sh\n",
    "\n",
    "def git_root():\n",
    "    root = sh.git('rev-parse', '--show-toplevel').rstrip()\n",
    "    return root\n",
    "\n",
    "def export(nb_file=None, lib_dir=None):\n",
    "    if nb_file is None: nb_file = ipynbname.name() + '.ipynb'\n",
    "    if lib_dir is None: lib_dir = Path(git_root())/\"lib\"\n",
    "    nb_export(nb_file, lib_dir)"
   ]
  },
  {
   "cell_type": "code",
   "execution_count": null,
   "id": "05ce4291-f00b-4a51-9490-db7286e74fa7",
   "metadata": {},
   "outputs": [],
   "source": [
    "#| default_exp ucm"
   ]
  },
  {
   "cell_type": "code",
   "execution_count": null,
   "id": "eb439984-cb72-46f2-b901-94d647791987",
   "metadata": {},
   "outputs": [],
   "source": [
    "export()"
   ]
  }
 ],
 "metadata": {
  "kernelspec": {
   "display_name": "python3",
   "language": "python",
   "name": "python3"
  }
 },
 "nbformat": 4,
 "nbformat_minor": 5
}
