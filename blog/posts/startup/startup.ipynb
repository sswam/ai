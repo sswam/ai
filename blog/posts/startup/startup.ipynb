{
 "cells": [
  {
   "cell_type": "raw",
   "id": "683fd4b1-d2c8-45bf-9b6e-1f93df36b3d9",
   "metadata": {},
   "source": [
    "---\n",
    "title: \"Startup script for my Linux desktop\"\n",
    "date: \"2023-02-24\"\n",
    "date-modified: \"2023-03-07\"\n",
    "format: \n",
    "  html:\n",
    "    code-fold: false\n",
    "    code-tools:\n",
    "      source: https://github.com/sswam/ai/blob/main/blog/posts/startup/startup.ipynb \n",
    "jupyter: bash\n",
    "toc: true\n",
    "toc-depth: 3\n",
    "categories: [bad, setup, Debian, tools]\n",
    "draft: false\n",
    "---"
   ]
  },
  {
   "cell_type": "markdown",
   "id": "71662364-f37a-42bd-80ee-3a1970791bbb",
   "metadata": {},
   "source": [
    "## Introduction"
   ]
  },
  {
   "cell_type": "markdown",
   "id": "a02e5f54-d6ec-409b-b180-eaa19bc44199",
   "metadata": {},
   "source": [
    "This is my `startup.sh` script, to open various apps and webpages when I log in to my Linux PC, and arrange them on my workspaces.\n",
    "\n",
    "Testing and debugging this script is a bit annoying. My previous approach was to make fixes to the script, close everything, exit my desktop session, then log in again and see what happens. Another possibility is to copy-paste lines out of the script into the terminal.\n",
    "\n",
    "Now I'm going to try developing the script as a Jupyter notebook with the Bash kernel. I will also generate the shell script from the notebook.\n",
    "\n",
    "I've included a couple of \"appendices\", with lists of the tools and scripts I am using."
   ]
  },
  {
   "cell_type": "markdown",
   "id": "cadcfeb8-ab53-4c0f-9e34-0712102b1828",
   "metadata": {},
   "source": [
    "## Workspaces and Apps"
   ]
  },
  {
   "cell_type": "markdown",
   "id": "9e7ba8bc-7408-4742-b1c9-d7de8a16e45c",
   "metadata": {},
   "source": [
    "I use two monitors:\n",
    "\n",
    "1. Left monitor, doesn't switch workspaces, for apps that I want always to hand.\n",
    "2. Right monitor, widescreen, does switch between workspaces, for work.\n",
    "\n",
    "Apps on left monitor:\n",
    "\n",
    "1. Gnome Pomodoro - timer\n",
    "2. Trello - tasks planner\n",
    "3. ChatGPT - AI assistant\n",
    "4. Miniflux - blog reader\n",
    "5. Anki - learning with flashcards\n",
    "6. Swatch - my system monitor script\n",
    "\n",
    "I am currently using these workspaces:\n",
    "\n",
    "1. Entertainment\n",
    "    - playing music\n",
    "    - watching movies\n",
    "    - xterm with GNU screen\n",
    "2. Chat and Social\n",
    "    - Discord\n",
    "    - Slack\n",
    "3. Miscellaneous\n",
    "    - sysadmin\n",
    "    - random stuff\n",
    "3. AI Study\n",
    "    - Jupyter notebook\n",
    "    - Quarto blog\n",
    "    - xterm with GNU screen\n",
    "\n",
    "I can add extra workspaces as needed when I work on other projects."
   ]
  },
  {
   "cell_type": "markdown",
   "id": "ca0f9ecb-df76-4ab4-9ef7-6fec9a477198",
   "metadata": {},
   "source": [
    "## The startup script"
   ]
  },
  {
   "cell_type": "code",
   "execution_count": null,
   "id": "d183dc6a-db73-4270-b0b9-c02c70bb8230",
   "metadata": {},
   "outputs": [],
   "source": [
    "#!/bin/bash\n",
    "# usage: source from ~/.xsessionrc"
   ]
  },
  {
   "cell_type": "code",
   "execution_count": null,
   "id": "2c25454a",
   "metadata": {},
   "outputs": [],
   "source": [
    "# set Right Alt to be the compose key, so I can type — em-dashes and such!\n",
    "setxkbmap -option compose:ralt"
   ]
  },
  {
   "cell_type": "code",
   "execution_count": null,
   "id": "4b8edd7b-3bf3-4fa5-a9e9-76c11e69da0c",
   "metadata": {},
   "outputs": [],
   "source": [
    "sleep 1"
   ]
  },
  {
   "cell_type": "code",
   "execution_count": null,
   "id": "6ea6bdf0-8d39-4c4a-9508-e8616be4f831",
   "metadata": {},
   "outputs": [],
   "source": [
    "gnome-dark\n",
    "connects &"
   ]
  },
  {
   "cell_type": "code",
   "execution_count": null,
   "id": "7e445171-8c90-4ed0-99d4-6d9fcbf99743",
   "metadata": {},
   "outputs": [],
   "source": [
    "wmctrl -s 0"
   ]
  },
  {
   "cell_type": "markdown",
   "id": "74fff008-3daf-4c83-9451-048630337a8b",
   "metadata": {},
   "source": [
    "### Common apps on the left monitor"
   ]
  },
  {
   "cell_type": "code",
   "execution_count": null,
   "id": "11db9c6a-213f-411d-aaa7-9d6441301844",
   "metadata": {},
   "outputs": [],
   "source": [
    "chrome_profile Sam --new-window \\\n",
    "\"https://trello.com/b/dnuAgKw1/ai\" \\\n",
    "\"https://trello.com/b/y16reUe3/misc\" \\\n",
    "\"https://chat.openai.com/chat\" \\\n",
    "&"
   ]
  },
  {
   "cell_type": "code",
   "execution_count": null,
   "id": "3a906761-6a3a-4bf7-b7c2-e9339f5cf314",
   "metadata": {},
   "outputs": [],
   "source": [
    "gnome-pomodoro &\n",
    "barrier &\n",
    "anki &\n",
    "swatch &\n",
    "# flameshot &\n",
    "# miniflux &\n",
    "# chatgpt &"
   ]
  },
  {
   "cell_type": "code",
   "execution_count": null,
   "id": "b27d75fe-0f9b-4a83-9a3d-e0bf6627ff2b",
   "metadata": {},
   "outputs": [],
   "source": [
    "# Sleep for a bit, and try to get out of the Activities Overview\n",
    "sleep 5; xdotool key 'Super'; sleep 1 ; xdotool key 'Escape'"
   ]
  },
  {
   "cell_type": "code",
   "execution_count": null,
   "id": "fdf2d12d-0fd7-4b74-ac11-e80227651fb8",
   "metadata": {},
   "outputs": [
    {
     "name": "stdout",
     "output_type": "stream",
     "text": [
      "Opening in existing browser session.\n",
      "libva error: vaGetDriverNameByIndex() failed with unknown libva error, driver_name = (null)\n",
      "[1]+  Done                    chrome_profile Sam --new-window \"https://trello.com/b/dnuAgKw1/ai\" \"https://trello.com/b/y16reUe3/misc\" \"https://chat.openai.com/chat\" \"https://chat.openai.com/chat\" \"https://miniflux.ucm.dev/unread\" \"https://www.youtube.com/playlist?list=PLqkzs79RU9yUrYAN083Jbiza9DMqQE1dq\"\n"
     ]
    }
   ],
   "source": [
    "wmctrl -r Trello -e 0,960,0,960,1080\n",
    "wmctrl -r pomodoro -e 0,0,0,400,400\n",
    "wmctrl -r Barrier -e 0,400,0,400,400\n",
    "wmctrl -r Anki -e 0,0,0,960,1080\n",
    "xdotool search --name swatch windowmove 600 100\n",
    "\n",
    "for app in Trello pomodoro Anki swatch Trello Miniflux; do\n",
    "    wmctrl -r \"$app\" -b add,sticky\n",
    "done\n",
    "wmctrl -r pomodoro -b add,above\n",
    "wmctrl -r swatch -b add,above\n",
    "\n",
    "for app in barrier; do wmctrl -c $app; done\n",
    "for app in swatch pomodoro; do xdotool search --name $app windowminimize %@; done"
   ]
  },
  {
   "cell_type": "code",
   "execution_count": null,
   "id": "8cd132bd-4f88-4e8a-9668-3079133a8b96",
   "metadata": {},
   "outputs": [],
   "source": [
    "gnome-pomodoro --start"
   ]
  },
  {
   "cell_type": "markdown",
   "id": "dc905011-6845-4ea9-918f-a5d9e8468a14",
   "metadata": {},
   "source": [
    "### Apps on Workspace 1: Entertainment"
   ]
  },
  {
   "cell_type": "code",
   "execution_count": null,
   "id": "cb90e2b7-c9c6-4fd1-8286-683fb22b5d20",
   "metadata": {},
   "outputs": [],
   "source": [
    "chrome --new-window \\\n",
    "'https://sigmoid.social/' \\\n",
    "'https://www.facebook.com/' \\\n",
    "'https://www.twitter.com/' \\\n",
    "'https://www.linkedin.com/' \\\n",
    "'https://www.reddit.com/' \\\n",
    "\"https://miniflux.ucm.dev/unread\" \\\n",
    "\"https://news.ycombinator.com/best\" \\\n",
    "\"https://chat.openai.com/chat\" \\\n",
    "&\n",
    "sleep 2\n",
    "wmctrl -r \"Sigmoid Social\" -e 0,1920,0,1720,1440\n",
    "chrome --new-window \\\n",
    "\"https://www.youtube.com/playlist?list=PLqkzs79RU9yUrYAN083Jbiza9DMqQE1dq\" \\\n",
    "'https://www.netflix.com/browse' \\\n",
    "'https://www.disneyplus.com/' \\\n",
    "'https://primevideo.com/' \\\n",
    "'https://www.youtube.com/' \\\n",
    "&\n",
    "sleep 2\n",
    "wmctrl -r \"my music\" -e 0,3640,0,1720,1440"
   ]
  },
  {
   "cell_type": "markdown",
   "id": "b8debff3-6be6-4382-9ebe-15fff8bb42bb",
   "metadata": {},
   "source": [
    "### Apps on Workspace 2: Miscellaneous"
   ]
  },
  {
   "cell_type": "code",
   "execution_count": null,
   "id": "47238526-b641-43c6-a0c7-0140195475d9",
   "metadata": {},
   "outputs": [],
   "source": [
    "sleep 2\n",
    "wmctrl -s 1"
   ]
  },
  {
   "cell_type": "code",
   "execution_count": null,
   "id": "a70e3525-cad5-48fa-9b51-92127d57e649",
   "metadata": {},
   "outputs": [],
   "source": [
    "chrome_profile Sam --new-window & sleep 1 ; xtile -w `xactivewindow` /2 1 1"
   ]
  },
  {
   "cell_type": "code",
   "execution_count": null,
   "id": "b071f493-f2ac-46bb-8559-b1549161d291",
   "metadata": {},
   "outputs": [],
   "source": [
    "sleep 2\n",
    "nautilus ~/plan.dev & sleep 1; wmctrl -r plan.dev -e 0,3640,0,400,400"
   ]
  },
  {
   "cell_type": "code",
   "execution_count": null,
   "id": "9e6d3bb8-8f44-4806-bed1-dc780bf55d3b",
   "metadata": {},
   "outputs": [],
   "source": [
    "sw misc sh\n",
    "xterm -e \"stty -ixon; xtile /2+1 1 1 ; sxw misc sh ; exec $SHELL\" & sleep 2\n",
    "sstuff misc sh \"^L\""
   ]
  },
  {
   "cell_type": "markdown",
   "id": "ff619954-c1ef-41aa-8256-035001e80d0b",
   "metadata": {},
   "source": [
    "### Apps on Workspace 3: Chat and Social"
   ]
  },
  {
   "cell_type": "code",
   "execution_count": null,
   "id": "410a7ebb-4dd5-495d-bb25-951829faa3a8",
   "metadata": {},
   "outputs": [],
   "source": [
    "sleep 2\n",
    "wmctrl -s 2"
   ]
  },
  {
   "cell_type": "code",
   "execution_count": null,
   "id": "cdced13b-d7c0-4000-b79d-d6afe9c5abe1",
   "metadata": {},
   "outputs": [],
   "source": [
    "slack & # --startup &\n",
    "discord & # --start-minimized &\n",
    "chrome_profile Sam --new-window & sleep 1 ; xtile -w `xactivewindow` /2 1 1"
   ]
  },
  {
   "cell_type": "code",
   "execution_count": null,
   "id": "fe40c70d-0a6f-4704-95d1-38ac626161b8",
   "metadata": {},
   "outputs": [],
   "source": [
    "sleep 5\n",
    "wmctrl -r Slack -e 0,1920,0,1720,1440\n",
    "wmctrl -r Discord -e 0,3640,0,1720,1440"
   ]
  },
  {
   "cell_type": "markdown",
   "id": "377c4798-27e5-4075-9bda-ab2f9c9ab81c",
   "metadata": {},
   "source": [
    "### Apps on Workspace 4: AI Study"
   ]
  },
  {
   "cell_type": "code",
   "execution_count": null,
   "id": "d8628461-0822-4238-93c8-6c015c83836f",
   "metadata": {},
   "outputs": [],
   "source": [
    "sleep 2\n",
    "wmctrl -s 3"
   ]
  },
  {
   "cell_type": "code",
   "execution_count": null,
   "id": "cca4b48c-020c-43ac-aed2-8b57f7247694",
   "metadata": {},
   "outputs": [],
   "source": [
    "cd ~/ai\n",
    "\n",
    "zotero &\n",
    "\n",
    ". ~/my/ai.env\n",
    "\n",
    "xterm -e \"stty -ixon; xtile /3+2 1 1 ; s ai ; exec $SHELL\" & sleep 2\n",
    "\n",
    "sw ai jup\n",
    "sw ai quarto\n",
    "sw ai sh\n",
    "\n",
    "#       xterm -e \"stty -ixon; xtile /3+2 1 1 ; sxw ai sh ; exec $SHELL\" & sleep 2\n",
    "sstuff ai sh \"^L\"\n",
    "\n",
    "chrome_profile Sam --new-window \\\n",
    "\"https://forums.fast.ai/c/part-2-2022/57\" \\\n",
    "\"https://walkwithfastai.com/revisited/\" \\\n",
    "&\n",
    "sleep 1 ; xtile -w `xactivewindow` 1 1 0\n",
    "\n",
    "sst ai jup jup ; sleep 2 ; xtile -w `xactivewindow` /3 1 1\n",
    "sst ai quarto quarto preview blog --no-browser --port 4242\n",
    "\n",
    "chrome --new-window \"http://localhost:4242\" & sleep 1 ; xtile -w `xactivewindow` /3+1 1 1\n",
    "\n",
    "screen -S ai -X shelltitle sh"
   ]
  },
  {
   "cell_type": "code",
   "execution_count": null,
   "id": "ba7ef87d-57ee-43f5-8b49-57ef11b06f2e",
   "metadata": {},
   "outputs": [],
   "source": [
    "sleep 2\n",
    "xdotool search --name zotero windowminimize %@"
   ]
  },
  {
   "cell_type": "markdown",
   "id": "5d81c28d-3883-46f0-a0be-5038c52a71ba",
   "metadata": {},
   "source": [
    "## Exporting the shell script"
   ]
  },
  {
   "cell_type": "markdown",
   "id": "38fa3477-e878-4c11-801a-f0fde5272980",
   "metadata": {},
   "source": [
    "I might put this in a separate script or tool later; as it is, I can run it from the notebook."
   ]
  },
  {
   "cell_type": "code",
   "execution_count": null,
   "id": "7a82256b-1d97-461d-bf2e-3a7597e07a9a",
   "metadata": {},
   "outputs": [],
   "source": [
    "# __END__"
   ]
  },
  {
   "cell_type": "code",
   "execution_count": null,
   "id": "ffb9ce7b-4a26-4736-bfa4-3dd004b8d1de",
   "metadata": {},
   "outputs": [],
   "source": [
    "cd ~/ai/blog/posts/startup"
   ]
  },
  {
   "cell_type": "code",
   "execution_count": null,
   "id": "4d4b5413-f1c5-49a9-89e2-2498af9d730e",
   "metadata": {},
   "outputs": [
    {
     "name": "stdout",
     "output_type": "stream",
     "text": [
      "[NbConvertApp] Converting notebook startup.ipynb to script\n"
     ]
    }
   ],
   "source": [
    "jupyter nbconvert --no-prompt --to script startup.ipynb --stdout \\\n",
    "--TemplateExporter.exclude_raw=True |\n",
    "sed -n '/^# __END__/q; p' > startup.sh\n",
    "chmod +x startup.sh"
   ]
  },
  {
   "cell_type": "code",
   "execution_count": null,
   "id": "d8279c23-c8fe-476e-b700-335fd73e9de5",
   "metadata": {},
   "outputs": [
    {
     "name": "stdout",
     "output_type": "stream",
     "text": [
      "renamed './startup.sh' -> '/home/sam/local/x/startup.sh'\n"
     ]
    }
   ],
   "source": [
    "mv -v ./startup.sh ~/local/x/startup.sh"
   ]
  },
  {
   "cell_type": "markdown",
   "id": "664cad16-de40-4dea-bfbb-c049ca8f750f",
   "metadata": {},
   "source": [
    "## Logging out to test the script"
   ]
  },
  {
   "cell_type": "markdown",
   "id": "d7e56f46-35e8-4683-9605-491d49406ff2",
   "metadata": {},
   "source": [
    "This notebook can helpfully kill itself, an unusual characteristic for a notebook!"
   ]
  },
  {
   "cell_type": "code",
   "execution_count": null,
   "id": "af2e4df6-7bfc-42d4-bd0f-37c937f90e1e",
   "metadata": {},
   "outputs": [],
   "source": [
    "close_all() {\n",
    "        while wmctrl -c \"$1\"; do sleep 0.2; done\n",
    "}\n",
    "close_all Anki\n",
    "close_all 'Google Chrome'\n",
    "sleep 5\n",
    "killall screen Xorg"
   ]
  },
  {
   "cell_type": "markdown",
   "id": "2266f0fa-4cf2-4c66-9ba3-651ba146d3be",
   "metadata": {},
   "source": [
    "## Conclusion"
   ]
  },
  {
   "cell_type": "markdown",
   "id": "f406ab49-539e-48f9-b4c2-5518b054b4d8",
   "metadata": {},
   "source": [
    "In this blog post, I've shared my `startup.sh` script for my Linux desktop, which opens various apps and webpages when I log in and arranges them on my workspaces. I've also explained how I test and debug the script, and shown how I am developing it as a Jupyter notebook with the Bash kernel. By exporting the shell script from the notebook, I can easily run it whenever I need to. I hope that this script is useful as an example to others who want to automate their desktop environment and increase their productivity; or at least a little interesting.\n",
    "\n",
    "I like this script in that helps me keep my workspaces organized right away when I log in. However, I spend too much time tweaking it, which can eat up valuable time that could be spent on actual work.\n",
    "\n",
    "To be honest, I think it was fairly bonkers of me to go to this level of effort to set up my windows just so at startup. You probably shouldn't imitate such bizarre nerdish behaviour!\n",
    "\n",
    "Thanks for reading."
   ]
  },
  {
   "cell_type": "markdown",
   "id": "87c4ed0e-47f4-49f6-abbd-051c88d8b922",
   "metadata": {},
   "source": [
    "## Appendix 1: tools and programs that I use here"
   ]
  },
  {
   "cell_type": "markdown",
   "id": "9eb23e8c-4f48-4bbe-a967-0a655a6bb6b9",
   "metadata": {},
   "source": [
    "- [Jupyter notebook](https://jupyter.org/) with the [Bash kernel](https://github.com/takluyver/bash_kernel) for developing and testing my startup script\n",
    "- [Bash](https://www.gnu.org/software/bash/) shell scripting language\n",
    "- [Gnome](https://www.gnome.org/) desktop environment\n",
    "- [Xorg](https://www.x.org/) display server\n",
    "- [setxkbmap](https://linux.die.net/man/1/setxkbmap) allows to change the keyboard layout and options\n",
    "- [wmctrl](http://tripie.sweb.cz/utils/wmctrl/) for controlling windows on your desktop\n",
    "- [xdotool](https://www.semicomplete.com/projects/xdotool/) for simulating keyboard and mouse input, and controlling windows\n",
    "- [Chrome](https://www.google.com/chrome/) web browser\n",
    "- [Trello](https://trello.com/) for task planning\n",
    "- [ChatGPT](https://github.com/tonyduan/ChatGPT) for an AI assistant\n",
    "- [Miniflux](https://miniflux.app/) for a blog reader\n",
    "- [Anki](https://apps.ankiweb.net/) for learning with flashcards\n",
    "- [Perl](https://www.perl.org/) programming language for the xtile script\n",
    "- [Screen](https://www.gnu.org/software/screen/) for creating and managing terminal sessions\n",
    "- [Slack](https://slack.com/) for team communication\n",
    "- [Discord](https://discord.com/) for voice and text chat\n",
    "- [Nautilus](https://wiki.gnome.org/Apps/Nautilus) file manager\n",
    "- [Zotero](https://www.zotero.org/) for reference management\n",
    "- [Gnome Pomodoro](https://gnomepomodoro.org/) for timing my work and taking breaks\n",
    "- [xterm](https://en.wikipedia.org/wiki/Xterm) for a command line with a nice bitmap font (misc fixed 6x13)\n",
    "- [ssh](https://www.openssh.com/) for connecting to remote servers using the command-line interface.\n",
    "- [Barrier](https://github.com/debauchee/barrier) for sharing a keyboard and mouse across multiple computers as a software KVM switch."
   ]
  },
  {
   "cell_type": "markdown",
   "id": "df5699cc-22cb-4a8b-95b2-36764e0f90cc",
   "metadata": {},
   "source": [
    "## Appendix 2: scripts that I wrote and used here"
   ]
  },
  {
   "cell_type": "markdown",
   "id": "8b29b8e8-86cc-4ad3-8b0b-69dfdd554f55",
   "metadata": {},
   "source": [
    "- [gnome-dark](https://ucm.dev/b/gnome-dark): A Bash script that sets the Gnome desktop environment to use the Adwaita-dark theme and a dark color scheme.\n",
    "- [gnome-light](https://ucm.dev/b/gnome-light): A Bash script that sets the Gnome desktop environment to use the Adwaita theme and a light color scheme.\n",
    "- [connects](https://ucm.dev/b/connects): A Bash script that connects to several remote hosts using the connect command and runs them in the background.\n",
    "- [connect](https://ucm.dev/b/connect): A Bash script that uses ssh to connect to remote servers specified as command-line arguments, with some connection options set.\n",
    "- [chrome_profile](https://ucm.dev/b/chrome_profile): A Bash script that launches Google Chrome with a specific profile.\n",
    "- [chrome_profile_key](https://ucm.dev/b/chrome_profile_key): A Bash script that returns the key for a specific Chrome profile.\n",
    "- [chrome_profiles_list](https://ucm.dev/b/chrome_profiles_list): A Bash script that lists all Chrome profiles and their keys.\n",
    "- [swatch](https://ucm.dev/b/swatch): A Bash script that launches a terminal window and displays system information using the watch command and other tools.\n",
    "- [xtile](https://ucm.dev/t/bin.x11/xtile): A Perl script that tiles a window on a specific screen, with options for the window size and position.\n",
    "- [s](https://ucm.dev/t/bin.screen/s): A Bash script that launches the screen command with some default options, and any additional arguments.\n",
    "- [sw](https://ucm.dev/t/bin.screen/sw): A Bash script that creates a new screen and window, with an optional directory.\n",
    "- [sxw](https://ucm.dev/t/bin.screen/sxw): A Bash script that attaches to a specific screen window using the screen command.\n",
    "- [sstuff](https://ucm.dev/t/bin.screen/sstuff): A Bash script that sends keystrokes to a specific screen window using the screen command."
   ]
  }
 ],
 "metadata": {
  "kernelspec": {
   "display_name": "bash",
   "language": "bash",
   "name": "bash"
  }
 },
 "nbformat": 4,
 "nbformat_minor": 5
}
