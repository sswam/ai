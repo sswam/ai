{
 "cells": [
  {
   "cell_type": "raw",
   "id": "54fddfc8-2771-4627-a8e7-df25340319a2",
   "metadata": {},
   "source": [
    "---\n",
    "title: \"Directory-based API for AI models\"\n",
    "date: \"2023-04-18\"\n",
    "# date-modified: \"2023-04-18\"\n",
    "format:\n",
    "  html:\n",
    "    code-fold: false\n",
    "    code-tools:\n",
    "      source: https://github.com/sswam/ai/blob/main/blog/posts/api/api.ipynb\n",
    "jupyter: python\n",
    "toc: true\n",
    "toc-depth: 2\n",
    "categories: []\n",
    "draft: true\n",
    "---"
   ]
  },
  {
   "cell_type": "markdown",
   "id": "d22f585c-f1e8-484d-bb46-91b8207c3425",
   "metadata": {},
   "source": [
    "## Introduction"
   ]
  },
  {
   "cell_type": "markdown",
   "id": "a0b7b977-e161-4229-96b5-807d9018ec9f",
   "metadata": {},
   "source": [
    "Today I'm going to continue working on my directory-based API for AI models, called \"core\". This is part of my Allemande AI toolkit project.\n",
    "\n",
    "It looks like I'm going to add Whisper as the next model, because I need it for my microphone script and the script takes a while to restart."
   ]
  },
  {
   "cell_type": "markdown",
   "id": "de6bc832-616c-4987-a5ee-abe0f20dd185",
   "metadata": {},
   "source": [
    "## Allemande environment setup"
   ]
  },
  {
   "cell_type": "markdown",
   "id": "b9c096ae-907f-48ff-95e9-92bf5a116d79",
   "metadata": {},
   "source": [
    "The script sets various environment variables and paths for my AI toolkit, Allemande. It initializes the 'bot' variable with the value 'Barbie', updates the Python path, and sets the PATH environment variable to include several directories within the Allemande framework. Lastly, it initializes the CHATPATH variable with the user's home directory followed by '/chat'."
   ]
  },
  {
   "cell_type": "markdown",
   "id": "658a7c86-470d-4a76-bab4-f8caed183b58",
   "metadata": {},
   "source": [
    "```sh\n",
    "ALLEMANDE_ENV=$(realpath \"${BASH_SOURCE[0]}\")\n",
    "ALLEMANDE=$(dirname \"$ALLEMANDE_ENV\")\n",
    "\n",
    "PORTS=\"/var/spool/ports\"\n",
    "PORTS_USER=\"ports\"\n",
    "PORTS_MODULES=\"llama whisper\"\n",
    "\n",
    "bot=Barbie\n",
    "\n",
    "PYTHONPATH=$PYTHONPATH:$ALLEMANDE/py\n",
    "\n",
    "for dir in adm core tools text data image audio video code openai anthropic web chat voice-chat eg; do\n",
    "        PATH=$PATH:$ALLEMANDE/$dir\n",
    "done\n",
    "\n",
    ": ${CHATPATH:=$HOME/chat}\n",
    "```"
   ]
  },
  {
   "cell_type": "markdown",
   "id": "7c60b7fe-f2a1-4580-aa30-f692e3c17b80",
   "metadata": {},
   "source": [
    "## Ports directory setup"
   ]
  },
  {
   "cell_type": "markdown",
   "id": "edbe2a0d-04cf-4964-95cb-4665ad3b2d7b",
   "metadata": {},
   "source": [
    "This little shell script sets up the `/var/spool/ports` directory, and we create a subdirectory for each module.\n",
    "At the moment is just a llama module and a whisper module which I haven't written yet. Under each module, we create a subdirectory for each user.\n",
    "Possibly it would be more user-friendly if we did the other way around, but anyway, that'll be fine for the moment."
   ]
  },
  {
   "cell_type": "markdown",
   "id": "10662739-cb99-40b9-baf9-139c2a8567dd",
   "metadata": {},
   "source": [
    "```bash\n",
    "#!/bin/bash -eu\n",
    "\n",
    "# setup the ports directory for a user\n",
    "\n",
    ". get_root\n",
    "\n",
    "user=${1:-$SUDO_USER}\n",
    "\n",
    "useradd $PORTS_USER || true\n",
    "\n",
    "mkdir -p \"$PORTS\"\n",
    "chown $PORTS_USER:$PORTS_USER \"$PORTS\"\n",
    "\n",
    "for module in $PORTS_MODULES; do\n",
    "\tmodule_dir=\"$PORTS/$module\"\n",
    "\tuser_dir=\"$module_dir/$user\"\n",
    "\n",
    "\tmkdir -p \"$module_dir\"\n",
    "\tchown $PORTS_USER:$PORTS_USER \"$module_dir\"\n",
    "\n",
    "\tmkdir -p \"$user_dir\"\n",
    "\tchown -R $user:$PORTS_USER \"$user_dir\"\n",
    "\n",
    "\tchmod 2770 \"$user_dir\"   # the 2 is for setgid (group sticky bit)\n",
    "done\n",
    "```"
   ]
  }
 ],
 "metadata": {
  "kernelspec": {
   "display_name": "python3",
   "language": "python",
   "name": "python3"
  }
 },
 "nbformat": 4,
 "nbformat_minor": 5
}
