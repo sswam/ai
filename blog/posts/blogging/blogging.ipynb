{
 "cells": [
  {
   "cell_type": "raw",
   "id": "ff085061",
   "metadata": {},
   "source": [
    "---\n",
    "title: \"Blogging about AI with Jupyter and Quarto\"\n",
    "author: \"Sam Watkins\"\n",
    "date: \"2023-02-08\"\n",
    "format: \n",
    "  html:\n",
    "    code-fold: false\n",
    "jupyter: python3\n",
    "categories: [fastai, blogging, Jupyter, Quarto]\n",
    "---"
   ]
  },
  {
   "cell_type": "markdown",
   "id": "4f607946-0811-4e40-8365-db8742e0fb57",
   "metadata": {},
   "source": [
    "I am starting this blog to record my AI studies, particularly with the [fast.ai](https://fast.ai) book and courses.\n",
    "\n",
    "In this first post, I'll detail why and how I'm setting up this blog."
   ]
  },
  {
   "cell_type": "markdown",
   "id": "8ec1b36b-1762-4d16-be7b-326dafd6761e",
   "metadata": {},
   "source": [
    "## Why write a blog?\n",
    "\n",
    "It's important for me to record what I'm learning. If I publish these notes as a blog, I can get feedback and possibly help other people too.\n",
    "\n",
    "See also:\n",
    "\n",
    "- This previous post of mine on dev.to: [Why Write a Dev Log?](https://dev.to/gamedev/why-write-a-dev-log-27nh)\n",
    "- Rachael Thomas's post: [Why you (yes, you) should blog](https://www.fast.ai/posts/2017-04-06-alternatives.html#why-you-yes-you-should-blog)\n",
    "- Another post from Rachael: [Advice for Better Blog Posts](https://www.fast.ai/posts/2019-05-13-blogging-advice.html)"
   ]
  },
  {
   "cell_type": "markdown",
   "id": "44dc90ed-edca-4e12-8ab2-c94e3ed9925b",
   "metadata": {},
   "source": [
    "## Why use Jupyter and Quarto?\n",
    "\n",
    "The [fast.ai](https://fast.ai) team recommends to work in [Jupyter](https://jupyter.org/) and blog using [Quarto](https://quarto.org/). Their [nbdev2](https://nbdev.fast.ai/) tool also makes use of Quarto. We can work on a notebooks in Jupyter, then run them through nbdev2 and Quarto to produce software libraries, documentation, apps, blog posts, papers, and even books.\n",
    "\n",
    "See also:\n",
    "\n",
    "- [nbdev+Quarto: A new secret weapon for productivity](https://www.fast.ai/posts/2022-07-28-nbdev2.html)"
   ]
  },
  {
   "cell_type": "markdown",
   "id": "d2b73be1-53e4-459e-892c-76b1f98603f2",
   "metadata": {},
   "source": [
    "## Installing the software\n",
    "\n",
    "I am running the AI tools on my home PC, with Debian GNU/Linux and an NVIDIA GPU. I'll write more about my setup in another post.\n",
    "\n",
    "I downloaded Quarto from their [Get Started](https://quarto.org/docs/get-started/) page, and installed it.\n",
    "\n",
    "This command installs or upgrades the other software we need:"
   ]
  },
  {
   "cell_type": "code",
   "execution_count": null,
   "id": "83f2d206-2234-47ff-a5bc-2758ba1f57a6",
   "metadata": {},
   "outputs": [],
   "source": [
    "!pip install -U jupyter fastbook nbdev"
   ]
  },
  {
   "cell_type": "markdown",
   "id": "efa9f6bc-3b7e-4152-8982-186d339f9d11",
   "metadata": {},
   "source": [
    "## Setting up the blog"
   ]
  },
  {
   "cell_type": "markdown",
   "id": "e05ddbe1-92b6-480a-add2-e329e517d409",
   "metadata": {},
   "source": [
    "I already had a git repo called `ai` in my home directory. The following commands would create it, and don't do any harm if it's already there."
   ]
  },
  {
   "cell_type": "code",
   "execution_count": null,
   "id": "b9b257cb-d213-422a-90c9-d73fe9cc2df2",
   "metadata": {},
   "outputs": [
    {
     "name": "stdout",
     "output_type": "stream",
     "text": [
      "/home/sam\n",
      "/home/sam/ai\n",
      "Reinitialized existing Git repository in /home/sam/ai/.git/\n"
     ]
    }
   ],
   "source": [
    "%cd\n",
    "!mkdir -p ai\n",
    "%cd ai\n",
    "!git init"
   ]
  },
  {
   "cell_type": "code",
   "execution_count": null,
   "id": "f5b953c2-0488-445e-b69e-e3cee85bb859",
   "metadata": {},
   "outputs": [
    {
     "name": "stdout",
     "output_type": "stream",
     "text": [
      "Creating project at \u001b[1m/home/sam/ai/blog\u001b[22m:\n",
      "  - Created _quarto.yml\n",
      "  - Created .gitignore\n",
      "  - Created index.qmd\n",
      "  - Created posts/welcome/index.qmd\n",
      "  - Created posts/post-with-code/index.qmd\n",
      "  - Created about.qmd\n",
      "  - Created styles.css\n",
      "  - Created posts/_metadata.yml\n"
     ]
    }
   ],
   "source": [
    "!quarto create-project blog --type website:blog"
   ]
  },
  {
   "cell_type": "markdown",
   "id": "f3b45737-fbd6-4a7c-92d9-3f98c3ba793c",
   "metadata": {},
   "source": [
    "See also:\n",
    "\n",
    "- [Quarto - Creating a Blog](https://quarto.org/docs/websites/website-blog.html)"
   ]
  },
  {
   "cell_type": "markdown",
   "id": "b08df194-6324-4125-8b4a-eefd4d5bb271",
   "metadata": {},
   "source": [
    "## Adding this post to the blog\n",
    "\n",
    "I had already started writing this post in a Jupyter Lab notebook `blogging.ipynb`. Now I needed to put it in the right place, so I made a directory for it:"
   ]
  },
  {
   "cell_type": "code",
   "execution_count": null,
   "id": "620d707c-0f05-4f47-8ac7-11b5eb6dd1e7",
   "metadata": {},
   "outputs": [
    {
     "name": "stdout",
     "output_type": "stream",
     "text": [
      "mkdir: created directory 'blog/posts/blogging'\n"
     ]
    }
   ],
   "source": [
    "!mkdir -pv blog/posts/blogging"
   ]
  },
  {
   "cell_type": "markdown",
   "id": "c93c4804-cd41-41f1-a727-4b310d2dba0b",
   "metadata": {},
   "source": [
    "I then moved this notebook `blogging.ipynb` into that new `blog/posts/blogging` directory, directly in Jupyter Lab. There was no need to close the notebook."
   ]
  },
  {
   "cell_type": "markdown",
   "id": "091164ea-c766-43c6-98ca-89cc3765d12d",
   "metadata": {},
   "source": [
    "## Previewing the blog\n",
    "\n",
    "We can preview the blog, by running this in a terminal:\n",
    "\n",
    "```sh\n",
    "quarto preview blog\n",
    "```\n",
    "\n",
    "Don't run it in a Jupyter cell, because it doesn't exit and will hang Jupyter!\n",
    "\n",
    "I'm using a few extra options that suit my setup:\n",
    "\n",
    "```sh\n",
    "quarto preview blog --no-browser --port 4242\n",
    "```"
   ]
  },
  {
   "cell_type": "markdown",
   "id": "16f53ea9-7be8-4abc-a2c8-5ef39f1f452a",
   "metadata": {},
   "source": [
    "## Cleaning up\n",
    "\n",
    "I looked over the sample posts and removed them, changed the about page and other settings, added links, and added my profile picture."
   ]
  },
  {
   "cell_type": "markdown",
   "id": "3a890b70-401b-4173-8c2c-b68e8dd852ad",
   "metadata": {},
   "source": [
    "## Committing to git\n",
    "\n",
    "Next, I ran `nbdev_install_hooks`, which prevents unnecessary git merge conflicts, and allows us to resolve conflicts in Jupyter."
   ]
  },
  {
   "cell_type": "code",
   "execution_count": null,
   "id": "4a2100c1-048c-4d7e-ad6a-2ea40b926e66",
   "metadata": {},
   "outputs": [
    {
     "name": "stdout",
     "output_type": "stream",
     "text": [
      "Hooks are installed.\n"
     ]
    }
   ],
   "source": [
    "!nbdev_install_hooks"
   ]
  },
  {
   "cell_type": "markdown",
   "id": "4fc5d20a-aa2b-430d-be9d-95d5c7e42ce4",
   "metadata": {},
   "source": [
    "The Quarto doc says \"you should always fully `quarto render` your site before deploying it\", so let's do it."
   ]
  },
  {
   "cell_type": "code",
   "execution_count": null,
   "id": "d9d9d649-b3cc-47e2-9b5c-e9245059ec92",
   "metadata": {},
   "outputs": [
    {
     "name": "stdout",
     "output_type": "stream",
     "text": [
      "\u001b[1m\u001b[34m[1/4] posts/setup/setup.ipynb\u001b[39m\u001b[22m\n",
      "\u001b[1m\u001b[34m[2/4] posts/blogging/blogging.ipynb\u001b[39m\u001b[22m\n",
      "\u001b[1m\u001b[34m[3/4] about.qmd\u001b[39m\u001b[22m\n",
      "\u001b[1m\u001b[34m[4/4] index.qmd\u001b[39m\u001b[22m\n",
      "\u001b[33mWARNING: File /home/sam/ai/blog/posts/blogging/blogging.ipynb in the listing 'listing' contains no metadata.\u001b[39m\n",
      "\n",
      "Output created: _site/index.html\n",
      "\n"
     ]
    }
   ],
   "source": [
    "!quarto render blog"
   ]
  },
  {
   "cell_type": "markdown",
   "id": "4c50b1ec-2ff7-4c71-9522-229b8168568c",
   "metadata": {},
   "source": [
    "And let's commit it to git:"
   ]
  },
  {
   "cell_type": "code",
   "execution_count": null,
   "id": "293edffc-f416-4862-b9bc-3a1c8c226cfb",
   "metadata": {},
   "outputs": [],
   "source": [
    "!git add blog"
   ]
  },
  {
   "cell_type": "code",
   "execution_count": null,
   "id": "e236b041-130d-4575-bf5e-3468cf36a071",
   "metadata": {},
   "outputs": [],
   "source": [
    "!git commit -q -m 'add blog'"
   ]
  },
  {
   "cell_type": "code",
   "execution_count": null,
   "id": "eede54f9-309d-4ccb-a92d-c2add73f9a46",
   "metadata": {},
   "outputs": [
    {
     "name": "stdout",
     "output_type": "stream",
     "text": [
      "Everything up-to-date\n"
     ]
    }
   ],
   "source": [
    "!git push"
   ]
  },
  {
   "cell_type": "markdown",
   "id": "0b20a02d-305b-4bcd-ace3-b638cea2d4da",
   "metadata": {},
   "source": [
    "See also:\n",
    "\n",
    "- [The Jupyter+git problem is now solved](https://www.fast.ai/posts/2022-08-25-jupyter-git.html)\n",
    "- [Git-Friendly Jupyter](https://nbdev.fast.ai/tutorials/git_friendly_jupyter.html)"
   ]
  }
 ],
 "metadata": {
  "kernelspec": {
   "display_name": "Python 3 (ipykernel)",
   "language": "python",
   "name": "python3"
  }
 },
 "nbformat": 4,
 "nbformat_minor": 5
}
