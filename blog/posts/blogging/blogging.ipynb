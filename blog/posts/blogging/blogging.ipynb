{
 "cells": [
  {
   "cell_type": "raw",
   "id": "ff085061",
   "metadata": {},
   "source": [
    "---\n",
    "title: \"Blogging AI with Jupyter and Quarto\"\n",
    "author: \"Sam Watkins\"\n",
    "date: \"2023-02-08\"\n",
    "format: \n",
    "  html:\n",
    "    code-fold: false\n",
    "jupyter: bash\n",
    "categories: [fastai, blogging, Jupyter, Quarto]\n",
    "---"
   ]
  },
  {
   "cell_type": "markdown",
   "id": "09d50328-adf9-4f0b-8d00-297e0eef14c9",
   "metadata": {},
   "source": [
    "## Introduction"
   ]
  },
  {
   "cell_type": "markdown",
   "id": "4f607946-0811-4e40-8365-db8742e0fb57",
   "metadata": {},
   "source": [
    "I am starting this blog to record my AI studies, particularly with the [fast.ai](https://fast.ai) book and courses.\n",
    "\n",
    "In this first post, I'll detail why and how I'm setting up this blog."
   ]
  },
  {
   "cell_type": "markdown",
   "id": "8ec1b36b-1762-4d16-be7b-326dafd6761e",
   "metadata": {},
   "source": [
    "## Why write a blog?\n",
    "\n",
    "It's important for me to record what I'm learning. If I publish these notes as a blog, I can get feedback and possibly help other people too.\n",
    "\n",
    "See also:\n",
    "\n",
    "- This previous post of mine on dev.to: [Why Write a Dev Log?](https://dev.to/gamedev/why-write-a-dev-log-27nh)\n",
    "- Rachael Thomas's post: [Why you (yes, you) should blog](https://www.fast.ai/posts/2017-04-06-alternatives.html#why-you-yes-you-should-blog)\n",
    "- Another post from Rachael: [Advice for Better Blog Posts](https://www.fast.ai/posts/2019-05-13-blogging-advice.html)"
   ]
  },
  {
   "cell_type": "markdown",
   "id": "44dc90ed-edca-4e12-8ab2-c94e3ed9925b",
   "metadata": {},
   "source": [
    "## Why use Jupyter and Quarto?\n",
    "\n",
    "The [fast.ai](https://fast.ai) team recommends to work in [Jupyter](https://jupyter.org/) and blog using [Quarto](https://quarto.org/). Their [nbdev2](https://nbdev.fast.ai/) tool also makes use of Quarto. We can work on a notebooks in Jupyter, then run them through nbdev2 and Quarto to produce software libraries, documentation, apps, blog posts, papers, and even books.\n",
    "\n",
    "See also:\n",
    "\n",
    "- [nbdev+Quarto: A new secret weapon for productivity](https://www.fast.ai/posts/2022-07-28-nbdev2.html)"
   ]
  },
  {
   "cell_type": "markdown",
   "id": "d2b73be1-53e4-459e-892c-76b1f98603f2",
   "metadata": {},
   "source": [
    "## Installing the software\n",
    "\n",
    "I am running the AI tools on my home PC, with Debian GNU/Linux and an NVIDIA GPU. I'll write more about my setup in another post.\n",
    "\n",
    "I downloaded Quarto from their [Get Started](https://quarto.org/docs/get-started/) page, and installed it.\n",
    "\n",
    "This command installs or upgrades the other software we need:"
   ]
  },
  {
   "cell_type": "code",
   "execution_count": null,
   "id": "83f2d206-2234-47ff-a5bc-2758ba1f57a6",
   "metadata": {},
   "outputs": [],
   "source": [
    "pip install -qq -U jupyter fastbook nbdev"
   ]
  },
  {
   "cell_type": "markdown",
   "id": "efa9f6bc-3b7e-4152-8982-186d339f9d11",
   "metadata": {},
   "source": [
    "## Setting up the blog"
   ]
  },
  {
   "cell_type": "markdown",
   "id": "e05ddbe1-92b6-480a-add2-e329e517d409",
   "metadata": {},
   "source": [
    "I already had a git repo called `ai` in my home directory. The following commands would create it, and don't do any harm if it's already there."
   ]
  },
  {
   "cell_type": "code",
   "execution_count": null,
   "id": "b9b257cb-d213-422a-90c9-d73fe9cc2df2",
   "metadata": {},
   "outputs": [
    {
     "name": "stdout",
     "output_type": "stream",
     "text": [
      "Reinitialized existing Git repository in /home/sam/ai/.git/\n"
     ]
    }
   ],
   "source": [
    "cd\n",
    "mkdir -p ai\n",
    "cd ai\n",
    "git init"
   ]
  },
  {
   "cell_type": "code",
   "execution_count": null,
   "id": "f5b953c2-0488-445e-b69e-e3cee85bb859",
   "metadata": {},
   "outputs": [
    {
     "name": "stdout",
     "output_type": "stream",
     "text": [
      "Creating project at \u001b[1m/home/sam/ai/blog\u001b[22m:\n",
      "  - Created _quarto.yml\n",
      "  - Created .gitignore\n",
      "  - Created index.qmd\n",
      "  - Created posts/welcome/index.qmd\n",
      "  - Created posts/post-with-code/index.qmd\n",
      "  - Created about.qmd\n",
      "  - Created styles.css\n",
      "  - Created posts/_metadata.yml\n"
     ]
    }
   ],
   "source": [
    "quarto create-project blog --type website:blog"
   ]
  },
  {
   "cell_type": "markdown",
   "id": "e6a83576-077c-4fed-9c88-45b0a21477d7",
   "metadata": {},
   "source": [
    "I ran `nbdev_install_hooks`, which prevents unnecessary git merge conflicts, and allows us to resolve conflicts in Jupyter."
   ]
  },
  {
   "cell_type": "code",
   "execution_count": null,
   "id": "4a2100c1-048c-4d7e-ad6a-2ea40b926e66",
   "metadata": {},
   "outputs": [
    {
     "name": "stdout",
     "output_type": "stream",
     "text": [
      "Hooks are installed.\n"
     ]
    }
   ],
   "source": [
    "nbdev_install_hooks"
   ]
  },
  {
   "cell_type": "markdown",
   "id": "f3b45737-fbd6-4a7c-92d9-3f98c3ba793c",
   "metadata": {},
   "source": [
    "See also:\n",
    "\n",
    "- [Quarto - Creating a Blog](https://quarto.org/docs/websites/website-blog.html)\n",
    "- [The Jupyter+git problem is now solved](https://www.fast.ai/posts/2022-08-25-jupyter-git.html)\n",
    "- [Git-Friendly Jupyter](https://nbdev.fast.ai/tutorials/git_friendly_jupyter.html)"
   ]
  },
  {
   "cell_type": "markdown",
   "id": "abd02943-03d2-4458-87cc-d60fcde2bbf5",
   "metadata": {},
   "source": [
    "## Adding this post to the blog"
   ]
  },
  {
   "cell_type": "markdown",
   "id": "c8114e2a-49c7-4309-8c1b-20e76adebd84",
   "metadata": {},
   "source": [
    "I had already started writing this post in a Jupyter Lab notebook `blogging.ipynb`. Now I needed to put it in the right place, so I made a directory for it:"
   ]
  },
  {
   "cell_type": "code",
   "execution_count": null,
   "id": "620d707c-0f05-4f47-8ac7-11b5eb6dd1e7",
   "metadata": {},
   "outputs": [],
   "source": [
    "mkdir -p blog/posts/blogging"
   ]
  },
  {
   "cell_type": "markdown",
   "id": "c93c4804-cd41-41f1-a727-4b310d2dba0b",
   "metadata": {},
   "source": [
    "I then moved this notebook `blogging.ipynb` into that new `blog/posts/blogging` directory, directly in Jupyter Lab. There was no need to close the notebook."
   ]
  },
  {
   "cell_type": "markdown",
   "id": "43dd41bb-bd1d-4270-8752-454c7d6634a0",
   "metadata": {},
   "source": [
    "## Previewing the blog"
   ]
  },
  {
   "cell_type": "markdown",
   "id": "503e84bc-bc5d-44f4-b198-c1fc2b5cb78c",
   "metadata": {},
   "source": [
    "We can preview the blog, by running this in a terminal:\n",
    "\n",
    "```sh\n",
    "quarto preview blog\n",
    "```\n",
    "\n",
    "Don't run it in a Jupyter cell, because it doesn't exit and will hang Jupyter!\n",
    "\n",
    "I'm using a few extra options that suit my setup:\n",
    "\n",
    "```sh\n",
    "quarto preview blog --no-browser --port 4242\n",
    "```"
   ]
  },
  {
   "cell_type": "markdown",
   "id": "1bb4084d-17f1-4bd2-b700-f4a2ce584a98",
   "metadata": {},
   "source": [
    "## Finishing up"
   ]
  },
  {
   "cell_type": "markdown",
   "id": "1d326bba-e048-4797-bc5b-8138d152393b",
   "metadata": {},
   "source": [
    "I removed the example posts, changed the settings, filled in the about page, added links to my socials, and added a profile picture.\n",
    "\n",
    "I followed the Quarto doc to enable comments using [Hypothesis](https://web.hypothes.is/), and an RSS feed.\n",
    "\n",
    "See also:\n",
    "\n",
    "- [Quarto - HTML Basics - Commenting](https://quarto.org/docs/output-formats/html-basics.html#commenting)\n",
    "- [Quarto - Creating a Blog - RSS Feed](https://quarto.org/docs/websites/website-blog.html#rss-feed)"
   ]
  },
  {
   "cell_type": "markdown",
   "id": "af13d5c3-afd1-4cfd-b7f2-1c366dbb1053",
   "metadata": {},
   "source": [
    "## Committing to git"
   ]
  },
  {
   "cell_type": "markdown",
   "id": "920207fd-ffe3-43b4-b9a5-f7ca12a3cbf9",
   "metadata": {},
   "source": [
    "The Quarto doc says \"you should always fully `quarto render` your site before deploying it\", so let's do it, and commit to git:"
   ]
  },
  {
   "cell_type": "code",
   "execution_count": null,
   "id": "4c952355-4630-463a-9ad5-56986b0be599",
   "metadata": {},
   "outputs": [],
   "source": [
    "cd ~/ai\n",
    "quarto render blog\n",
    "git add blog\n",
    "git commit -m 'update blog'\n",
    "git push\n",
    "git push opal\n",
    "git push pi"
   ]
  },
  {
   "cell_type": "markdown",
   "id": "b3f0d665-2704-4e19-a578-c6b8a091db2a",
   "metadata": {},
   "source": [
    "I pushed to github, and my two servers *opal* and *pi*."
   ]
  },
  {
   "cell_type": "markdown",
   "id": "0b20a02d-305b-4bcd-ace3-b638cea2d4da",
   "metadata": {},
   "source": [
    "See also:\n",
    "\n",
    "- [Quarto - Websites](https://quarto.org/docs/websites/)"
   ]
  },
  {
   "cell_type": "markdown",
   "id": "4b92c6d5-46e2-4f1f-b68a-e6c17ae9e008",
   "metadata": {},
   "source": [
    "## Publishing the blog"
   ]
  },
  {
   "cell_type": "markdown",
   "id": "4bee7461-5521-4d39-ae01-bbc83ee31179",
   "metadata": {},
   "source": [
    "I used a symlink to put the rendered blog into my website at [sam.ucm.dev/blog](https://sam.ucm.dev/blog):\n",
    "\n",
    "```sh\n",
    "ln -s ~/ai/blog/_site ~/www/sam.ucm.dev/blog\n",
    "```\n",
    "\n",
    "See also:\n",
    "\n",
    "- [Quarto - Publishing](https://quarto.org/docs/publishing/)"
   ]
  }
 ],
 "metadata": {
  "kernelspec": {
   "display_name": "bash",
   "language": "bash",
   "name": "bash"
  }
 },
 "nbformat": 4,
 "nbformat_minor": 5
}
