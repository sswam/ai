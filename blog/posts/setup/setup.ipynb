{
 "cells": [
  {
   "cell_type": "raw",
   "id": "7fefae11-9f58-4d69-bcbb-8d2c7423e061",
   "metadata": {},
   "source": [
    "---\n",
    "title: \"My setup for AI work on my Linux PC\"\n",
    "author: \"Sam Watkins\"\n",
    "date: \"2023-02-08\"\n",
    "format: \n",
    "  html:\n",
    "    code-fold: false\n",
    "jupyter: bash\n",
    "categories: [fastai, setup]\n",
    "draft: true\n",
    "---"
   ]
  },
  {
   "cell_type": "markdown",
   "id": "62e30cf9-580c-44bc-a3aa-1fede3a35cb6",
   "metadata": {},
   "source": [
    "## introduction"
   ]
  },
  {
   "cell_type": "markdown",
   "id": "0e44b2fc-2619-48d3-ab26-556a22035d05",
   "metadata": {},
   "source": [
    "I am using my home PC, with Debian 12 \"bookworm\" (testing) and an NVIDIA GPU.\n",
    "\n",
    "The following setup is **not recommended** unless you know what you're doing with Linux, and probably not even then.\n",
    "\n",
    "I decided not to use conda, virtualenv, or docker. Instead, I installed the necessary Python modules under `/usr/local` with `pip`. This way I can use my AI tools directly from the command line and other scripts, like any other tools."
   ]
  },
  {
   "cell_type": "markdown",
   "id": "7591c8ac-53ee-476e-a6bb-2a583dc1eb8f",
   "metadata": {},
   "source": [
    "## allow my user to install packages to /usr/local"
   ]
  },
  {
   "cell_type": "markdown",
   "id": "b6eafd72-860a-475a-b227-6f5647cf53bc",
   "metadata": {},
   "source": [
    "\n",
    "It's not safe to run `pip install -U` as root. It will merrily remove files from Debian-packaged Python modules under `/usr/lib`, and mess up the system. To avoid this, I changed permissions so that my regular user account can write to everything under `/usr/local` via the `staff` group. I do the same for `/opt` because I want to upgrade Rust from my own user ID also:"
   ]
  },
  {
   "cell_type": "code",
   "execution_count": null,
   "id": "af82b41f-b1ce-4ff2-ac1e-d17c83815615",
   "metadata": {},
   "outputs": [
    {
     "name": "stdout",
     "output_type": "stream",
     "text": [
      "adduser: The user `sam' is already a member of `staff'.\n"
     ]
    }
   ],
   "source": [
    "sudo adduser $USER staff\n",
    "sudo chgrp -R staff /usr/local /opt\n",
    "sudo chmod -R g+w /usr/local /opt"
   ]
  },
  {
   "cell_type": "markdown",
   "id": "b141ea96-8839-47a4-8988-c4253cb5a1b6",
   "metadata": {},
   "source": [
    "This is somewhat of a security concern, but if a bad guy gets a local shell it's pretty much game over anyway. To make it safer, I could have used a different non-root account.\n",
    "\n",
    "In order to upgrade a pip package where the same package was also installed in `/usr/lib` by dpkg, I need to use `pip -I -U packagename`. The `-I` flag tells it to ignore installed packages, i.e. don't try to remove them. I only do that as needed for individual packages, when a normal upgrade fails.\n",
    "\n",
    "This setup might upset Debian-packaged programs that depend on older versions of the Python libraries that I've upgraded. I haven't noticed any problems like that yet.\n",
    "\n",
    "If you try to downgrade a package, and If multiple versions of a package are accidentally installed under /usr/local/lib/python3.10 at that same time, the sym"
   ]
  },
  {
   "cell_type": "markdown",
   "id": "739a996b-b5b2-44e6-b6e9-d224a65f63b0",
   "metadata": {},
   "source": [
    "## enable switching the system python version"
   ]
  },
  {
   "cell_type": "markdown",
   "id": "8e048577-36d4-4539-ab5a-5f5e071e00e9",
   "metadata": {},
   "source": [
    "The default Python version for Debian \"testing\" at time of writing is Python 3.11, however we don't have a stable release of pytorch for Python 3.11 yet:"
   ]
  },
  {
   "cell_type": "code",
   "execution_count": null,
   "id": "dd8abcb0-3815-4c9d-b527-c4894940842a",
   "metadata": {},
   "outputs": [
    {
     "name": "stdout",
     "output_type": "stream",
     "text": [
      "\u001b[31mERROR: Could not find a version that satisfies the requirement torchvision (from versions: 0.1.6, 0.1.7, 0.1.8, 0.1.9, 0.2.0, 0.2.1, 0.2.2, 0.2.2.post2, 0.2.2.post3)\u001b[0m\u001b[31m\n",
      "\u001b[0m\u001b[31mERROR: No matching distribution found for torchvision\u001b[0m\u001b[31m\n",
      "\u001b[0m\n"
     ]
    },
    {
     "ename": "",
     "evalue": "1",
     "output_type": "error",
     "traceback": []
    }
   ],
   "source": [
    "python3.11 -m pip install torchvision"
   ]
  },
  {
   "cell_type": "markdown",
   "id": "201a2587-8d62-49f7-b41d-e4b667106b6f",
   "metadata": {},
   "source": [
    "So let's enable switching the system Python version back to 3.10, using `update-alternatives`."
   ]
  },
  {
   "cell_type": "markdown",
   "id": "ee7c1b40-27cf-4408-b915-a4d41ac06596",
   "metadata": {},
   "source": [
    "First, note that we can undo this change later, if necessary, as follows:"
   ]
  },
  {
   "cell_type": "code",
   "execution_count": null,
   "id": "58d4ccfb-a9cf-4856-875f-5ed7d64b30f4",
   "metadata": {},
   "outputs": [],
   "source": [
    "sudo update-alternatives --remove-all python3\n",
    "sudo update-alternatives --remove-all pydoc3\n",
    "sudo ln -sf python3.11 /usr/bin/python3\n",
    "sudo ln -sf pydoc3.11 /usr/bin/pydoc3"
   ]
  },
  {
   "cell_type": "markdown",
   "id": "dc482327-f325-481a-8b9a-56d716bc3733",
   "metadata": {},
   "source": [
    "We can set up alternatives for `python3`:"
   ]
  },
  {
   "cell_type": "code",
   "execution_count": null,
   "id": "72f87e8b-5af3-4c37-9595-635859bb2d89",
   "metadata": {},
   "outputs": [
    {
     "name": "stdout",
     "output_type": "stream",
     "text": [
      "update-alternatives: using /usr/bin/python3.11 to provide /usr/bin/python3 (python3) in auto mode\n",
      "update-alternatives: using /usr/bin/python3.10 to provide /usr/bin/python3 (python3) in manual mode\n"
     ]
    }
   ],
   "source": [
    "sudo update-alternatives --install /usr/bin/python3 python3 /usr/bin/python3.11 11\n",
    "sudo update-alternatives --install /usr/bin/python3 python3 /usr/bin/python3.10 10\n",
    "sudo update-alternatives --set python3 /usr/bin/python3.10"
   ]
  },
  {
   "cell_type": "markdown",
   "id": "154887dd-ef3a-4f3b-ac90-f0492d2ecfa8",
   "metadata": {},
   "source": [
    "and do the same for `pydoc3`:"
   ]
  },
  {
   "cell_type": "code",
   "execution_count": null,
   "id": "c0438650-2a2d-4ef6-93f0-93afb110a0da",
   "metadata": {},
   "outputs": [
    {
     "name": "stdout",
     "output_type": "stream",
     "text": [
      "update-alternatives: using /usr/bin/pydoc3.11 to provide /usr/bin/pydoc3 (pydoc3) in auto mode\n",
      "update-alternatives: using /usr/bin/pydoc3.10 to provide /usr/bin/pydoc3 (pydoc3) in manual mode\n"
     ]
    }
   ],
   "source": [
    "sudo update-alternatives --install /usr/bin/pydoc3 pydoc3 /usr/bin/pydoc3.11 11\n",
    "sudo update-alternatives --install /usr/bin/pydoc3 pydoc3 /usr/bin/pydoc3.10 10\n",
    "sudo update-alternatives --set pydoc3 /usr/bin/pydoc3.10"
   ]
  },
  {
   "cell_type": "markdown",
   "id": "c8282f02-f9fd-49d6-8729-d7514ffe7070",
   "metadata": {},
   "source": [
    "## install rust"
   ]
  },
  {
   "cell_type": "markdown",
   "id": "e44f40a2-ff73-4088-8bf0-82478c8b32ee",
   "metadata": {},
   "source": [
    "Some Python modules now depend on Rust to build. I want to install Rust system-wide, in `/opt/rust`:"
   ]
  },
  {
   "cell_type": "code",
   "execution_count": null,
   "id": "fa58f3d4-b537-4ad2-a0fd-f7f3191a7a69",
   "metadata": {},
   "outputs": [
    {
     "name": "stdout",
     "output_type": "stream",
     "text": [
      "info: downloading installer\n",
      "\u001b[1minfo: \u001b(B\u001b[mprofile set to 'default'\n",
      "\u001b[1minfo: \u001b(B\u001b[mdefault host triple is x86_64-unknown-linux-gnu\n",
      "\u001b[33m\u001b[1mwarning: \u001b(B\u001b[mUpdating existing toolchain, profile choice will be ignored\n",
      "\u001b[1minfo: \u001b(B\u001b[msyncing channel updates for 'stable-x86_64-unknown-linux-gnu'\n",
      "\u001b[1minfo: \u001b(B\u001b[mdefault toolchain set to 'stable-x86_64-unknown-linux-gnu'\n",
      "\n",
      "  \u001b[1mstable-x86_64-unknown-linux-gnu unchanged\u001b(B\u001b[m - rustc 1.67.1 (d5a82bbd2 2023-02-07)\n",
      "\n",
      "\u001b[1m\n",
      "Rust is installed now. Great!\n",
      "\u001b(B\u001b[m\n",
      "To get started you need Cargo's bin directory (/opt/rust/bin) in your \u001b[1mPATH\u001b(B\u001b[m\n",
      "environment variable. This has not been done automatically.\n",
      "\n",
      "To configure your current shell, run:\n",
      "source \"/opt/rust/env\"\n"
     ]
    }
   ],
   "source": [
    "cd /tmp\n",
    "curl --proto '=https' --tlsv1.2 -sSf https://sh.rustup.rs > install_rust.sh\n",
    "sudo RUSTUP_HOME=/opt/rust CARGO_HOME=/opt/rust sh ./install_rust.sh -y --no-modify-path"
   ]
  },
  {
   "cell_type": "code",
   "execution_count": null,
   "id": "450b737e-be5a-448f-898c-64d9c2b2386a",
   "metadata": {},
   "outputs": [
    {
     "name": "stdout",
     "output_type": "stream",
     "text": [
      "\u001b[1minfo: \u001b(B\u001b[musing existing install for 'stable-x86_64-unknown-linux-gnu'\n",
      "\u001b[1minfo: \u001b(B\u001b[mdefault toolchain set to 'stable-x86_64-unknown-linux-gnu'\n",
      "\n",
      "  \u001b[1mstable-x86_64-unknown-linux-gnu unchanged\u001b(B\u001b[m - rustc 1.67.1 (d5a82bbd2 2023-02-07)\n",
      "\n"
     ]
    }
   ],
   "source": [
    ". /opt/rust/env\n",
    "rustup default stable"
   ]
  },
  {
   "cell_type": "markdown",
   "id": "46d2f17e-ee5d-4d91-857c-5430c13b0188",
   "metadata": {},
   "source": [
    "## install packages for fastai and jupyter"
   ]
  },
  {
   "cell_type": "code",
   "execution_count": null,
   "id": "aa7a6b73-9db8-482f-8cb2-0f8b703f225a",
   "metadata": {},
   "outputs": [],
   "source": [
    "pip install -U -qq fastbook jupyter jupyterlab tensorflow"
   ]
  },
  {
   "cell_type": "markdown",
   "id": "0e086748-f7a5-4b7f-9d9e-2707e22724f0",
   "metadata": {},
   "source": [
    "Extra packages for bash and C kernels:"
   ]
  },
  {
   "cell_type": "code",
   "execution_count": null,
   "id": "ec93e7e4-638a-4514-8cef-00bcedeeff9e",
   "metadata": {},
   "outputs": [],
   "source": [
    "pip install -U -qq nbdev bash_kernel jupyter-c-kernel"
   ]
  },
  {
   "cell_type": "code",
   "execution_count": null,
   "id": "c9373ccf-19f8-43a6-9a86-8a3c22d669ce",
   "metadata": {},
   "outputs": [
    {
     "name": "stdout",
     "output_type": "stream",
     "text": [
      "Installing IPython kernel spec\n"
     ]
    }
   ],
   "source": [
    "python -m bash_kernel.install"
   ]
  },
  {
   "cell_type": "code",
   "execution_count": null,
   "id": "6e7962ae-cc58-456e-935a-54975bad7a68",
   "metadata": {},
   "outputs": [
    {
     "name": "stdout",
     "output_type": "stream",
     "text": [
      "Installing IPython kernel spec\n",
      "/usr/local/bin/install_c_kernel:32: DeprecationWarning: replace is ignored. Installing a kernelspec always replaces an existing installation\n",
      "  KernelSpecManager().install_kernel_spec(td, 'c', user=user, replace=True, prefix=prefix)\n"
     ]
    }
   ],
   "source": [
    "install_c_kernel"
   ]
  }
 ],
 "metadata": {
  "kernelspec": {
   "display_name": "bash",
   "language": "bash",
   "name": "bash"
  }
 },
 "nbformat": 4,
 "nbformat_minor": 5
}
