{
 "cells": [
  {
   "cell_type": "raw",
   "id": "7fefae11-9f58-4d69-bcbb-8d2c7423e061",
   "metadata": {},
   "source": [
    "---\n",
    "title: \"My setup for AI work on my Linux PC\"\n",
    "author: \"Sam Watkins\"\n",
    "date: \"2023-02-08\"\n",
    "format: \n",
    "  html:\n",
    "    code-fold: false\n",
    "jupyter: python3\n",
    "categories: [fastai, setup]\n",
    "draft: true\n",
    "---"
   ]
  },
  {
   "cell_type": "markdown",
   "id": "da3dd7f7-f2b0-44d9-9049-8fa3b4750a59",
   "metadata": {},
   "source": [
    "I am using my home PC, with Debian 12 \"bookworm\" (testing) and an NVIDIA GPU.\n",
    "\n",
    "The following setup is **not recommended** unless you know what you're doing with Linux, and probably not even then, but it's working okay for me.\n",
    "\n",
    "I decided not to use conda, virtualenv, or docker. Instead, I installed the necessary Python modules under `/usr/local` with `pip`. This way I can use my AI tools directly from the command line and other scripts, like any other tools.\n",
    "\n",
    "It's not safe to run `pip install -U` as root. It will merrily remove files from Debian-packaged Python modules under `/usr/lib`, and mess up the system. To avoid this, I changed permissions so that my regular user account can write to everything under `/usr/local` via the `staff` group:\n",
    "\n",
    "```\n",
    "sudo adduser $USER staff\n",
    "sudo chgrp -R staff /usr/local\n",
    "sudo chmod -R g+w /usr/local\n",
    "```\n",
    "\n",
    "This is somewhat of a security concern, but if a bad guy gets a local shell it's pretty much game over anyway. To make it safer, I could have used a different non-root account.\n",
    "\n",
    "In order to upgrade a pip package where the same package was also installed in `/usr/lib` by dpkg, I need to use `pip -IU packagename`. The `-I` flag tells it to ignore installed packages, i.e. don't try to remove them. I only do that as needed for individual packages, when a normal upgrade fails.\n",
    "\n",
    "This setup might upset Debian-packaged programs that depend on older versions of the Python libraries that I've upgraded. I haven't noticed any problems like that yet."
   ]
  },
  {
   "cell_type": "markdown",
   "id": "1d9b11e4-6216-45ef-aac7-80b7920db34b",
   "metadata": {
    "tags": []
   },
   "source": [
    "## This post is not complete yet!"
   ]
  }
 ],
 "metadata": {
  "kernelspec": {
   "display_name": "Python 3 (ipykernel)",
   "language": "python",
   "name": "python3"
  },
  "language_info": {
   "codemirror_mode": {
    "name": "ipython",
    "version": 3
   },
   "file_extension": ".py",
   "mimetype": "text/x-python",
   "name": "python",
   "nbconvert_exporter": "python",
   "pygments_lexer": "ipython3",
   "version": "3.10.9"
  }
 },
 "nbformat": 4,
 "nbformat_minor": 5
}
