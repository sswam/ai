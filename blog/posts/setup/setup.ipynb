{
 "cells": [
  {
   "cell_type": "raw",
   "id": "7fefae11-9f58-4d69-bcbb-8d2c7423e061",
   "metadata": {},
   "source": [
    "---\n",
    "title: \"My setup for AI work on my Linux PC\"\n",
    "author: \"Sam Watkins\"\n",
    "date: \"2023-02-24\"\n",
    "format: \n",
    "  html:\n",
    "    code-fold: false\n",
    "jupyter: bash\n",
    "categories: [fastai, setup, Python, pip]\n",
    "draft: true\n",
    "---"
   ]
  },
  {
   "cell_type": "markdown",
   "id": "62e30cf9-580c-44bc-a3aa-1fede3a35cb6",
   "metadata": {},
   "source": [
    "## Introduction"
   ]
  },
  {
   "cell_type": "markdown",
   "id": "0e44b2fc-2619-48d3-ab26-556a22035d05",
   "metadata": {},
   "source": [
    "I am using my home PC, with Debian 12 \"bookworm\" (testing) and an NVIDIA GPU.\n",
    "\n",
    "This document is mostly for my own reference. It wasn't so easy getting everything working nicely and I want to have a record of how I did it!\n",
    "\n",
    "Initially I wanted to avoid using docker, conda, or virtualenv. Instead, I installed the necessary Python modules under `/usr/local` with `pip`. I was thinking that I would be able to use my AI tools directly from the command line and other scripts, like any other tools.\n",
    "\n",
    "This worked for a little while, but then Debian started using Python 3.11 for their default Python. Torch isn't compatible with Python 3.11 yet, and everything broke for me. After trying to fix it for a while and encountering numerous problems, I decided to switch to using venvs."
   ]
  },
  {
   "cell_type": "markdown",
   "id": "32660811-c4a4-4f92-a52b-55f8b71db146",
   "metadata": {},
   "source": [
    "## Debian apt setup"
   ]
  },
  {
   "cell_type": "markdown",
   "id": "9711e45f-6642-420f-98a6-7dd9db68ad8c",
   "metadata": {},
   "source": [
    "I installed CUDA from NVIDIA's repositories which are intended for Ubuntu, which is a bit hacky, but it works."
   ]
  },
  {
   "cell_type": "markdown",
   "id": "c5eed4d1-af63-4a90-a254-f7cca7234a8d",
   "metadata": {},
   "source": [
    "### Don't break Debian, release pinning"
   ]
  },
  {
   "cell_type": "code",
   "execution_count": null,
   "id": "26d59a45-b01b-40a1-9321-10014e278417",
   "metadata": {},
   "outputs": [
    {
     "name": "stdout",
     "output_type": "stream",
     "text": [
      "Package: *\n",
      "Pin: release o=Debian,a=experimental\n",
      "Pin-Priority: 1\n",
      "\n",
      "Package: *\n",
      "Pin: release o=Debian,a=unstable\n",
      "Pin-Priority: 90\n",
      "\n",
      "Package: *\n",
      "Pin: release a=focal\n",
      "Pin-Priority: 70\n",
      "\n",
      "Package: *\n",
      "Pin: release a=jammy\n",
      "Pin-Priority: 80\n",
      "\n",
      "Package: *\n",
      "Pin: release o=LP-PPA-deadsnakes\n",
      "Pin-Priority: 90\n",
      "\n",
      "Package: *\n",
      "Pin: origin ppa.launchpad.net\n",
      "Pin-Priority: 90\n",
      "\n",
      "Package: *\n",
      "Pin: release o=Debian\n",
      "Pin-Priority: 990\n"
     ]
    }
   ],
   "source": [
    "cat /etc/apt/preferences.d/99dontbreakdebian"
   ]
  },
  {
   "cell_type": "markdown",
   "id": "18bfb5d0-7245-4f6f-9c56-296ff135677c",
   "metadata": {},
   "source": [
    "### My main apt sources.list"
   ]
  },
  {
   "cell_type": "code",
   "execution_count": null,
   "id": "7fb4e5c3-ed45-4b97-a2cf-3da043058f18",
   "metadata": {},
   "outputs": [
    {
     "name": "stdout",
     "output_type": "stream",
     "text": [
      "deb http://deb.debian.org/debian/ bookworm main contrib non-free\n",
      "deb http://deb.debian.org/debian/ sid main contrib non-free\n",
      "deb-src http://deb.debian.org/debian/ bookworm main contrib non-free\n",
      "deb-src http://deb.debian.org/debian/ sid main contrib non-free\n",
      "\n",
      "deb http://security.debian.org/debian-security bookworm-security main contrib non-free\n",
      "deb-src http://security.debian.org/debian-security bookworm-security main contrib non-free\n",
      "\n",
      "deb http://deb.debian.org/debian/ bookworm-updates main contrib non-free\n",
      "deb-src http://deb.debian.org/debian/ bookworm-updates main contrib non-free\n",
      "\n",
      "deb http://deb.debian.org/debian/ bookworm-backports main contrib non-free\n",
      "deb-src http://deb.debian.org/debian/ bookworm-backports main contrib non-free\n",
      "\n",
      "deb http://deb.debian.org/debian/ experimental main contrib non-free\n",
      "deb-src http://deb.debian.org/debian/ experimental main contrib non-free\n"
     ]
    }
   ],
   "source": [
    "cat /etc/apt/sources.list"
   ]
  },
  {
   "cell_type": "markdown",
   "id": "6408a4db-d60e-47f8-8fcc-4139b9fb80a2",
   "metadata": {},
   "source": [
    "### Apt sources for NVIDIA CUDA, CUDNN, TensorRT, and containers"
   ]
  },
  {
   "cell_type": "code",
   "execution_count": null,
   "id": "d4ad68c3-71b4-47cf-974e-20874b57d5df",
   "metadata": {},
   "outputs": [],
   "source": [
    "cd /etc/apt/sources.list.d"
   ]
  },
  {
   "cell_type": "code",
   "execution_count": null,
   "id": "ada9c9e4-e608-42e2-805b-49a99aa3e423",
   "metadata": {},
   "outputs": [
    {
     "name": "stdout",
     "output_type": "stream",
     "text": [
      "deb [signed-by=/usr/share/keyrings/cuda-archive-keyring.gpg] https://developer.download.nvidia.com/compute/cuda/repos/debian11/x86_64/ /\n"
     ]
    }
   ],
   "source": [
    "cat cuda-debian11-x86_64.list"
   ]
  },
  {
   "cell_type": "code",
   "execution_count": null,
   "id": "ef9dd593-1688-4250-83f5-19a3547952fc",
   "metadata": {},
   "outputs": [
    {
     "name": "stdout",
     "output_type": "stream",
     "text": [
      "deb [signed-by=/usr/share/keyrings/cudnn-local-FAED14DD-keyring.gpg] file:///var/cudnn-local-repo-ubuntu2204-8.6.0.163 /\n"
     ]
    }
   ],
   "source": [
    "cat cudnn-local-ubuntu2204-8.6.0.163.list"
   ]
  },
  {
   "cell_type": "code",
   "execution_count": null,
   "id": "f063679d-2fc7-415c-a9de-2cc69a7c9135",
   "metadata": {},
   "outputs": [
    {
     "name": "stdout",
     "output_type": "stream",
     "text": [
      "deb [signed-by=/usr/share/keyrings/nv-tensorrt-local-3E951519-keyring.gpg] file:///var/nv-tensorrt-local-repo-ubuntu2204-8.5.3-cuda-11.8 /\n"
     ]
    }
   ],
   "source": [
    "cat nv-tensorrt-local-ubuntu2204-8.5.3-cuda-11.8.list"
   ]
  },
  {
   "cell_type": "code",
   "execution_count": null,
   "id": "c6b26586-ef40-4526-8f88-c8a93ed75282",
   "metadata": {},
   "outputs": [
    {
     "name": "stdout",
     "output_type": "stream",
     "text": [
      "deb https://nvidia.github.io/libnvidia-container/stable/debian11/$(ARCH) /\n",
      "# deb https://nvidia.github.io/libnvidia-container/experimental/debian10/$(ARCH) /\n",
      "deb https://nvidia.github.io/nvidia-container-runtime/stable/debian11/$(ARCH) /\n",
      "# deb https://nvidia.github.io/nvidia-container-runtime/experimental/debian10/$(ARCH) /\n"
     ]
    }
   ],
   "source": [
    "cat nvidia-container-runtime.list"
   ]
  },
  {
   "cell_type": "markdown",
   "id": "4a9ab646-3a72-4fb7-9503-75f1f840c4ce",
   "metadata": {},
   "source": [
    "### Apt sources for old versions of Python"
   ]
  },
  {
   "cell_type": "code",
   "execution_count": null,
   "id": "94897707-290c-404d-b726-b2cd789230d8",
   "metadata": {},
   "outputs": [
    {
     "name": "stdout",
     "output_type": "stream",
     "text": [
      "deb http://ppa.launchpad.net/deadsnakes/ppa/ubuntu jammy main\n",
      "deb-src http://ppa.launchpad.net/deadsnakes/ppa/ubuntu jammy main\n"
     ]
    }
   ],
   "source": [
    "cat deadsnakes.list"
   ]
  },
  {
   "cell_type": "markdown",
   "id": "686b80d7-b108-4a6f-8bf6-c3a02535740c",
   "metadata": {},
   "source": [
    "## Install required Debian packages"
   ]
  },
  {
   "cell_type": "markdown",
   "id": "e5a9706a-edce-4033-8122-eca2696be3e2",
   "metadata": {},
   "source": [
    "### NVIDIA CUDA"
   ]
  },
  {
   "cell_type": "code",
   "execution_count": null,
   "id": "6e5c52ac-390d-4c06-8641-76fa523bcf35",
   "metadata": {},
   "outputs": [
    {
     "name": "stdout",
     "output_type": "stream",
     "text": [
      "cuda is already the newest version (12.0.1-1).\n",
      "cuda-drivers is already the newest version (525.85.12-1).\n",
      "cuda-11-7 is already the newest version (11.7.1-1).\n",
      "cuda-11-8 is already the newest version (11.8.0-1).\n",
      "0 upgraded, 0 newly installed, 0 to remove and 2 not upgraded.\n"
     ]
    }
   ],
   "source": [
    "sudo apt -qq install cuda=12.0.1-1 cuda-drivers=525.85.12-1 cuda-11-7 cuda-11-8"
   ]
  },
  {
   "cell_type": "markdown",
   "id": "ae94fbab-1fdc-4a55-b210-8016d5e25079",
   "metadata": {},
   "source": [
    "### NVIDIA Container Runtime"
   ]
  },
  {
   "cell_type": "code",
   "execution_count": null,
   "id": "cd25f18f-c37d-439d-a8bc-539cd9283dc7",
   "metadata": {},
   "outputs": [
    {
     "name": "stdout",
     "output_type": "stream",
     "text": [
      "nvidia-container-runtime is already the newest version (3.12.0-1).\n",
      "0 upgraded, 0 newly installed, 0 to remove and 4 not upgraded.\n"
     ]
    }
   ],
   "source": [
    "sudo apt -qq install nvidia-container-runtime"
   ]
  },
  {
   "cell_type": "markdown",
   "id": "57ddac3e-4b88-44a4-89cb-fd1d9615b2bc",
   "metadata": {},
   "source": [
    "### NVIDIA cuDNN"
   ]
  },
  {
   "cell_type": "markdown",
   "id": "2ec8853f-9f40-41dc-9019-ae58fa320bbe",
   "metadata": {},
   "source": [
    "TBA!"
   ]
  },
  {
   "cell_type": "markdown",
   "id": "5b092fd3-15f9-4b6b-bf03-862fa25d4c34",
   "metadata": {},
   "source": [
    "### NVIDIA TensorRT"
   ]
  },
  {
   "cell_type": "markdown",
   "id": "1fea10c1-c75b-4a9a-b70d-979d71749c85",
   "metadata": {},
   "source": [
    "TBA!"
   ]
  },
  {
   "cell_type": "markdown",
   "id": "80f6d180-b64c-48f5-8480-14c40a77948a",
   "metadata": {},
   "source": [
    "### Xformers"
   ]
  },
  {
   "cell_type": "markdown",
   "id": "463839d6-1d6e-406e-95be-8cb0a6ebc3ec",
   "metadata": {},
   "source": [
    "TBA!"
   ]
  },
  {
   "cell_type": "markdown",
   "id": "c8282f02-f9fd-49d6-8729-d7514ffe7070",
   "metadata": {},
   "source": [
    "## Install Rust"
   ]
  },
  {
   "cell_type": "markdown",
   "id": "e44f40a2-ff73-4088-8bf0-82478c8b32ee",
   "metadata": {},
   "source": [
    "Some Python modules now depend on Rust to build. Also, I wanted to build Anki from source. I decided to install Rust system-wide, in `/opt/rust`:"
   ]
  },
  {
   "cell_type": "code",
   "execution_count": null,
   "id": "fa58f3d4-b537-4ad2-a0fd-f7f3191a7a69",
   "metadata": {},
   "outputs": [],
   "source": [
    "cd /tmp\n",
    "curl --proto '=https' --tlsv1.2 -sSf https://sh.rustup.rs > install_rust.sh\n",
    "sudo RUSTUP_HOME=/opt/rust CARGO_HOME=/opt/rust sh ./install_rust.sh -y --no-modify-path"
   ]
  },
  {
   "cell_type": "code",
   "execution_count": null,
   "id": "450b737e-be5a-448f-898c-64d9c2b2386a",
   "metadata": {},
   "outputs": [],
   "source": [
    ". /opt/rust/env\n",
    "rustup default stable"
   ]
  },
  {
   "cell_type": "markdown",
   "id": "61b8b26a-e9c8-4028-bcf9-5f00f70ed52b",
   "metadata": {},
   "source": [
    "## Python environments"
   ]
  },
  {
   "cell_type": "markdown",
   "id": "7dce9c8e-ed23-4980-a887-7392e5f89711",
   "metadata": {},
   "source": [
    "I'm going to add Python venvs under `/opt/venvs`, and use hard linking to share large files between them.\n",
    "\n",
    "| Folder | Depends | Uses | Purpose |\n",
    "| --- | --- | --- | --- |\n",
    "| python3.10-ai | Debian's python3.10 | torch stable | AI development |\n",
    "| python3.10-webui | python3.10-ai | torch stable | stable-diffusion-webui |"
   ]
  },
  {
   "cell_type": "code",
   "execution_count": null,
   "id": "f33a519e-2a36-47d9-a013-31c890e4365c",
   "metadata": {},
   "outputs": [],
   "source": [
    "mkdir -p /opt/venvs\n",
    "cd /opt/venvs"
   ]
  },
  {
   "cell_type": "markdown",
   "id": "960df3a3-7220-4341-8773-ab217f00075d",
   "metadata": {},
   "source": [
    "### The base venv python3.10-ai"
   ]
  },
  {
   "cell_type": "code",
   "execution_count": null,
   "id": "b2fb873c-97ad-4983-b22f-89b600b627fb",
   "metadata": {},
   "outputs": [],
   "source": [
    "mkdir -p python3.10-ai\n",
    "python3.10 -m venv python3.10-ai/venv"
   ]
  },
  {
   "cell_type": "code",
   "execution_count": null,
   "id": "319f87fe-c22e-4de4-a87b-fdca41d7e613",
   "metadata": {},
   "outputs": [],
   "source": [
    "lecho torch pipdeptree torchvision torchaudio tensorflow jupyter jupyterlab \\\n",
    "    ipywidgets bash_kernel jupyter-c-kernel nbdev pandas matplotlib \\\n",
    "    scipy scikit-learn scikit-image gradio onnx \\\n",
    "    transformers diffusers huggingface_hub numba \\\n",
    "    accelerate timm safetensors fastai fastbook \\\n",
    "    > python3.10-ai/require.txt"
   ]
  },
  {
   "cell_type": "code",
   "execution_count": null,
   "id": "4e037c72-1d14-4e4a-8a8d-06012cfc24bd",
   "metadata": {},
   "outputs": [
    {
     "name": "stdout",
     "output_type": "stream",
     "text": [
      "Installing IPython kernel spec\n",
      "Installing IPython kernel spec\n",
      "/opt/venvs/python3.10-ai/venv/bin/install_c_kernel:32: DeprecationWarning: replace is ignored. Installing a kernelspec always replaces an existing installation\n",
      "  KernelSpecManager().install_kernel_spec(td, 'c', user=user, replace=True, prefix=prefix)\n"
     ]
    }
   ],
   "source": [
    "(\n",
    ". python3.10-ai/venv/bin/activate &&\n",
    "pip install -qq -U -r python3.10-ai/require.txt\n",
    "python -m bash_kernel.install\n",
    "install_c_kernel\n",
    "pip freeze | sort > python3.10-ai/freeze.txt\n",
    ")"
   ]
  },
  {
   "cell_type": "code",
   "execution_count": null,
   "id": "88564079-c3b3-448b-bf50-c34db502cee4",
   "metadata": {},
   "outputs": [],
   "source": [
    "cat <<END > python3.10-ai/venv/bin/pydoc\n",
    "#!/bin/sh\n",
    "python -m pydoc \"$@\"\n",
    "END\n",
    "\n",
    "chmod +x python3.10-ai/venv/bin/pydoc"
   ]
  },
  {
   "cell_type": "markdown",
   "id": "bda1e16d-5273-4cb6-8d30-984ff4fec582",
   "metadata": {},
   "source": [
    "### The secondary venv python3.10-webui"
   ]
  },
  {
   "cell_type": "code",
   "execution_count": null,
   "id": "94dc625c-b555-46dd-8278-27b3e973fe31",
   "metadata": {},
   "outputs": [],
   "source": [
    "mkdir -p python3.10-webui"
   ]
  },
  {
   "cell_type": "code",
   "execution_count": null,
   "id": "8138aa0e-9f61-45bb-93ec-a1ac3044e013",
   "metadata": {},
   "outputs": [],
   "source": [
    "command rm -rf python3.10-webui/venv"
   ]
  },
  {
   "cell_type": "code",
   "execution_count": null,
   "id": "c786aec3-6802-44bd-9e83-98bb45bb91e8",
   "metadata": {},
   "outputs": [],
   "source": [
    "cp -al python3.10-ai/venv python3.10-webui/venv"
   ]
  },
  {
   "cell_type": "code",
   "execution_count": null,
   "id": "e06c58be-192d-48af-8ef2-ef2e160f2f0b",
   "metadata": {},
   "outputs": [],
   "source": [
    "yes | venv_move python3.10-webui/venv"
   ]
  },
  {
   "cell_type": "code",
   "execution_count": null,
   "id": "a30014f8-c85b-4732-9876-556b004e6423",
   "metadata": {},
   "outputs": [],
   "source": [
    "(\n",
    "cat python3.10-ai/require.txt ~/soft-ai/stable-diffusion-webui/requirements.txt \n",
    "echo fastapi==0.90.1\n",
    ") > python3.10-webui/require.txt"
   ]
  },
  {
   "cell_type": "code",
   "execution_count": null,
   "id": "d3db5aa7-ba3f-4e6c-98d5-31dd794b54ed",
   "metadata": {},
   "outputs": [
    {
     "name": "stdout",
     "output_type": "stream",
     "text": [
      "\u001b[31mERROR: pip's dependency resolver does not currently take into account all the packages that are installed. This behaviour is the source of the following dependency conflicts.\n",
      "open-clip-torch 2.7.0 requires protobuf==3.20.0, but you have protobuf 3.19.6 which is incompatible.\u001b[0m\u001b[31m\n",
      "\u001b[0m\n"
     ]
    }
   ],
   "source": [
    "(\n",
    ". python3.10-webui/venv/bin/activate &&\n",
    "pip install -qq -U -r python3.10-webui/require.txt\n",
    "pip freeze | sort > python3.10-webui/freeze.txt\n",
    ")"
   ]
  },
  {
   "cell_type": "code",
   "execution_count": null,
   "id": "d1d2ac58-e282-4306-be10-64f7f196cb8c",
   "metadata": {},
   "outputs": [],
   "source": [
    "ln -f python3.10-ai/venv/bin/pydoc python3.10-webui/venv/bin/pydoc"
   ]
  },
  {
   "cell_type": "markdown",
   "id": "5f23830a-5f39-434f-9ff9-8d294d9dbb16",
   "metadata": {},
   "source": [
    "### Compare the two venvs"
   ]
  },
  {
   "cell_type": "code",
   "execution_count": null,
   "id": "6549c7d0-ac0b-4032-b3a7-5f657c7ca081",
   "metadata": {},
   "outputs": [],
   "source": [
    "comm -3 python3.10-ai/freeze.txt python3.10-webui/freeze.txt | tee comm.txt"
   ]
  },
  {
   "cell_type": "code",
   "execution_count": null,
   "id": "543136f3-2147-45f7-a67f-8179025bdf86",
   "metadata": {},
   "outputs": [],
   "source": [
    "git init\n",
    "echo venv > .gitignore\n",
    "git add -A\n",
    "git commit -m 'venvs'"
   ]
  },
  {
   "cell_type": "markdown",
   "id": "203ade5a-e752-425b-b36b-7f42a5ac6933",
   "metadata": {},
   "source": [
    "The `du` tool shows the size of the base venv, and the additional storage used by the webui venv. It only counts hard-linked files once. I'm saving nearly 6GB by using hard links:"
   ]
  },
  {
   "cell_type": "code",
   "execution_count": null,
   "id": "398ea0a9-54e2-463c-97b1-0694eae5cbeb",
   "metadata": {},
   "outputs": [
    {
     "name": "stdout",
     "output_type": "stream",
     "text": [
      "5.9G\t./python3.10-ai\n",
      "794M\t./python3.10-webui\n",
      "6.6G\ttotal\n"
     ]
    }
   ],
   "source": [
    "du -csh ./python3.10-{ai,webui}"
   ]
  },
  {
   "cell_type": "markdown",
   "id": "fb67deb8-909a-4aa5-b734-46a89a61d62c",
   "metadata": {},
   "source": [
    "## NVIDIA tensorrt doesn't like python3.11"
   ]
  },
  {
   "cell_type": "code",
   "execution_count": null,
   "id": "f865c3ec-763f-4f29-8e14-3631bb9143bb",
   "metadata": {},
   "outputs": [
    {
     "name": "stdout",
     "output_type": "stream",
     "text": [
      "Reading package lists...\n",
      "Building dependency tree...\n",
      "Reading state information...\n",
      "Some packages could not be installed. This may mean that you have\n",
      "requested an impossible situation or if you are using the unstable\n",
      "distribution that some required packages have not yet been created\n",
      "or been moved out of Incoming.\n",
      "The following information may help to resolve the situation:\n",
      "\n",
      "The following packages have unmet dependencies:\n",
      " python3-libnvinfer : Depends: python3 (< 3.11) but 3.11.2-1 is to be installed\n",
      "E: Unable to correct problems, you have held broken packages.\n"
     ]
    },
    {
     "ename": "",
     "evalue": "100",
     "output_type": "error",
     "traceback": []
    }
   ],
   "source": [
    "sudo apt-get -q install python3-libnvinfer-dev"
   ]
  },
  {
   "cell_type": "markdown",
   "id": "cf113a5b-7b0e-4166-b21b-72ae93fa6f47",
   "metadata": {},
   "source": [
    "I'd like to install it as a python3.10 library at least, but it is demanding that the system Python version, i.e. the version of Debian's python3 package, should be less than 3.11, and I don't want to try to change that. So I'll adjust this `python3-libnvinfer` package to depend on the `python3.10` package instead of `python3 < 3.11`."
   ]
  },
  {
   "cell_type": "code",
   "execution_count": null,
   "id": "6115703f-61f7-4742-bfe5-a346400ff947",
   "metadata": {},
   "outputs": [
    {
     "name": "stdout",
     "output_type": "stream",
     "text": [
      "\u001b[0m\u001b[01;31mpython3-libnvinfer_8.5.3-1+cuda11.8_amd64.deb\u001b[0m\n",
      "\u001b[01;31mpython3-libnvinfer-dev_8.5.3-1+cuda11.8_amd64.deb\u001b[0m\n"
     ]
    }
   ],
   "source": [
    "cd /var/nv-tensorrt-local-repo-ubuntu2204-8.5.3-cuda-11.8\n",
    "ls python3-libnvinfer*"
   ]
  },
  {
   "cell_type": "code",
   "execution_count": null,
   "id": "070b1de0-cc14-4885-8c47-555ef11b5f8a",
   "metadata": {},
   "outputs": [
    {
     "name": "stdout",
     "output_type": "stream",
     "text": [
      "'python3-libnvinfer_8.5.3-1+cuda11.8_amd64.deb' -> '/home/sam/soft-ai/python3-libnvinfer_8.5.3-1+cuda11.8_amd64.deb'\n",
      "'python3-libnvinfer-dev_8.5.3-1+cuda11.8_amd64.deb' -> '/home/sam/soft-ai/python3-libnvinfer-dev_8.5.3-1+cuda11.8_amd64.deb'\n"
     ]
    }
   ],
   "source": [
    "cp -v python3-libnvinfer* ~/soft-ai/"
   ]
  },
  {
   "cell_type": "code",
   "execution_count": null,
   "id": "0f52f896-1eb2-41ce-a050-8cfbc8b64a7c",
   "metadata": {},
   "outputs": [],
   "source": [
    "cd ~/soft-ai\n",
    "command rm -rf unpacked\n",
    "dpkg-deb -R python3-libnvinfer_8.5.3-1+cuda11.8_amd64.deb unpacked"
   ]
  },
  {
   "cell_type": "code",
   "execution_count": null,
   "id": "5d17ca14-a256-4c95-8eda-061c5448018b",
   "metadata": {},
   "outputs": [
    {
     "name": "stdout",
     "output_type": "stream",
     "text": [
      "Depends: python3 (>= 3.10), python3 (<< 3.11), libnvinfer8 (= 8.5.3-1+cuda11.8), libnvinfer-plugin8 (= 8.5.3-1+cuda11.8), libnvparsers8 (= 8.5.3-1+cuda11.8), libnvonnxparsers8 (= 8.5.3-1+cuda11.8)\n"
     ]
    }
   ],
   "source": [
    "grep Depends unpacked/DEBIAN/control"
   ]
  },
  {
   "cell_type": "code",
   "execution_count": null,
   "id": "094664d1-0c3b-473d-9115-c34dedfbc858",
   "metadata": {},
   "outputs": [
    {
     "name": "stdout",
     "output_type": "stream",
     "text": [
      "Depends: python3.10, libnvinfer8 (= 8.5.3-1+cuda11.8), libnvinfer-plugin8 (= 8.5.3-1+cuda11.8), libnvparsers8 (= 8.5.3-1+cuda11.8), libnvonnxparsers8 (= 8.5.3-1+cuda11.8)\n"
     ]
    }
   ],
   "source": [
    "sed -i 's/python3 (>= 3.10), python3 (<< 3.11), /python3.10, /' unpacked/DEBIAN/control\n",
    "grep Depends unpacked/DEBIAN/control"
   ]
  },
  {
   "cell_type": "code",
   "execution_count": null,
   "id": "e97e401a-b6a2-463c-bb52-f3a2a48a5f20",
   "metadata": {},
   "outputs": [
    {
     "name": "stdout",
     "output_type": "stream",
     "text": [
      "\u001b[1mdpkg-deb:\u001b[0m building package 'python3-libnvinfer' in 'python3-libnvinfer_8.5.3-1+cuda11.8_amd64_fixed.deb'.\n"
     ]
    }
   ],
   "source": [
    "dpkg-deb -b unpacked python3-libnvinfer_8.5.3-1+cuda11.8_amd64_fixed.deb"
   ]
  },
  {
   "cell_type": "code",
   "execution_count": null,
   "id": "5b013120-badf-4389-a53d-c10957d07d78",
   "metadata": {},
   "outputs": [
    {
     "name": "stdout",
     "output_type": "stream",
     "text": [
      "Selecting previously unselected package python3-libnvinfer.\n",
      "(Reading database ... 1157567 files and directories currently installed.)\n",
      "Preparing to unpack .../python3-libnvinfer_8.5.3-1+cuda11.8_amd64_fixed.deb ...\n",
      "Unpacking python3-libnvinfer (8.5.3-1+cuda11.8) ...\n",
      "Selecting previously unselected package python3-libnvinfer-dev.\n",
      "Preparing to unpack .../python3-libnvinfer-dev_8.5.3-1+cuda11.8_amd64.deb ...\n",
      "Unpacking python3-libnvinfer-dev (8.5.3-1+cuda11.8) ...\n",
      "Setting up python3-libnvinfer (8.5.3-1+cuda11.8) ...\n",
      "Setting up python3-libnvinfer-dev (8.5.3-1+cuda11.8) ...\n"
     ]
    }
   ],
   "source": [
    "sudo dpkg -i ./python3-libnvinfer_8.5.3-1+cuda11.8_amd64_fixed.deb ./python3-libnvinfer-dev_8.5.3-1+cuda11.8_amd64.deb"
   ]
  },
  {
   "cell_type": "code",
   "execution_count": null,
   "id": "7096082d-5890-4eda-b211-be24492a336b",
   "metadata": {},
   "outputs": [],
   "source": [
    "# __END__"
   ]
  },
  {
   "cell_type": "markdown",
   "id": "0cee6d58-6a03-4353-bfce-1ab06e26022e",
   "metadata": {},
   "source": [
    "# Graveyard of Bad Ideas"
   ]
  },
  {
   "cell_type": "markdown",
   "id": "244ec06c-2007-47c6-884d-4d529ec84419",
   "metadata": {},
   "source": [
    "Here is a list of other things I tried, which didn't work out so well."
   ]
  },
  {
   "cell_type": "markdown",
   "id": "7591c8ac-53ee-476e-a6bb-2a583dc1eb8f",
   "metadata": {},
   "source": [
    "## Allow myself to install packages to /usr/local"
   ]
  },
  {
   "cell_type": "markdown",
   "id": "b2660e75-76de-41ef-97b7-9b73b919b8de",
   "metadata": {},
   "source": [
    "Since I wrote this section, Debian has modified their pip so that it refuses to install to `/usr/local`, unless we use the `--break-system-packages` flag."
   ]
  },
  {
   "cell_type": "markdown",
   "id": "b6eafd72-860a-475a-b227-6f5647cf53bc",
   "metadata": {},
   "source": [
    "\n",
    "It's not safe to run `pip install -U` as root. It will merrily remove files from Debian-packaged Python modules under `/usr/lib`, and mess up the system. To avoid this, I changed permissions so that my regular user account can write to everything under `/usr/local` via the `staff` group. I do the same for `/opt` because I want to upgrade Rust from my own user ID also:"
   ]
  },
  {
   "cell_type": "code",
   "execution_count": null,
   "id": "af82b41f-b1ce-4ff2-ac1e-d17c83815615",
   "metadata": {},
   "outputs": [],
   "source": [
    "sudo adduser $USER staff\n",
    "sudo chgrp -R staff /usr/local /opt\n",
    "sudo chmod -R g+w /usr/local /opt"
   ]
  },
  {
   "cell_type": "markdown",
   "id": "b141ea96-8839-47a4-8988-c4253cb5a1b6",
   "metadata": {},
   "source": [
    "This is somewhat of a security concern, but if a bad guy gets a local shell it's pretty much game over anyway. To make it safer, I could have used a different non-root account.\n",
    "\n",
    "In order to upgrade a pip package where the same package was also installed in `/usr/lib` by dpkg, I need to use `pip -I -U packagename`. The `-I` flag tells it to ignore installed packages, i.e. don't try to remove them. I only do that as needed for individual packages, when a normal upgrade fails.\n",
    "\n",
    "This setup might upset Debian-packaged programs that depend on older versions of the Python libraries that I've upgraded. I haven't noticed any problems like that yet.\n",
    "\n",
    "If you try to downgrade a package, and if multiple versions of a package are accidentally installed under /usr/local/lib/python3.10 at that same time, it can get confused, so watch out for that. You might need to manually remove one of the versions."
   ]
  },
  {
   "cell_type": "markdown",
   "id": "739a996b-b5b2-44e6-b6e9-d224a65f63b0",
   "metadata": {},
   "source": [
    "## Enable switching the system python version"
   ]
  },
  {
   "cell_type": "markdown",
   "id": "8e048577-36d4-4539-ab5a-5f5e071e00e9",
   "metadata": {},
   "source": [
    "The default Python version for Debian \"testing\" at time of writing is Python 3.11, however we don't have a stable release of pytorch for Python 3.11 yet. I decided to try switch the system Python version back to 3.10. This is not recommended, but at least it's easy to undo!"
   ]
  },
  {
   "cell_type": "code",
   "execution_count": null,
   "id": "dd8abcb0-3815-4c9d-b527-c4894940842a",
   "metadata": {},
   "outputs": [
    {
     "name": "stdout",
     "output_type": "stream",
     "text": [
      "\u001b[31mERROR: Could not find a version that satisfies the requirement torchvision (from versions: 0.1.6, 0.1.7, 0.1.8, 0.1.9, 0.2.0, 0.2.1, 0.2.2, 0.2.2.post2, 0.2.2.post3)\u001b[0m\u001b[31m\n",
      "\u001b[0m\u001b[31mERROR: No matching distribution found for torchvision\u001b[0m\u001b[31m\n",
      "\u001b[0m\n"
     ]
    },
    {
     "ename": "",
     "evalue": "1",
     "output_type": "error",
     "traceback": []
    }
   ],
   "source": [
    "python3.11 -m pip install --break-system-packages torchvision"
   ]
  },
  {
   "cell_type": "markdown",
   "id": "201a2587-8d62-49f7-b41d-e4b667106b6f",
   "metadata": {},
   "source": [
    "Anyway, let's enable switching the system Python version back to 3.10, using `update-alternatives`."
   ]
  },
  {
   "cell_type": "markdown",
   "id": "ee7c1b40-27cf-4408-b915-a4d41ac06596",
   "metadata": {},
   "source": [
    "First, note that we can undo this change later, if necessary, as follows:"
   ]
  },
  {
   "cell_type": "code",
   "execution_count": null,
   "id": "58d4ccfb-a9cf-4856-875f-5ed7d64b30f4",
   "metadata": {},
   "outputs": [],
   "source": [
    "sudo update-alternatives --remove-all python3\n",
    "sudo update-alternatives --remove-all pydoc3\n",
    "sudo ln -sf python3.11 /usr/bin/python3\n",
    "sudo ln -sf pydoc3.11 /usr/bin/pydoc3"
   ]
  },
  {
   "cell_type": "markdown",
   "id": "dc482327-f325-481a-8b9a-56d716bc3733",
   "metadata": {},
   "source": [
    "We can set up alternatives for `python3`:"
   ]
  },
  {
   "cell_type": "code",
   "execution_count": null,
   "id": "72f87e8b-5af3-4c37-9595-635859bb2d89",
   "metadata": {},
   "outputs": [],
   "source": [
    "sudo update-alternatives --install /usr/bin/python3 python3 /usr/bin/python3.11 11\n",
    "sudo update-alternatives --install /usr/bin/python3 python3 /usr/bin/python3.10 10\n",
    "# sudo update-alternatives --set python3 /usr/bin/python3.10"
   ]
  },
  {
   "cell_type": "markdown",
   "id": "154887dd-ef3a-4f3b-ac90-f0492d2ecfa8",
   "metadata": {},
   "source": [
    "and do the same for `pydoc3`:"
   ]
  },
  {
   "cell_type": "code",
   "execution_count": null,
   "id": "c0438650-2a2d-4ef6-93f0-93afb110a0da",
   "metadata": {},
   "outputs": [],
   "source": [
    "sudo update-alternatives --install /usr/bin/pydoc3 pydoc3 /usr/bin/pydoc3.11 11\n",
    "sudo update-alternatives --install /usr/bin/pydoc3 pydoc3 /usr/bin/pydoc3.10 10\n",
    "# sudo update-alternatives --set pydoc3 /usr/bin/pydoc3.10"
   ]
  },
  {
   "cell_type": "code",
   "execution_count": null,
   "id": "cb175e67-e841-4443-9a6c-6be636bb7b09",
   "metadata": {},
   "outputs": [],
   "source": [
    "update-alternatives --list python3"
   ]
  },
  {
   "cell_type": "code",
   "execution_count": null,
   "id": "220759cb-b81f-4f9d-a7ac-3c0b29dc200c",
   "metadata": {},
   "outputs": [],
   "source": [
    "update-alternatives --list pydoc3"
   ]
  },
  {
   "cell_type": "markdown",
   "id": "b5b05fbb-9dec-468f-a507-8058a835aa04",
   "metadata": {},
   "source": [
    "## Install nightly torch with Python 3.11"
   ]
  },
  {
   "cell_type": "code",
   "execution_count": null,
   "id": "aa7a6b73-9db8-482f-8cb2-0f8b703f225a",
   "metadata": {},
   "outputs": [],
   "source": [
    "pip install -qq -U fastbook jupyter jupyterlab tensorflow ipywidgets"
   ]
  },
  {
   "cell_type": "markdown",
   "id": "2e999279-5e4a-4af4-9d33-bc43af530392",
   "metadata": {},
   "source": [
    "At some point I saw a warning about compatibility between fastai and torch.\n",
    "```\n",
    "fastai 2.7.11 has requirement torch<1.14,>=1.7, but you have torch 2.0.0.dev20230220+cu117\n",
    "```\n",
    "I decided to try using it with nightly torch anyway:"
   ]
  },
  {
   "cell_type": "code",
   "execution_count": null,
   "id": "012ad25c-9664-45c7-9ee3-991a889d50aa",
   "metadata": {},
   "outputs": [],
   "source": [
    "pip install -qq -U --pre torch torchvision torchaudio --index-url https://download.pytorch.org/whl/nightly/cu117"
   ]
  },
  {
   "cell_type": "markdown",
   "id": "34dd932f-7a0d-4c34-8a31-80c0b0bd9324",
   "metadata": {},
   "source": [
    "Extra packages: nbdev, and kernels for bash and C:"
   ]
  },
  {
   "cell_type": "code",
   "execution_count": null,
   "id": "ec93e7e4-638a-4514-8cef-00bcedeeff9e",
   "metadata": {},
   "outputs": [],
   "source": [
    "pip install -qq -U nbdev bash_kernel jupyter-c-kernel"
   ]
  },
  {
   "cell_type": "markdown",
   "id": "9b51cd0c-a250-4bd3-a31f-5507b50d3f89",
   "metadata": {},
   "source": [
    "## Use the old pip resolver, if necessary"
   ]
  },
  {
   "cell_type": "markdown",
   "id": "42a990ac-21f7-4bb2-aa8e-5eccdf6618e1",
   "metadata": {},
   "source": [
    "As of pip 20.3, a new resolver has been introduced, which doesn't always work. As of pip 21.0 the old working resolver is unsupported and slated for removal dependent on pip team resources."
   ]
  },
  {
   "cell_type": "code",
   "execution_count": null,
   "id": "9af82314-8d5a-4378-a854-b3a715b8e8bc",
   "metadata": {},
   "outputs": [
    {
     "name": "stdout",
     "output_type": "stream",
     "text": [
      "pip 23.0 from /usr/lib/python3/dist-packages/pip (python 3.11)\n"
     ]
    }
   ],
   "source": [
    "pip --version"
   ]
  },
  {
   "cell_type": "markdown",
   "id": "e5031282-33af-4e6e-a0e4-5fbfaea843f1",
   "metadata": {},
   "source": [
    "With this version of pip, it's possible to use the \"legacy resolver\" with the following option:"
   ]
  },
  {
   "cell_type": "code",
   "execution_count": null,
   "id": "6f080d7d-25a5-4afe-a9d7-97f8644a3e9b",
   "metadata": {},
   "outputs": [],
   "source": [
    "pip install -U -r requirements.txt --use-deprecated=legacy-resolver"
   ]
  },
  {
   "cell_type": "markdown",
   "id": "ca0cd0c8-8d3a-4f7c-9943-1fb1c6e0dfa7",
   "metadata": {},
   "source": [
    "Or, I can downgrade pip to version 20.2.4, before they switched to the new resolver.\n",
    "\n",
    "Refer to https://stackoverflow.com/a/67408694 for more info."
   ]
  },
  {
   "cell_type": "code",
   "execution_count": null,
   "id": "4b1c9831-1c11-46bf-8f86-fe60f3fa8d68",
   "metadata": {},
   "outputs": [],
   "source": [
    "pip install pip==20.2.4"
   ]
  },
  {
   "cell_type": "markdown",
   "id": "6a0eaa8b-9c79-4e3e-82ad-6caca7cfc97f",
   "metadata": {},
   "source": [
    "## PyPI does not include onnxruntime for python3.11"
   ]
  },
  {
   "cell_type": "markdown",
   "id": "bce50f22-fecd-4e84-8f49-165e2507c457",
   "metadata": {},
   "source": [
    "At one point I was hoping to use python3.11. I attempted to build onnxruntime from source, but didn't persevere with it."
   ]
  },
  {
   "cell_type": "markdown",
   "id": "333a8b97-2cae-4668-b1f2-1cce25cce242",
   "metadata": {},
   "source": [
    "## Untold difficulties"
   ]
  },
  {
   "cell_type": "markdown",
   "id": "9328a7a1-8073-44ea-9278-b1beb596fc50",
   "metadata": {},
   "source": [
    "I haven't described all of the various problems I had to deal with, due to using various bad approaches rather than venvs. There were plenty of problems! I guess I learned something from it, anyway. I wish Lambda Stack worked on Debian, not only Ubuntu, it would have been a lot easier than this. Maybe I should give it a try on Debian anyway, and see what happens."
   ]
  }
 ],
 "metadata": {
  "kernelspec": {
   "display_name": "bash",
   "language": "bash",
   "name": "bash"
  }
 },
 "nbformat": 4,
 "nbformat_minor": 5
}
