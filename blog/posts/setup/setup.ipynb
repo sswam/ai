{
 "cells": [
  {
   "cell_type": "raw",
   "id": "7fefae11-9f58-4d69-bcbb-8d2c7423e061",
   "metadata": {},
   "source": [
    "---\n",
    "title: \"My setup for AI work on my Linux PC\"\n",
    "author: \"Sam Watkins\"\n",
    "date: \"2023-02-24\"\n",
    "format: \n",
    "  html:\n",
    "    code-fold: false\n",
    "jupyter: bash\n",
    "categories: [fastai, setup, Python, pip]\n",
    "draft: true\n",
    "---"
   ]
  },
  {
   "cell_type": "markdown",
   "id": "62e30cf9-580c-44bc-a3aa-1fede3a35cb6",
   "metadata": {},
   "source": [
    "## Introduction"
   ]
  },
  {
   "cell_type": "markdown",
   "id": "0e44b2fc-2619-48d3-ab26-556a22035d05",
   "metadata": {},
   "source": [
    "I am using my home PC, with Debian 12 \"bookworm\" (testing) and an NVIDIA GPU.\n",
    "\n",
    "The following setup is **not recommended** unless you know what you're doing with Linux, and probably not even then.\n",
    "\n",
    "I decided not to use conda, virtualenv, or docker. Instead, I installed the necessary Python modules under `/usr/local` with `pip`. This way I can use my AI tools directly from the command line and other scripts, like any other tools."
   ]
  },
  {
   "cell_type": "markdown",
   "id": "7591c8ac-53ee-476e-a6bb-2a583dc1eb8f",
   "metadata": {},
   "source": [
    "## Allow myself to install packages to /usr/local"
   ]
  },
  {
   "cell_type": "markdown",
   "id": "b6eafd72-860a-475a-b227-6f5647cf53bc",
   "metadata": {},
   "source": [
    "\n",
    "It's not safe to run `pip install -U` as root. It will merrily remove files from Debian-packaged Python modules under `/usr/lib`, and mess up the system. To avoid this, I changed permissions so that my regular user account can write to everything under `/usr/local` via the `staff` group. I do the same for `/opt` because I want to upgrade Rust from my own user ID also:"
   ]
  },
  {
   "cell_type": "code",
   "execution_count": null,
   "id": "af82b41f-b1ce-4ff2-ac1e-d17c83815615",
   "metadata": {},
   "outputs": [],
   "source": [
    "sudo adduser $USER staff\n",
    "sudo chgrp -R staff /usr/local /opt\n",
    "sudo chmod -R g+w /usr/local /opt"
   ]
  },
  {
   "cell_type": "markdown",
   "id": "b141ea96-8839-47a4-8988-c4253cb5a1b6",
   "metadata": {},
   "source": [
    "This is somewhat of a security concern, but if a bad guy gets a local shell it's pretty much game over anyway. To make it safer, I could have used a different non-root account.\n",
    "\n",
    "In order to upgrade a pip package where the same package was also installed in `/usr/lib` by dpkg, I need to use `pip -I -U packagename`. The `-I` flag tells it to ignore installed packages, i.e. don't try to remove them. I only do that as needed for individual packages, when a normal upgrade fails.\n",
    "\n",
    "This setup might upset Debian-packaged programs that depend on older versions of the Python libraries that I've upgraded. I haven't noticed any problems like that yet.\n",
    "\n",
    "If you try to downgrade a package, and If multiple versions of a package are accidentally installed under /usr/local/lib/python3.10 at that same time, the sym"
   ]
  },
  {
   "cell_type": "markdown",
   "id": "739a996b-b5b2-44e6-b6e9-d224a65f63b0",
   "metadata": {},
   "source": [
    "## Enable switching the system python version"
   ]
  },
  {
   "cell_type": "markdown",
   "id": "8e048577-36d4-4539-ab5a-5f5e071e00e9",
   "metadata": {},
   "source": [
    "The default Python version for Debian \"testing\" at time of writing is Python 3.11, however we don't have a stable release of pytorch for Python 3.11 yet:"
   ]
  },
  {
   "cell_type": "code",
   "execution_count": null,
   "id": "dd8abcb0-3815-4c9d-b527-c4894940842a",
   "metadata": {},
   "outputs": [
    {
     "name": "stdout",
     "output_type": "stream",
     "text": [
      "\u001b[31mERROR: Could not find a version that satisfies the requirement torchvision (from versions: 0.1.6, 0.1.7, 0.1.8, 0.1.9, 0.2.0, 0.2.1, 0.2.2, 0.2.2.post2, 0.2.2.post3)\u001b[0m\u001b[31m\n",
      "\u001b[0m\u001b[31mERROR: No matching distribution found for torchvision\u001b[0m\u001b[31m\n",
      "\u001b[0m\n"
     ]
    },
    {
     "ename": "",
     "evalue": "1",
     "output_type": "error",
     "traceback": []
    }
   ],
   "source": [
    "python3.11 -m pip install torchvision"
   ]
  },
  {
   "cell_type": "markdown",
   "id": "58a65e65-fd0f-4b7e-bec2-107e797883ac",
   "metadata": {},
   "source": [
    "I'm leaving this section in, however I have since switched to using Python 3.11 and nightly builds of torch."
   ]
  },
  {
   "cell_type": "markdown",
   "id": "201a2587-8d62-49f7-b41d-e4b667106b6f",
   "metadata": {},
   "source": [
    "Anyway, let's enable switching the system Python version back to 3.10, using `update-alternatives`."
   ]
  },
  {
   "cell_type": "markdown",
   "id": "ee7c1b40-27cf-4408-b915-a4d41ac06596",
   "metadata": {},
   "source": [
    "First, note that we can undo this change later, if necessary, as follows:"
   ]
  },
  {
   "cell_type": "code",
   "execution_count": null,
   "id": "58d4ccfb-a9cf-4856-875f-5ed7d64b30f4",
   "metadata": {},
   "outputs": [],
   "source": [
    "sudo update-alternatives --remove-all python3\n",
    "sudo update-alternatives --remove-all pydoc3\n",
    "sudo ln -sf python3.11 /usr/bin/python3\n",
    "sudo ln -sf pydoc3.11 /usr/bin/pydoc3"
   ]
  },
  {
   "cell_type": "markdown",
   "id": "dc482327-f325-481a-8b9a-56d716bc3733",
   "metadata": {},
   "source": [
    "We can set up alternatives for `python3`:"
   ]
  },
  {
   "cell_type": "code",
   "execution_count": null,
   "id": "72f87e8b-5af3-4c37-9595-635859bb2d89",
   "metadata": {},
   "outputs": [
    {
     "name": "stdout",
     "output_type": "stream",
     "text": [
      "update-alternatives: using /usr/bin/python3.11 to provide /usr/bin/python3 (python3) in auto mode\n",
      "update-alternatives: using /usr/bin/python3.10 to provide /usr/bin/python3 (python3) in manual mode\n"
     ]
    }
   ],
   "source": [
    "sudo update-alternatives --install /usr/bin/python3 python3 /usr/bin/python3.11 11\n",
    "sudo update-alternatives --install /usr/bin/python3 python3 /usr/bin/python3.10 10\n",
    "# sudo update-alternatives --set python3 /usr/bin/python3.10"
   ]
  },
  {
   "cell_type": "markdown",
   "id": "154887dd-ef3a-4f3b-ac90-f0492d2ecfa8",
   "metadata": {},
   "source": [
    "and do the same for `pydoc3`:"
   ]
  },
  {
   "cell_type": "code",
   "execution_count": null,
   "id": "c0438650-2a2d-4ef6-93f0-93afb110a0da",
   "metadata": {},
   "outputs": [
    {
     "name": "stdout",
     "output_type": "stream",
     "text": [
      "update-alternatives: using /usr/bin/pydoc3.11 to provide /usr/bin/pydoc3 (pydoc3) in auto mode\n",
      "update-alternatives: using /usr/bin/pydoc3.10 to provide /usr/bin/pydoc3 (pydoc3) in manual mode\n"
     ]
    }
   ],
   "source": [
    "sudo update-alternatives --install /usr/bin/pydoc3 pydoc3 /usr/bin/pydoc3.11 11\n",
    "sudo update-alternatives --install /usr/bin/pydoc3 pydoc3 /usr/bin/pydoc3.10 10\n",
    "# sudo update-alternatives --set pydoc3 /usr/bin/pydoc3.10"
   ]
  },
  {
   "cell_type": "code",
   "execution_count": null,
   "id": "cb175e67-e841-4443-9a6c-6be636bb7b09",
   "metadata": {},
   "outputs": [
    {
     "name": "stdout",
     "output_type": "stream",
     "text": [
      "/usr/bin/python3.10\n",
      "/usr/bin/python3.11\n"
     ]
    }
   ],
   "source": [
    "update-alternatives --list python3"
   ]
  },
  {
   "cell_type": "code",
   "execution_count": null,
   "id": "220759cb-b81f-4f9d-a7ac-3c0b29dc200c",
   "metadata": {},
   "outputs": [
    {
     "name": "stdout",
     "output_type": "stream",
     "text": [
      "/usr/bin/pydoc3.10\n",
      "/usr/bin/pydoc3.11\n"
     ]
    }
   ],
   "source": [
    "update-alternatives --list pydoc3"
   ]
  },
  {
   "cell_type": "markdown",
   "id": "c8282f02-f9fd-49d6-8729-d7514ffe7070",
   "metadata": {},
   "source": [
    "## Install Rust"
   ]
  },
  {
   "cell_type": "markdown",
   "id": "e44f40a2-ff73-4088-8bf0-82478c8b32ee",
   "metadata": {},
   "source": [
    "Some Python modules now depend on Rust to build. I want to install Rust system-wide, in `/opt/rust`:"
   ]
  },
  {
   "cell_type": "code",
   "execution_count": null,
   "id": "fa58f3d4-b537-4ad2-a0fd-f7f3191a7a69",
   "metadata": {},
   "outputs": [
    {
     "name": "stdout",
     "output_type": "stream",
     "text": [
      "info: downloading installer\n",
      "\u001b[1minfo: \u001b(B\u001b[mprofile set to 'default'\n",
      "\u001b[1minfo: \u001b(B\u001b[mdefault host triple is x86_64-unknown-linux-gnu\n",
      "\u001b[33m\u001b[1mwarning: \u001b(B\u001b[mUpdating existing toolchain, profile choice will be ignored\n",
      "\u001b[1minfo: \u001b(B\u001b[msyncing channel updates for 'stable-x86_64-unknown-linux-gnu'\n",
      "\u001b[1minfo: \u001b(B\u001b[mdefault toolchain set to 'stable-x86_64-unknown-linux-gnu'\n",
      "\n",
      "  \u001b[1mstable-x86_64-unknown-linux-gnu unchanged\u001b(B\u001b[m - rustc 1.67.1 (d5a82bbd2 2023-02-07)\n",
      "\n",
      "\u001b[1m\n",
      "Rust is installed now. Great!\n",
      "\u001b(B\u001b[m\n",
      "To get started you need Cargo's bin directory (/opt/rust/bin) in your \u001b[1mPATH\u001b(B\u001b[m\n",
      "environment variable. This has not been done automatically.\n",
      "\n",
      "To configure your current shell, run:\n",
      "source \"/opt/rust/env\"\n"
     ]
    }
   ],
   "source": [
    "cd /tmp\n",
    "curl --proto '=https' --tlsv1.2 -sSf https://sh.rustup.rs > install_rust.sh\n",
    "sudo RUSTUP_HOME=/opt/rust CARGO_HOME=/opt/rust sh ./install_rust.sh -y --no-modify-path"
   ]
  },
  {
   "cell_type": "code",
   "execution_count": null,
   "id": "450b737e-be5a-448f-898c-64d9c2b2386a",
   "metadata": {},
   "outputs": [
    {
     "name": "stdout",
     "output_type": "stream",
     "text": [
      "\u001b[1minfo: \u001b(B\u001b[musing existing install for 'stable-x86_64-unknown-linux-gnu'\n",
      "\u001b[1minfo: \u001b(B\u001b[mdefault toolchain set to 'stable-x86_64-unknown-linux-gnu'\n",
      "\n",
      "  \u001b[1mstable-x86_64-unknown-linux-gnu unchanged\u001b(B\u001b[m - rustc 1.67.1 (d5a82bbd2 2023-02-07)\n",
      "\n"
     ]
    }
   ],
   "source": [
    ". /opt/rust/env\n",
    "rustup default stable"
   ]
  },
  {
   "cell_type": "markdown",
   "id": "46d2f17e-ee5d-4d91-857c-5430c13b0188",
   "metadata": {},
   "source": [
    "## Install packages for torch, fastai and jupyter"
   ]
  },
  {
   "cell_type": "code",
   "execution_count": null,
   "id": "aa7a6b73-9db8-482f-8cb2-0f8b703f225a",
   "metadata": {},
   "outputs": [],
   "source": [
    "pip install -qq -U fastbook jupyter jupyterlab tensorflow ipywidgets"
   ]
  },
  {
   "cell_type": "markdown",
   "id": "250263ea-a661-4279-a751-2fed7c074a91",
   "metadata": {},
   "source": [
    "At some point I saw a warning about compatibility between fastai and torch.\n",
    "```\n",
    "fastai 2.7.11 has requirement torch<1.14,>=1.7, but you have torch 2.0.0.dev20230220+cu117\n",
    "```\n",
    "I decided to try using it with nightly torch anyway:"
   ]
  },
  {
   "cell_type": "code",
   "execution_count": null,
   "id": "012ad25c-9664-45c7-9ee3-991a889d50aa",
   "metadata": {},
   "outputs": [],
   "source": [
    "pip install -qq -U --pre torch torchvision torchaudio --index-url https://download.pytorch.org/whl/nightly/cu117"
   ]
  },
  {
   "cell_type": "markdown",
   "id": "0e086748-f7a5-4b7f-9d9e-2707e22724f0",
   "metadata": {},
   "source": [
    "Extra packages: nbdev, and kernels for bash and C:"
   ]
  },
  {
   "cell_type": "code",
   "execution_count": null,
   "id": "ec93e7e4-638a-4514-8cef-00bcedeeff9e",
   "metadata": {},
   "outputs": [],
   "source": [
    "pip install -qq -U nbdev bash_kernel jupyter-c-kernel"
   ]
  },
  {
   "cell_type": "code",
   "execution_count": null,
   "id": "c9373ccf-19f8-43a6-9a86-8a3c22d669ce",
   "metadata": {},
   "outputs": [
    {
     "name": "stdout",
     "output_type": "stream",
     "text": [
      "Installing IPython kernel spec\n"
     ]
    }
   ],
   "source": [
    "python -m bash_kernel.install"
   ]
  },
  {
   "cell_type": "code",
   "execution_count": null,
   "id": "6e7962ae-cc58-456e-935a-54975bad7a68",
   "metadata": {},
   "outputs": [
    {
     "name": "stdout",
     "output_type": "stream",
     "text": [
      "Installing IPython kernel spec\n",
      "/usr/local/bin/install_c_kernel:32: DeprecationWarning: replace is ignored. Installing a kernelspec always replaces an existing installation\n",
      "  KernelSpecManager().install_kernel_spec(td, 'c', user=user, replace=True, prefix=prefix)\n"
     ]
    }
   ],
   "source": [
    "install_c_kernel"
   ]
  },
  {
   "cell_type": "markdown",
   "id": "60c4835d-2f1c-4d79-8a7a-f5f5469e9e96",
   "metadata": {},
   "source": [
    "## Untold difficulties"
   ]
  },
  {
   "cell_type": "markdown",
   "id": "cd48dc9f-5f56-494e-b4f0-a4cb18ec0747",
   "metadata": {},
   "source": [
    "I haven't described all of the various problems I've had to deal with, due to using this approach. There were plenty of problems! I guess I'm learning something from it, anyway. I wish Lambda Stack worked on Debian, not only Ubuntu, it would be a lot easier than this. Maybe I should give it a try on Debian anyway, and see what happens."
   ]
  },
  {
   "cell_type": "markdown",
   "id": "a5d503a3-6cc7-4f67-b1b5-89fc60ad4125",
   "metadata": {},
   "source": [
    "## Use the old pip resolver, if necessary"
   ]
  },
  {
   "cell_type": "markdown",
   "id": "732688d4-dde2-4d8e-9730-69522ef76a9f",
   "metadata": {},
   "source": [
    "As of pip 20.3, a new resolver has been introduced, which doesn't always work. As of pip 21.0 the old working resolver is unsupported and slated for removal dependent on pip team resources."
   ]
  },
  {
   "cell_type": "code",
   "execution_count": null,
   "id": "9af82314-8d5a-4378-a854-b3a715b8e8bc",
   "metadata": {},
   "outputs": [
    {
     "name": "stdout",
     "output_type": "stream",
     "text": [
      "pip 23.0 from /usr/lib/python3/dist-packages/pip (python 3.11)\n"
     ]
    }
   ],
   "source": [
    "pip --version"
   ]
  },
  {
   "cell_type": "markdown",
   "id": "3b6c5338-bb02-43ec-86bd-bef3ca6498c7",
   "metadata": {},
   "source": [
    "With this version of pip, it's possible to use the \"legacy resolver\" with the following option:"
   ]
  },
  {
   "cell_type": "code",
   "execution_count": null,
   "id": "6f080d7d-25a5-4afe-a9d7-97f8644a3e9b",
   "metadata": {},
   "outputs": [],
   "source": [
    "pip install -U -r requirements.txt --use-deprecated=legacy-resolver"
   ]
  },
  {
   "cell_type": "markdown",
   "id": "5b9670f5-d3db-4862-a0a1-10db47b13027",
   "metadata": {},
   "source": [
    "Or, I can downgrade pip to version 20.2.4, before they switched to the new resolver.\n",
    "\n",
    "Refer to https://stackoverflow.com/a/67408694 for more info."
   ]
  },
  {
   "cell_type": "code",
   "execution_count": null,
   "id": "4b1c9831-1c11-46bf-8f86-fe60f3fa8d68",
   "metadata": {},
   "outputs": [
    {
     "name": "stdout",
     "output_type": "stream",
     "text": [
      "Collecting pip==20.2.4\n",
      "  Using cached pip-20.2.4-py2.py3-none-any.whl (1.5 MB)\n",
      "Installing collected packages: pip\n",
      "  Attempting uninstall: pip\n",
      "    Found existing installation: pip 23.0\n",
      "    Not uninstalling pip at /usr/lib/python3/dist-packages, outside environment /usr\n",
      "    Can't uninstall 'pip'. No files were found to uninstall.\n",
      "Successfully installed pip-20.2.4\n"
     ]
    }
   ],
   "source": [
    "pip install pip==20.2.4"
   ]
  },
  {
   "cell_type": "code",
   "execution_count": null,
   "id": "e42d6607-04b0-44c1-b7c1-73a7d2b513c5",
   "metadata": {},
   "outputs": [
    {
     "name": "stdout",
     "output_type": "stream",
     "text": [
      "pip 20.2.4 from /usr/local/lib/python3.10/dist-packages/pip (python 3.10)\n"
     ]
    }
   ],
   "source": [
    "pip --version"
   ]
  },
  {
   "cell_type": "markdown",
   "id": "fb67deb8-909a-4aa5-b734-46a89a61d62c",
   "metadata": {},
   "source": [
    "## NVIDIA tensorrt is not ready for python3.11"
   ]
  },
  {
   "cell_type": "code",
   "execution_count": null,
   "id": "f865c3ec-763f-4f29-8e14-3631bb9143bb",
   "metadata": {},
   "outputs": [
    {
     "name": "stdout",
     "output_type": "stream",
     "text": [
      "Reading package lists...\n",
      "Building dependency tree...\n",
      "Reading state information...\n",
      "Some packages could not be installed. This may mean that you have\n",
      "requested an impossible situation or if you are using the unstable\n",
      "distribution that some required packages have not yet been created\n",
      "or been moved out of Incoming.\n",
      "The following information may help to resolve the situation:\n",
      "\n",
      "The following packages have unmet dependencies:\n",
      " python3-libnvinfer : Depends: python3 (< 3.11) but 3.11.1-3 is to be installed\n",
      "E: Unable to correct problems, you have held broken packages.\n"
     ]
    },
    {
     "ename": "",
     "evalue": "100",
     "output_type": "error",
     "traceback": []
    }
   ],
   "source": [
    "sudo apt-get -q install python3-libnvinfer-dev"
   ]
  },
  {
   "cell_type": "markdown",
   "id": "cf113a5b-7b0e-4166-b21b-72ae93fa6f47",
   "metadata": {},
   "source": [
    "I'd like to install it as a python3.10 library at least, but it is demanding that the system Python version, i.e. the version of Debian's python3 package, should be less than 3.11, and I don't want to try to change that. So I'll adjust this `python3-libnvinfer` package to depend on the `python3.10` package instead of `python3 < 3.11`."
   ]
  },
  {
   "cell_type": "code",
   "execution_count": null,
   "id": "6115703f-61f7-4742-bfe5-a346400ff947",
   "metadata": {},
   "outputs": [
    {
     "name": "stdout",
     "output_type": "stream",
     "text": [
      "\u001b[0m\u001b[01;31mpython3-libnvinfer_8.5.3-1+cuda11.8_amd64.deb\u001b[0m\n",
      "\u001b[01;31mpython3-libnvinfer-dev_8.5.3-1+cuda11.8_amd64.deb\u001b[0m\n"
     ]
    }
   ],
   "source": [
    "cd /var/nv-tensorrt-local-repo-ubuntu2204-8.5.3-cuda-11.8\n",
    "ls python3-libnvinfer*"
   ]
  },
  {
   "cell_type": "code",
   "execution_count": null,
   "id": "070b1de0-cc14-4885-8c47-555ef11b5f8a",
   "metadata": {},
   "outputs": [
    {
     "name": "stdout",
     "output_type": "stream",
     "text": [
      "'python3-libnvinfer_8.5.3-1+cuda11.8_amd64.deb' -> '/home/sam/soft-ai/python3-libnvinfer_8.5.3-1+cuda11.8_amd64.deb'\n",
      "'python3-libnvinfer-dev_8.5.3-1+cuda11.8_amd64.deb' -> '/home/sam/soft-ai/python3-libnvinfer-dev_8.5.3-1+cuda11.8_amd64.deb'\n"
     ]
    }
   ],
   "source": [
    "cp -v python3-libnvinfer* ~/soft-ai/"
   ]
  },
  {
   "cell_type": "code",
   "execution_count": null,
   "id": "0f52f896-1eb2-41ce-a050-8cfbc8b64a7c",
   "metadata": {},
   "outputs": [],
   "source": [
    "cd ~/soft-ai\n",
    "dpkg-deb -R python3-libnvinfer_8.5.3-1+cuda11.8_amd64.deb unpacked"
   ]
  },
  {
   "cell_type": "code",
   "execution_count": null,
   "id": "5d17ca14-a256-4c95-8eda-061c5448018b",
   "metadata": {},
   "outputs": [
    {
     "name": "stdout",
     "output_type": "stream",
     "text": [
      "Depends: python3 (>= 3.10), python3 (<< 3.11), libnvinfer8 (= 8.5.3-1+cuda11.8), libnvinfer-plugin8 (= 8.5.3-1+cuda11.8), libnvparsers8 (= 8.5.3-1+cuda11.8), libnvonnxparsers8 (= 8.5.3-1+cuda11.8)\n"
     ]
    }
   ],
   "source": [
    "grep Depends unpacked/DEBIAN/control"
   ]
  },
  {
   "cell_type": "code",
   "execution_count": null,
   "id": "094664d1-0c3b-473d-9115-c34dedfbc858",
   "metadata": {},
   "outputs": [
    {
     "name": "stdout",
     "output_type": "stream",
     "text": [
      "Depends: python3.10, libnvinfer8 (= 8.5.3-1+cuda11.8), libnvinfer-plugin8 (= 8.5.3-1+cuda11.8), libnvparsers8 (= 8.5.3-1+cuda11.8), libnvonnxparsers8 (= 8.5.3-1+cuda11.8)\n"
     ]
    }
   ],
   "source": [
    "sed -i 's/python3 (>= 3.10), python3 (<< 3.11), /python3.10, /' unpacked/DEBIAN/control\n",
    "grep Depends unpacked/DEBIAN/control"
   ]
  },
  {
   "cell_type": "code",
   "execution_count": null,
   "id": "e97e401a-b6a2-463c-bb52-f3a2a48a5f20",
   "metadata": {},
   "outputs": [
    {
     "name": "stdout",
     "output_type": "stream",
     "text": [
      "\u001b[1mdpkg-deb:\u001b[0m building package 'python3-libnvinfer' in 'python3-libnvinfer_8.5.3-1+cuda11.8_amd64_fixed.deb'.\n"
     ]
    }
   ],
   "source": [
    "dpkg-deb -b unpacked python3-libnvinfer_8.5.3-1+cuda11.8_amd64_fixed.deb"
   ]
  },
  {
   "cell_type": "code",
   "execution_count": null,
   "id": "5b013120-badf-4389-a53d-c10957d07d78",
   "metadata": {},
   "outputs": [
    {
     "name": "stdout",
     "output_type": "stream",
     "text": [
      "Selecting previously unselected package python3-libnvinfer.\n",
      "(Reading database ... 1135689 files and directories currently installed.)\n",
      "Preparing to unpack .../python3-libnvinfer_8.5.3-1+cuda11.8_amd64_fixed.deb ...\n",
      "Unpacking python3-libnvinfer (8.5.3-1+cuda11.8) ...\n",
      "Selecting previously unselected package python3-libnvinfer-dev.\n",
      "Preparing to unpack .../python3-libnvinfer-dev_8.5.3-1+cuda11.8_amd64.deb ...\n",
      "Unpacking python3-libnvinfer-dev (8.5.3-1+cuda11.8) ...\n",
      "Setting up python3-libnvinfer (8.5.3-1+cuda11.8) ...\n",
      "Setting up python3-libnvinfer-dev (8.5.3-1+cuda11.8) ...\n"
     ]
    }
   ],
   "source": [
    "sudo dpkg -i ./python3-libnvinfer_8.5.3-1+cuda11.8_amd64_fixed.deb ./python3-libnvinfer-dev_8.5.3-1+cuda11.8_amd64.deb"
   ]
  },
  {
   "cell_type": "markdown",
   "id": "6a0eaa8b-9c79-4e3e-82ad-6caca7cfc97f",
   "metadata": {},
   "source": [
    "## PyPI does not include onnxruntime for python3.11"
   ]
  },
  {
   "cell_type": "markdown",
   "id": "61b8b26a-e9c8-4028-bcf9-5f00f70ed52b",
   "metadata": {},
   "source": [
    "## Python environments"
   ]
  },
  {
   "cell_type": "markdown",
   "id": "7dce9c8e-ed23-4980-a887-7392e5f89711",
   "metadata": {},
   "source": [
    "I'm going to try setting up a series of Python environments under `/opt`, and adding them to the PYTHONPATH as appropriate.\n",
    "\n",
    "It will be easier to rebuild them rather than \n",
    "\n",
    "| Folder | Depends | Uses | Conflicts |\n",
    "| --- | --- | --- | --- |\n",
    "| /opt/python3.11-ai | Debian's default python3.11 | torch 2 (nightly) | fastai, tensorrt |\n",
    "| /opt/python3.10-ai | Debian's python3.10 | torch stable () |  |\n",
    "| /opt/python3.10-fastai | python3.10-fastai | torch stable () |  |\n",
    "| /opt/python3.10-webui | python3.10-ai | torch stable () |  |"
   ]
  },
  {
   "cell_type": "code",
   "execution_count": null,
   "id": "539f1cbe-d317-45d1-aaf2-f6f2ec86db00",
   "metadata": {},
   "outputs": [
    {
     "name": "stdout",
     "output_type": "stream",
     "text": [
      "#!/bin/bash\n",
      "echo $VIRTUAL_ENV\n",
      "python -V\n",
      "which python\n",
      "namei `which python` | sed -n '/->/ { s/.*-> //; p; }'\n",
      "python -c 'import sys; print(sys.path)'\n"
     ]
    }
   ],
   "source": [
    "cw python_env"
   ]
  },
  {
   "cell_type": "code",
   "execution_count": null,
   "id": "eef05def-73c6-4476-a78a-5b1de77fce3f",
   "metadata": {},
   "outputs": [
    {
     "name": "stdout",
     "output_type": "stream",
     "text": [
      "\n",
      "Python 3.11.2\n",
      "/usr/local/bin/python\n",
      "/usr/bin/python\n",
      "python3\n",
      "/etc/alternatives/python3\n",
      "/usr/bin/python3.11\n",
      "['', '/usr/lib/python311.zip', '/usr/lib/python3.11', '/usr/lib/python3.11/lib-dynload', '/usr/lib/python3/dist-packages', '/usr/lib/python3.11/dist-packages']\n"
     ]
    }
   ],
   "source": [
    "python_env"
   ]
  },
  {
   "cell_type": "code",
   "execution_count": null,
   "id": "f33a519e-2a36-47d9-a013-31c890e4365c",
   "metadata": {},
   "outputs": [
    {
     "name": "stdout",
     "output_type": "stream",
     "text": [
      "drwxr-xr-x 5 sam sam 4096 Feb 28 05:50 \u001b[0m\u001b[01;34mpython3.10-ai\u001b[0m\n"
     ]
    }
   ],
   "source": [
    "cd /opt\n",
    "ls -ld python*"
   ]
  },
  {
   "cell_type": "code",
   "execution_count": null,
   "id": "53b0e446-dace-4efa-9665-75e212524613",
   "metadata": {},
   "outputs": [],
   "source": [
    "command rm -rf ./python3.10-ai"
   ]
  },
  {
   "cell_type": "code",
   "execution_count": null,
   "id": "f68b66fb-1352-4337-a13d-3b71fc3b3e4e",
   "metadata": {},
   "outputs": [],
   "source": [
    "python3.10 -m venv python3.10-ai"
   ]
  },
  {
   "cell_type": "code",
   "execution_count": null,
   "id": "74b36875-50dc-4730-87f9-b28137545329",
   "metadata": {},
   "outputs": [
    {
     "name": "stdout",
     "output_type": "stream",
     "text": [
      "(python3.10-ai) \n"
     ]
    },
    {
     "ename": "",
     "evalue": "1",
     "output_type": "error",
     "traceback": []
    }
   ],
   "source": [
    ". /opt/python3.10-ai/bin/activate"
   ]
  },
  {
   "cell_type": "markdown",
   "id": "0cee6d58-6a03-4353-bfce-1ab06e26022e",
   "metadata": {},
   "source": [
    "## PyPI does not include onnxruntime for python3.11"
   ]
  },
  {
   "cell_type": "code",
   "execution_count": null,
   "id": "1ff068e5-c95f-473b-8369-10dc6be76e7c",
   "metadata": {},
   "outputs": [],
   "source": [
    "deactivate"
   ]
  },
  {
   "cell_type": "markdown",
   "id": "237e958a-6aef-4940-842c-c9c92e22e06b",
   "metadata": {},
   "source": [
    "## Maybe use /usr/local installs first then /opt venv installs based on those. no\n",
    "\n",
    "- the /usr/local/lib/python3.10 install doesn't work, though\n",
    "- /usr/local/lib/python3.11/dist-packages\n",
    "- /usr/local/lib/python3.10/dist-packages"
   ]
  }
 ],
 "metadata": {
  "kernelspec": {
   "display_name": "bash",
   "language": "bash",
   "name": "bash"
  }
 },
 "nbformat": 4,
 "nbformat_minor": 5
}
