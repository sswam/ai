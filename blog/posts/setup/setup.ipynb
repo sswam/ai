{
 "cells": [
  {
   "cell_type": "raw",
   "id": "7fefae11-9f58-4d69-bcbb-8d2c7423e061",
   "metadata": {},
   "source": [
    "---\n",
    "title: \"My setup for AI work on my Debian PC\"\n",
    "date: \"2023-03-03\"\n",
    "format: \n",
    "  html:\n",
    "    code-fold: false\n",
    "jupyter: bash\n",
    "toc: true\n",
    "toc-depth: 3\n",
    "categories: [setup, Debian, Linux, fastai, Python, PyTorch, pip, CUDA]\n",
    "draft: false\n",
    "---"
   ]
  },
  {
   "cell_type": "markdown",
   "id": "6adc2b5f-e08c-4f8f-b99d-ed05a1fe7984",
   "metadata": {},
   "source": [
    "## Disclaimer: What you should do instead"
   ]
  },
  {
   "cell_type": "markdown",
   "id": "84614b65-aac4-4602-83bd-7d4ce7492031",
   "metadata": {},
   "source": [
    "- This post on the Fastai forum is helpful: [\n",
    "For those who run their own AI box, or want to](https://forums.fast.ai/t/for-those-who-run-their-own-ai-box-or-want-to/96064).\n",
    "- If you use Ubuntu, [Lambda Stack](https://lambdalabs.com/lambda-stack-deep-learning-software) looks good."
   ]
  },
  {
   "cell_type": "markdown",
   "id": "62e30cf9-580c-44bc-a3aa-1fede3a35cb6",
   "metadata": {},
   "source": [
    "## Introduction"
   ]
  },
  {
   "cell_type": "markdown",
   "id": "0e44b2fc-2619-48d3-ab26-556a22035d05",
   "metadata": {},
   "source": [
    "This blog post is highly technical, so with the help of *ChatGPT* I have included a glossary of terms and concepts for each section. Thanks *ChatGPT*, I wouldn't have done that without you!\n",
    "\n",
    "I am using my home PC for AI work, with Debian GNU/Linux 12 \"bookworm\" (testing) and an NVIDIA GPU.\n",
    "\n",
    "The main AI tools that I use are:\n",
    "\n",
    "- [Jupyter](https://jupyter.org/) for experiments, development and blogging;\n",
    "- [fastai](https://www.fast.ai/) for training neural networks;\n",
    "- Huggingface tools such as transformers and diffusers;\n",
    "- PyTorch, Tensorflow and other lower-level AI libraries; and\n",
    "- [stable-diffusion-webui](https://github.com/AUTOMATIC1111) for experimenting with AI image generation.\n",
    "\n",
    "This document is mostly for my own reference. It wasn't so easy getting everything working nicely and I want to have a record of how I did it. I don't recommend that you try to do this unless you are experienced with Debian, and you don't mind taking time to deal with problems when they occur.\n",
    "\n",
    "I wanted to avoid using docker, conda, or Python venvs. Instead, I installed the necessary Python modules under `/usr/local` with `pip`. I was thinking that I would be able to use my AI tools directly from the command line and other scripts, like any other tools.\n",
    "\n",
    "This worked for a little while, but then Debian started using Python 3.11 for their default Python. Torch isn't compatible with Python 3.11 yet, and everything broke for me.\n",
    "\n",
    "After trying to fix it for a while and encountering numerous problems, I decided to switch to using Python 3.10. After more problems, I switched to using Python 3.10 venvs. I think that the original method of installing under `/usr/local` could work, but the Debian python packages are in a ~~mess~~ state of flux at the moment.\n",
    "\n",
    "As they say, using a virtual environment is a best practice in Python development and can help avoid issues with package conflicts and dependency management. So, venvs it is!"
   ]
  },
  {
   "cell_type": "markdown",
   "id": "b625b4ff-c1c1-481d-885b-c4e1e205a93f",
   "metadata": {},
   "source": [
    "<details>\n",
    "<summary> Glossary </summary>\n",
    "\n",
    "- conda: a package management system and environment management system for installing multiple versions of software packages and their dependencies, including both Python and non-Python packages.\n",
    "- Debian: a free and open-source operating system based on the Linux kernel, widely used for servers and workstations\n",
    "- Debian \"testing\": a rolling release version of Debian that is in the process of being tested for the next stable release, and contains newer packages than the current stable release. It is not recommended for production use.\n",
    "- dependency management: the process of identifying and resolving dependencies between software packages, to ensure that they can be installed and run together without conflicts\n",
    "- docker: a platform for developing, shipping, and running applications using containers, which are lightweight, portable, and self-contained environments that run applications and their dependencies.\n",
    "- Fastai: a free, open-source deep learning library built on top of PyTorch that provides a high-level API and a range of state-of-the-art models and techniques\n",
    "- GNU: A project started by Richard Stallman in 1983 to create a free and open-source operating system, consisting of a complete set of tools and utilities to replace proprietary software. GNU stands for \"GNU's Not Unix\".\n",
    "- GNU/Linux: A term used to describe the operating system that consists of the GNU tools and the Linux kernel. The GNU tools provide the user interface and the software development tools, while the Linux kernel provides the low-level system functions, such as process management, memory management, and device drivers.\n",
    "- Hugging Face 🤗: a company that develops tools for building machine learning apps, with a focus on natural language processing (NLP).\n",
    "- Hugging Face Diffusers: a popular open-source library that provides pretrained vision and audio diffusion models, and serves as a modular toolbox for inference and training\n",
    "- Hugging Face Hub: a platform that allows users to share machine learning models and datasets.\n",
    "- Jupyter: an open-source web application that allows users to create and share documents that contain live code, equations, visualizations and narrative text\n",
    "- Linux: A kernel, or the core component of an operating system, originally created by Linus Torvalds in 1991. Linux is based on Unix, and is released under an open-source license, which allows anyone to modify and distribute the source code. The combination of the Linux kernel and the GNU tools forms the GNU/Linux operating system.\n",
    "- Neural networks: a machine learning technique that allows computers to learn from data by adjusting the strengths of connections between neurons\n",
    "- NVIDIA GPU: a graphics processing unit manufactured by NVIDIA that is commonly used for machine learning and other compute-intensive tasks\n",
    "- package conflicts: situations where two or more Python packages require different versions of the same dependency, leading to issues when trying to install or run the packages together\n",
    "- pip: a package installer for Python that allows you to easily install and manage third-party packages and their dependencies. It is commonly used with virtual environments to manage Python package dependencies.\n",
    "- PyTorch: a popular open-source machine learning library based on the Torch library\n",
    "- Stable-diffusion-webui: an open-source web user interface for state-of-the-art image generation b based on stable diffusion, by automatic1111\n",
    "- Tensorflow: an open-source machine learning library developed by Google Brain Team\n",
    "- transformers: a state-of-the-art library for natural language processing (NLP) tasks such as text classification and question answering, built by Huggingface\n",
    "- /usr/local: a directory in Unix-like operating systems that is typically used for installing software manually, outside of the system package manager.\n",
    "- virtual environment (venv): a self-contained Python environment that allows you to install and manage packages without affecting the system-level Python installation or other virtual environments\n",
    "\n",
    "</details>"
   ]
  },
  {
   "cell_type": "markdown",
   "id": "32660811-c4a4-4f92-a52b-55f8b71db146",
   "metadata": {},
   "source": [
    "## Debian apt setup"
   ]
  },
  {
   "cell_type": "markdown",
   "id": "9711e45f-6642-420f-98a6-7dd9db68ad8c",
   "metadata": {},
   "source": [
    "I installed some NVIDIA packages and alternative Python versions from repositories which are intended for Ubuntu, which is a bit hacky, but it can work. The following shows how to create a [FrankenDebian](https://wiki.debian.org/DontBreakDebian#Don.27t_make_a_FrankenDebian) install using some packages that were intended for Ubuntu, without totally trashing your system."
   ]
  },
  {
   "cell_type": "markdown",
   "id": "1e3001a1-9b73-4fc7-92a8-149ae3062a82",
   "metadata": {},
   "source": [
    "<details>\n",
    "<summary> Glossary </summary>\n",
    "    \n",
    "- FrankenDebian: a term used to describe a Debian installation that has been modified or customized in non-standard ways, often resulting in instability or other issues\n",
    "- NVIDIA packages: software components and drivers provided by NVIDIA Corporation to support their graphics processing units (GPUs)\n",
    "- Python versions: different releases of the Python programming language, each with its own set of features and bug fixes\n",
    "- repositories: online locations where software packages can be downloaded and installed from, typically maintained by a software distributor or community\n",
    "- Ubuntu: a popular distribution of the GNU/Linux operating system, known for its ease of use and large user community\n",
    "\n",
    "</details>"
   ]
  },
  {
   "cell_type": "markdown",
   "id": "c5eed4d1-af63-4a90-a254-f7cca7234a8d",
   "metadata": {},
   "source": [
    "### Don't break Debian: release pinning"
   ]
  },
  {
   "cell_type": "markdown",
   "id": "27d13876-0bf4-4a46-b6b9-4b37e0a598e6",
   "metadata": {},
   "source": [
    "Release pinning in Debian is a way of specifying which versions of packages to install from which Debian releases. The code snippet provided shows a file I added called `99dontbreakdebian` in the `/etc/apt/preferences.d/` directory, with pins for various package releases. These pins specify a release or origin and a priority, which determines which package version to install if multiple versions are available. By setting these pins, I can ensure that my system installs packages from the desired release and avoid accidentally breaking the system by installing incompatible package versions, while still being able to install packages from other sources as needed."
   ]
  },
  {
   "cell_type": "code",
   "execution_count": null,
   "id": "26d59a45-b01b-40a1-9321-10014e278417",
   "metadata": {},
   "outputs": [
    {
     "name": "stdout",
     "output_type": "stream",
     "text": [
      "Package: *\n",
      "Pin: release o=Debian,a=experimental\n",
      "Pin-Priority: 1\n",
      "\n",
      "Package: *\n",
      "Pin: release o=Debian,a=unstable\n",
      "Pin-Priority: 90\n",
      "\n",
      "Package: *\n",
      "Pin: release a=focal\n",
      "Pin-Priority: 70\n",
      "\n",
      "Package: *\n",
      "Pin: release a=jammy\n",
      "Pin-Priority: 80\n",
      "\n",
      "Package: *\n",
      "Pin: release o=LP-PPA-deadsnakes\n",
      "Pin-Priority: 90\n",
      "\n",
      "Package: *\n",
      "Pin: origin ppa.launchpad.net\n",
      "Pin-Priority: 90\n",
      "\n",
      "Package: *\n",
      "Pin: release o=Debian\n",
      "Pin-Priority: 990\n"
     ]
    }
   ],
   "source": [
    "cat /etc/apt/preferences.d/99dontbreakdebian"
   ]
  },
  {
   "cell_type": "markdown",
   "id": "a387452b-e108-4add-9a8c-d12d107ce64c",
   "metadata": {},
   "source": [
    "<details>\n",
    "<summary> Glossary </summary>\n",
    "    \n",
    "- Release pinning: A way of specifying which versions of packages to install from which Debian releases.\n",
    "- /etc/apt/preferences.d/: A directory in Debian where you can add files to specify package release pins.\n",
    "- Pin: A rule that specifies a release or origin and a priority for a package.\n",
    "- Experimental: The Debian release channel where packages are the least stable, but often contain the latest features and updates.\n",
    "- Unstable: The Debian release channel where packages are more stable than experimental, but still not considered release quality.\n",
    "- Focal and Jammy: Ubuntu release code names.\n",
    "- LP-PPA-deadsnakes: A Personal Package Archive (PPA) on Launchpad for providing alternative versions of Python for Ubuntu and Debian systems.\n",
    "    \n",
    "</details>"
   ]
  },
  {
   "cell_type": "markdown",
   "id": "18bfb5d0-7245-4f6f-9c56-296ff135677c",
   "metadata": {},
   "source": [
    "### My main apt sources.list"
   ]
  },
  {
   "cell_type": "code",
   "execution_count": null,
   "id": "7fb4e5c3-ed45-4b97-a2cf-3da043058f18",
   "metadata": {},
   "outputs": [
    {
     "name": "stdout",
     "output_type": "stream",
     "text": [
      "deb http://deb.debian.org/debian/ bookworm main contrib non-free\n",
      "deb http://deb.debian.org/debian/ sid main contrib non-free\n",
      "deb-src http://deb.debian.org/debian/ bookworm main contrib non-free\n",
      "deb-src http://deb.debian.org/debian/ sid main contrib non-free\n",
      "\n",
      "deb http://security.debian.org/debian-security bookworm-security main contrib non-free\n",
      "deb-src http://security.debian.org/debian-security bookworm-security main contrib non-free\n",
      "\n",
      "deb http://deb.debian.org/debian/ bookworm-updates main contrib non-free\n",
      "deb-src http://deb.debian.org/debian/ bookworm-updates main contrib non-free\n",
      "\n",
      "deb http://deb.debian.org/debian/ bookworm-backports main contrib non-free\n",
      "deb-src http://deb.debian.org/debian/ bookworm-backports main contrib non-free\n",
      "\n",
      "deb http://deb.debian.org/debian/ experimental main contrib non-free\n",
      "deb-src http://deb.debian.org/debian/ experimental main contrib non-free\n"
     ]
    }
   ],
   "source": [
    "cat /etc/apt/sources.list"
   ]
  },
  {
   "cell_type": "markdown",
   "id": "a3e9e6bb-b24f-4f24-8f21-a640b908461d",
   "metadata": {},
   "source": [
    "<details>\n",
    "<summary> Glossary </summary>\n",
    "    \n",
    "- sources.list: a configuration file in Debian-based systems that specifies the package repositories from which the system can download and install software.\n",
    "- deb: a Debian binary package format used to distribute software packages for Debian and its derivatives, including Ubuntu and Mint.\n",
    "- bookworm: This is the codename for the Debian 12 release, currently in testing, which will become the next stable release.\n",
    "- sid: the codename for Debian's unstable release.\n",
    "- main: This is one of the Debian software repositories, which contains the core packages that make up the Debian operating system.\n",
    "- contrib and non-free: two categories of software packages in Debian that include packages with dependencies on non-free or proprietary software.\n",
    "    deb-src: This stands for \"debian source\". It refers to the software source code repositories for Debian, which users can access in order to download, modify, and compile the source code of various packages.\n",
    "- security: This is the Debian repository that contains security updates for Debian packages. It is important to include this repository in your sources.list file to ensure that your system stays secure.\n",
    "- backports: This is the Debian repository that contains newer versions of packages that have been backported from newer Debian releases.\n",
    "- experimental repo: This is the Debian repository that contains packages that are still in the testing phase and are not yet stable enough for inclusion in the main Debian repositories.\n",
    "    \n",
    "</details>"
   ]
  },
  {
   "cell_type": "markdown",
   "id": "6408a4db-d60e-47f8-8fcc-4139b9fb80a2",
   "metadata": {},
   "source": [
    "### Apt sources for NVIDIA CUDA, cuDNN, TensorRT, and containers"
   ]
  },
  {
   "cell_type": "markdown",
   "id": "4ddce0b3-8625-4630-bb59-6cc11c419aa4",
   "metadata": {},
   "source": [
    "We will use some packages that were built for Ubuntu, but it doesn't seem to cause a problem."
   ]
  },
  {
   "cell_type": "code",
   "execution_count": null,
   "id": "d4ad68c3-71b4-47cf-974e-20874b57d5df",
   "metadata": {},
   "outputs": [],
   "source": [
    "cd /etc/apt/sources.list.d"
   ]
  },
  {
   "cell_type": "code",
   "execution_count": null,
   "id": "ada9c9e4-e608-42e2-805b-49a99aa3e423",
   "metadata": {},
   "outputs": [
    {
     "name": "stdout",
     "output_type": "stream",
     "text": [
      "deb [signed-by=/usr/share/keyrings/cuda-archive-keyring.gpg] https://developer.download.nvidia.com/compute/cuda/repos/debian11/x86_64/ /\n"
     ]
    }
   ],
   "source": [
    "cat cuda-debian11-x86_64.list"
   ]
  },
  {
   "cell_type": "code",
   "execution_count": null,
   "id": "ef9dd593-1688-4250-83f5-19a3547952fc",
   "metadata": {},
   "outputs": [
    {
     "name": "stdout",
     "output_type": "stream",
     "text": [
      "deb [signed-by=/usr/share/keyrings/cudnn-local-C922C4FD-keyring.gpg] file:///var/cudnn-local-repo-debian11-8.6.0.163 /\n"
     ]
    }
   ],
   "source": [
    "cat cudnn-local-debian11-8.6.0.163.list "
   ]
  },
  {
   "cell_type": "code",
   "execution_count": null,
   "id": "f063679d-2fc7-415c-a9de-2cc69a7c9135",
   "metadata": {},
   "outputs": [
    {
     "name": "stdout",
     "output_type": "stream",
     "text": [
      "deb [signed-by=/usr/share/keyrings/nv-tensorrt-local-3E951519-keyring.gpg] file:///var/nv-tensorrt-local-repo-ubuntu2204-8.5.3-cuda-11.8 /\n"
     ]
    }
   ],
   "source": [
    "cat nv-tensorrt-local-ubuntu2204-8.5.3-cuda-11.8.list"
   ]
  },
  {
   "cell_type": "code",
   "execution_count": null,
   "id": "c6b26586-ef40-4526-8f88-c8a93ed75282",
   "metadata": {},
   "outputs": [
    {
     "name": "stdout",
     "output_type": "stream",
     "text": [
      "deb https://nvidia.github.io/libnvidia-container/stable/debian11/$(ARCH) /\n",
      "# deb https://nvidia.github.io/libnvidia-container/experimental/debian10/$(ARCH) /\n",
      "deb https://nvidia.github.io/nvidia-container-runtime/stable/debian11/$(ARCH) /\n",
      "# deb https://nvidia.github.io/nvidia-container-runtime/experimental/debian10/$(ARCH) /\n"
     ]
    }
   ],
   "source": [
    "cat nvidia-container-runtime.list"
   ]
  },
  {
   "cell_type": "markdown",
   "id": "ed35b8d5-fa7a-4c61-9da6-8dabda27c8f4",
   "metadata": {},
   "source": [
    "<details>\n",
    "<summary> Glossary </summary>\n",
    "    \n",
    "- NVIDIA CUDA: a parallel computing platform and programming model for NVIDIA GPUs\n",
    "- cuDNN: a GPU-accelerated library for deep neural networks\n",
    "- TensorRT: a high-performance deep learning inference optimizer and runtime library\n",
    "- Containers: lightweight, standalone executables that include everything needed to run a piece of software, including the code, libraries, and system tools\n",
    "- NVIDIA container runtime: a platform developed by NVIDIA to support containerized applications that require access to GPU resources.\n",
    "    \n",
    "</details>"
   ]
  },
  {
   "cell_type": "markdown",
   "id": "4a9ab646-3a72-4fb7-9503-75f1f840c4ce",
   "metadata": {},
   "source": [
    "### Apt sources for old versions of Python"
   ]
  },
  {
   "cell_type": "markdown",
   "id": "9a35197d-43cc-4d48-9ade-720b546cb8b2",
   "metadata": {},
   "source": [
    "The \"deadsnakes\" PPA was built for Ubuntu, but works fine on Debian too."
   ]
  },
  {
   "cell_type": "code",
   "execution_count": null,
   "id": "94897707-290c-404d-b726-b2cd789230d8",
   "metadata": {},
   "outputs": [
    {
     "name": "stdout",
     "output_type": "stream",
     "text": [
      "deb http://ppa.launchpad.net/deadsnakes/ppa/ubuntu jammy main\n",
      "deb-src http://ppa.launchpad.net/deadsnakes/ppa/ubuntu jammy main\n"
     ]
    }
   ],
   "source": [
    "cat deadsnakes.list"
   ]
  },
  {
   "cell_type": "markdown",
   "id": "167ab28c-20a2-4a79-b288-baf321c2524b",
   "metadata": {},
   "source": [
    "<details>\n",
    "<summary> Glossary </summary>\n",
    "\n",
    "- deadsnakes: A Personal Package Archive (PPA) on Launchpad for providing alternative versions of Python for Ubuntu and Debian systems.\n",
    "- PPA: Stands for Personal Package Archive, a software repository for Ubuntu users that allows them to distribute software and updates that are not available in official Ubuntu repositories.\n",
    "- jammy: The code name for Ubuntu 22.04.2 LTS (Jammy Jellyfish), the version of Ubuntu that the deadsnakes PPA was built for.\n",
    "   \n",
    "</details>"
   ]
  },
  {
   "cell_type": "markdown",
   "id": "686b80d7-b108-4a6f-8bf6-c3a02535740c",
   "metadata": {},
   "source": [
    "## Install required Debian packages"
   ]
  },
  {
   "cell_type": "markdown",
   "id": "289ff5af-8d51-41cf-84ab-aacc58dc4e8b",
   "metadata": {},
   "source": [
    "### Python 3.10"
   ]
  },
  {
   "cell_type": "markdown",
   "id": "30e8ef14-ed83-4b88-8182-f407b1d91c1f",
   "metadata": {},
   "source": [
    "As I mentioned, Debian recently started using Python 3.11 for their default Python, and Torch isn't compatible with Python 3.11 yet:"
   ]
  },
  {
   "cell_type": "code",
   "execution_count": null,
   "id": "144af246-a712-45e5-ae1e-aaa1d014b4f9",
   "metadata": {},
   "outputs": [
    {
     "name": "stdout",
     "output_type": "stream",
     "text": [
      "\u001b[31mERROR: Could not find a version that satisfies the requirement torchvision (from versions: 0.1.6, 0.1.7, 0.1.8, 0.1.9, 0.2.0, 0.2.1, 0.2.2, 0.2.2.post2, 0.2.2.post3)\u001b[0m\u001b[31m\n",
      "\u001b[0m\u001b[31mERROR: No matching distribution found for torchvision\u001b[0m\u001b[31m\n",
      "\u001b[0m\n"
     ]
    },
    {
     "ename": "",
     "evalue": "1",
     "output_type": "error",
     "traceback": []
    }
   ],
   "source": [
    "python3.11 -m pip install --break-system-packages torchvision"
   ]
  },
  {
   "cell_type": "markdown",
   "id": "bfa8d195-403f-40a8-a5ff-4307a73d6ae9",
   "metadata": {},
   "source": [
    "I tried using nightly Torch, but there were more compatibility problems. So I decided to go back to using Python 3.10 for AI work:"
   ]
  },
  {
   "cell_type": "code",
   "execution_count": null,
   "id": "4aa1614a-9238-4c02-88bd-567a07e88e09",
   "metadata": {},
   "outputs": [
    {
     "name": "stdout",
     "output_type": "stream",
     "text": [
      "Some packages could not be installed. This may mean that you have\n",
      "requested an impossible situation or if you are using the unstable\n",
      "distribution that some required packages have not yet been created\n",
      "or been moved out of Incoming.\n",
      "The following information may help to resolve the situation:\n",
      "\n",
      "The following packages have unmet dependencies:\n",
      " python3.10-venv : Depends: python3.10-distutils but it is not installable\n",
      "\u001b[1;31mE: \u001b[0mUnable to correct problems, you have held broken packages.\u001b[0m\n"
     ]
    },
    {
     "ename": "",
     "evalue": "100",
     "output_type": "error",
     "traceback": []
    }
   ],
   "source": [
    "sudo apt install -qq python3.10-venv"
   ]
  },
  {
   "cell_type": "markdown",
   "id": "2069c449-a3c4-4a08-b609-d6cf5ba3d1d6",
   "metadata": {},
   "source": [
    "Unfortunately, the packaging for `python3.10-venv` is currently broken. I solved this by making a `python3.10-distutils-bogus` package, like this:"
   ]
  },
  {
   "cell_type": "code",
   "execution_count": null,
   "id": "202622f0-c3fe-43e4-b23f-f47e099ed763",
   "metadata": {},
   "outputs": [
    {
     "name": "stdout",
     "output_type": "stream",
     "text": [
      "Section: python\n",
      "Priority: optional\n",
      "Standards-Version: 3.9.2\n",
      "\n",
      "Package: python3.10-distutils-bogus\n",
      "Version: 1.0\n",
      "Maintainer: Sam Watkins <sam@ucm.dev>\n",
      "Provides: python3.10-distutils\n",
      "Description: Dummy package to satisfy python3.10-distutils\n"
     ]
    }
   ],
   "source": [
    "cd ~/pkg\n",
    "cat python3.10-distutils-bogus"
   ]
  },
  {
   "cell_type": "code",
   "execution_count": null,
   "id": "4a2f385a-6509-4579-b9a4-9e7144b7a49e",
   "metadata": {},
   "outputs": [
    {
     "name": "stdout",
     "output_type": "stream",
     "text": [
      "\u001b[1mdpkg-buildpackage: \u001b[0m\u001b[32minfo\u001b[0m: source package python3.10-distutils-bogus\n",
      "\u001b[1mdpkg-buildpackage: \u001b[0m\u001b[32minfo\u001b[0m: source version 1.0\n",
      "\u001b[1mdpkg-buildpackage: \u001b[0m\u001b[32minfo\u001b[0m: source distribution unstable\n",
      "\u001b[1mdpkg-buildpackage: \u001b[0m\u001b[32minfo\u001b[0m: source changed by Sam Watkins <sam@ucm.dev>\n",
      "\u001b[1mdpkg-buildpackage: \u001b[0m\u001b[32minfo\u001b[0m: host architecture amd64\n",
      "\u001b[1;35m dpkg-source --before-build .\n",
      "\u001b[0m\u001b[1;35m debian/rules clean\n",
      "\u001b[0mdh clean\n",
      "   dh_clean\n",
      "\u001b[1;35m debian/rules binary\n",
      "\u001b[0mdh binary\n",
      "   dh_update_autotools_config\n",
      "   dh_autoreconf\n",
      "   create-stamp debian/debhelper-build-stamp\n",
      "   dh_prep\n",
      "   dh_auto_install --destdir=debian/python3.10-distutils-bogus/\n",
      "   dh_install\n",
      "   dh_installdocs\n",
      "   dh_installchangelogs\n",
      "   dh_perl\n",
      "   dh_link\n",
      "   dh_strip_nondeterminism\n",
      "   dh_compress\n",
      "   dh_fixperms\n",
      "   dh_missing\n",
      "   dh_installdeb\n",
      "   dh_gencontrol\n",
      "   dh_md5sums\n",
      "   dh_builddeb\n",
      "\u001b[1mdpkg-deb:\u001b[0m building package 'python3.10-distutils-bogus' in '../python3.10-distutils-bogus_1.0_all.deb'.\n",
      "\u001b[1;35m dpkg-genbuildinfo --build=binary -O../python3.10-distutils-bogus_1.0_amd64.buildinfo\n",
      "\u001b[0m\u001b[1;35m dpkg-genchanges --build=binary -O../python3.10-distutils-bogus_1.0_amd64.changes\n",
      "\u001b[0m\u001b[1mdpkg-genchanges: \u001b[0m\u001b[32minfo\u001b[0m: binary-only upload (no source code included)\n",
      "\u001b[1;35m dpkg-source --after-build .\n",
      "\u001b[0m\u001b[1mdpkg-buildpackage: \u001b[0m\u001b[32minfo\u001b[0m: binary-only upload (no source included)\n",
      "\n",
      "The package has been created.\n",
      "Attention, the package has been created in the current directory,\n",
      "not in \"..\" as indicated by the message above!\n"
     ]
    }
   ],
   "source": [
    "equivs-build python3.10-distutils-bogus"
   ]
  },
  {
   "cell_type": "code",
   "execution_count": null,
   "id": "6d1786ab-7916-4160-ad5b-83ad45396998",
   "metadata": {},
   "outputs": [
    {
     "name": "stdout",
     "output_type": "stream",
     "text": [
      "(Reading database ... 1158515 files and directories currently installed.)\n",
      "Preparing to unpack .../python3.10-distutils-bogus_1.0_all.deb ...\n",
      "Unpacking python3.10-distutils-bogus (1.0) over (1.0) ...\n",
      "Setting up python3.10-distutils-bogus (1.0) ...\n"
     ]
    }
   ],
   "source": [
    "sudo dpkg -i ./python3.10-distutils-bogus_1.0_all.deb"
   ]
  },
  {
   "cell_type": "code",
   "execution_count": null,
   "id": "8ff2d2a2-7ce2-4879-ad2f-2f6a17884e07",
   "metadata": {},
   "outputs": [
    {
     "name": "stdout",
     "output_type": "stream",
     "text": [
      "Reading package lists...\n",
      "Building dependency tree...\n",
      "Reading state information...\n",
      "python3.10-venv is already the newest version (3.10.10-2).\n",
      "0 upgraded, 0 newly installed, 0 to remove and 4 not upgraded.\n"
     ]
    }
   ],
   "source": [
    "sudo apt-get -q install python3.10-venv"
   ]
  },
  {
   "cell_type": "markdown",
   "id": "77b8a3d5-72eb-4a93-9d2f-edb701065e3f",
   "metadata": {},
   "source": [
    "<details>\n",
    "<summary> Glossary </summary>\n",
    "    \n",
    "- Debian package dependencies: packages that are required for a specific package to install and function properly\n",
    "- python3.11: the default version of Python now used in \"bookworm\" the latest Debian testing release, and \"sid\" (unstable))\n",
    "- python3.10-venv: A package that provides the \"venv\" module for Python 3.10, which is used to create Python virtual environments.\n",
    "- python3.10-distutils: a module in Python 3.10 that provides tools for building and installing Python modules and packages\n",
    "- equivs-build: a tool for creating Debian packages that provide empty or dummy packages to satisfy dependencies\n",
    "- dpkg-buildpackage: a tool for building Debian packages from source code\n",
    "- broken packages: Packages that cannot be installed due to missing dependencies or conflicts with other packages.\n",
    "- Torch: A popular machine learning library, which is not compatible with Python 3.11 yet.\n",
    "- Python 3.10: A version of Python that is compatible with Torch.\n",
    "- Maintainer: The person or organization responsible for maintaining a package in the Debian package repository.\n",
    "- Provides: A field in a Debian package control file that specifies the name of a package that the current package provides. This can be used to satisfy dependencies of other packages that require the provided package.\n",
    "    \n",
    "</details>"
   ]
  },
  {
   "cell_type": "markdown",
   "id": "4fc3405c-6d7b-4e71-b97d-d4a139c58421",
   "metadata": {},
   "source": [
    "### Old and alpha versions of Python, from deadsnakes"
   ]
  },
  {
   "cell_type": "markdown",
   "id": "55053892-6d5a-441f-bdd8-e182146cb941",
   "metadata": {},
   "source": [
    "I'm not actually using these alternative Python packages for AI at the moment.\n",
    "\n",
    "However, it's often useful to be able to use different versions of Python, so it's an important part of my setup.\n",
    "\n",
    "- Python 3.11 is the new default version for Debian.\n",
    "- Python 3.10 is still available in Debian, it's the one we need to use.\n",
    "- I have Python 2.7 left over from a previous Debian release.\n",
    "- I installed 3.7, 3.8, 3.9 and 3.12 from deadsnakes."
   ]
  },
  {
   "cell_type": "code",
   "execution_count": null,
   "id": "283de837-3a60-4c79-bc89-5d0f717f7b18",
   "metadata": {},
   "outputs": [
    {
     "name": "stdout",
     "output_type": "stream",
     "text": [
      "python3.7-venv is already the newest version (3.7.16-1+jammy1).\n",
      "python3.8-venv is already the newest version (3.8.16-1+jammy1).\n",
      "python3.9-venv is already the newest version (3.9.16-1+jammy1).\n",
      "0 upgraded, 0 newly installed, 0 to remove and 4 not upgraded.\n"
     ]
    }
   ],
   "source": [
    "sudo apt install -qq -t jammy python3.7-venv python3.8-venv python3.9-venv"
   ]
  },
  {
   "cell_type": "code",
   "execution_count": null,
   "id": "fef7b603-01bf-4857-927e-f8940fb0a3b2",
   "metadata": {},
   "outputs": [
    {
     "name": "stdout",
     "output_type": "stream",
     "text": [
      "python3.12-venv is already the newest version (3.12.0~a5-1+jammy2).\n",
      "0 upgraded, 0 newly installed, 0 to remove and 4 not upgraded.\n"
     ]
    }
   ],
   "source": [
    "sudo apt install -qq -t jammy python3.12-venv"
   ]
  },
  {
   "cell_type": "code",
   "execution_count": null,
   "id": "6b32d36c-c446-4efc-89d4-a51d27f97809",
   "metadata": {},
   "outputs": [
    {
     "name": "stdout",
     "output_type": "stream",
     "text": [
      "python2:\n",
      "  Installed: 2.7.18-3\n",
      "  Candidate: 2.7.18-3\n",
      "  Version table:\n",
      " *** 2.7.18-3 100\n",
      "        100 /var/lib/dpkg/status\n",
      "\n",
      "python3.7:\n",
      "  Installed: 3.7.16-1+jammy1\n",
      "  Candidate: 3.7.16-1+jammy1\n",
      "  Version table:\n",
      " *** 3.7.16-1+jammy1 100\n",
      "         80 http://ppa.launchpad.net/deadsnakes/ppa/ubuntu jammy/main amd64 Packages\n",
      "        100 /var/lib/dpkg/status\n",
      "\n",
      "python3.8:\n",
      "  Installed: 3.8.16-1+jammy1\n",
      "  Candidate: 3.8.16-1+jammy1\n",
      "  Version table:\n",
      " *** 3.8.16-1+jammy1 100\n",
      "         80 http://ppa.launchpad.net/deadsnakes/ppa/ubuntu jammy/main amd64 Packages\n",
      "        100 /var/lib/dpkg/status\n",
      "\n",
      "python3.9:\n",
      "  Installed: 3.9.16-1+jammy1\n",
      "  Candidate: 3.9.16-1+jammy1\n",
      "  Version table:\n",
      " *** 3.9.16-1+jammy1 100\n",
      "         80 http://ppa.launchpad.net/deadsnakes/ppa/ubuntu jammy/main amd64 Packages\n",
      "        100 /var/lib/dpkg/status\n",
      "\n",
      "python3.10:\n",
      "  Installed: 3.10.10-2\n",
      "  Candidate: 3.10.10-2\n",
      "  Version table:\n",
      " *** 3.10.10-2 100\n",
      "         90 http://deb.debian.org/debian sid/main amd64 Packages\n",
      "        100 /var/lib/dpkg/status\n",
      "\n",
      "python3.11:\n",
      "  Installed: 3.11.2-4\n",
      "  Candidate: 3.11.2-4\n",
      "  Version table:\n",
      " *** 3.11.2-4 990\n",
      "        990 http://deb.debian.org/debian bookworm/main amd64 Packages\n",
      "         90 http://deb.debian.org/debian sid/main amd64 Packages\n",
      "        100 /var/lib/dpkg/status\n",
      "     3.11.2-1+jammy1 80\n",
      "         80 http://ppa.launchpad.net/deadsnakes/ppa/ubuntu jammy/main amd64 Packages\n",
      "\n",
      "python3.12:\n",
      "  Installed: 3.12.0~a5-1+jammy2\n",
      "  Candidate: 3.12.0~a5-1+jammy2\n",
      "  Version table:\n",
      " *** 3.12.0~a5-1+jammy2 100\n",
      "         80 http://ppa.launchpad.net/deadsnakes/ppa/ubuntu jammy/main amd64 Packages\n",
      "        100 /var/lib/dpkg/status\n",
      "\n"
     ]
    }
   ],
   "source": [
    "apt policy python2; echo\n",
    "for v in `seq 7 12`; do apt policy python3.$v; echo; done"
   ]
  },
  {
   "cell_type": "markdown",
   "id": "918ca10d-510c-4796-810f-538f96b3c415",
   "metadata": {},
   "source": [
    "<details>\n",
    "<summary> Glossary </summary>\n",
    "    \n",
    "- deadsnakes PPA: A Personal Package Archive (PPA) containing various versions of Python packages, maintained by the deadsnakes team on Launchpad.\n",
    "- Python 3.11: The new default version of Python for Debian, which is not yet compatible with Torch.\n",
    "- Python 3.10: A compatible version of Python that is still available in Debian and needed to use Torch.\n",
    "- Python 2.7: A legacy version of Python that I had installed from a previous Debian release.\n",
    "- Python 3.7, 3.8, 3.9, 3.12: Alternative versions of Python that I installed from the deadsnakes PPA; not strictly needed for most AI work.\n",
    "    \n",
    "</details>"
   ]
  },
  {
   "cell_type": "markdown",
   "id": "e5a9706a-edce-4033-8122-eca2696be3e2",
   "metadata": {},
   "source": [
    "### NVIDIA CUDA"
   ]
  },
  {
   "cell_type": "code",
   "execution_count": null,
   "id": "6e5c52ac-390d-4c06-8641-76fa523bcf35",
   "metadata": {},
   "outputs": [
    {
     "name": "stdout",
     "output_type": "stream",
     "text": [
      "cuda is already the newest version (12.0.1-1).\n",
      "cuda-drivers is already the newest version (525.85.12-1).\n",
      "cuda-11-7 is already the newest version (11.7.1-1).\n",
      "cuda-11-8 is already the newest version (11.8.0-1).\n",
      "0 upgraded, 0 newly installed, 0 to remove and 2 not upgraded.\n"
     ]
    }
   ],
   "source": [
    "sudo apt -qq install cuda=12.0.1-1 cuda-drivers=525.85.12-1 cuda-11-7 cuda-11-8"
   ]
  },
  {
   "cell_type": "markdown",
   "id": "3b7a508e-9d41-45b8-a659-fefc661b0130",
   "metadata": {},
   "source": [
    "<details>\n",
    "<summary> Glossary </summary>\n",
    "    \n",
    "- NVIDIA CUDA: A parallel computing platform and programming model developed by NVIDIA for general computing on GPUs (graphics processing units).\n",
    "- CUDA drivers: Software components that enable communication between the CUDA runtime and the hardware.\n",
    "- CUDA 11-7, CUDA 11-8 and CUDA 12-0: Different versions of the CUDA toolkit that are compatible with different GPU architectures.\n",
    "    \n",
    "</details>"
   ]
  },
  {
   "cell_type": "markdown",
   "id": "ae94fbab-1fdc-4a55-b210-8016d5e25079",
   "metadata": {},
   "source": [
    "### NVIDIA Container Runtime"
   ]
  },
  {
   "cell_type": "code",
   "execution_count": null,
   "id": "cd25f18f-c37d-439d-a8bc-539cd9283dc7",
   "metadata": {},
   "outputs": [
    {
     "name": "stdout",
     "output_type": "stream",
     "text": [
      "nvidia-container-runtime is already the newest version (3.12.0-1).\n",
      "0 upgraded, 0 newly installed, 0 to remove and 4 not upgraded.\n"
     ]
    }
   ],
   "source": [
    "sudo apt -qq install nvidia-container-runtime"
   ]
  },
  {
   "cell_type": "markdown",
   "id": "59e97a54-52f7-4752-a12b-69d038b94ca7",
   "metadata": {},
   "source": [
    "<details>\n",
    "<summary> Glossary </summary>\n",
    "    \n",
    "- NVIDIA Container Runtime: An open-source container runtime that enables the use of GPUs within containers, allowing applications to leverage the power of NVIDIA GPUs while maintaining the flexibility and portability of containerization. It is designed to work with Docker and other container engines and is optimized for use with NVIDIA GPUs.\n",
    "- Docker: A popular platform for developing, deploying, and running applications in containers. It provides a way to package an application and its dependencies into a single container that can be easily moved between environments.\n",
    "- GPU: Short for Graphics Processing Unit, a specialized processor designed to accelerate the rendering of images and video. In recent years, GPUs have become increasingly popular for running compute-intensive workloads, such as machine learning and scientific simulations.\n",
    "    \n",
    "</details>"
   ]
  },
  {
   "cell_type": "markdown",
   "id": "57ddac3e-4b88-44a4-89cb-fd1d9615b2bc",
   "metadata": {},
   "source": [
    "### NVIDIA cuDNN"
   ]
  },
  {
   "cell_type": "code",
   "execution_count": null,
   "id": "a2f7ed83-3bb4-44a3-b78d-49cd56108f02",
   "metadata": {},
   "outputs": [
    {
     "name": "stdout",
     "output_type": "stream",
     "text": [
      "libcudnn8-dev is already the newest version (8.8.0.121-1+cuda12.0).\n",
      "0 upgraded, 0 newly installed, 0 to remove and 4 not upgraded.\n"
     ]
    }
   ],
   "source": [
    "sudo apt -qq install libcudnn8-dev"
   ]
  },
  {
   "cell_type": "code",
   "execution_count": null,
   "id": "54445adb-1e80-4fa5-a42d-2a3cc5f1216f",
   "metadata": {},
   "outputs": [
    {
     "name": "stdout",
     "output_type": "stream",
     "text": [
      "libcudnn8-samples is already the newest version (8.6.0.163-1+cuda11.8).\n",
      "0 upgraded, 0 newly installed, 0 to remove and 4 not upgraded.\n"
     ]
    }
   ],
   "source": [
    "sudo apt -qq install /var/cudnn-local-repo-ubuntu2204-8.6.0.163/libcudnn8-samples_8.6.0.163-1+cuda11.8_amd64.deb"
   ]
  },
  {
   "cell_type": "markdown",
   "id": "6d5f086b-8368-431e-b5e7-05aaed0b53a5",
   "metadata": {},
   "source": [
    "<details>\n",
    "<summary> Glossary </summary>\n",
    "    \n",
    "- NVIDIA cuDNN: A GPU-accelerated library for deep neural networks that is used to improve training and inference performance.\n",
    "- libcudnn8-dev: A package that provides the development files needed to compile software that uses NVIDIA cuDNN.\n",
    "- libcudnn8-samples: A package that contains sample code and programs that demonstrate how to use NVIDIA cuDNN in applications.\n",
    "\n",
    "</details>"
   ]
  },
  {
   "cell_type": "markdown",
   "id": "5b092fd3-15f9-4b6b-bf03-862fa25d4c34",
   "metadata": {},
   "source": [
    "### NVIDIA TensorRT"
   ]
  },
  {
   "cell_type": "markdown",
   "id": "1b26677f-9d6f-454a-aa4a-353286067587",
   "metadata": {},
   "source": [
    "NVIDIA TensorRT is an inference accelerator for deep learning models. It optimizes and deploys trained neural networks for inferencing on NVIDIA GPUs. In order to use TensorRT, the python3-libnvinfer package needs to be installed.\n",
    "\n",
    "Unfortunately, this package has a dependency issue, it requires a version of Python less than 3.11 for the package to work, but I couldn't downgrade the system's Python version. To resolve this issue, I modified the package to depend on the `python3.10` package instead of `python3 < 3.11`. I did this by copying the package to a local directory, unpacking it, modifying the dependency information, and repacking it. After this, I was able to successfully install the modified package and its development version using the dpkg command.\n",
    "\n",
    "Finally, I was able to install the main `tensorrt` package."
   ]
  },
  {
   "cell_type": "code",
   "execution_count": null,
   "id": "f865c3ec-763f-4f29-8e14-3631bb9143bb",
   "metadata": {},
   "outputs": [
    {
     "name": "stdout",
     "output_type": "stream",
     "text": [
      "Reading package lists...\n",
      "Building dependency tree...\n",
      "Reading state information...\n",
      "Some packages could not be installed. This may mean that you have\n",
      "requested an impossible situation or if you are using the unstable\n",
      "distribution that some required packages have not yet been created\n",
      "or been moved out of Incoming.\n",
      "The following information may help to resolve the situation:\n",
      "\n",
      "The following packages have unmet dependencies:\n",
      " python3-libnvinfer : Depends: python3 (< 3.11) but 3.11.2-1 is to be installed\n",
      "E: Unable to correct problems, you have held broken packages.\n"
     ]
    },
    {
     "ename": "",
     "evalue": "100",
     "output_type": "error",
     "traceback": []
    }
   ],
   "source": [
    "sudo apt-get -q install python3-libnvinfer-dev"
   ]
  },
  {
   "cell_type": "markdown",
   "id": "f06dc375-cbd8-469b-957c-c1fd0f5e0ff5",
   "metadata": {},
   "source": [
    "I'd like to install it as a python3.10 library at least, but it is demanding that the system Python version, i.e. the version of Debian's python3 package, should be less than 3.11, and I don't want to try to change that. So I'll adjust this `python3-libnvinfer` package to depend on the `python3.10` package instead of `python3 < 3.11`."
   ]
  },
  {
   "cell_type": "code",
   "execution_count": null,
   "id": "6115703f-61f7-4742-bfe5-a346400ff947",
   "metadata": {},
   "outputs": [
    {
     "name": "stdout",
     "output_type": "stream",
     "text": [
      "\u001b[0m\u001b[01;31mpython3-libnvinfer_8.5.3-1+cuda11.8_amd64.deb\u001b[0m\n",
      "\u001b[01;31mpython3-libnvinfer-dev_8.5.3-1+cuda11.8_amd64.deb\u001b[0m\n"
     ]
    }
   ],
   "source": [
    "cd /var/nv-tensorrt-local-repo-ubuntu2204-8.5.3-cuda-11.8\n",
    "ls python3-libnvinfer*"
   ]
  },
  {
   "cell_type": "code",
   "execution_count": null,
   "id": "070b1de0-cc14-4885-8c47-555ef11b5f8a",
   "metadata": {},
   "outputs": [
    {
     "name": "stdout",
     "output_type": "stream",
     "text": [
      "'python3-libnvinfer_8.5.3-1+cuda11.8_amd64.deb' -> '/home/sam/soft-ai/python3-libnvinfer_8.5.3-1+cuda11.8_amd64.deb'\n",
      "'python3-libnvinfer-dev_8.5.3-1+cuda11.8_amd64.deb' -> '/home/sam/soft-ai/python3-libnvinfer-dev_8.5.3-1+cuda11.8_amd64.deb'\n"
     ]
    }
   ],
   "source": [
    "cp -v python3-libnvinfer* ~/soft-ai/"
   ]
  },
  {
   "cell_type": "code",
   "execution_count": null,
   "id": "0f52f896-1eb2-41ce-a050-8cfbc8b64a7c",
   "metadata": {},
   "outputs": [],
   "source": [
    "cd ~/soft-ai\n",
    "command rm -rf unpacked\n",
    "dpkg-deb -R python3-libnvinfer_8.5.3-1+cuda11.8_amd64.deb unpacked"
   ]
  },
  {
   "cell_type": "code",
   "execution_count": null,
   "id": "5d17ca14-a256-4c95-8eda-061c5448018b",
   "metadata": {},
   "outputs": [
    {
     "name": "stdout",
     "output_type": "stream",
     "text": [
      "Depends: python3 (>= 3.10), python3 (<< 3.11), libnvinfer8 (= 8.5.3-1+cuda11.8), libnvinfer-plugin8 (= 8.5.3-1+cuda11.8), libnvparsers8 (= 8.5.3-1+cuda11.8), libnvonnxparsers8 (= 8.5.3-1+cuda11.8)\n"
     ]
    }
   ],
   "source": [
    "grep Depends unpacked/DEBIAN/control"
   ]
  },
  {
   "cell_type": "code",
   "execution_count": null,
   "id": "094664d1-0c3b-473d-9115-c34dedfbc858",
   "metadata": {},
   "outputs": [
    {
     "name": "stdout",
     "output_type": "stream",
     "text": [
      "Depends: python3.10, libnvinfer8 (= 8.5.3-1+cuda11.8), libnvinfer-plugin8 (= 8.5.3-1+cuda11.8), libnvparsers8 (= 8.5.3-1+cuda11.8), libnvonnxparsers8 (= 8.5.3-1+cuda11.8)\n"
     ]
    }
   ],
   "source": [
    "sed -i 's/python3 (>= 3.10), python3 (<< 3.11), /python3.10, /' unpacked/DEBIAN/control\n",
    "grep Depends unpacked/DEBIAN/control"
   ]
  },
  {
   "cell_type": "code",
   "execution_count": null,
   "id": "e97e401a-b6a2-463c-bb52-f3a2a48a5f20",
   "metadata": {},
   "outputs": [
    {
     "name": "stdout",
     "output_type": "stream",
     "text": [
      "\u001b[1mdpkg-deb:\u001b[0m building package 'python3-libnvinfer' in 'python3-libnvinfer_8.5.3-1+cuda11.8_amd64_fixed.deb'.\n"
     ]
    }
   ],
   "source": [
    "dpkg-deb -b unpacked python3-libnvinfer_8.5.3-1+cuda11.8_amd64_fixed.deb"
   ]
  },
  {
   "cell_type": "code",
   "execution_count": null,
   "id": "5b013120-badf-4389-a53d-c10957d07d78",
   "metadata": {},
   "outputs": [
    {
     "name": "stdout",
     "output_type": "stream",
     "text": [
      "Selecting previously unselected package python3-libnvinfer.\n",
      "(Reading database ... 1157567 files and directories currently installed.)\n",
      "Preparing to unpack .../python3-libnvinfer_8.5.3-1+cuda11.8_amd64_fixed.deb ...\n",
      "Unpacking python3-libnvinfer (8.5.3-1+cuda11.8) ...\n",
      "Selecting previously unselected package python3-libnvinfer-dev.\n",
      "Preparing to unpack .../python3-libnvinfer-dev_8.5.3-1+cuda11.8_amd64.deb ...\n",
      "Unpacking python3-libnvinfer-dev (8.5.3-1+cuda11.8) ...\n",
      "Setting up python3-libnvinfer (8.5.3-1+cuda11.8) ...\n",
      "Setting up python3-libnvinfer-dev (8.5.3-1+cuda11.8) ...\n"
     ]
    }
   ],
   "source": [
    "sudo dpkg -i ./python3-libnvinfer_8.5.3-1+cuda11.8_amd64_fixed.deb ./python3-libnvinfer-dev_8.5.3-1+cuda11.8_amd64.deb"
   ]
  },
  {
   "cell_type": "code",
   "execution_count": null,
   "id": "2ae72d72-6e36-4907-bd1d-c706409b2f97",
   "metadata": {},
   "outputs": [
    {
     "name": "stdout",
     "output_type": "stream",
     "text": [
      "tensorrt is already the newest version (8.5.3.1-1+cuda11.8).\n",
      "0 upgraded, 0 newly installed, 0 to remove and 4 not upgraded.\n"
     ]
    }
   ],
   "source": [
    "sudo apt -qq install tensorrt"
   ]
  },
  {
   "cell_type": "markdown",
   "id": "04bcc79b-644c-47e2-aa5f-cdd593eeecdf",
   "metadata": {},
   "source": [
    "<details>\n",
    "<summary> Glossary </summary>\n",
    "\n",
    "- NVIDIA TensorRT: An inference accelerator for deep learning models that optimizes and deploys trained neural networks for inferencing on NVIDIA GPUs.\n",
    "- python3-libnvinfer package: A package required to use TensorRT but has a dependency issue with the system's Python version.\n",
    "- Dependency issue: A problem that arises when a software package requires certain libraries or packages to run, and those libraries or packages are either not installed or not compatible with the system.\n",
    "- dpkg command: A command used to install Debian packages.\n",
    "    \n",
    "</details>"
   ]
  },
  {
   "cell_type": "markdown",
   "id": "c8282f02-f9fd-49d6-8729-d7514ffe7070",
   "metadata": {},
   "source": [
    "## Install Rust"
   ]
  },
  {
   "cell_type": "markdown",
   "id": "e44f40a2-ff73-4088-8bf0-82478c8b32ee",
   "metadata": {},
   "source": [
    "Some Python modules now depend on Rust to build. Also, I wanted to build Anki from source. I decided to install Rust system-wide, in `/opt/rust`:"
   ]
  },
  {
   "cell_type": "code",
   "execution_count": null,
   "id": "fa58f3d4-b537-4ad2-a0fd-f7f3191a7a69",
   "metadata": {},
   "outputs": [],
   "source": [
    "cd /tmp\n",
    "curl --proto '=https' --tlsv1.2 -sSf https://sh.rustup.rs > install_rust.sh\n",
    "sudo RUSTUP_HOME=/opt/rust CARGO_HOME=/opt/rust sh ./install_rust.sh -y --no-modify-path"
   ]
  },
  {
   "cell_type": "code",
   "execution_count": null,
   "id": "450b737e-be5a-448f-898c-64d9c2b2386a",
   "metadata": {},
   "outputs": [],
   "source": [
    ". /opt/rust/env\n",
    "rustup default stable"
   ]
  },
  {
   "cell_type": "markdown",
   "id": "980cd758-649a-4544-9d93-3900f135681b",
   "metadata": {},
   "source": [
    "<details>\n",
    "<summary> Glossary </summary>\n",
    "\n",
    "- Rust: A systems programming language that is known for its speed, reliability, and memory safety features. It is often used for developing web browsers, operating systems, and game engines, and has gained popularity in the field of machine learning for its ease of integration with Python.\n",
    "- rustup: A command-line tool for managing Rust installations and its various components, such as different toolchains and target platforms.\n",
    "- CARGO_HOME: An environment variable used by Rust to specify the directory where Cargo, the package manager for Rust, stores its configuration and package cache.\n",
    "- RUSTUP_HOME: An environment variable used by Rust to specify the directory where rustup stores its configuration and installed toolchains.\n",
    "- Anki: a popular open-source flashcard application designed to help users learn and memorize information efficiently. It allows users to create digital flashcards containing text, images, audio, and video, and use various study techniques such as spaced repetition to optimize learning and retention. Anki is available for Windows, macOS, Linux, Android, and iOS platforms.\n",
    "    \n",
    "</details>"
   ]
  },
  {
   "cell_type": "markdown",
   "id": "61b8b26a-e9c8-4028-bcf9-5f00f70ed52b",
   "metadata": {},
   "source": [
    "## Python environments"
   ]
  },
  {
   "cell_type": "markdown",
   "id": "7dce9c8e-ed23-4980-a887-7392e5f89711",
   "metadata": {},
   "source": [
    "I'm going to add Python venvs under `/opt/venvs`, and use hard linking to share large files between them.\n",
    "\n",
    "| Folder | Depends | Uses | Purpose |\n",
    "| --- | --- | --- | --- |\n",
    "| python3.10-ai | Debian's python3.10 | torch stable | AI development |\n",
    "| python3.10-webui | python3.10-ai | torch stable | stable-diffusion-webui |"
   ]
  },
  {
   "cell_type": "markdown",
   "id": "960df3a3-7220-4341-8773-ab217f00075d",
   "metadata": {},
   "source": [
    "### The base venv python3.10-ai"
   ]
  },
  {
   "cell_type": "markdown",
   "id": "014b8594-c353-40a5-b5c7-5e2f1ae92638",
   "metadata": {},
   "source": [
    "This venv is a base environment for AI development, containing various packages and libraries useful for working with deep learning models and related tasks. These include popular libraries like fastai, PyTorch, TensorFlow, scikit-learn, and NumPy, as well as some more specialized tools. The different packages are described in the glossary for this section."
   ]
  },
  {
   "cell_type": "code",
   "execution_count": null,
   "id": "f33a519e-2a36-47d9-a013-31c890e4365c",
   "metadata": {},
   "outputs": [],
   "source": [
    "mkdir -p /opt/venvs\n",
    "cd /opt/venvs"
   ]
  },
  {
   "cell_type": "code",
   "execution_count": null,
   "id": "b2fb873c-97ad-4983-b22f-89b600b627fb",
   "metadata": {},
   "outputs": [],
   "source": [
    "mkdir -p python3.10-ai\n",
    "python3.10 -m venv python3.10-ai/venv"
   ]
  },
  {
   "cell_type": "code",
   "execution_count": null,
   "id": "319f87fe-c22e-4de4-a87b-fdca41d7e613",
   "metadata": {},
   "outputs": [],
   "source": [
    "printf \"%s\\n\" torch pipdeptree torchvision torchaudio tensorflow \\\n",
    "    jupyter jupyterlab ipywidgets bash_kernel jupyter-c-kernel nbdev fastai \\\n",
    "    pandas matplotlib scipy scikit-learn scikit-image gradio onnx \\\n",
    "    huggingface_hub transformers diffusers accelerate timm safetensors \\\n",
    "    numba fastbook > python3.10-ai/require.txt"
   ]
  },
  {
   "cell_type": "code",
   "execution_count": null,
   "id": "4e037c72-1d14-4e4a-8a8d-06012cfc24bd",
   "metadata": {},
   "outputs": [
    {
     "name": "stdout",
     "output_type": "stream",
     "text": [
      "Installing IPython kernel spec\n",
      "Installing IPython kernel spec\n",
      "/opt/venvs/python3.10-ai/venv/bin/install_c_kernel:32: DeprecationWarning: replace is ignored. Installing a kernelspec always replaces an existing installation\n",
      "  KernelSpecManager().install_kernel_spec(td, 'c', user=user, replace=True, prefix=prefix)\n"
     ]
    }
   ],
   "source": [
    "(\n",
    "set -e\n",
    ". python3.10-ai/venv/bin/activate\n",
    "pip install -qq -U -r python3.10-ai/require.txt\n",
    "python -m bash_kernel.install\n",
    "install_c_kernel\n",
    ")"
   ]
  },
  {
   "cell_type": "markdown",
   "id": "494a3883-6416-4e2e-acb9-6a637831939d",
   "metadata": {},
   "source": [
    "The pydoc command doesn't seem to be installed properly in venvs, so I added it:"
   ]
  },
  {
   "cell_type": "code",
   "execution_count": null,
   "id": "88564079-c3b3-448b-bf50-c34db502cee4",
   "metadata": {},
   "outputs": [],
   "source": [
    "cat <<END > python3.10-ai/venv/bin/pydoc\n",
    "#!/bin/sh\n",
    "python -m pydoc \"$@\"\n",
    "END\n",
    "\n",
    "chmod +x python3.10-ai/venv/bin/pydoc"
   ]
  },
  {
   "cell_type": "markdown",
   "id": "c5ed1513-911d-49ad-9463-7d0451bb94fb",
   "metadata": {},
   "source": [
    "<details>\n",
    "<summary> Glossary </summary>\n",
    "\n",
    "- Python venvs: Virtual environments created by the Python venv module that allow users to create isolated Python environments with their own packages, versions, and configurations.\n",
    "- hard linking: A method of creating a new file that shares the same content as an existing file without duplicating it, saving storage space and reducing the time needed to create a copy.\n",
    "- torch: PyTorch, an open-source machine learning framework for building and training neural networks.\n",
    "- torchvision: A package that provides access to popular datasets, model architectures, and image transformations for PyTorch.\n",
    "- torchaudio: A package that provides audio processing functionalities for PyTorch, such as loading and decoding audio files, applying transforms, and computing spectrograms.\n",
    "- tensorflow: An open-source machine learning framework developed by Google for building and training neural networks.\n",
    "- jupyter: Jupyter Notebook, an open-source web application that allows users to create and share documents containing live code, equations, visualizations, and narrative text.\n",
    "- jupyterlab: The next-generation web-based user interface for Jupyter Notebook, featuring a more modern and flexible interface, multiple panes, and support for Jupyter extensions.\n",
    "- ipywidgets: A library that provides interactive HTML widgets for Jupyter Notebook and JupyterLab, enabling users to create sliders, dropdowns, buttons, and other graphical controls that can be used to modify code outputs and visualizations.\n",
    "- bash_kernel: A Jupyter kernel that allows users to run Bash commands and scripts in Jupyter Notebook and JupyterLab.\n",
    "- jupyter-c-kernel: A Jupyter kernel that allows users to run C code in Jupyter Notebook and JupyterLab.\n",
    "- nbdev: A library that allows users to create Python modules from Jupyter Notebooks, making it easier to develop, test, and publish code.\n",
    "- fastai: An open-source library built on top of PyTorch that provides high-level abstractions for training and deploying machine learning models, including computer vision, natural language processing, and tabular data analysis.\n",
    "- pandas: A data analysis library for Python that provides powerful data structures and tools for manipulating and analyzing data.\n",
    "- matplotlib: A plotting library for Python that provides a variety of visualizations, including line plots, scatter plots, bar charts, histograms, and more.\n",
    "- scipy: A library for scientific computing in Python that provides a wide range of mathematical algorithms, including optimization, integration, interpolation, signal processing, and more.\n",
    "- scikit-learn: A machine learning library for Python that provides a variety of supervised and unsupervised learning algorithms, including regression, classification, clustering, and dimensionality reduction.\n",
    "- scikit-image: An image processing library for Python that provides a variety of algorithms for image enhancement, filtering, segmentation, and feature extraction.\n",
    "- gradio: An open-source library that allows users to quickly create custom web interfaces for machine learning models, enabling users to interact with models using sliders, dropdowns, text boxes, and other controls.\n",
    "- onnx: Open Neural Network Exchange, an open-source format for representing machine learning models that allows interoperability between different frameworks and platforms.\n",
    "- huggingface_hub: A library that provides access to a wide range of pre-trained machine learning models for natural language processing, computer vision, and other tasks, hosted on the Hugging Face Hub.\n",
    "- transformers: A library that provides state-of-the-art natural language processing models for tasks such as sentiment analysis, question answering, and language translation, based on transformer architectures.\n",
    "- diffusers: A library that provides a set of PyTorch modules for training diffusion models, a type of probabilistic generative model that can be used for tasks such as image synthesis, denoising, and inpainting.\n",
    "- pipdeptree: a command-line utility that displays the installed Python packages in the form of a dependency tree\n",
    "- Accelerate: a library that enables PyTorch code to run across any distributed configuration with just four lines of code\n",
    "- PyTorch Image Models (timm): a deep-learning library that includes a collection of state-of-the-art computer vision models, layers, utilities, optimizers, schedulers, data-loaders, augmentations, and training/validating scripts with the ability to reproduce ImageNet training results\n",
    "- Safetensors: a repository that implements a new simple format for storing tensors safely and efficiently, instead of using pickle\n",
    "- Numba: a high-performance Python compiler that translates Python functions to optimized machine code at runtime using the industry-standard LLVM compiler library; it offers a range of options for parallelizing Python code for CPUs and GPUs, often with only minor code changes\n",
    "- fastbook: the Fast.ai book published as Jupyter Notebooks, that covers deep learning using fastai and PyTorch\n",
    "\n",
    "</details>"
   ]
  },
  {
   "cell_type": "markdown",
   "id": "7a93ea4a-d444-433e-a07f-480532c92064",
   "metadata": {},
   "source": [
    "### The secondary venv python3.10-webui"
   ]
  },
  {
   "cell_type": "markdown",
   "id": "598aadab-5069-4597-a0a0-38bfcf5b57fe",
   "metadata": {},
   "source": [
    "This is a secondary Python venv called python3.10-webui. It will be used to support the stable-diffusion web user interface, and is based on the python3.10-ai venv. Hard linking will be used to share large files between the two venvs."
   ]
  },
  {
   "cell_type": "code",
   "execution_count": null,
   "id": "6a0ac3a8-8e5e-409b-8d5f-bd99fcbbba4d",
   "metadata": {},
   "outputs": [],
   "source": [
    "cd /opt/venvs"
   ]
  },
  {
   "cell_type": "code",
   "execution_count": null,
   "id": "94dc625c-b555-46dd-8278-27b3e973fe31",
   "metadata": {},
   "outputs": [],
   "source": [
    "mkdir -p python3.10-webui"
   ]
  },
  {
   "cell_type": "code",
   "execution_count": null,
   "id": "8138aa0e-9f61-45bb-93ec-a1ac3044e013",
   "metadata": {},
   "outputs": [],
   "source": [
    "command rm -rf python3.10-webui/venv"
   ]
  },
  {
   "cell_type": "code",
   "execution_count": null,
   "id": "c786aec3-6802-44bd-9e83-98bb45bb91e8",
   "metadata": {},
   "outputs": [],
   "source": [
    "cp -al python3.10-ai/venv python3.10-webui/venv"
   ]
  },
  {
   "cell_type": "code",
   "execution_count": null,
   "id": "e06c58be-192d-48af-8ef2-ef2e160f2f0b",
   "metadata": {},
   "outputs": [],
   "source": [
    "yes | venv_move python3.10-webui/venv"
   ]
  },
  {
   "cell_type": "code",
   "execution_count": null,
   "id": "a30014f8-c85b-4732-9876-556b004e6423",
   "metadata": {},
   "outputs": [],
   "source": [
    "(\n",
    "cat python3.10-ai/require.txt ~/soft-ai/stable-diffusion-webui/requirements.txt \n",
    "echo fastapi==0.90.1\n",
    ") > python3.10-webui/require.txt"
   ]
  },
  {
   "cell_type": "code",
   "execution_count": null,
   "id": "d3db5aa7-ba3f-4e6c-98d5-31dd794b54ed",
   "metadata": {},
   "outputs": [],
   "source": [
    "(\n",
    "set -e\n",
    ". python3.10-webui/venv/bin/activate\n",
    "pip install -qq -U -r python3.10-webui/require.txt\n",
    ")"
   ]
  },
  {
   "cell_type": "code",
   "execution_count": null,
   "id": "d1d2ac58-e282-4306-be10-64f7f196cb8c",
   "metadata": {},
   "outputs": [],
   "source": [
    "ln -f python3.10-ai/venv/bin/pydoc python3.10-webui/venv/bin/pydoc"
   ]
  },
  {
   "cell_type": "markdown",
   "id": "55e0172b-461c-4237-9ea4-8ea2a995d4e4",
   "metadata": {},
   "source": [
    "<details>\n",
    "<summary> Glossary </summary>\n",
    "    \n",
    "- hard linking: a file system feature that allows multiple files to share the same physical storage location on disk. Hard linking a file creates a new file that points to the same location as the original file. This can be used to save disk space and reduce redundancy in a file system.\n",
    "- [venv_move](https://stackoverflow.com/a/67979710/218294): this is a Bash script that is used to move a Python virtual environment (venv) to a new location. The script takes one argument, which is the path to the venv directory that needs to be moved.\n",
    "    \n",
    "</details>"
   ]
  },
  {
   "cell_type": "markdown",
   "id": "16606da0-1b8b-4e85-8f22-a670d0fda9cb",
   "metadata": {},
   "source": [
    "### stable-diffusion-webui"
   ]
  },
  {
   "cell_type": "markdown",
   "id": "5b5df2af-bb4f-40f3-a5fd-1dac8feed5ef",
   "metadata": {},
   "source": [
    "In this section, we will install the [automatic1111 stable-diffusion-webui app](https://github.com/AUTOMATIC1111/stable-diffusion-webui) and set up custom scripts to update and launch it. The stable-diffusion-webui app is a web user interface for the Stable Diffusion model, which is a deep learning model for image classification. The update script will allow us to easily update the app when new changes are pushed to the Git repository. The launch script will activate the correct virtual environment and launch the web user interface.\n",
    "\n",
    "The app works without these custom scripts, but I wanted to allow for careful updates and custom launch options."
   ]
  },
  {
   "cell_type": "code",
   "execution_count": null,
   "id": "63df66ab-e985-4ffd-8f57-a1c6824bfed6",
   "metadata": {},
   "outputs": [],
   "source": [
    "cd ~/soft-ai\n",
    "[ -d stable-diffusion-webui ] ||\n",
    "git clone git@github.com:AUTOMATIC1111/stable-diffusion-webui.git\n",
    "cd stable-diffusion-webui"
   ]
  },
  {
   "cell_type": "markdown",
   "id": "bf70d633-e159-40ae-a08d-282e227f2400",
   "metadata": {},
   "source": [
    "#### my update script"
   ]
  },
  {
   "cell_type": "code",
   "execution_count": null,
   "id": "5d9b3771-7cb1-4e9d-83d5-ce8b18f3fc6b",
   "metadata": {},
   "outputs": [
    {
     "name": "stdout",
     "output_type": "stream",
     "text": [
      "#!/bin/sh\n",
      "set -e\n",
      ". /opt/venvs/python3.10-webui/venv/bin/activate\n",
      "git stash\n",
      "git pull\n",
      "git stash pop || true\n",
      "pip install -r requirements.txt\n"
     ]
    }
   ],
   "source": [
    "cat update"
   ]
  },
  {
   "cell_type": "markdown",
   "id": "b08ecb9c-b6be-4788-b037-add657caa0d7",
   "metadata": {},
   "source": [
    "#### my launch script"
   ]
  },
  {
   "cell_type": "code",
   "execution_count": null,
   "id": "05e32c0b-cb89-42d0-9f50-501c534cbbf1",
   "metadata": {},
   "outputs": [
    {
     "name": "stdout",
     "output_type": "stream",
     "text": [
      "#!/bin/bash\n",
      "set -ae\n",
      ". /opt/venvs/python3.10-webui/venv/bin/activate\n",
      "cd \"$(dirname \"$(readlink -f \"$0\")\")\"\n",
      "SAFETENSORS_FAST_GPU=1\n",
      "COMMANDLINE_ARGS=\"--xformers --api $*\"  # --no-half-vae\n",
      "REQS_FILE=\"requirements.txt\"\n",
      "python launch.py\n"
     ]
    }
   ],
   "source": [
    "cat launch"
   ]
  },
  {
   "cell_type": "markdown",
   "id": "a5203087-2b2c-4517-96de-e9326402a986",
   "metadata": {},
   "source": [
    "Next, I launch the webui to install some extra requirements, and check that it works."
   ]
  },
  {
   "cell_type": "markdown",
   "id": "ba362115-ae8e-4025-9406-48c1f0026da1",
   "metadata": {},
   "source": [
    "<details>\n",
    "<summary> Glossary </summary>\n",
    "    \n",
    "- stable-diffusion-webui: A web user interface for the Stable Diffusion model, a deep learning model for image classification. The stable-diffusion-webui app is installed in this section, along with custom scripts for updating and launching it.\n",
    "- update script: A custom script for updating the stable-diffusion-webui app. The script activates the correct virtual environment and pulls changes from the Git repository, installs any new requirements, and restarts the app.\n",
    "- launch script: A custom script for launching the stable-diffusion-webui app. The script activates the correct virtual environment and sets some environment variables before running the launch.py script.\n",
    "- SAFETENSORS_FAST_GPU=1: an environment variable used with the Safetensors library in deep learning applications. Normally, models are loaded to the CPU and then moved to the GPU, which can involve an additional memory copy step. The \"SAFETENSORS_FAST_GPU=1\" option allows models to be loaded directly onto the GPU, bypassing the memory copy step and potentially improving performance. However, this option is untested and may not be suitable for all applications.\n",
    "- COMMANDLINE_ARGS: An environment variable used in the launch script to pass command line arguments to the launch.py script.\n",
    "- REQS_FILE: An environment variable used in the launch script to specify which requirements file should be used for the stable-diffusion-webui app.\n",
    "- requirements.txt file: a text file that lists the dependencies of a Python project. It contains a list of package names and optional version numbers that are required for the project to run. This file can be used by the pip package installer to automatically install all required packages and their dependencies, like this: `pip install -r requirements.txt`\n",
    "    \n",
    "</details>"
   ]
  },
  {
   "cell_type": "markdown",
   "id": "322c309a-0c06-4f92-b142-0fba536da86a",
   "metadata": {},
   "source": [
    "### Compare the two venvs"
   ]
  },
  {
   "cell_type": "markdown",
   "id": "559992f2-9936-44c4-b172-8ade24445aa1",
   "metadata": {},
   "source": [
    "In this section, we compare the packages installed in the two Python virtual environments we created earlier. By running the \"pip freeze\" command in each venv and storing the output in a text file, we can then compare the contents of those files using the \"comm\" command. The resulting output shows the packages that are installed in one venv but not the other. We can use this information to ensure that both venvs have the necessary packages for our projects.\n",
    "\n",
    "Running pip check in both venvs can help ensure that all packages are installed correctly and functioning properly. In the output, we see a package conflict related to the version of protobuf installed, but this does not seem to cause any issues in practice as the app still works."
   ]
  },
  {
   "cell_type": "code",
   "execution_count": null,
   "id": "1c7926bc-0109-454e-a8b1-e12e4305eae3",
   "metadata": {},
   "outputs": [],
   "source": [
    "cd /opt/venvs"
   ]
  },
  {
   "cell_type": "code",
   "execution_count": null,
   "id": "001abffe-ee5c-4139-ac85-4cf382f019f5",
   "metadata": {},
   "outputs": [
    {
     "name": "stdout",
     "output_type": "stream",
     "text": [
      "No broken requirements found.\n"
     ]
    }
   ],
   "source": [
    "(\n",
    ". python3.10-ai/venv/bin/activate\n",
    "pip freeze | grep -v '^[#-]' | sort > python3.10-ai/freeze.txt\n",
    "pip check\n",
    ")"
   ]
  },
  {
   "cell_type": "code",
   "execution_count": null,
   "id": "5e9acf6d-65b7-434a-8d0e-cfb87ca9139c",
   "metadata": {},
   "outputs": [
    {
     "name": "stdout",
     "output_type": "stream",
     "text": [
      "tensorflow 2.11.0 has requirement protobuf<3.20,>=3.9.2, but you have protobuf 3.20.0.\n"
     ]
    },
    {
     "ename": "",
     "evalue": "1",
     "output_type": "error",
     "traceback": []
    }
   ],
   "source": [
    "(\n",
    ". python3.10-webui/venv/bin/activate\n",
    "pip freeze | grep -v '^[#-]' | sort > python3.10-webui/freeze.txt\n",
    "pip check\n",
    ")"
   ]
  },
  {
   "cell_type": "code",
   "execution_count": null,
   "id": "6549c7d0-ac0b-4032-b3a7-5f657c7ca081",
   "metadata": {},
   "outputs": [],
   "source": [
    "comm -3 python3.10-ai/freeze.txt python3.10-webui/freeze.txt | tee comm.txt"
   ]
  },
  {
   "cell_type": "markdown",
   "id": "27526da7-a8a8-4b6d-b874-3a7ae8fa26b1",
   "metadata": {},
   "source": [
    "<details>\n",
    "<summary> Glossary </summary>\n",
    "    \n",
    "pip freeze: A command used to output the names and versions of installed Python packages in the format required for a requirements.txt file. We use pip freeze to generate the requirements.txt files for both venvs so we can compare them.\n",
    "\n",
    "pip check: A command in pip that checks the consistency of installed packages, verifying that all dependencies are met and all files are intact. It will report any issues or conflicts with installed packages, and can help identify packages that need to be updated or removed.\n",
    "    \n",
    "sort: A Unix utility used to sort the lines of a file alphabetically. We use the sort command to ensure that the lines in the requirements.txt files are in the same order, making it easier to compare them. The comm utility requires that it's inputs are sorted.\n",
    "\n",
    "comm: A Unix utility used to compare two files line by line. In this section, we use the comm command to compare the contents of two requirements.txt files and display the lines that are unique to each file.\n",
    "\n",
    "</details>"
   ]
  },
  {
   "cell_type": "markdown",
   "id": "636316c3-ba84-479e-97e8-52bf23029255",
   "metadata": {},
   "source": [
    "### Check disk usage and savings"
   ]
  },
  {
   "cell_type": "markdown",
   "id": "33d8f978-6862-47e7-bae6-1f6e8ef113be",
   "metadata": {},
   "source": [
    "In this section, we use the du tool to check the disk usage and savings of the base venv and webui venv. By using hard links, we can see that we are saving nearly 6GB of disk space. We use the du -sh command to show the size of each venv separately and du -csh command to show the total size of both venvs."
   ]
  },
  {
   "cell_type": "code",
   "execution_count": null,
   "id": "f3f177fc-d355-4d63-aa2e-d8bae80c557d",
   "metadata": {},
   "outputs": [
    {
     "name": "stdout",
     "output_type": "stream",
     "text": [
      "5.9G\t./python3.10-ai\n",
      "6.2G\t./python3.10-webui\n"
     ]
    }
   ],
   "source": [
    "du -sh ./python3.10-ai\n",
    "du -sh ./python3.10-webui"
   ]
  },
  {
   "cell_type": "code",
   "execution_count": null,
   "id": "398ea0a9-54e2-463c-97b1-0694eae5cbeb",
   "metadata": {},
   "outputs": [
    {
     "name": "stdout",
     "output_type": "stream",
     "text": [
      "5.9G\t./python3.10-ai\n",
      "652M\t./python3.10-webui\n",
      "6.6G\ttotal\n"
     ]
    }
   ],
   "source": [
    "du -csh ./python3.10-{ai,webui}"
   ]
  },
  {
   "cell_type": "markdown",
   "id": "393ea431-8e5d-4328-83e5-891a5e3e544b",
   "metadata": {},
   "source": [
    "<details>\n",
    "<summary> Glossary </summary>\n",
    "    \n",
    "- du: A command-line tool used to estimate file space usage in a file system. It can display the file size in human-readable format.\n",
    "- disk usage: The amount of disk space occupied by a file or directory in a file system.\n",
    "- hard links: A feature of the file system that allows multiple files to share the same data blocks on a storage device. Hard links allow a file to have multiple names in different directories or in the same directory.\n",
    "    \n",
    "</details>"
   ]
  },
  {
   "cell_type": "markdown",
   "id": "180da457-c2bf-4400-97c6-0581e9920dc9",
   "metadata": {},
   "source": [
    "### Save the setup in a git repo"
   ]
  },
  {
   "cell_type": "markdown",
   "id": "2a4c0d72-08a6-4362-a3e4-ff84191accbf",
   "metadata": {},
   "source": [
    "In this section, we initialize a new Git repository to save our virtual environment setup. We create a \".gitignore\" file to exclude the venvs from version control, add all files to the Git staging area, and commit the changes with a message. This allows us to easily track and version our venv setup and changes over time."
   ]
  },
  {
   "cell_type": "code",
   "execution_count": null,
   "id": "543136f3-2147-45f7-a67f-8179025bdf86",
   "metadata": {},
   "outputs": [
    {
     "name": "stdout",
     "output_type": "stream",
     "text": [
      "Reinitialized existing shared Git repository in /opt/venvs/.git/\n",
      "[main 8fd5a24] venvs\n",
      " 2 files changed, 15 insertions(+), 1 deletion(-)\n"
     ]
    }
   ],
   "source": [
    "git init\n",
    "echo venv > .gitignore\n",
    "git add -A\n",
    "git commit -m 'venvs'"
   ]
  },
  {
   "cell_type": "markdown",
   "id": "1ecea19b-18e6-45e2-b140-cbed4070fb5e",
   "metadata": {},
   "source": [
    "<details>\n",
    "<summary> Glossary </summary>\n",
    "    \n",
    "- Git: A version control system used for tracking changes to files and collaborating on projects.\n",
    "- Repository: A central location in which data is stored and managed.\n",
    "- .gitignore: A file used to exclude files and directories from being tracked by Git.\n",
    "- Staging area: A place where files are stored before they are committed to the repository.\n",
    "- Commit: A permanent record of changes to files in the repository, along with a message that describes the changes.\n",
    "    \n",
    "</details>"
   ]
  },
  {
   "cell_type": "markdown",
   "id": "8dc5e42e-de57-408f-9f8e-f08662fbe603",
   "metadata": {},
   "source": [
    "# Optional extras"
   ]
  },
  {
   "cell_type": "markdown",
   "id": "9fdc08cd-88d4-41c4-a4de-e28d034de597",
   "metadata": {},
   "source": [
    "## Building xformers"
   ]
  },
  {
   "cell_type": "markdown",
   "id": "6b159059-2742-4cb0-b19f-835ec9308c69",
   "metadata": {},
   "source": [
    "If you need to build and install `xformers` from source, this is how to do it. It took nearly half an hour on a fast computer. I think that it didn't build things in parallel. I used this with stable-diffusion-webui, when the binary packages of xformers weren't working."
   ]
  },
  {
   "cell_type": "code",
   "execution_count": null,
   "id": "1019714e-c525-40c5-8abb-c712ca92a5cc",
   "metadata": {},
   "outputs": [],
   "source": [
    "cd ~/soft-ai\n",
    "[ -d xformers ] || git clone https://github.com/facebookresearch/xformers.git\n",
    "cd xformers"
   ]
  },
  {
   "cell_type": "code",
   "execution_count": null,
   "id": "91eb52bc-a813-4fb1-a29b-4cdfc41cfb83",
   "metadata": {},
   "outputs": [],
   "source": [
    "git submodule update --init --recursive"
   ]
  },
  {
   "cell_type": "code",
   "execution_count": null,
   "id": "7b48400c-dc5b-40d7-9a5e-e1327a427285",
   "metadata": {},
   "outputs": [
    {
     "name": "stdout",
     "output_type": "stream",
     "text": [
      "Already up to date.\n"
     ]
    }
   ],
   "source": [
    "git pull\n",
    "git submodule update --recursive"
   ]
  },
  {
   "cell_type": "code",
   "execution_count": null,
   "id": "cadf5d52-200e-405b-a79a-efd7db2b53a3",
   "metadata": {},
   "outputs": [
    {
     "name": "stdout",
     "output_type": "stream",
     "text": [
      "running clean\n",
      "'build/lib.linux-x86_64-cpython-310' does not exist -- can't clean it\n",
      "'build/bdist.linux-x86_64' does not exist -- can't clean it\n",
      "'build/scripts-3.10' does not exist -- can't clean it\n"
     ]
    }
   ],
   "source": [
    "python setup.py clean --all"
   ]
  },
  {
   "cell_type": "code",
   "execution_count": null,
   "id": "d5da66f5-c740-4fdc-8c5d-6f87e20c9f12",
   "metadata": {},
   "outputs": [
    {
     "name": "stdout",
     "output_type": "stream",
     "text": [
      "/opt/venvs/python3.10-ai/venv\n"
     ]
    }
   ],
   "source": [
    "echo $VIRTUAL_ENV"
   ]
  },
  {
   "cell_type": "code",
   "execution_count": null,
   "id": "ad3648ac-f69a-41f6-9a8f-1cc46d84bd2f",
   "metadata": {},
   "outputs": [
    {
     "name": "stdout",
     "output_type": "stream",
     "text": [
      "Obtaining file:///home/sam/soft-ai/xformers\n",
      "  Preparing metadata (setup.py): started\n",
      "  Preparing metadata (setup.py): finished with status 'done'\n",
      "Requirement already satisfied: numpy in /opt/venvs/python3.10-ai/venv/lib/python3.10/site-packages (from xformers==0.0.17+b89a493.d20230303) (1.23.5)\n",
      "Requirement already satisfied: pyre-extensions==0.0.23 in /opt/venvs/python3.10-ai/venv/lib/python3.10/site-packages (from xformers==0.0.17+b89a493.d20230303) (0.0.23)\n",
      "Requirement already satisfied: torch>=1.12 in /opt/venvs/python3.10-ai/venv/lib/python3.10/site-packages (from xformers==0.0.17+b89a493.d20230303) (1.13.1)\n",
      "Requirement already satisfied: typing-extensions in /opt/venvs/python3.10-ai/venv/lib/python3.10/site-packages (from pyre-extensions==0.0.23->xformers==0.0.17+b89a493.d20230303) (4.5.0)\n",
      "Requirement already satisfied: typing-inspect in /opt/venvs/python3.10-ai/venv/lib/python3.10/site-packages (from pyre-extensions==0.0.23->xformers==0.0.17+b89a493.d20230303) (0.8.0)\n",
      "Requirement already satisfied: nvidia-cuda-nvrtc-cu11==11.7.99 in /opt/venvs/python3.10-ai/venv/lib/python3.10/site-packages (from torch>=1.12->xformers==0.0.17+b89a493.d20230303) (11.7.99)\n",
      "Requirement already satisfied: nvidia-cudnn-cu11==8.5.0.96 in /opt/venvs/python3.10-ai/venv/lib/python3.10/site-packages (from torch>=1.12->xformers==0.0.17+b89a493.d20230303) (8.5.0.96)\n",
      "Requirement already satisfied: nvidia-cuda-runtime-cu11==11.7.99 in /opt/venvs/python3.10-ai/venv/lib/python3.10/site-packages (from torch>=1.12->xformers==0.0.17+b89a493.d20230303) (11.7.99)\n",
      "Requirement already satisfied: nvidia-cublas-cu11==11.10.3.66 in /opt/venvs/python3.10-ai/venv/lib/python3.10/site-packages (from torch>=1.12->xformers==0.0.17+b89a493.d20230303) (11.10.3.66)\n",
      "Requirement already satisfied: setuptools in /opt/venvs/python3.10-ai/venv/lib/python3.10/site-packages (from nvidia-cublas-cu11==11.10.3.66->torch>=1.12->xformers==0.0.17+b89a493.d20230303) (66.1.1)\n",
      "Requirement already satisfied: wheel in /opt/venvs/python3.10-ai/venv/lib/python3.10/site-packages (from nvidia-cublas-cu11==11.10.3.66->torch>=1.12->xformers==0.0.17+b89a493.d20230303) (0.38.4)\n",
      "Requirement already satisfied: mypy_extensions>=0.3.0 in /opt/venvs/python3.10-ai/venv/lib/python3.10/site-packages (from typing-inspect->pyre-extensions==0.0.23->xformers==0.0.17+b89a493.d20230303) (1.0.0)\n",
      "Installing collected packages: xformers\n",
      "  Running setup.py develop for xformers\n",
      "Successfully installed xformers-0.0.17+b89a493.d20230303\n",
      "1498.23user 47.47system 21:29.43elapsed 119%CPU (0avgtext+0avgdata 1777728maxresident)k\n",
      "4848inputs+12701968outputs (64major+40118051minor)pagefaults 0swaps\n"
     ]
    }
   ],
   "source": [
    "CUDA_HOME=\"/usr/local/cuda-11.7\" CC=gcc-11 CXX=g++-11 MAKEFLAGS=\"-j$(nproc)\" \\\n",
    "time pip install -e . 2>&1 | tee build.log"
   ]
  },
  {
   "cell_type": "markdown",
   "id": "c177cd8f-ee1b-4cf7-9791-b0c12a5685bb",
   "metadata": {},
   "source": [
    "<details>\n",
    "<summary> Glossary </summary>\n",
    "    \n",
    "- xformers: a library for accelerating transformer-based models in PyTorch.\n",
    "- CUDA_HOME: an environment variable that specifies the path to the CUDA installation directory.\n",
    "- gcc-11 and g++-11: the GNU Compiler Collection version 11 for the C and C++ programming languages, respectively. Xformers won't build with gcc-12, so we need to specify the older version.\n",
    "- nproc: a command that outputs the number of processing units available to the current process.\n",
    "- setup.py: a Python script that is used to package and distribute Python modules.\n",
    "- submodule: a feature in Git that allows a repository to contain another repository as a subdirectory.\n",
    "- tee: a command that reads standard input and writes it to both standard output and one or more files.\n",
    "- time: a command that displays the system time for a command to execute.\n",
    "    \n",
    "</details>"
   ]
  },
  {
   "cell_type": "markdown",
   "id": "fc76a29e-4d80-4f86-b476-40186867a224",
   "metadata": {},
   "source": [
    "# Conclusion"
   ]
  },
  {
   "cell_type": "markdown",
   "id": "367e97f7-f525-4158-a6e0-6432d060f42e",
   "metadata": {},
   "source": [
    "In this post, I described my journey of setting up a development environment for deep learning on Debian, and the challenges I faced while doing so. I went through various steps, such as setting up apt sources, installing required packages (including Python, NVIDIA CUDA, cuDNN, and TensorRT), installing Rust, and setting up Python virtual environments. I also described how to building Xformers from source. I hope the post can be useful for anyone looking to set up a development environment for deep learning on Debian, in particular I expect it might be useful as a reference for myself in future."
   ]
  }
 ],
 "metadata": {
  "kernelspec": {
   "display_name": "bash",
   "language": "bash",
   "name": "bash"
  }
 },
 "nbformat": 4,
 "nbformat_minor": 5
}
