{
 "cells": [
  {
   "cell_type": "raw",
   "id": "8f4e028f",
   "metadata": {},
   "source": [
    "---\n",
    "title: \"Backporting neovim to Debian 11 bullseye\"\n",
    "date: \"2023-03-06\"\n",
    "format:\n",
    "  html:\n",
    "    code-fold: false\n",
    "    code-tools:\n",
    "      source: https://github.com/sswam/ai/blob/main/blog/posts/backport/backport.ipynb\n",
    "jupyter: bash\n",
    "toc: true\n",
    "toc-depth: 2\n",
    "categories: [setup, Debian]\n",
    "draft: true\n",
    "---"
   ]
  },
  {
   "cell_type": "markdown",
   "id": "083df6bf",
   "metadata": {},
   "source": [
    "## Introduction"
   ]
  }
 ],
 "metadata": {
  "kernelspec": {
   "display_name": "python3",
   "language": "python",
   "name": "python3"
  }
 },
 "nbformat": 4,
 "nbformat_minor": 5
}
