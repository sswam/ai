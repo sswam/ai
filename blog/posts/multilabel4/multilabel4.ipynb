{
 "cells": [
  {
   "cell_type": "raw",
   "id": "52964438-66a4-42c7-8ea5-6ffbe3cc3b21",
   "metadata": {},
   "source": [
    "---\n",
    "title: \"A multi-label classifier, part 4: cleaning up the dataset\"\n",
    "date: \"2023-03-11\"\n",
    "date-modified: \"2023-03-12\"\n",
    "format:\n",
    "  html:\n",
    "    code-fold: false\n",
    "    code-tools:\n",
    "      source: https://github.com/sswam/ai/blob/main/blog/posts/multilabel4/multilabel4.ipynb\n",
    "jupyter: python\n",
    "toc: true\n",
    "toc-depth: 2\n",
    "categories: []\n",
    "draft: true\n",
    "---"
   ]
  },
  {
   "cell_type": "markdown",
   "id": "2090b576-5914-4ea3-80c7-c3cdc8b954f9",
   "metadata": {},
   "source": [
    "## Introduction"
   ]
  },
  {
   "cell_type": "markdown",
   "id": "50f8ab83-0728-478c-a89c-f6219b68aba1",
   "metadata": {},
   "source": [
    "## clean up the downloaded images"
   ]
  },
  {
   "cell_type": "markdown",
   "id": "43d0ae29-4e3e-4d80-ba6d-9ca8c48349b6",
   "metadata": {},
   "source": [
    "This is too much effort, should have just deleted any failing ones. I'm not sure why the AVIF images wouldn't load."
   ]
  },
  {
   "cell_type": "code",
   "execution_count": null,
   "id": "7e666b46-b690-4f0b-b7b3-34f3df4ff88d",
   "metadata": {},
   "outputs": [],
   "source": [
    "from fastai.vision.all import *"
   ]
  },
  {
   "cell_type": "code",
   "execution_count": null,
   "id": "f2b90071-d7f3-4c75-ab09-913b956c6389",
   "metadata": {},
   "outputs": [],
   "source": [
    "!find bird_cat_dog/ -type f | xargs rename 's/\\..*/.jpg/'"
   ]
  },
  {
   "cell_type": "code",
   "execution_count": null,
   "id": "266d028f-f9a6-4126-a03d-84048d3c6e75",
   "metadata": {},
   "outputs": [
    {
     "name": "stdout",
     "output_type": "stream",
     "text": [
      "removed 'bird_cat_dog/gimg/dog_/3f824c0e-aa4b-4395-acdd-15a4243f0e41.jpg'\n",
      "removed 'bird_cat_dog/laion/bird_/a9ff3712-5401-49e7-a9e9-1946a6ef46a9.jpg'\n",
      "removed 'bird_cat_dog/laion/dog_/96b30f11-eb9a-4960-a41c-667bcd3d4b61.jpg'\n"
     ]
    }
   ],
   "source": [
    "!find bird_cat_dog/ -size 0 | xargs rm -v"
   ]
  },
  {
   "cell_type": "code",
   "execution_count": null,
   "id": "974ac006-62c0-4a00-b8c5-e4b7835b1907",
   "metadata": {},
   "outputs": [],
   "source": [
    "failed = verify_images(get_image_files(data))"
   ]
  },
  {
   "cell_type": "code",
   "execution_count": null,
   "id": "921cc640-3d37-40e0-b193-bb0d55cbf8d6",
   "metadata": {},
   "outputs": [],
   "source": [
    "import subprocess\n",
    "with open(\"failed.txt\", \"w\") as f:\n",
    "    for p in failed:\n",
    "        print(p, file=f)"
   ]
  },
  {
   "cell_type": "code",
   "execution_count": null,
   "id": "d2701358-31df-41cf-bf37-20fdf9557933",
   "metadata": {},
   "outputs": [
    {
     "name": "stdout",
     "output_type": "stream",
     "text": [
      "13\tHTML document, ASCII text, with very long lines\n",
      "6\tJavaScript source, ASCII text, with very long lines\n",
      "3\tHTML document, ASCII text\n",
      "1\tHTML document, Unicode text, UTF-8 text, with CRLF, LF line terminators\n",
      "7\tHTML document, Unicode text, UTF-8 text, with very long lines\n",
      "2\tISO Media, AVIF Image\n",
      "1\tgzip compressed data, from Unix, original size modulo 2^32 98001\n",
      "2\tHTML document, Unicode text, UTF-8 text\n"
     ]
    }
   ],
   "source": [
    "!< failed.txt xargs file | sed 's/.*: *//' | sed 's/ (.*//' | uniqoc"
   ]
  },
  {
   "cell_type": "code",
   "execution_count": null,
   "id": "7aeefdec-86be-4aba-9234-f51596f0705c",
   "metadata": {},
   "outputs": [
    {
     "name": "stdout",
     "output_type": "stream",
     "text": [
      "bird_cat_dog/gimg/bird_cat_/7ad0c40a-afaa-4b63-938d-8d661a5c2f7f.jpg:     ISO Media, AVIF Image\n",
      "bird_cat_dog/gimg/cat_dog_/cac07371-a384-4849-ad10-b7d143fcc4d2.jpg:      ISO Media, AVIF Image\n"
     ]
    }
   ],
   "source": [
    "!< failed.txt xargs file | grep AVIF"
   ]
  },
  {
   "cell_type": "code",
   "execution_count": null,
   "id": "97e2e48f-c2ef-4717-bb23-36f69d34526a",
   "metadata": {},
   "outputs": [],
   "source": [
    "!< failed.txt xargs file | grep AVIF | cut -d: -f1 | xa mogrify"
   ]
  },
  {
   "cell_type": "code",
   "execution_count": null,
   "id": "6b2d6631-0823-4e0d-aa73-31ed1f3a6c4c",
   "metadata": {},
   "outputs": [
    {
     "data": {
      "text/plain": [
       "35"
      ]
     },
     "execution_count": null,
     "metadata": {},
     "output_type": "execute_result"
    }
   ],
   "source": [
    "len(failed)"
   ]
  },
  {
   "cell_type": "code",
   "execution_count": null,
   "id": "9d7ab6ef-7f39-45ea-819f-994181964a35",
   "metadata": {},
   "outputs": [],
   "source": [
    "failed = verify_images(get_image_files(data))"
   ]
  },
  {
   "cell_type": "code",
   "execution_count": null,
   "id": "f77c7356-dc8b-4627-a9dc-ee80adc9105f",
   "metadata": {},
   "outputs": [
    {
     "data": {
      "text/plain": [
       "33"
      ]
     },
     "execution_count": null,
     "metadata": {},
     "output_type": "execute_result"
    }
   ],
   "source": [
    "len(failed)"
   ]
  },
  {
   "cell_type": "code",
   "execution_count": null,
   "id": "5ec45d6a-44c5-4c65-a871-cacbea49c532",
   "metadata": {},
   "outputs": [
    {
     "name": "stdout",
     "output_type": "stream",
     "text": [
      "bird_cat_dog/laion/bird_/d9401f3b-c20e-4607-aa03-5a6049d714f5.jpg renamed as bird_cat_dog/laion/bird_/d9401f3b-c20e-4607-aa03-5a6049d714f5.jpg.gz\n"
     ]
    }
   ],
   "source": [
    "!< failed.txt xargs file | grep gzip | cut -d: -f1 | xa rename -v 's/$/.gz/'"
   ]
  },
  {
   "cell_type": "code",
   "execution_count": null,
   "id": "49cdc29e-b6f5-4fdc-ac36-2caef1dcd547",
   "metadata": {},
   "outputs": [],
   "source": [
    "!gunzip bird_cat_dog/laion/bird_/d9401f3b-c20e-4607-aa03-5a6049d714f5.jpg.gz"
   ]
  },
  {
   "cell_type": "code",
   "execution_count": null,
   "id": "8059157d-2302-4b31-918e-f00add310650",
   "metadata": {},
   "outputs": [],
   "source": [
    "failed = verify_images(get_image_files(data))"
   ]
  },
  {
   "cell_type": "code",
   "execution_count": null,
   "id": "23a55037-4108-4f50-a107-8ec236473dc1",
   "metadata": {},
   "outputs": [
    {
     "data": {
      "text/plain": [
       "33"
      ]
     },
     "execution_count": null,
     "metadata": {},
     "output_type": "execute_result"
    }
   ],
   "source": [
    "len(failed)"
   ]
  },
  {
   "cell_type": "code",
   "execution_count": null,
   "id": "36c6d7a0-3e18-4cde-bab3-aa03a61ee682",
   "metadata": {},
   "outputs": [
    {
     "data": {
      "text/plain": [
       "(#33) [None,None,None,None,None,None,None,None,None,None...]"
      ]
     },
     "execution_count": null,
     "metadata": {},
     "output_type": "execute_result"
    }
   ],
   "source": [
    "failed.map(Path.unlink)"
   ]
  },
  {
   "cell_type": "code",
   "execution_count": null,
   "id": "d7b89490-8c57-4e90-bc8f-b35152510274",
   "metadata": {},
   "outputs": [
    {
     "name": "stdout",
     "output_type": "stream",
     "text": [
      "3147\tJPEG image data\n",
      "294\tPNG image data\n",
      "467\tRIFF (little-endian) data\n",
      "15\tGIF image data\n",
      "50\tISO Media\n"
     ]
    }
   ],
   "source": [
    "!find bird_cat_dog/ -type f | xa file | perl -pe 's/^.*?: *//; s/,.*//' | uniqoc"
   ]
  },
  {
   "cell_type": "markdown",
   "id": "d7ed974d-688d-44e4-8e53-b4c6cb8673c7",
   "metadata": {},
   "source": [
    "Let's rename the images again to give them the right file extensions."
   ]
  },
  {
   "cell_type": "code",
   "execution_count": null,
   "id": "c58dd949-6357-445d-962f-31481c5b872b",
   "metadata": {},
   "outputs": [
    {
     "name": "stdout",
     "output_type": "stream",
     "text": [
      "bird_cat_dog/ddg/bird_/4034a955-d434-47b1-874e-10dd77414160.jpg:         JPEG image data, JFIF standard 1.01, aspect ratio, density 1x1, segment length 16, progressive, precision 8, 1920x1271, components 3\n",
      "bird_cat_dog/ddg/bird_/f3ae56d2-ebbe-4f09-b435-1d60f61f4e6a.jpg:         PNG image data, 500 x 401, 8-bit/color RGBA, interlaced\n"
     ]
    }
   ],
   "source": [
    "!find bird_cat_dog/ -type f | xa file | head -n 2"
   ]
  },
  {
   "cell_type": "code",
   "execution_count": null,
   "id": "ba060c72-c11d-4797-ac54-d6950588099c",
   "metadata": {},
   "outputs": [
    {
     "name": "stdout",
     "output_type": "stream",
     "text": [
      "bird_cat_dog/ddg/bird_/4034a955-d434-47b1-874e-10dd77414160 .jpg jpeg\n",
      "bird_cat_dog/ddg/bird_/f3ae56d2-ebbe-4f09-b435-1d60f61f4e6a .jpg png\n",
      "Unable to flush stdout: Broken pipe\n"
     ]
    }
   ],
   "source": [
    "!find bird_cat_dog/ -type f | xa file | perl -ne '/(.*?)(\\.\\w+):\\s*(\\w+)/; print \"$1 $2 \", lc $3, \"\\n\"' | head -n2"
   ]
  },
  {
   "cell_type": "code",
   "execution_count": null,
   "id": "e98cd0a1-bcfd-43da-bbc6-6b38b6bea8b4",
   "metadata": {},
   "outputs": [
    {
     "data": {
      "text/plain": [
       "3973"
      ]
     },
     "execution_count": null,
     "metadata": {},
     "output_type": "execute_result"
    }
   ],
   "source": [
    "images = get_image_files(data)\n",
    "len(images)"
   ]
  },
  {
   "cell_type": "code",
   "execution_count": null,
   "id": "2b8c2f86-a905-490a-b19a-c4ebe2993a97",
   "metadata": {},
   "outputs": [],
   "source": [
    "!find bird_cat_dog/ -type f | xa file | perl -ne '/(.*?)(\\.\\w+):\\s*(\\w+)/; rename(\"$1$2\", \"$1.\".lc($3))'"
   ]
  },
  {
   "cell_type": "code",
   "execution_count": null,
   "id": "f3d828d6-4e5f-4bb6-9c30-2afea01bfa22",
   "metadata": {},
   "outputs": [
    {
     "data": {
      "text/plain": [
       "3456"
      ]
     },
     "execution_count": null,
     "metadata": {},
     "output_type": "execute_result"
    }
   ],
   "source": [
    "images = get_image_files(data)\n",
    "len(images)"
   ]
  },
  {
   "cell_type": "code",
   "execution_count": null,
   "id": "9c51c13d-263e-449b-859a-763782c79414",
   "metadata": {},
   "outputs": [
    {
     "data": {
      "text/plain": [
       "\u001b[0;31mSignature:\u001b[0m \u001b[0mget_image_files\u001b[0m\u001b[0;34m(\u001b[0m\u001b[0mpath\u001b[0m\u001b[0;34m,\u001b[0m \u001b[0mrecurse\u001b[0m\u001b[0;34m=\u001b[0m\u001b[0;32mTrue\u001b[0m\u001b[0;34m,\u001b[0m \u001b[0mfolders\u001b[0m\u001b[0;34m=\u001b[0m\u001b[0;32mNone\u001b[0m\u001b[0;34m)\u001b[0m\u001b[0;34m\u001b[0m\u001b[0;34m\u001b[0m\u001b[0m\n",
       "\u001b[0;31mSource:\u001b[0m   \n",
       "\u001b[0;32mdef\u001b[0m \u001b[0mget_image_files\u001b[0m\u001b[0;34m(\u001b[0m\u001b[0mpath\u001b[0m\u001b[0;34m,\u001b[0m \u001b[0mrecurse\u001b[0m\u001b[0;34m=\u001b[0m\u001b[0;32mTrue\u001b[0m\u001b[0;34m,\u001b[0m \u001b[0mfolders\u001b[0m\u001b[0;34m=\u001b[0m\u001b[0;32mNone\u001b[0m\u001b[0;34m)\u001b[0m\u001b[0;34m:\u001b[0m\u001b[0;34m\u001b[0m\n",
       "\u001b[0;34m\u001b[0m    \u001b[0;34m\"Get image files in `path` recursively, only in `folders`, if specified.\"\u001b[0m\u001b[0;34m\u001b[0m\n",
       "\u001b[0;34m\u001b[0m    \u001b[0;32mreturn\u001b[0m \u001b[0mget_files\u001b[0m\u001b[0;34m(\u001b[0m\u001b[0mpath\u001b[0m\u001b[0;34m,\u001b[0m \u001b[0mextensions\u001b[0m\u001b[0;34m=\u001b[0m\u001b[0mimage_extensions\u001b[0m\u001b[0;34m,\u001b[0m \u001b[0mrecurse\u001b[0m\u001b[0;34m=\u001b[0m\u001b[0mrecurse\u001b[0m\u001b[0;34m,\u001b[0m \u001b[0mfolders\u001b[0m\u001b[0;34m=\u001b[0m\u001b[0mfolders\u001b[0m\u001b[0;34m)\u001b[0m\u001b[0;34m\u001b[0m\u001b[0;34m\u001b[0m\u001b[0m\n",
       "\u001b[0;31mFile:\u001b[0m      /opt/venvs/python3.10-ai/venv/lib/python3.10/site-packages/fastai/data/transforms.py\n",
       "\u001b[0;31mType:\u001b[0m      function"
      ]
     },
     "metadata": {},
     "output_type": "display_data"
    }
   ],
   "source": [
    "get_image_files??"
   ]
  },
  {
   "cell_type": "code",
   "execution_count": null,
   "id": "e558e78e-a25b-4aae-89d0-4e6677e9aa3e",
   "metadata": {},
   "outputs": [
    {
     "data": {
      "text/plain": [
       "{'.iso', '.riff'}"
      ]
     },
     "execution_count": null,
     "metadata": {},
     "output_type": "execute_result"
    }
   ],
   "source": [
    "{'.jpeg','.png','.riff','.gif','.iso'} - image_extensions"
   ]
  },
  {
   "cell_type": "code",
   "execution_count": null,
   "id": "c7575dbb-96ff-4625-94b4-5f784de85a6f",
   "metadata": {},
   "outputs": [],
   "source": [
    "!find bird_cat_dog/ -type f | xargs rename 's/\\.riff$/.webp/; s/\\.iso$/.avif/'"
   ]
  },
  {
   "cell_type": "code",
   "execution_count": null,
   "id": "ce7c6a24-0d1b-4536-a152-fadf12e8ba6d",
   "metadata": {},
   "outputs": [
    {
     "data": {
      "text/plain": [
       "3973"
      ]
     },
     "execution_count": null,
     "metadata": {},
     "output_type": "execute_result"
    }
   ],
   "source": [
    "images = get_image_files(data)\n",
    "len(images)"
   ]
  },
  {
   "cell_type": "code",
   "execution_count": null,
   "id": "395f9c1e-592c-4e11-a6f1-e7768f0e68eb",
   "metadata": {},
   "outputs": [
    {
     "name": "stdout",
     "output_type": "stream",
     "text": [
      "renamed 'bird_cat_dog' -> 'bird_cat_dog.orig'\n"
     ]
    }
   ],
   "source": [
    "mv -v bird_cat_dog bird_cat_dog.1.orig"
   ]
  },
  {
   "cell_type": "markdown",
   "id": "85535c8d-f9e3-42f8-a14b-2f5374bd7aab",
   "metadata": {},
   "source": [
    "## resize the images to not larger than 400x400"
   ]
  },
  {
   "cell_type": "code",
   "execution_count": null,
   "id": "b6c44491-1a62-4d3a-b439-55bddc8327d3",
   "metadata": {},
   "outputs": [],
   "source": [
    "resize_images('bird_cat_dog.1.orig', dest='bird_cat_dog.2.resized', max_size=400, recurse=True)"
   ]
  },
  {
   "cell_type": "code",
   "execution_count": null,
   "id": "e1b76c2b-bfcd-4f36-9097-bf10eff2ed39",
   "metadata": {},
   "outputs": [
    {
     "name": "stdout",
     "output_type": "stream",
     "text": [
      "2.0G\tbird_cat_dog.1.orig\n",
      "101M\tbird_cat_dog.2.resized\n",
      "2.1G\ttotal\n"
     ]
    }
   ],
   "source": [
    "!du -csh bird_cat_dog*"
   ]
  },
  {
   "cell_type": "markdown",
   "id": "49b3b140-fc80-4fe6-9b8a-6c2cae8417ce",
   "metadata": {},
   "source": [
    "## combine images from the different search engines together"
   ]
  },
  {
   "cell_type": "code",
   "execution_count": null,
   "id": "600ef391-6a53-40ce-9d7d-a8c0d441b447",
   "metadata": {},
   "outputs": [
    {
     "name": "stdout",
     "output_type": "stream",
     "text": [
      "/home/sam/ai/blog/posts/multilabel\n"
     ]
    }
   ],
   "source": [
    "cd ~/ai/blog/posts/multilabel"
   ]
  },
  {
   "cell_type": "code",
   "execution_count": null,
   "id": "7671e9a9-3a2f-4c20-ab49-3a862e01bc71",
   "metadata": {},
   "outputs": [
    {
     "name": "stdout",
     "output_type": "stream",
     "text": [
      "\u001b[0m\u001b[01;34mddg\u001b[0m/  \u001b[01;34mgimg\u001b[0m/  \u001b[01;34mlaion\u001b[0m/\n"
     ]
    }
   ],
   "source": [
    "ls bird_cat_dog.2.resized/"
   ]
  },
  {
   "cell_type": "code",
   "execution_count": null,
   "id": "fa9e570f-cc26-4251-bc53-7e2f2267a148",
   "metadata": {},
   "outputs": [],
   "source": [
    "!cp -al bird_cat_dog.2.resized bird_cat_dog.3.together"
   ]
  },
  {
   "cell_type": "code",
   "execution_count": null,
   "id": "4d67e921-f690-4456-8184-181d3625c8b4",
   "metadata": {},
   "outputs": [
    {
     "name": "stdout",
     "output_type": "stream",
     "text": [
      "/home/sam/ai/blog/posts/multilabel/bird_cat_dog.3.together\n"
     ]
    }
   ],
   "source": [
    "cd bird_cat_dog.3.together/"
   ]
  },
  {
   "cell_type": "code",
   "execution_count": null,
   "id": "262099d3-5b5d-474b-b878-f35c968bf37f",
   "metadata": {},
   "outputs": [],
   "source": [
    "!(mkdir -p $(cd ddg; ls); rename 's{(\\w+)/(\\w+)/(.*)}{$2/${1}_$3}' */*/*)"
   ]
  },
  {
   "cell_type": "code",
   "execution_count": null,
   "id": "5c6dd1b0-1f18-48d3-89a9-76eac14433ef",
   "metadata": {},
   "outputs": [],
   "source": [
    "!find . -mindepth 1 -depth -type d | xa rmdir --ignore-fail-on-non-empty"
   ]
  },
  {
   "cell_type": "code",
   "execution_count": null,
   "id": "247fb08e-1915-4361-82f1-e1f6c755e236",
   "metadata": {},
   "outputs": [
    {
     "name": "stdout",
     "output_type": "stream",
     "text": [
      "/home/sam/ai/blog/posts/multilabel\n"
     ]
    }
   ],
   "source": [
    "cd .."
   ]
  }
 ],
 "metadata": {
  "kernelspec": {
   "display_name": "python3",
   "language": "python",
   "name": "python3"
  }
 },
 "nbformat": 4,
 "nbformat_minor": 5
}
