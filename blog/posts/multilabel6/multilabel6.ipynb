{
 "cells": [
  {
   "cell_type": "raw",
   "id": "6357557a-b44d-42a0-94de-b1f68c781b30",
   "metadata": {},
   "source": [
    "---\n",
    "title: \"A multi-label classifier, part 6: training the model\"\n",
    "date: \"2023-03-11\"\n",
    "date-modified: \"2023-03-12\"\n",
    "format:\n",
    "  html:\n",
    "    code-fold: false\n",
    "    code-tools:\n",
    "      source: https://github.com/sswam/ai/blob/main/blog/posts/multilabel6/multilabel6.ipynb\n",
    "jupyter: python\n",
    "toc: true\n",
    "toc-depth: 2\n",
    "categories: []\n",
    "draft: true\n",
    "---"
   ]
  },
  {
   "cell_type": "markdown",
   "id": "1ff38cf8-9f80-4d3c-bbfb-96ca2be660b0",
   "metadata": {},
   "source": [
    "## Introduction"
   ]
  },
  {
   "cell_type": "markdown",
   "id": "2616f293-a515-42ba-9ae0-b9088e2a8b4d",
   "metadata": {},
   "source": [
    "## create a CSV file describing the data"
   ]
  },
  {
   "cell_type": "markdown",
   "id": "35905cff-9bc8-4aa0-b1f3-5cc7623a26ab",
   "metadata": {},
   "source": [
    "I'll put 20% of each directory of images into the validation set."
   ]
  },
  {
   "cell_type": "code",
   "execution_count": null,
   "id": "bc18a89f-13fe-4d4b-a698-7b461e028b05",
   "metadata": {},
   "outputs": [],
   "source": []
  },
  {
   "cell_type": "code",
   "execution_count": null,
   "id": "cdfb2f6c-0ecb-46d8-a2b4-a1f02bc2c44e",
   "metadata": {},
   "outputs": [
    {
     "data": {
      "text/plain": [
       "(3973,\n",
       " (#1) [Path('bird_cat_dog/ddg/bird_/8f0a00b6-6140-40dd-81e9-c34bb0d37e15.jpeg')])"
      ]
     },
     "execution_count": null,
     "metadata": {},
     "output_type": "execute_result"
    }
   ],
   "source": [
    "images = get_image_files(data)\n",
    "len(images), images[:1]"
   ]
  },
  {
   "cell_type": "markdown",
   "id": "0288502f-024b-4718-869e-0ab9faef6842",
   "metadata": {},
   "source": [
    "## train the model"
   ]
  },
  {
   "cell_type": "code",
   "execution_count": null,
   "id": "a1dee316-a3a0-4181-865b-93bf1b1304f0",
   "metadata": {},
   "outputs": [],
   "source": [
    "from fastai.vision.all import *"
   ]
  },
  {
   "cell_type": "code",
   "execution_count": null,
   "id": "3e19f667-2e0f-4970-be51-cf7d8337702f",
   "metadata": {},
   "outputs": [],
   "source": []
  }
 ],
 "metadata": {
  "kernelspec": {
   "display_name": "python3",
   "language": "python",
   "name": "python3"
  }
 },
 "nbformat": 4,
 "nbformat_minor": 5
}
