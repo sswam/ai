{
 "cells": [
  {
   "cell_type": "raw",
   "id": "7fefae11-9f58-4d69-bcbb-8d2c7423e061",
   "metadata": {},
   "source": [
    "---\n",
    "title: \"Graveyard of bad setup ideas\"\n",
    "date: \"2023-03-03\"\n",
    "format:\n",
    "  html:\n",
    "    code-fold: false\n",
    "    code-tools:\n",
    "      source: https://github.com/sswam/ai/blob/main/blog/posts/deadends/deadends.ipynb\n",
    "jupyter: bash\n",
    "toc: true\n",
    "toc-depth: 2\n",
    "categories: [bad, setup, Debian]\n",
    "draft: false\n",
    "---"
   ]
  },
  {
   "cell_type": "markdown",
   "id": "002eb8a7-4b08-43f2-9d9a-50adbcefb3a6",
   "metadata": {},
   "source": [
    "## Introduction"
   ]
  },
  {
   "cell_type": "markdown",
   "id": "244ec06c-2007-47c6-884d-4d529ec84419",
   "metadata": {},
   "source": [
    "Here is a list of other things I tried for my Debian AI setup, which didn't work out so well. They didn't cause disasters for me, but they were dead-ends; they didn't solve my setup problems. Here be dragons!"
   ]
  },
  {
   "cell_type": "markdown",
   "id": "7591c8ac-53ee-476e-a6bb-2a583dc1eb8f",
   "metadata": {},
   "source": [
    "## Allow myself to install packages to /usr/local"
   ]
  },
  {
   "cell_type": "markdown",
   "id": "b2660e75-76de-41ef-97b7-9b73b919b8de",
   "metadata": {},
   "source": [
    "Since I wrote this section, Debian has modified their pip so that it refuses to install to `/usr/local`, unless we use the `--break-system-packages` flag."
   ]
  },
  {
   "cell_type": "markdown",
   "id": "b6eafd72-860a-475a-b227-6f5647cf53bc",
   "metadata": {},
   "source": [
    "It's not safe to run `pip install -U` as root. It will merrily remove files from Debian-packaged Python modules under `/usr/lib`, and mess up the system. To avoid this, I changed permissions so that my regular user account can write to everything under `/usr/local` via the `staff` group. I do the same for `/opt` because I want to upgrade Rust from my own user ID also:"
   ]
  },
  {
   "cell_type": "code",
   "execution_count": null,
   "id": "af82b41f-b1ce-4ff2-ac1e-d17c83815615",
   "metadata": {},
   "outputs": [],
   "source": [
    "sudo adduser $USER staff\n",
    "sudo chgrp -R staff /usr/local /opt\n",
    "sudo chmod -R g+w /usr/local /opt"
   ]
  },
  {
   "cell_type": "markdown",
   "id": "b141ea96-8839-47a4-8988-c4253cb5a1b6",
   "metadata": {},
   "source": [
    "This is somewhat of a security concern, but if a bad guy gets a local shell it's pretty much game over anyway. To make it safer, I could have used a different non-root account.\n",
    "\n",
    "In order to upgrade a pip package where the same package was also installed in `/usr/lib` by dpkg, I need to use `pip -I -U packagename`. The `-I` flag tells it to ignore installed packages, i.e. don't try to remove them. I only do that as needed for individual packages, when a normal upgrade fails.\n",
    "\n",
    "This setup might upset Debian-packaged programs that depend on older versions of the Python libraries that I've upgraded. I haven't noticed any problems like that yet.\n",
    "\n",
    "If you try to downgrade a package, and if multiple versions of a package are accidentally installed under /usr/local/lib/python3.10 at that same time, it can get confused, so watch out for that. You might need to manually remove one of the versions."
   ]
  },
  {
   "cell_type": "markdown",
   "id": "8535f547-2867-4107-ae77-9e4e143fdec8",
   "metadata": {},
   "source": [
    "<details>\n",
    "<summary> Glossary </summary>\n",
    "    \n",
    "- pip: A package manager for Python packages that allows users to easily install, upgrade, and remove Python packages.\n",
    "- /usr/local: A directory on Unix-like systems where locally installed software is usually placed, separate from the operating system's own packages.\n",
    "- Debian: A popular Linux distribution known for its stability and ease of use.\n",
    "- --break-system-packages: A flag used with pip to force installation of packages that conflict with system packages, even though this can cause problems.\n",
    "- root: The default administrative user in Unix-like operating systems, with full permissions to all system files and directories.\n",
    "- permissions: The settings that control who can access and modify files and directories on a computer.\n",
    "- staff group: A group on Unix-like systems that provides additional permissions to users who belong to it.\n",
    "- chgrp: A Unix command used to change the group ownership of a file or directory.\n",
    "- chmod: A Unix command used to change the permissions of a file or directory.\n",
    "- security concern: A potential risk to the security of a system, data, or user privacy.\n",
    "- dpkg: A package manager for Debian-based Linux distributions.\n",
    "- upgrade: The process of installing a newer version of a software package over an existing version to get new features or bug fixes.\n",
    "- downgrade: The process of installing an older version of a software package over a newer version.\n",
    "    \n",
    "</details>"
   ]
  },
  {
   "cell_type": "markdown",
   "id": "739a996b-b5b2-44e6-b6e9-d224a65f63b0",
   "metadata": {},
   "source": [
    "## Enable switching the system python version"
   ]
  },
  {
   "cell_type": "markdown",
   "id": "6c041ee5-7b35-41a9-89cd-9fc9dc3d9c75",
   "metadata": {},
   "source": [
    "The default Python version for Debian \"testing\" at time of writing is Python 3.11, however we don't have a stable release of pytorch for Python 3.11 yet."
   ]
  },
  {
   "cell_type": "code",
   "execution_count": null,
   "id": "dd8abcb0-3815-4c9d-b527-c4894940842a",
   "metadata": {},
   "outputs": [
    {
     "name": "stdout",
     "output_type": "stream",
     "text": [
      "\u001b[31mERROR: Could not find a version that satisfies the requirement torchvision (from versions: 0.1.6, 0.1.7, 0.1.8, 0.1.9, 0.2.0, 0.2.1, 0.2.2, 0.2.2.post2, 0.2.2.post3)\u001b[0m\u001b[31m\n",
      "\u001b[0m\u001b[31mERROR: No matching distribution found for torchvision\u001b[0m\u001b[31m\n",
      "\u001b[0m\n"
     ]
    },
    {
     "ename": "",
     "evalue": "1",
     "output_type": "error",
     "traceback": []
    }
   ],
   "source": [
    "python3.11 -m pip install --break-system-packages torchvision"
   ]
  },
  {
   "cell_type": "markdown",
   "id": "bb6e9ff5-8c32-4b83-b648-3c24d6891228",
   "metadata": {},
   "source": [
    "I decided to try switch the system Python version back to 3.10. This is not recommended, but at least it's easy to undo!"
   ]
  },
  {
   "cell_type": "markdown",
   "id": "201a2587-8d62-49f7-b41d-e4b667106b6f",
   "metadata": {},
   "source": [
    "Anyway, let's enable switching the system Python version back to 3.10, using `update-alternatives`."
   ]
  },
  {
   "cell_type": "markdown",
   "id": "ee7c1b40-27cf-4408-b915-a4d41ac06596",
   "metadata": {},
   "source": [
    "First, note that we can undo this change later, if necessary, as follows:"
   ]
  },
  {
   "cell_type": "code",
   "execution_count": null,
   "id": "58d4ccfb-a9cf-4856-875f-5ed7d64b30f4",
   "metadata": {},
   "outputs": [],
   "source": [
    "sudo update-alternatives --remove-all python3\n",
    "sudo update-alternatives --remove-all pydoc3\n",
    "sudo ln -sf python3.11 /usr/bin/python3\n",
    "sudo ln -sf pydoc3.11 /usr/bin/pydoc3"
   ]
  },
  {
   "cell_type": "markdown",
   "id": "dc482327-f325-481a-8b9a-56d716bc3733",
   "metadata": {},
   "source": [
    "We can set up alternatives for `python3`:"
   ]
  },
  {
   "cell_type": "code",
   "execution_count": null,
   "id": "72f87e8b-5af3-4c37-9595-635859bb2d89",
   "metadata": {},
   "outputs": [],
   "source": [
    "sudo update-alternatives --install /usr/bin/python3 python3 /usr/bin/python3.11 11\n",
    "sudo update-alternatives --install /usr/bin/python3 python3 /usr/bin/python3.10 10\n",
    "# sudo update-alternatives --set python3 /usr/bin/python3.10"
   ]
  },
  {
   "cell_type": "markdown",
   "id": "154887dd-ef3a-4f3b-ac90-f0492d2ecfa8",
   "metadata": {},
   "source": [
    "and do the same for `pydoc3`:"
   ]
  },
  {
   "cell_type": "code",
   "execution_count": null,
   "id": "c0438650-2a2d-4ef6-93f0-93afb110a0da",
   "metadata": {},
   "outputs": [],
   "source": [
    "sudo update-alternatives --install /usr/bin/pydoc3 pydoc3 /usr/bin/pydoc3.11 11\n",
    "sudo update-alternatives --install /usr/bin/pydoc3 pydoc3 /usr/bin/pydoc3.10 10\n",
    "# sudo update-alternatives --set pydoc3 /usr/bin/pydoc3.10"
   ]
  },
  {
   "cell_type": "code",
   "execution_count": null,
   "id": "cb175e67-e841-4443-9a6c-6be636bb7b09",
   "metadata": {},
   "outputs": [],
   "source": [
    "update-alternatives --list python3"
   ]
  },
  {
   "cell_type": "code",
   "execution_count": null,
   "id": "220759cb-b81f-4f9d-a7ac-3c0b29dc200c",
   "metadata": {},
   "outputs": [],
   "source": [
    "update-alternatives --list pydoc3"
   ]
  },
  {
   "cell_type": "markdown",
   "id": "16166d46-6b6a-4b71-89fd-cf67a1d598f0",
   "metadata": {},
   "source": [
    "<details>\n",
    "<summary> Glossary </summary>\n",
    "    \n",
    "- torchvision: a PyTorch library containing popular datasets, model architectures, and common image transformations for computer vision.\n",
    "- update-alternatives: a Debian/Ubuntu tool for managing alternative versions of executables, such as Python or Pydoc.\n",
    "- system Python: the version of Python installed on a Debian/Ubuntu system and used by default for system-level processes.\n",
    "- break-system-packages: a pip option that allows installation of packages that may break other system packages.\n",
    "- ln -s: a command for creating symbolic links between files.\n",
    "- pydoc: a Python documentation tool.\n",
    "\n",
    "</details>"
   ]
  },
  {
   "cell_type": "markdown",
   "id": "b5b05fbb-9dec-468f-a507-8058a835aa04",
   "metadata": {},
   "source": [
    "## Install nightly torch with Python 3.11"
   ]
  },
  {
   "cell_type": "code",
   "execution_count": null,
   "id": "aa7a6b73-9db8-482f-8cb2-0f8b703f225a",
   "metadata": {},
   "outputs": [],
   "source": [
    "pip install -qq -U fastbook jupyter jupyterlab tensorflow ipywidgets"
   ]
  },
  {
   "cell_type": "markdown",
   "id": "2e999279-5e4a-4af4-9d33-bc43af530392",
   "metadata": {},
   "source": [
    "At some point I saw a warning about compatibility between fastai and torch.\n",
    "```\n",
    "fastai 2.7.11 has requirement torch<1.14,>=1.7, but you have torch 2.0.0.dev20230220+cu117\n",
    "```\n",
    "I decided to try using it with nightly torch anyway:"
   ]
  },
  {
   "cell_type": "code",
   "execution_count": null,
   "id": "012ad25c-9664-45c7-9ee3-991a889d50aa",
   "metadata": {},
   "outputs": [],
   "source": [
    "pip install -qq -U --pre torch torchvision torchaudio --index-url https://download.pytorch.org/whl/nightly/cu117"
   ]
  },
  {
   "cell_type": "markdown",
   "id": "34dd932f-7a0d-4c34-8a31-80c0b0bd9324",
   "metadata": {},
   "source": [
    "Extra packages: nbdev, and kernels for bash and C:"
   ]
  },
  {
   "cell_type": "code",
   "execution_count": null,
   "id": "ec93e7e4-638a-4514-8cef-00bcedeeff9e",
   "metadata": {},
   "outputs": [],
   "source": [
    "pip install -qq -U nbdev bash_kernel jupyter-c-kernel"
   ]
  },
  {
   "cell_type": "markdown",
   "id": "9b51cd0c-a250-4bd3-a31f-5507b50d3f89",
   "metadata": {},
   "source": [
    "## Use the old pip resolver, if necessary"
   ]
  },
  {
   "cell_type": "markdown",
   "id": "42a990ac-21f7-4bb2-aa8e-5eccdf6618e1",
   "metadata": {},
   "source": [
    "As of pip 20.3, a new resolver has been introduced, which doesn't always work. As of pip 21.0 the old working resolver is unsupported and slated for removal dependent on pip team resources."
   ]
  },
  {
   "cell_type": "code",
   "execution_count": null,
   "id": "9af82314-8d5a-4378-a854-b3a715b8e8bc",
   "metadata": {},
   "outputs": [
    {
     "name": "stdout",
     "output_type": "stream",
     "text": [
      "pip 23.0 from /usr/lib/python3/dist-packages/pip (python 3.11)\n"
     ]
    }
   ],
   "source": [
    "pip --version"
   ]
  },
  {
   "cell_type": "markdown",
   "id": "e5031282-33af-4e6e-a0e4-5fbfaea843f1",
   "metadata": {},
   "source": [
    "With this version of pip, it's possible to use the \"legacy resolver\" with the following option:"
   ]
  },
  {
   "cell_type": "code",
   "execution_count": null,
   "id": "6f080d7d-25a5-4afe-a9d7-97f8644a3e9b",
   "metadata": {},
   "outputs": [],
   "source": [
    "pip install -U -r requirements.txt --use-deprecated=legacy-resolver"
   ]
  },
  {
   "cell_type": "markdown",
   "id": "ca0cd0c8-8d3a-4f7c-9943-1fb1c6e0dfa7",
   "metadata": {},
   "source": [
    "Or, I can downgrade pip to version 20.2.4, before they switched to the new resolver.\n",
    "\n",
    "Refer to https://stackoverflow.com/a/67408694 for more info."
   ]
  },
  {
   "cell_type": "code",
   "execution_count": null,
   "id": "4b1c9831-1c11-46bf-8f86-fe60f3fa8d68",
   "metadata": {},
   "outputs": [],
   "source": [
    "pip install pip==20.2.4"
   ]
  },
  {
   "cell_type": "markdown",
   "id": "d87fc06a-7916-43b3-946a-ef8bbef3a542",
   "metadata": {},
   "source": [
    "<details>\n",
    "<summary> Glossary </summary>\n",
    "    \n",
    "- resolver: Part of pip responsible for resolving package dependencies and deciding which versions to install.\n",
    "- legacy resolver: The older version of pip's resolver algorithm, which is still supported in some versions of pip but has been deprecated and is no longer the default.\n",
    "  \n",
    "</details>"
   ]
  },
  {
   "cell_type": "markdown",
   "id": "6a0eaa8b-9c79-4e3e-82ad-6caca7cfc97f",
   "metadata": {},
   "source": [
    "## PyPI does not include onnxruntime for python3.11"
   ]
  },
  {
   "cell_type": "markdown",
   "id": "bce50f22-fecd-4e84-8f49-165e2507c457",
   "metadata": {},
   "source": [
    "At one point I was hoping to use python3.11 rather than python3.10. I attempted to build onnxruntime from source, but didn't persevere with it."
   ]
  },
  {
   "cell_type": "markdown",
   "id": "aef1c301-e0e7-47d6-ab36-1f453eec2363",
   "metadata": {},
   "source": [
    "<details>\n",
    "<summary> Glossary </summary>\n",
    "\n",
    "- PyPI: PyPI (Python Package Index) is a repository of software for the Python programming language. It contains packages of software developed by various authors that are published and shared with the wider Python community.\n",
    "- onnxruntime: onnxruntime is an open-source engine for executing machine learning models that are defined in the Open Neural Network Exchange (ONNX) format. It provides high performance and supports multiple platforms, including CPU, GPU, and FPGA.\n",
    "- Source code is the human-readable code that programmers write to create computer programs. It needs to be compiled or interpreted to run on a computer.\n",
    "- Build: Building refers to the process of compiling or otherwise preparing source code for execution on a specific platform or architecture.\n",
    "- Open Neural Network Exchange (ONNX): ONNX is an open-source format for representing machine learning models. It is designed to be interoperable across different frameworks and platforms, allowing models to be easily transferred and executed on different hardware.\n",
    "- FPGA: FPGA stands for Field-Programmable Gate Array. It is an integrated circuit that can be programmed to perform a wide range of computing tasks, including machine learning inference.\n",
    "\n",
    "</details>"
   ]
  },
  {
   "cell_type": "markdown",
   "id": "333a8b97-2cae-4668-b1f2-1cce25cce242",
   "metadata": {},
   "source": [
    "## Untold difficulties! 😭"
   ]
  },
  {
   "cell_type": "markdown",
   "id": "9328a7a1-8073-44ea-9278-b1beb596fc50",
   "metadata": {},
   "source": [
    "I haven't described all of the various problems I had to deal with, due to trying various hacky approaches rather than venvs. There were plenty of problems! I guess I learned something from the experience, anyway. I wish Lambda Stack worked on Debian, not only Ubuntu, it would have been a lot easier than this!"
   ]
  },
  {
   "cell_type": "markdown",
   "id": "c6020a6f-76ad-4227-9b18-ff2aba9618df",
   "metadata": {},
   "source": [
    "<details>\n",
    "<summary> Glossary </summary>\n",
    "\n",
    "- hacky approaches: Informal or unconventional methods used to solve a problem or complete a task, often using shortcuts or workarounds instead of following established best practices.\n",
    "- Lambda Stack: A software stack from Lambda Labs that provides pre-built binaries of deep learning frameworks and other software packages for Ubuntu-based systems.\n",
    "\n",
    "</details>"
   ]
  }
 ],
 "metadata": {
  "kernelspec": {
   "display_name": "bash",
   "language": "bash",
   "name": "bash"
  }
 },
 "nbformat": 4,
 "nbformat_minor": 5
}
