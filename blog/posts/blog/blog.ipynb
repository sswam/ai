{
 "cells": [
  {
   "cell_type": "raw",
   "id": "ff085061",
   "metadata": {},
   "source": [
    "---\n",
    "title: \"Blogging AI with Jupyter and Quarto\"\n",
    "date: \"2023-02-08\"\n",
    "date-modified: \"2023-03-03\"\n",
    "format: \n",
    "  html:\n",
    "    code-fold: false\n",
    "    code-tools:\n",
    "      source: https://github.com/sswam/ai/blob/main/blog/posts/blog/blog.ipynb\n",
    "jupyter: bash\n",
    "toc: true\n",
    "toc-depth: 2\n",
    "categories: [setup, blog, Jupyter, Quarto]\n",
    "draft: false\n",
    "---"
   ]
  },
  {
   "cell_type": "markdown",
   "id": "09d50328-adf9-4f0b-8d00-297e0eef14c9",
   "metadata": {},
   "source": [
    "## Introduction"
   ]
  },
  {
   "cell_type": "markdown",
   "id": "4f607946-0811-4e40-8365-db8742e0fb57",
   "metadata": {},
   "source": [
    "Welcome to my blog! My name is [Sam Watkins](https://sam.ucm.dev/), and I am a programmer and math enthusiast with a keen interest in artificial intelligence. As part of my journey to learn more about AI, I am starting this blog to document my studies, particularly with the [fast.ai](https://fast.ai) book and courses.\n",
    "\n",
    "In this first post, I will provide an overview of why I am starting this blog and share some details on how I plan to use Jupyter, Quarto, and nbdev2 tools to create software libraries, documentation, apps, and blog posts. I believe that blogging will not only help me solidify my understanding of AI but also provide a platform to share my insights and get feedback from others in the community. Blogging can be a powerful tool for learning, networking, and personal development.\n",
    "\n",
    "I want to note from the beginning, that I am using ChatGPT to help me write better blog posts; but I'm doing most of the work!"
   ]
  },
  {
   "cell_type": "markdown",
   "id": "8ec1b36b-1762-4d16-be7b-326dafd6761e",
   "metadata": {},
   "source": [
    "## Why write a blog?\n",
    "\n",
    "In a previous post on dev.to, I discussed the benefits of keeping a development log. Writing about my progress helps me learn more effectively, and the feedback I receive can be invaluable. I've also learned from the success of other developers, like the creator of the game [Gunpoint](https://www.pentadact.com/category/making-games/gunpoint/?orderby=date&order=ASC), who grew a community around his blog and received feedback at every step of his project.\n",
    "\n",
    "I hope that by starting this blog, I can experience some of the benefits of blogging for myself and maybe help others in the process. Please leave a comment using the [hypothes.is](https://hypothes.is/) plugin on the right side, if you have any thoughts on the topic or suggestions for me as I begin this journey.\n",
    "\n",
    "<details>\n",
    "<summary>See also</summary>\n",
    "\n",
    "- This previous post of mine on dev.to: [Why Write a Dev Log?](https://dev.to/gamedev/why-write-a-dev-log-27nh)\n",
    "- Rachael Thomas's post: [Why you (yes, you) should blog](https://www.fast.ai/posts/2017-04-06-alternatives.html#why-you-yes-you-should-blog)\n",
    "- Another post from Rachael: [Advice for Better Blog Posts](https://www.fast.ai/posts/2019-05-13-blogging-advice.html)\n",
    "- An exemplary dev log: [Gunpoint dev log](https://www.pentadact.com/category/making-games/gunpoint/?orderby=date&order=ASC)\n",
    "- An exemplary dev retrospective: [Gunpoint dev breakdown](https://www.pentadact.com/2013-10-15-gunpoint-development-breakdown/)\n",
    "\n",
    "</details>"
   ]
  },
  {
   "cell_type": "markdown",
   "id": "44dc90ed-edca-4e12-8ab2-c94e3ed9925b",
   "metadata": {},
   "source": [
    "## Why use Jupyter and Quarto?\n",
    "\n",
    "The [fast.ai](https://fast.ai) team recommends to work in [Jupyter](https://jupyter.org/) and blog using [Quarto](https://quarto.org/). Their [nbdev2](https://nbdev.fast.ai/) tool also makes use of Quarto. We can work on a notebooks in Jupyter, then run them through nbdev2 and Quarto to produce software libraries, documentation, apps, blog posts, papers, and even books.\n",
    "\n",
    "<details>\n",
    "<summary>See also</summary>\n",
    "    \n",
    "- [fast.ai](https://www.fast.ai/): A company that provides practical deep learning courses and libraries, as well as open source software tools for building and deploying deep learning models.\n",
    "- [nbdev+Quarto: A new secret weapon for productivity](https://www.fast.ai/posts/2022-07-28-nbdev2.html): The blog post recommending to use Jupyter with nbdev and Quarto.\n",
    "- [Jupyter](https://jupyter.org/): A web-based interactive development environment for creating notebooks, code, and data visualizations. Supports multiple programming languages.\n",
    "- [Quarto](https://quarto.org/): A document automation tool that can be used for creating books, reports, and blogs using Markdown, Jupyter Notebooks, and other file formats.\n",
    "- [nbdev](https://nbdev.fast.ai/): A tool that helps you develop Python packages using Jupyter Notebooks.\n",
    "\n",
    "</details>"
   ]
  },
  {
   "cell_type": "markdown",
   "id": "d2b73be1-53e4-459e-892c-76b1f98603f2",
   "metadata": {},
   "source": [
    "## Installing the software\n",
    "\n",
    "I am running the AI tools on my home PC, with Debian GNU/Linux and an NVIDIA GPU. I'll write more about my setup in another post.\n",
    "\n",
    "I downloaded Quarto from their [Get Started](https://quarto.org/docs/get-started/) page, and installed it.\n",
    "\n",
    "To manage the installation of Python packages, I'm using pip, which is a package installer for Python. It's a command-line utility that helps you install and manage software packages written in Python. You can learn more about pip and its usage from the [official pip documentation](https://pip.pypa.io/en/stable/).\n",
    "\n",
    "This command installs or upgrades Jupyter, fastbook, and nbdev Python packages, which I'll need to use for AI experiments and to help me write my blog."
   ]
  },
  {
   "cell_type": "code",
   "execution_count": null,
   "id": "83f2d206-2234-47ff-a5bc-2758ba1f57a6",
   "metadata": {},
   "outputs": [],
   "source": [
    "pip install -qq -U jupyter fastbook nbdev"
   ]
  },
  {
   "cell_type": "markdown",
   "id": "efa9f6bc-3b7e-4152-8982-186d339f9d11",
   "metadata": {},
   "source": [
    "## Setting up the blog"
   ]
  },
  {
   "cell_type": "markdown",
   "id": "e05ddbe1-92b6-480a-add2-e329e517d409",
   "metadata": {},
   "source": [
    "To set up the blog, I first created a Git repository called `ai` in my home directory. I used the following commands to create the blog project."
   ]
  },
  {
   "cell_type": "code",
   "execution_count": null,
   "id": "b9b257cb-d213-422a-90c9-d73fe9cc2df2",
   "metadata": {},
   "outputs": [
    {
     "name": "stdout",
     "output_type": "stream",
     "text": [
      "Reinitialized existing Git repository in /home/sam/ai/.git/\n"
     ]
    }
   ],
   "source": [
    "cd\n",
    "mkdir -p ai\n",
    "cd ai\n",
    "git init"
   ]
  },
  {
   "cell_type": "code",
   "execution_count": null,
   "id": "f5b953c2-0488-445e-b69e-e3cee85bb859",
   "metadata": {},
   "outputs": [
    {
     "name": "stdout",
     "output_type": "stream",
     "text": [
      "Creating project at \u001b[1m/home/sam/ai/blog\u001b[22m:\n",
      "  - Created _quarto.yml\n",
      "  - Created .gitignore\n",
      "  - Created index.qmd\n",
      "  - Created posts/welcome/index.qmd\n",
      "  - Created posts/post-with-code/index.qmd\n",
      "  - Created about.qmd\n",
      "  - Created styles.css\n",
      "  - Created posts/_metadata.yml\n"
     ]
    }
   ],
   "source": [
    "quarto create-project blog --type website:blog"
   ]
  },
  {
   "cell_type": "markdown",
   "id": "e6a83576-077c-4fed-9c88-45b0a21477d7",
   "metadata": {},
   "source": [
    "I also ran the command `nbdev_install_hooks` to prevent unnecessary Git merge conflicts and enable conflict resolution in Jupyter."
   ]
  },
  {
   "cell_type": "code",
   "execution_count": null,
   "id": "4a2100c1-048c-4d7e-ad6a-2ea40b926e66",
   "metadata": {},
   "outputs": [
    {
     "name": "stdout",
     "output_type": "stream",
     "text": [
      "Hooks are installed.\n"
     ]
    }
   ],
   "source": [
    "nbdev_install_hooks"
   ]
  },
  {
   "cell_type": "markdown",
   "id": "f3b45737-fbd6-4a7c-92d9-3f98c3ba793c",
   "metadata": {},
   "source": [
    "<details>\n",
    "<summary>See also</summary>\n",
    "\n",
    "- [Quarto - Creating a Blog](https://quarto.org/docs/websites/website-blog.html)\n",
    "- [The Jupyter+git problem is now solved](https://www.fast.ai/posts/2022-08-25-jupyter-git.html)\n",
    "- [Git-Friendly Jupyter](https://nbdev.fast.ai/tutorials/git_friendly_jupyter.html)\n",
    "- [Git documentation](https://git-scm.com/docs)\n",
    "- [Git Handbook](https://guides.github.com/introduction/git-handbook/)\n",
    "- [Codecademy's \"Learn Git\" course](https://www.codecademy.com/learn/learn-git)\n",
    "- [Bash Guide for Beginners](http://tldp.org/LDP/Bash-Beginners-Guide/html/)\n",
    "\n",
    "</details>"
   ]
  },
  {
   "cell_type": "markdown",
   "id": "abd02943-03d2-4458-87cc-d60fcde2bbf5",
   "metadata": {},
   "source": [
    "## Adding this post to the blog"
   ]
  },
  {
   "cell_type": "markdown",
   "id": "c8114e2a-49c7-4309-8c1b-20e76adebd84",
   "metadata": {},
   "source": [
    "I had already started writing this post in a Jupyter Lab notebook `blogging.ipynb`. Now I needed to put it in the right place, so I made a directory for it:\n",
    "\n",
    "I started writing this post in a Jupyter Lab notebook called `blogging.ipynb`. When I got to this point, I needed to put it in the right directory to include it in the blog. I first created a directory called `blog/posts/blogging`:"
   ]
  },
  {
   "cell_type": "code",
   "execution_count": null,
   "id": "620d707c-0f05-4f47-8ac7-11b5eb6dd1e7",
   "metadata": {},
   "outputs": [],
   "source": [
    "mkdir -p blog/posts/blogging"
   ]
  },
  {
   "cell_type": "markdown",
   "id": "c93c4804-cd41-41f1-a727-4b310d2dba0b",
   "metadata": {},
   "source": [
    "Then I simply moved the `blogging.ipynb` file to that directory using Jupyter Lab's file browser. This allowed me to easily include the post in the blog without even having to close the notebook."
   ]
  },
  {
   "cell_type": "markdown",
   "id": "43dd41bb-bd1d-4270-8752-454c7d6634a0",
   "metadata": {},
   "source": [
    "## Previewing the blog"
   ]
  },
  {
   "cell_type": "markdown",
   "id": "503e84bc-bc5d-44f4-b198-c1fc2b5cb78c",
   "metadata": {},
   "source": [
    "Once you've set up your blog, you can preview it by running the following command in a terminal:\n",
    "\n",
    "```sh\n",
    "quarto preview blog\n",
    "```\n",
    "\n",
    "Make sure to run this command outside of Jupyter, as it can cause Jupyter to hang if run in a cell.\n",
    "\n",
    "You can also use additional options to customize the preview. For example, if you don't want to launch a browser, you can use the --no-browser option. If you want to specify a custom port, you can use the --port option followed by the desired port number. Here's an example of how to use both options:\n",
    "\n",
    "```sh\n",
    "quarto preview blog --no-browser --port 4242\n",
    "```\n",
    "\n",
    "This will start the preview on port 4242 and prevent it from automatically launching a browser. I do it this way myself, because I open the preview window from a separate startup script."
   ]
  },
  {
   "cell_type": "markdown",
   "id": "1bb4084d-17f1-4bd2-b700-f4a2ce584a98",
   "metadata": {},
   "source": [
    "## Finishing up"
   ]
  },
  {
   "cell_type": "markdown",
   "id": "1d326bba-e048-4797-bc5b-8138d152393b",
   "metadata": {},
   "source": [
    "To clean up the blog ready for publishing my first post, I removed the example posts, changed the settings, filled in the about page, added links to my social media profiles, and added a profile picture.\n",
    "\n",
    "I also followed the Quarto documentation to enable comments using Hypothesis and an RSS feed for the blog.\n",
    "\n",
    "The Hypothesis annotation tool to allow readers to leave comments and annotations on the blog posts. This feature required me to create an Hypothesis account and link it to the blog. It's functional, but looks and feels different from regular commenting. Please try it out and leave a comment for me.\n",
    "\n",
    "For the RSS feed, I followed the Quarto guide to add an RSS feed to the blog. This enables readers to subscribe to the blog and receive updates whenever new posts are published. Personally I am using the Miniflux RSS reader; Newsblur is another good option. After a bit of research, I found that I can follow the comments on my blog using [this RSS stream](https://hypothes.is/stream.rss?wildcard_uri=https://sam.ucm.dev/*).\n",
    "\n",
    "<details>\n",
    "<summary>See also</summary>\n",
    "\n",
    "- [Quarto - HTML Basics - Commenting](https://quarto.org/docs/output-formats/html-basics.html#commenting)\n",
    "- [Quarto - Creating a Blog - RSS Feed](https://quarto.org/docs/websites/website-blog.html#rss-feed)\n",
    "- [Hypothesis](https://web.hypothes.is/): A web-based annotation tool that allows users to highlight and comment on web pages.\n",
    "- [RSS](https://en.wikipedia.org/wiki/RSS): A web feed format used to publish frequently updated content such as blog entries, news headlines, and podcasts.\n",
    "- [Miniflux](https://miniflux.app/): A minimalist and open source RSS reader.\n",
    "- [NewsBlur](https://www.newsblur.com/): A personal news reader that brings people together to talk about the world.\n",
    "\n",
    "</details>"
   ]
  },
  {
   "cell_type": "markdown",
   "id": "af13d5c3-afd1-4cfd-b7f2-1c366dbb1053",
   "metadata": {},
   "source": [
    "## Committing to git"
   ]
  },
  {
   "cell_type": "markdown",
   "id": "920207fd-ffe3-43b4-b9a5-f7ca12a3cbf9",
   "metadata": {},
   "source": [
    "The Quarto doc says \"you should always fully `quarto render` your site before deploying it\", so let's do it, and commit to git:"
   ]
  },
  {
   "cell_type": "code",
   "execution_count": null,
   "id": "4c952355-4630-463a-9ad5-56986b0be599",
   "metadata": {},
   "outputs": [],
   "source": [
    "cd ~/ai\n",
    "quarto render blog\n",
    "git add blog\n",
    "git commit -m 'update blog'\n",
    "git push\n",
    "git push opal\n",
    "git push pi"
   ]
  },
  {
   "cell_type": "markdown",
   "id": "b3f0d665-2704-4e19-a578-c6b8a091db2a",
   "metadata": {},
   "source": [
    "I pushed to github, and my two servers *opal* and *pi*."
   ]
  },
  {
   "cell_type": "markdown",
   "id": "0b20a02d-305b-4bcd-ace3-b638cea2d4da",
   "metadata": {},
   "source": [
    "<details>\n",
    "<summary>See also</summary>\n",
    "\n",
    "- [Quarto - Websites](https://quarto.org/docs/websites/)\n",
    "- [GitHub](https://github.com/)\n",
    "\n",
    "</details>"
   ]
  },
  {
   "cell_type": "markdown",
   "id": "4b92c6d5-46e2-4f1f-b68a-e6c17ae9e008",
   "metadata": {},
   "source": [
    "## Publishing the blog"
   ]
  },
  {
   "cell_type": "markdown",
   "id": "4bee7461-5521-4d39-ae01-bbc83ee31179",
   "metadata": {},
   "source": [
    "I used a symlink on my server to put the rendered blog into my website at [sam.ucm.dev/blog](https://sam.ucm.dev/blog):\n",
    "\n",
    "```sh\n",
    "ln -s ~/ai/blog/_site ~/www/sam.ucm.dev/blog\n",
    "```\n",
    "\n",
    "<details>\n",
    "<summary>See also</summary>\n",
    "\n",
    "- [Quarto - Publishing](https://quarto.org/docs/publishing/)\n",
    "    \n",
    "</details>"
   ]
  },
  {
   "cell_type": "markdown",
   "id": "365f3d43-1858-4deb-bae2-8d1077be9a9c",
   "metadata": {},
   "source": [
    "## Conclusion"
   ]
  },
  {
   "cell_type": "markdown",
   "id": "3bfd66f0-5618-4258-8007-297bc1d1c6ce",
   "metadata": {},
   "source": [
    "In this post, we've seen how to set up a blog using Quarto and Jupyter. These tools allow us to write and publish blog posts as Jupyter notebooks, which can be converted to various formats such as HTML, PDF, and LaTeX, among others. We've also looked at using Hypothesis for comments and annotations, and how to commit our changes to git and deploy our blog on a personal server. By following these steps, we can create a blog that showcases our AI studies and provides a platform for getting feedback, sharing knowledge, and building a community.\n",
    "\n",
    "One thing I would like to explore further, is a way that I can automatically link to other AI bloggers in the community. Link sharing and discovery is one of the benefits of posting on an off-the-shelf playform, such as *Towards Data Science*; it would be good to have something similar for indie bloggers. Maybe just an RSS aggregator plugin that would show links to other recent posts from selected friends and communities...\n",
    "\n",
    "If you have any questions or suggestions, please leave a comment, if you can figure out how to use Hypothesis. Thanks for reading!"
   ]
  }
 ],
 "metadata": {
  "kernelspec": {
   "display_name": "bash",
   "language": "bash",
   "name": "bash"
  }
 },
 "nbformat": 4,
 "nbformat_minor": 5
}
