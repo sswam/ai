{
 "cells": [
  {
   "cell_type": "raw",
   "id": "1f7e8290",
   "metadata": {},
   "source": [
    "---\n",
    "title: \"Python scripts for automation\"\n",
    "date: \"2023-03-06\"\n",
    "format:\n",
    "  html:\n",
    "    code-fold: false\n",
    "    code-tools:\n",
    "      source: https://github.com/sswam/ai/blob/main/blog/posts/automation/automation.ipynb\n",
    "jupyter: python\n",
    "toc: true\n",
    "toc-depth: 2\n",
    "categories: []\n",
    "draft: true\n",
    "---"
   ]
  },
  {
   "cell_type": "markdown",
   "id": "2065968e",
   "metadata": {},
   "source": [
    "## Introduction"
   ]
  },
  {
   "cell_type": "markdown",
   "id": "ac935e2e",
   "metadata": {},
   "source": [
    "I wrote a few Python scripts to help me with my blog. I didn't write them using Jupyter and nbdev, I used nvim, with Copilot to help me, and ChatGPT on the side.\n",
    "\n",
    "I do have a way to edit Jupyer cells in nvim, though, using GhostText. This might be a good way to get the best of both worlds, Jupyter and vim and Copilot all together. I'll try that for the next scripts."
   ]
  },
  {
   "cell_type": "markdown",
   "id": "68c1a7b6",
   "metadata": {},
   "source": [
    "### blog_links"
   ]
  },
  {
   "cell_type": "markdown",
   "id": "189d89fe",
   "metadata": {},
   "source": [
    "My Quarto blog is set up with a folder for each blog post, which can be a bit awkward. For example, the notebook for this post is at `blog/posts/automation/automation.ipynb`.\n",
    "\n",
    "Also, the post folders are just short names, and don't indicate the order of the posts. So I decided to add numbered symlinks under the main `blog` directory to the notebook for each post."
   ]
  },
  {
   "cell_type": "code",
   "execution_count": null,
   "id": "dadb8dec",
   "metadata": {},
   "outputs": [
    {
     "name": "stdout",
     "output_type": "stream",
     "text": [
      "/home/sam/ai/blog\n",
      "lrwxrwxrwx 1 sam sam 21 Mar  6 16:27 001_blog.ipynb -> posts/blog/blog.ipynb\r\n",
      "lrwxrwxrwx 1 sam sam 27 Mar  6 16:27 002_startup.ipynb -> posts/startup/startup.ipynb\r\n",
      "lrwxrwxrwx 1 sam sam 31 Mar  6 16:27 003_shortcuts.ipynb -> posts/shortcuts/shortcuts.ipynb\r\n",
      "lrwxrwxrwx 1 sam sam 23 Mar  6 16:27 004_setup.ipynb -> posts/setup/setup.ipynb\r\n",
      "lrwxrwxrwx 1 sam sam 29 Mar  6 16:27 005_deadends.ipynb -> posts/deadends/deadends.ipynb\r\n",
      "lrwxrwxrwx 1 sam sam 29 Mar  6 16:27 006_backport.ipynb -> posts/backport/backport.ipynb\r\n",
      "lrwxrwxrwx 1 sam sam 33 Mar  6 17:31 007_automation.ipynb -> posts/automation/automation.ipynb\r\n"
     ]
    }
   ],
   "source": [
    "%cd ~/ai/blog\n",
    "!ls -l 0*"
   ]
  },
  {
   "cell_type": "markdown",
   "id": "c9cf3e25",
   "metadata": {},
   "source": [
    "It was getting annoying to update these links by hand, so I wrote a Python script to help with it."
   ]
  },
  {
   "cell_type": "code",
   "execution_count": null,
   "id": "16007663",
   "metadata": {},
   "outputs": [
    {
     "ename": "ImportError",
     "evalue": "cannot import name 'is_notebook' from 'lib' (/home/sam/ai/lib/lib.py)",
     "output_type": "error",
     "traceback": [
      "\u001b[0;31m-------------------------------------------------------------------------\u001b[0m",
      "\u001b[0;31mImportError\u001b[0m                             Traceback (most recent call last)",
      "Cell \u001b[0;32mIn[3], line 15\u001b[0m\n\u001b[1;32m     12\u001b[0m \u001b[38;5;28;01mimport\u001b[39;00m \u001b[38;5;21;01margparse\u001b[39;00m\n\u001b[1;32m     13\u001b[0m \u001b[38;5;28;01mfrom\u001b[39;00m \u001b[38;5;21;01mos\u001b[39;00m \u001b[38;5;28;01mimport\u001b[39;00m environ \u001b[38;5;28;01mas\u001b[39;00m env\n\u001b[0;32m---> 15\u001b[0m \u001b[38;5;28;01mfrom\u001b[39;00m \u001b[38;5;21;01mlib\u001b[39;00m \u001b[38;5;28;01mimport\u001b[39;00m is_notebook, cd, show_locals, caller_locals, kv_dump, eprint\n\u001b[1;32m     16\u001b[0m \u001b[38;5;28;01mfrom\u001b[39;00m \u001b[38;5;21;01mblog\u001b[39;00m \u001b[38;5;28;01mimport\u001b[39;00m quarto_post_date\n\u001b[1;32m     18\u001b[0m \u001b[38;5;28;01mdef\u001b[39;00m \u001b[38;5;21mupdate_links_in_cwd\u001b[39m(digits\u001b[38;5;241m=\u001b[39m\u001b[38;5;241m3\u001b[39m, dry_run\u001b[38;5;241m=\u001b[39m\u001b[38;5;28;01mFalse\u001b[39;00m, verbose\u001b[38;5;241m=\u001b[39m\u001b[38;5;28;01mFalse\u001b[39;00m, debug\u001b[38;5;241m=\u001b[39m\u001b[38;5;28;01mFalse\u001b[39;00m):\n",
      "\u001b[0;31mImportError\u001b[0m: cannot import name 'is_notebook' from 'lib' (/home/sam/ai/lib/lib.py)"
     ]
    }
   ],
   "source": [
    "#!/usr/bin/env python3\n",
    "\n",
    "\"\"\"\n",
    "This script creates numbered symlinks for blog posts.\n",
    "\"\"\"\n",
    "\n",
    "import os\n",
    "from os.path import basename, islink\n",
    "import re\n",
    "from glob import glob\n",
    "from pathlib import Path\n",
    "import argparse\n",
    "from os import environ as env\n",
    "\n",
    "from lib import is_notebook, cd, show_locals, caller_locals, kv_dump, eprint\n",
    "from blog import quarto_post_date\n",
    "\n",
    "def update_links_in_cwd(digits=3, dry_run=False, verbose=False, debug=False):\n",
    "\t\"\"\"Update blog symlinks in the current working directory.\"\"\"\n",
    "\t_params = caller_locals()\n",
    "\n",
    "\t# get list of blog symlinks\n",
    "\tblog_links = sorted(filter(islink, glob('*.ipynb')))\n",
    "\n",
    "\t# get list of blog posts under posts/foo/foo.ipynb\n",
    "\tposts = glob('posts/*/*.ipynb')\n",
    "\n",
    "\t# get link targets for each blog symlink\n",
    "\tlink_targets = [os.readlink(link) for link in blog_links]\n",
    "\n",
    "\t# get list of posts which don't have symlinks yet\n",
    "\tnew_posts = [post for post in posts if post not in link_targets]\n",
    "\n",
    "\t# sort posts by date\n",
    "\tnew_posts_by_date = sorted(new_posts, key=quarto_post_date)\n",
    "\n",
    "\t# get the number of the last post\n",
    "\tn_posts = int(re.match(r'^\\d+', basename(blog_links[-1])).group(0)) if blog_links else 0\n",
    "\n",
    "\tif debug:\n",
    "\t\tshow_locals(exclude=_params)\n",
    "\n",
    "\t# create a numbered symlink for each post which doesn't have one yet\n",
    "\tfor post in new_posts_by_date:\n",
    "\t\tn_posts += 1\n",
    "\t\tpost_number = str(n_posts).zfill(digits)\n",
    "\t\tlink_name = f'{post_number}_{os.path.basename(post)}'\n",
    "\t\tif not dry_run:\n",
    "\t\t\tos.symlink(post, link_name)\n",
    "\t\tif verbose:\n",
    "\t\t\tprint(f'created symlink {link_name} -> {post}')\n",
    "\n",
    "def update_links(blog_dir, *args, **kwargs):\n",
    "\t\"\"\"Update blog symlinks, wrapper to cd into blog_dir and show errors.\"\"\"\n",
    "\ttry:\n",
    "\t\twith cd(blog_dir):\n",
    "\t\t\treturn update_links_in_cwd(*args, **kwargs)\n",
    "\texcept Exception as e:\n",
    "\t\tif kwargs.get('debug'):\n",
    "\t\t\traise\n",
    "\t\telse:\n",
    "\t\t\teprint(f'error: {e}')\n",
    "\n",
    "def main():\n",
    "\t\"\"\"Main function, handles command line arguments.\"\"\"\n",
    "\tparser = argparse.ArgumentParser(description='Update blog symlinks') #, formatter_class=argparse.ArgumentDefaultsHelpFormatter, argument_default=argparse.SUPPRESS)\n",
    "\tdefault_blog_dir = env.get(\"BLOG_DIR\", \".\")\n",
    "\tparser.add_argument('--dir', type=str, help='blog directory', default=default_blog_dir, nargs='?')\n",
    "\tparser.add_argument('--digits', '-w', type=int, default=3, help='pad numbering to digits')\n",
    "\tparser.add_argument('--dry-run', '-n', action='store_true', help='dry run')\n",
    "\tparser.add_argument('--verbose', '-v', action='store_true', help='verbose')\n",
    "\tparser.add_argument('--debug', '-d', action='store_true', help='debug')\n",
    "\targs = parser.parse_args()\n",
    "\tupdate_links(args.dir, digits=args.digits, dry_run=args.dry_run, verbose=args.verbose, debug=args.debug)\n",
    "\n",
    "if __name__ == '__main__' and not is_notebook():\n",
    "\tmain()"
   ]
  },
  {
   "cell_type": "markdown",
   "id": "ffe15903",
   "metadata": {},
   "source": [
    "## Library code"
   ]
  },
  {
   "cell_type": "markdown",
   "id": "139b9f83",
   "metadata": {},
   "source": [
    "### lib.py — miscellaneous functions"
   ]
  },
  {
   "cell_type": "markdown",
   "id": "5c20058b",
   "metadata": {},
   "source": [
    "### Detect if running in a notebook"
   ]
  },
  {
   "cell_type": "markdown",
   "id": "b2736b2b",
   "metadata": {},
   "source": [
    "I don't want to run a script's main function from a notebook. "
   ]
  },
  {
   "cell_type": "code",
   "execution_count": null,
   "id": "3a9d9164",
   "metadata": {},
   "outputs": [],
   "source": [
    "def is_notebook() -> bool:\n",
    "    try:\n",
    "        shell = get_ipython().__class__.__name__\n",
    "        if shell == 'ZMQInteractiveShell':\n",
    "            return True   # Jupyter notebook or qtconsole\n",
    "        elif shell == 'TerminalInteractiveShell':\n",
    "            return False  # Terminal running IPython\n",
    "        else:\n",
    "            return False  # Other type (?)\n",
    "    except NameError:\n",
    "        return False      # Probably standard Python interpreter"
   ]
  },
  {
   "cell_type": "markdown",
   "id": "6bd5751c",
   "metadata": {},
   "source": [
    "## scratch"
   ]
  },
  {
   "cell_type": "code",
   "execution_count": null,
   "id": "8a9728ca",
   "metadata": {},
   "outputs": [
    {
     "data": {
      "text/plain": [
       "'ZMQInteractiveShell'"
      ]
     },
     "execution_count": null,
     "metadata": {},
     "output_type": "execute_result"
    }
   ],
   "source": [
    "get_ipython().__class__.__name__"
   ]
  },
  {
   "cell_type": "code",
   "execution_count": null,
   "id": "554feffe",
   "metadata": {},
   "outputs": [
    {
     "data": {
      "text/plain": [
       "True"
      ]
     },
     "execution_count": null,
     "metadata": {},
     "output_type": "execute_result"
    }
   ],
   "source": [
    "is_notebook()"
   ]
  }
 ],
 "metadata": {
  "kernelspec": {
   "display_name": "python3",
   "language": "python",
   "name": "python3"
  }
 },
 "nbformat": 4,
 "nbformat_minor": 5
}
