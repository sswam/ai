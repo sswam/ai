{
 "cells": [
  {
   "cell_type": "raw",
   "id": "0cdd03da-4db5-4e38-b729-1401f0ce12f2",
   "metadata": {},
   "source": [
    "---\n",
    "title: \"A multi-label classifier, part 3: Google image search\"\n",
    "date: \"2023-03-11\"\n",
    "date-modified: \"2023-03-12\"\n",
    "format:\n",
    "  html:\n",
    "    code-fold: false\n",
    "    code-tools:\n",
    "      source: https://github.com/sswam/ai/blob/main/blog/posts/multilabel3/multilabel3.ipynb\n",
    "jupyter: python\n",
    "toc: true\n",
    "toc-depth: 2\n",
    "categories: []\n",
    "draft: true\n",
    "---"
   ]
  },
  {
   "cell_type": "markdown",
   "id": "f326349b-93ef-4117-8e4e-da0f7b371bdb",
   "metadata": {},
   "source": [
    "## Introduction"
   ]
  },
  {
   "cell_type": "markdown",
   "id": "aa523118-f34d-4796-af54-80f8d67828e8",
   "metadata": {},
   "source": [
    "TODO:\n",
    "\n",
    "- build it using nbdev\n",
    "- install it as a proper python module\n",
    "- remove this code from part 1: `sys.path.append('.')`"
   ]
  }
 ],
 "metadata": {
  "kernelspec": {
   "display_name": "python3",
   "language": "python",
   "name": "python3"
  }
 },
 "nbformat": 4,
 "nbformat_minor": 5
}
