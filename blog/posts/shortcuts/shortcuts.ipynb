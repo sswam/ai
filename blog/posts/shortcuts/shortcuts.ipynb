{
 "cells": [
  {
   "cell_type": "raw",
   "id": "05db64d9-00bc-4e4d-9232-94caa2ad0c87",
   "metadata": {},
   "source": [
    "---\n",
    "title: \"Keyboard shortcuts for Jupyter Lab\"\n",
    "author: \"Sam Watkins\"\n",
    "date: \"2023-02-24\"\n",
    "format:\n",
    "  html:\n",
    "    code-fold: false\n",
    "jupyter: bash\n",
    "categories: [Jupyter, shortcuts]\n",
    "draft: false\n",
    "---"
   ]
  },
  {
   "cell_type": "markdown",
   "id": "5f90c516-a61b-4e12-9535-b168e80e7e3d",
   "metadata": {},
   "source": [
    "## Introduction"
   ]
  },
  {
   "cell_type": "markdown",
   "id": "f9111016-6d00-4093-8b4c-633ade1ea94c",
   "metadata": {},
   "source": [
    "I added some keyboard shortcuts to Jupyter Lab:\n",
    "\n",
    "| shortcut | function |\n",
    "| --- | --- |\n",
    "| Ctrl Shift Enter | Run All Above Selected Cell |\n",
    "| Alt L | Clear All Outputs |\n",
    "| Alt M | Render All Markdown Cells |\n",
    "| Shift V | Paste Cells Above |"
   ]
  },
  {
   "cell_type": "markdown",
   "id": "6879cb81-dd09-4851-9101-616bf7cb0840",
   "metadata": {},
   "source": [
    "## Editing the settings"
   ]
  },
  {
   "cell_type": "markdown",
   "id": "fbc5d4f1-1d97-4895-9a25-f45f134f3e59",
   "metadata": {},
   "source": [
    "Go to Settings → Advanced Settings Editor → JSON Settings Editor\n",
    "\n",
    "Then add these shortcuts at the end of the file:"
   ]
  },
  {
   "cell_type": "markdown",
   "id": "4eeeb66a-1916-4bf7-a0a9-92ee6696b6dc",
   "metadata": {},
   "source": [
    "        {\n",
    "            \"args\": {},\n",
    "            \"command\": \"notebook:run-all-above\",\n",
    "            \"keys\": [\n",
    "                \"Ctrl Shift Enter\"\n",
    "            ],\n",
    "            \"selector\": \".jp-Notebook:focus\"\n",
    "        },\n",
    "        {\n",
    "            \"args\": {},\n",
    "            \"command\": \"notebook:clear-all-cell-outputs\",\n",
    "            \"keys\": [\n",
    "                \"Alt L\"\n",
    "            ],\n",
    "            \"selector\": \".jp-Notebook:focus\"\n",
    "        },\n",
    "        {\n",
    "            \"args\": {},\n",
    "            \"command\": \"notebook:render-all-markdown\",\n",
    "            \"keys\": [\n",
    "                \"Alt M\"\n",
    "            ],\n",
    "            \"selector\": \".jp-Notebook:focus\"\n",
    "        },\n",
    "        {\n",
    "            \"args\": {},\n",
    "            \"command\": \"notebook:paste-cell-above\",\n",
    "            \"keys\": [\n",
    "                \"Shift V\"\n",
    "            ],\n",
    "            \"selector\": \".jp-Notebook:focus\"\n",
    "        }"
   ]
  },
  {
   "cell_type": "markdown",
   "id": "1abc05cf-620f-4e92-8fed-9e7d4a50c1c5",
   "metadata": {},
   "source": [
    "Remember to add a trailing comma on the previous entry, and no comma after the final entry."
   ]
  }
 ],
 "metadata": {
  "kernelspec": {
   "display_name": "bash",
   "language": "bash",
   "name": "bash"
  }
 },
 "nbformat": 4,
 "nbformat_minor": 5
}
