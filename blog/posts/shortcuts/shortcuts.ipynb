{
 "cells": [
  {
   "cell_type": "raw",
   "id": "05db64d9-00bc-4e4d-9232-94caa2ad0c87",
   "metadata": {},
   "source": [
    "---\n",
    "title: \"Keyboard shortcuts for Jupyter Lab\"\n",
    "date: \"2023-02-24\"\n",
    "date-modified: \"2023-03-03\"\n",
    "format:\n",
    "  html:\n",
    "    code-fold: false\n",
    "    code-tools:\n",
    "      source: https://github.com/sswam/ai/blob/main/blog/posts/shortcuts/shortcuts.ipynb\n",
    "jupyter: javascript\n",
    "categories: [setup, Jupyter]\n",
    "output: false\n",
    "draft: false\n",
    "---"
   ]
  },
  {
   "cell_type": "markdown",
   "id": "5f90c516-a61b-4e12-9535-b168e80e7e3d",
   "metadata": {},
   "source": [
    "## Introduction"
   ]
  },
  {
   "cell_type": "markdown",
   "id": "f9111016-6d00-4093-8b4c-633ade1ea94c",
   "metadata": {},
   "source": [
    "Keyboard shortcuts are a great way to speed up your workflow in Jupyter Lab, but sometimes the default shortcuts don't quite fit your needs. In this short post, I'll show you how to add four new keyboard shortcuts to Jupyter Lab that I find useful.\n",
    "\n",
    "| shortcut | function |\n",
    "| --- | --- |\n",
    "| Ctrl Shift Enter | Run All Above Selected Cell |\n",
    "| Alt L | Clear All Outputs |\n",
    "| Alt M | Render All Markdown Cells |\n",
    "| Shift V | Paste Cells Above |"
   ]
  },
  {
   "cell_type": "markdown",
   "id": "6879cb81-dd09-4851-9101-616bf7cb0840",
   "metadata": {},
   "source": [
    "## Editing the settings"
   ]
  },
  {
   "cell_type": "markdown",
   "id": "2b4a4b2e-6da3-4f8c-82e3-aa91f44b546c",
   "metadata": {},
   "source": [
    "Go to Settings → Advanced Settings Editor → JSON Settings Editor\n",
    "\n",
    "Then add these shortcuts at the end of the file."
   ]
  },
  {
   "cell_type": "markdown",
   "id": "16d8f173-1948-471d-bc57-1fb67c3fcb34",
   "metadata": {},
   "source": [
    "```json\n",
    "        {\n",
    "            \"args\": {},\n",
    "            \"command\": \"notebook:run-all-above\",\n",
    "            \"keys\": [\n",
    "                \"Ctrl Shift Enter\"\n",
    "            ],\n",
    "            \"selector\": \".jp-Notebook:focus\"\n",
    "        },\n",
    "        {\n",
    "            \"args\": {},\n",
    "            \"command\": \"notebook:clear-all-cell-outputs\",\n",
    "            \"keys\": [\n",
    "                \"Alt L\"\n",
    "            ],\n",
    "            \"selector\": \".jp-Notebook:focus\"\n",
    "        },\n",
    "        {\n",
    "            \"args\": {},\n",
    "            \"command\": \"notebook:render-all-markdown\",\n",
    "            \"keys\": [\n",
    "                \"Alt M\"\n",
    "            ],\n",
    "            \"selector\": \".jp-Notebook:focus\"\n",
    "        },\n",
    "        {\n",
    "            \"args\": {},\n",
    "            \"command\": \"notebook:paste-cell-above\",\n",
    "            \"keys\": [\n",
    "                \"Shift V\"\n",
    "            ],\n",
    "            \"selector\": \".jp-Notebook:focus\"\n",
    "        }\n",
    "```"
   ]
  },
  {
   "cell_type": "markdown",
   "id": "1abc05cf-620f-4e92-8fed-9e7d4a50c1c5",
   "metadata": {},
   "source": [
    "Remember to add a trailing comma on the previous entry, and no comma after the final entry."
   ]
  },
  {
   "cell_type": "markdown",
   "id": "b4befdf3-ccc3-4d37-aaf5-ea9aaaad2fcb",
   "metadata": {},
   "source": [
    "## Conclusion"
   ]
  },
  {
   "cell_type": "markdown",
   "id": "7caeb704-69aa-4fa9-8e35-740556259c49",
   "metadata": {},
   "source": [
    "With these new keyboard shortcuts, you can quickly run all the cells above your current selection, clear all cell outputs, render all markdown cells, and paste cells above your current selection. By customizing your shortcuts to fit your needs, you can save time and increase your productivity in Jupyter Lab."
   ]
  }
 ],
 "metadata": {
  "kernelspec": {
   "display_name": "javascript",
   "language": "javascript",
   "name": "javascript"
  }
 },
 "nbformat": 4,
 "nbformat_minor": 5
}
