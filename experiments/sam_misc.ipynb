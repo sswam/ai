{
 "cells": [
  {
   "cell_type": "markdown",
   "id": "884b8fc2-32ee-4279-a4a1-16020ad7443e",
   "metadata": {},
   "source": [
    "# Sam's misc libs"
   ]
  },
  {
   "cell_type": "code",
   "execution_count": null,
   "id": "7c99d594-7bf8-4cd7-81c5-566d880851d6",
   "metadata": {},
   "outputs": [],
   "source": [
    "#|export\n",
    "import os\n",
    "os.environ['TF_CPP_MIN_LOG_LEVEL'] = '1'"
   ]
  },
  {
   "cell_type": "code",
   "execution_count": null,
   "id": "d1c9e6bb-756c-4d36-9011-5ace89bd5579",
   "metadata": {},
   "outputs": [],
   "source": [
    "#|export\n",
    "from itertools import chain, combinations\n",
    "import inflect\n",
    "from fastcore.foundation import L\n",
    "import ipywidgets as widgets\n",
    "import logging"
   ]
  },
  {
   "cell_type": "code",
   "execution_count": null,
   "id": "660894d1-023a-403d-85d5-8f9696b18974",
   "metadata": {},
   "outputs": [],
   "source": [
    "#|export\n",
    "def powerset(iterable):\n",
    "    \"powerset([1,2,3]) --> () (1,) (2,) (3,) (1,2) (1,3) (2,3) (1,2,3)\"\n",
    "    s = list(iterable)\n",
    "    return chain.from_iterable(combinations(s, r) for r in range(len(s)+1))"
   ]
  },
  {
   "cell_type": "code",
   "execution_count": null,
   "id": "c843dd68-6284-4ab6-b7ca-ce8613d0b583",
   "metadata": {},
   "outputs": [],
   "source": [
    "#|export\n",
    "p = inflect.engine()"
   ]
  },
  {
   "cell_type": "code",
   "execution_count": null,
   "id": "220b3c2d-b131-4e03-8276-b0edaf52ebff",
   "metadata": {},
   "outputs": [],
   "source": [
    "#|export\n",
    "def join_a_foo_and_a_bar(comb):\n",
    "    return \" and \".join(p.a(x) for x in comb)"
   ]
  },
  {
   "cell_type": "code",
   "execution_count": null,
   "id": "47ba1e26-f40c-4d23-909c-99ee132fc31c",
   "metadata": {},
   "outputs": [
    {
     "data": {
      "text/plain": [
       "'a banana and an apple'"
      ]
     },
     "execution_count": null,
     "metadata": {},
     "output_type": "execute_result"
    }
   ],
   "source": [
    "join_a_foo_and_a_bar([\"banana\", \"apple\"])"
   ]
  },
  {
   "cell_type": "code",
   "execution_count": null,
   "id": "4625fe9e-bb87-4780-8ca7-702a5ff7790f",
   "metadata": {},
   "outputs": [],
   "source": [
    "#|export\n",
    "def seq_diff(s1, s2):\n",
    "    return L(filter(lambda x: x not in s2, s1))"
   ]
  },
  {
   "cell_type": "code",
   "execution_count": null,
   "id": "12d76da2-2113-4f3a-8218-1d866a1ca73b",
   "metadata": {},
   "outputs": [
    {
     "name": "stdout",
     "output_type": "stream",
     "text": [
      "() ['bird', 'cat', 'dog']\n",
      "('bird',) ['cat', 'dog']\n",
      "('cat',) ['bird', 'dog']\n",
      "('dog',) ['bird', 'cat']\n",
      "('bird', 'cat') ['dog']\n",
      "('bird', 'dog') ['cat']\n",
      "('cat', 'dog') ['bird']\n",
      "('bird', 'cat', 'dog') []\n"
     ]
    }
   ],
   "source": [
    "def test_seq_diff():\n",
    "    labels = L(\"bird\", \"cat\", \"dog\")\n",
    "    for comb in powerset(labels):\n",
    "        print(comb, seq_diff(labels, comb))\n",
    "        \n",
    "test_seq_diff()"
   ]
  },
  {
   "cell_type": "code",
   "execution_count": null,
   "id": "03814449-26b2-4dba-abc5-45e7900a2449",
   "metadata": {},
   "outputs": [],
   "source": [
    "#|export\n",
    "def confirm_delete(del_path):\n",
    "    button = widgets.Button(description=f\"Move data to trash: {del_path}?\", layout=widgets.Layout(width='20em'))\n",
    "    # button.on_click(lambda b: shutil.rmtree(del_path, ignore_errors=True))\n",
    "    button.on_click(lambda b: send2trash(del_path))\n",
    "    display(button)"
   ]
  },
  {
   "cell_type": "code",
   "execution_count": null,
   "id": "06f79ecf-2a7e-4c4e-bfab-cd7f287b6641",
   "metadata": {},
   "outputs": [],
   "source": [
    "#|export\n",
    "def setup_logging(quiet=False, debug=False):\n",
    "    if debug:\n",
    "        logging.basicConfig(level=logging.DEBUG, format=\"%(asctime)s %(levelname)s %(message)s\")\n",
    "    elif quiet:\n",
    "        logging.basicConfig(level=logging.ERROR, format=\"%(message)s\")\n",
    "    else:\n",
    "        logging.basicConfig(level=logging.INFO, format=\"%(message)s\")"
   ]
  },
  {
   "cell_type": "code",
   "execution_count": null,
   "id": "05ce4291-f00b-4a51-9490-db7286e74fa7",
   "metadata": {},
   "outputs": [],
   "source": [
    "#| default_exp sam_misc"
   ]
  },
  {
   "cell_type": "code",
   "execution_count": null,
   "id": "eb439984-cb72-46f2-b901-94d647791987",
   "metadata": {},
   "outputs": [],
   "source": [
    "from nbdev.export import nb_export\n",
    "nb_export('sam_misc.ipynb', '.')"
   ]
  }
 ],
 "metadata": {
  "kernelspec": {
   "display_name": "python3",
   "language": "python",
   "name": "python3"
  }
 },
 "nbformat": 4,
 "nbformat_minor": 5
}
