{
 "cells": [
  {
   "cell_type": "code",
   "execution_count": null,
   "id": "eb3d5dc4-1592-4919-afd5-44072010ecee",
   "metadata": {},
   "outputs": [],
   "source": [
    "from fastai.tabular.all import *"
   ]
  },
  {
   "cell_type": "code",
   "execution_count": null,
   "id": "83b0c70d-41a6-481f-b66a-8c2e197bb6a9",
   "metadata": {},
   "outputs": [],
   "source": [
    "datafile = Path('./data.csv')"
   ]
  },
  {
   "cell_type": "markdown",
   "id": "487d3bb8-9580-489f-8c5f-235e30cb6e3b",
   "metadata": {},
   "source": [
    "## build data.csv with shell"
   ]
  },
  {
   "cell_type": "code",
   "execution_count": null,
   "id": "e115abf2-d50a-478f-a708-2d15c59ba9e3",
   "metadata": {},
   "outputs": [
    {
     "name": "stdout",
     "output_type": "stream",
     "text": [
      "x,y\n",
      "0,0\n",
      "1,1\n",
      "2,2\n",
      "3,3\n",
      "4,4\n",
      "5,5\n",
      "6,6\n",
      "7,7\n",
      "8,8\n"
     ]
    }
   ],
   "source": [
    "!(echo x,y; for A in `seq 0 25000`; do echo $A,$A; done) > data.csv\n",
    "!head data.csv"
   ]
  },
  {
   "cell_type": "markdown",
   "id": "3312951f-0c8b-4e8b-b383-5cb59fed7f60",
   "metadata": {},
   "source": [
    "## build data.csv with Python"
   ]
  },
  {
   "cell_type": "code",
   "execution_count": null,
   "id": "5e8e4b4d-eba2-47d9-95c6-656c55730c1b",
   "metadata": {},
   "outputs": [],
   "source": [
    "datafile.unlink()"
   ]
  },
  {
   "cell_type": "code",
   "execution_count": null,
   "id": "9829f215-f9ce-4a5f-a5ae-c0501091030d",
   "metadata": {},
   "outputs": [
    {
     "name": "stdout",
     "output_type": "stream",
     "text": [
      "making data.csv\n"
     ]
    }
   ],
   "source": [
    "if not datafile.exists():\n",
    "    print(f\"making {datafile}\")\n",
    "    data = ((x,x) for x in range(0, 25000+1))\n",
    "    df = pd.DataFrame(data, columns = ['x', 'y'])\n",
    "    df.to_csv(datafile, index=False)"
   ]
  },
  {
   "cell_type": "code",
   "execution_count": null,
   "id": "ad8e73d3-d7fe-4c96-9fa2-be0e0b887280",
   "metadata": {},
   "outputs": [
    {
     "name": "stdout",
     "output_type": "stream",
     "text": [
      "x,y\n",
      "0,0\n",
      "1,1\n",
      "2,2\n",
      "3,3\n",
      "4,4\n",
      "5,5\n",
      "6,6\n",
      "7,7\n",
      "8,8\n"
     ]
    }
   ],
   "source": [
    "!head data.csv"
   ]
  },
  {
   "cell_type": "markdown",
   "id": "e3a9d7f7-6a34-49ea-8f79-a48c685b4244",
   "metadata": {},
   "source": [
    "## check the docs"
   ]
  },
  {
   "cell_type": "code",
   "execution_count": null,
   "id": "9c16a3e2-dc78-4f2b-a5fe-7f14a3e7a727",
   "metadata": {},
   "outputs": [
    {
     "data": {
      "text/plain": [
       "\u001b[0;31mSignature:\u001b[0m\n",
       "\u001b[0mtabular_learner\u001b[0m\u001b[0;34m(\u001b[0m\u001b[0;34m\u001b[0m\n",
       "\u001b[0;34m\u001b[0m    \u001b[0mdls\u001b[0m\u001b[0;34m:\u001b[0m \u001b[0;34m'TabularDataLoaders'\u001b[0m\u001b[0;34m,\u001b[0m\u001b[0;34m\u001b[0m\n",
       "\u001b[0;34m\u001b[0m    \u001b[0mlayers\u001b[0m\u001b[0;34m:\u001b[0m \u001b[0;34m'list'\u001b[0m \u001b[0;34m=\u001b[0m \u001b[0;32mNone\u001b[0m\u001b[0;34m,\u001b[0m\u001b[0;34m\u001b[0m\n",
       "\u001b[0;34m\u001b[0m    \u001b[0memb_szs\u001b[0m\u001b[0;34m:\u001b[0m \u001b[0;34m'list'\u001b[0m \u001b[0;34m=\u001b[0m \u001b[0;32mNone\u001b[0m\u001b[0;34m,\u001b[0m\u001b[0;34m\u001b[0m\n",
       "\u001b[0;34m\u001b[0m    \u001b[0mconfig\u001b[0m\u001b[0;34m:\u001b[0m \u001b[0;34m'dict'\u001b[0m \u001b[0;34m=\u001b[0m \u001b[0;32mNone\u001b[0m\u001b[0;34m,\u001b[0m\u001b[0;34m\u001b[0m\n",
       "\u001b[0;34m\u001b[0m    \u001b[0mn_out\u001b[0m\u001b[0;34m:\u001b[0m \u001b[0;34m'int'\u001b[0m \u001b[0;34m=\u001b[0m \u001b[0;32mNone\u001b[0m\u001b[0;34m,\u001b[0m\u001b[0;34m\u001b[0m\n",
       "\u001b[0;34m\u001b[0m    \u001b[0my_range\u001b[0m\u001b[0;34m:\u001b[0m \u001b[0;34m'Tuple[float, float]'\u001b[0m \u001b[0;34m=\u001b[0m \u001b[0;32mNone\u001b[0m\u001b[0;34m,\u001b[0m\u001b[0;34m\u001b[0m\n",
       "\u001b[0;34m\u001b[0m    \u001b[0;34m*\u001b[0m\u001b[0;34m,\u001b[0m\u001b[0;34m\u001b[0m\n",
       "\u001b[0;34m\u001b[0m    \u001b[0mloss_func\u001b[0m\u001b[0;34m:\u001b[0m \u001b[0;34m'callable | None'\u001b[0m \u001b[0;34m=\u001b[0m \u001b[0;32mNone\u001b[0m\u001b[0;34m,\u001b[0m\u001b[0;34m\u001b[0m\n",
       "\u001b[0;34m\u001b[0m    \u001b[0mopt_func\u001b[0m\u001b[0;34m=\u001b[0m\u001b[0;34m<\u001b[0m\u001b[0mfunction\u001b[0m \u001b[0mAdam\u001b[0m \u001b[0mat\u001b[0m \u001b[0;36m0x7fb5892bd990\u001b[0m\u001b[0;34m>\u001b[0m\u001b[0;34m,\u001b[0m\u001b[0;34m\u001b[0m\n",
       "\u001b[0;34m\u001b[0m    \u001b[0mlr\u001b[0m\u001b[0;34m=\u001b[0m\u001b[0;36m0.001\u001b[0m\u001b[0;34m,\u001b[0m\u001b[0;34m\u001b[0m\n",
       "\u001b[0;34m\u001b[0m    \u001b[0msplitter\u001b[0m\u001b[0;34m:\u001b[0m \u001b[0;34m'callable'\u001b[0m \u001b[0;34m=\u001b[0m \u001b[0;34m<\u001b[0m\u001b[0mfunction\u001b[0m \u001b[0mtrainable_params\u001b[0m \u001b[0mat\u001b[0m \u001b[0;36m0x7fb58b449a20\u001b[0m\u001b[0;34m>\u001b[0m\u001b[0;34m,\u001b[0m\u001b[0;34m\u001b[0m\n",
       "\u001b[0;34m\u001b[0m    \u001b[0mcbs\u001b[0m\u001b[0;34m=\u001b[0m\u001b[0;32mNone\u001b[0m\u001b[0;34m,\u001b[0m\u001b[0;34m\u001b[0m\n",
       "\u001b[0;34m\u001b[0m    \u001b[0mmetrics\u001b[0m\u001b[0;34m=\u001b[0m\u001b[0;32mNone\u001b[0m\u001b[0;34m,\u001b[0m\u001b[0;34m\u001b[0m\n",
       "\u001b[0;34m\u001b[0m    \u001b[0mpath\u001b[0m\u001b[0;34m=\u001b[0m\u001b[0;32mNone\u001b[0m\u001b[0;34m,\u001b[0m\u001b[0;34m\u001b[0m\n",
       "\u001b[0;34m\u001b[0m    \u001b[0mmodel_dir\u001b[0m\u001b[0;34m=\u001b[0m\u001b[0;34m'models'\u001b[0m\u001b[0;34m,\u001b[0m\u001b[0;34m\u001b[0m\n",
       "\u001b[0;34m\u001b[0m    \u001b[0mwd\u001b[0m\u001b[0;34m=\u001b[0m\u001b[0;32mNone\u001b[0m\u001b[0;34m,\u001b[0m\u001b[0;34m\u001b[0m\n",
       "\u001b[0;34m\u001b[0m    \u001b[0mwd_bn_bias\u001b[0m\u001b[0;34m=\u001b[0m\u001b[0;32mFalse\u001b[0m\u001b[0;34m,\u001b[0m\u001b[0;34m\u001b[0m\n",
       "\u001b[0;34m\u001b[0m    \u001b[0mtrain_bn\u001b[0m\u001b[0;34m=\u001b[0m\u001b[0;32mTrue\u001b[0m\u001b[0;34m,\u001b[0m\u001b[0;34m\u001b[0m\n",
       "\u001b[0;34m\u001b[0m    \u001b[0mmoms\u001b[0m\u001b[0;34m=\u001b[0m\u001b[0;34m(\u001b[0m\u001b[0;36m0.95\u001b[0m\u001b[0;34m,\u001b[0m \u001b[0;36m0.85\u001b[0m\u001b[0;34m,\u001b[0m \u001b[0;36m0.95\u001b[0m\u001b[0;34m)\u001b[0m\u001b[0;34m,\u001b[0m\u001b[0;34m\u001b[0m\n",
       "\u001b[0;34m\u001b[0m    \u001b[0mdefault_cbs\u001b[0m\u001b[0;34m:\u001b[0m \u001b[0;34m'bool'\u001b[0m \u001b[0;34m=\u001b[0m \u001b[0;32mTrue\u001b[0m\u001b[0;34m,\u001b[0m\u001b[0;34m\u001b[0m\n",
       "\u001b[0;34m\u001b[0m\u001b[0;34m)\u001b[0m\u001b[0;34m\u001b[0m\u001b[0;34m\u001b[0m\u001b[0m\n",
       "\u001b[0;31mDocstring:\u001b[0m Get a `Learner` using `dls`, with `metrics`, including a `TabularModel` created using the remaining params.\n",
       "\u001b[0;31mFile:\u001b[0m      /usr/local/lib/python3.10/dist-packages/fastai/tabular/learner.py\n",
       "\u001b[0;31mType:\u001b[0m      function\n"
      ]
     },
     "metadata": {},
     "output_type": "display_data"
    }
   ],
   "source": [
    "tabular_learner?"
   ]
  },
  {
   "cell_type": "code",
   "execution_count": null,
   "id": "20e68f24-d7f6-465b-bed1-e85647685360",
   "metadata": {},
   "outputs": [
    {
     "data": {
      "text/html": [
       "<hr/>\n",
       "<h3>tabular_learner</h3>\n",
       "<blockquote><pre><code>tabular_learner(dls:TabularDataLoaders, layers:list=None, emb_szs:list=None, config:dict=None, n_out:int=None, y_range:Tuple[float,float]=None, loss_func:callable|None=None, opt_func=<function Adam>, lr=0.001, splitter:callable=<function trainable_params>, cbs=None, metrics=None, path=None, model_dir='models', wd=None, wd_bn_bias=False, train_bn=True, moms=(0.95, 0.85, 0.95), default_cbs:bool=True)</code></pre></blockquote><p>Get a `Learner` using `dls`, with `metrics`, including a `TabularModel` created using the remaining params.</p>\n",
       "<p><a href=\"https://docs.fast.ai/tabular.learner.html#tabular_learner\" target=\"_blank\" rel=\"noreferrer noopener\">Show in docs</a></p>"
      ],
      "text/plain": [
       "<IPython.core.display.HTML object>"
      ]
     },
     "metadata": {},
     "output_type": "display_data"
    }
   ],
   "source": [
    "doc(tabular_learner)  # note the link to the online docs"
   ]
  },
  {
   "cell_type": "markdown",
   "id": "bd8e8c70-3c05-477c-b0d6-5947ef7da087",
   "metadata": {},
   "source": [
    "## show the full docs with nbdev"
   ]
  },
  {
   "cell_type": "code",
   "execution_count": null,
   "id": "06bf79b8-f77c-4055-a6a3-2dad9b60fc99",
   "metadata": {},
   "outputs": [
    {
     "data": {
      "text/markdown": [
       "---\n",
       "\n",
       "[source](https://github.com/fastai/fastai/blob/master/fastai/tabular/learner.py#LNone){target=\"_blank\" style=\"float:right; font-size:smaller\"}\n",
       "\n",
       "### tabular_learner\n",
       "\n",
       ">      tabular_learner (dls:TabularDataLoaders, layers:list=None,\n",
       ">                       emb_szs:list=None, config:dict=None, n_out:int=None,\n",
       ">                       y_range:Tuple[float,float]=None,\n",
       ">                       loss_func:callable|None=None, opt_func=<function Adam>,\n",
       ">                       lr=0.001, splitter:callable=<function trainable_params>,\n",
       ">                       cbs=None, metrics=None, path=None, model_dir='models',\n",
       ">                       wd=None, wd_bn_bias=False, train_bn=True, moms=(0.95,\n",
       ">                       0.85, 0.95), default_cbs:bool=True)\n",
       "\n",
       "Get a `Learner` using `dls`, with `metrics`, including a `TabularModel` created using the remaining params.\n",
       "\n",
       "|    | **Type** | **Default** | **Details** |\n",
       "| -- | -------- | ----------- | ----------- |\n",
       "| dls |  |  | `DataLoaders` containing data for each dataset needed for `model` |\n",
       "| layers | list | None | Size of the layers generated by `LinBnDrop` |\n",
       "| emb_szs | list | None | Tuples of `n_unique, embedding_size` for all categorical features |\n",
       "| config | dict | None | Config params for TabularModel from `tabular_config` |\n",
       "| n_out | int | None | Final output size of the model |\n",
       "| y_range | Tuple[float, float] | None | Low and high for the final sigmoid function |\n",
       "| loss_func | callable \\| None | None | Loss function for training |\n",
       "| opt_func | function | Adam | Optimisation function for training |\n",
       "| lr | float | 0.001 | Learning rate |\n",
       "| splitter | callable | trainable_params | Used to split parameters into layer groups |\n",
       "| cbs | NoneType | None | Callbacks |\n",
       "| metrics | NoneType | None | Printed after each epoch |\n",
       "| path | NoneType | None | Parent directory to save, load, and export models |\n",
       "| model_dir | str | models | Subdirectory to save and load models |\n",
       "| wd | NoneType | None | Weight decay |\n",
       "| wd_bn_bias | bool | False | Apply weight decay to batchnorm bias params? |\n",
       "| train_bn | bool | True | Always train batchnorm layers? |\n",
       "| moms | tuple | (0.95, 0.85, 0.95) | Momentum |\n",
       "| default_cbs | bool | True | Include default callbacks? |"
      ],
      "text/plain": [
       "---\n",
       "\n",
       "[source](https://github.com/fastai/fastai/blob/master/fastai/tabular/learner.py#LNone){target=\"_blank\" style=\"float:right; font-size:smaller\"}\n",
       "\n",
       "### tabular_learner\n",
       "\n",
       ">      tabular_learner (dls:TabularDataLoaders, layers:list=None,\n",
       ">                       emb_szs:list=None, config:dict=None, n_out:int=None,\n",
       ">                       y_range:Tuple[float,float]=None,\n",
       ">                       loss_func:callable|None=None, opt_func=<function Adam>,\n",
       ">                       lr=0.001, splitter:callable=<function trainable_params>,\n",
       ">                       cbs=None, metrics=None, path=None, model_dir='models',\n",
       ">                       wd=None, wd_bn_bias=False, train_bn=True, moms=(0.95,\n",
       ">                       0.85, 0.95), default_cbs:bool=True)\n",
       "\n",
       "Get a `Learner` using `dls`, with `metrics`, including a `TabularModel` created using the remaining params.\n",
       "\n",
       "|    | **Type** | **Default** | **Details** |\n",
       "| -- | -------- | ----------- | ----------- |\n",
       "| dls |  |  | `DataLoaders` containing data for each dataset needed for `model` |\n",
       "| layers | list | None | Size of the layers generated by `LinBnDrop` |\n",
       "| emb_szs | list | None | Tuples of `n_unique, embedding_size` for all categorical features |\n",
       "| config | dict | None | Config params for TabularModel from `tabular_config` |\n",
       "| n_out | int | None | Final output size of the model |\n",
       "| y_range | Tuple[float, float] | None | Low and high for the final sigmoid function |\n",
       "| loss_func | callable \\| None | None | Loss function for training |\n",
       "| opt_func | function | Adam | Optimisation function for training |\n",
       "| lr | float | 0.001 | Learning rate |\n",
       "| splitter | callable | trainable_params | Used to split parameters into layer groups |\n",
       "| cbs | NoneType | None | Callbacks |\n",
       "| metrics | NoneType | None | Printed after each epoch |\n",
       "| path | NoneType | None | Parent directory to save, load, and export models |\n",
       "| model_dir | str | models | Subdirectory to save and load models |\n",
       "| wd | NoneType | None | Weight decay |\n",
       "| wd_bn_bias | bool | False | Apply weight decay to batchnorm bias params? |\n",
       "| train_bn | bool | True | Always train batchnorm layers? |\n",
       "| moms | tuple | (0.95, 0.85, 0.95) | Momentum |\n",
       "| default_cbs | bool | True | Include default callbacks? |"
      ]
     },
     "execution_count": null,
     "metadata": {},
     "output_type": "execute_result"
    }
   ],
   "source": [
    "from nbdev.showdoc import show_doc\n",
    "show_doc(tabular_learner)"
   ]
  },
  {
   "cell_type": "markdown",
   "id": "9da7e9bd-4552-450b-a710-b723fe8058ad",
   "metadata": {},
   "source": [
    "## setup"
   ]
  },
  {
   "cell_type": "code",
   "execution_count": null,
   "id": "7e988bb6-a11d-4cb4-b114-44f09dda51c9",
   "metadata": {},
   "outputs": [],
   "source": [
    "df = pd.read_csv('./data.csv') # csv containing x,y with rows 0,0 through 25000,25000"
   ]
  },
  {
   "cell_type": "code",
   "execution_count": null,
   "id": "75276b2e-4a7a-4f0a-b7d3-1c53a118fd0a",
   "metadata": {},
   "outputs": [],
   "source": [
    "splits = RandomSplitter(valid_pct=0.2)(range_of(df))\n",
    "to = TabularPandas(df, procs=[Categorify, FillMissing, Normalize],\n",
    "                   cont_names = ['x'],\n",
    "                   y_names='y',\n",
    "                   splits=splits)\n",
    "dls = to.dataloaders()\n",
    "learn = tabular_learner(dls, lr=0.3, metrics=rmse)"
   ]
  },
  {
   "cell_type": "markdown",
   "id": "b5343514-9419-4399-b912-492c54d69643",
   "metadata": {},
   "source": [
    "## learning rate finder"
   ]
  },
  {
   "cell_type": "code",
   "execution_count": null,
   "id": "d4af0729-d6b6-4a6c-8161-85f376d4c52f",
   "metadata": {},
   "outputs": [
    {
     "data": {
      "text/html": [
       "\n",
       "<style>\n",
       "    /* Turns off some styling */\n",
       "    progress {\n",
       "        /* gets rid of default border in Firefox and Opera. */\n",
       "        border: none;\n",
       "        /* Needs to be in here for Safari polyfill so background images work as expected. */\n",
       "        background-size: auto;\n",
       "    }\n",
       "    progress:not([value]), progress:not([value])::-webkit-progress-bar {\n",
       "        background: repeating-linear-gradient(45deg, #7e7e7e, #7e7e7e 10px, #5c5c5c 10px, #5c5c5c 20px);\n",
       "    }\n",
       "    .progress-bar-interrupted, .progress-bar-interrupted::-webkit-progress-bar {\n",
       "        background: #F44336;\n",
       "    }\n",
       "</style>\n"
      ],
      "text/plain": [
       "<IPython.core.display.HTML object>"
      ]
     },
     "metadata": {},
     "output_type": "display_data"
    },
    {
     "data": {
      "text/html": [],
      "text/plain": [
       "<IPython.core.display.HTML object>"
      ]
     },
     "metadata": {},
     "output_type": "display_data"
    },
    {
     "data": {
      "text/plain": [
       "SuggestedLRs(valley=0.3630780577659607)"
      ]
     },
     "execution_count": null,
     "metadata": {},
     "output_type": "execute_result"
    },
    {
     "data": {
      "image/png": "[encoded data removed]",
      "text/plain": [
       "<Figure size 640x480 with 1 Axes>"
      ]
     },
     "metadata": {},
     "output_type": "display_data"
    }
   ],
   "source": [
    "learn.lr_find()"
   ]
  },
  {
   "cell_type": "markdown",
   "id": "5aba35bc-075c-4117-8f4e-48758b694bf3",
   "metadata": {},
   "source": [
    "## learning"
   ]
  },
  {
   "cell_type": "code",
   "execution_count": null,
   "id": "1af395e5-4b23-45de-8a62-d336488938c7",
   "metadata": {},
   "outputs": [
    {
     "data": {
      "text/html": [
       "\n",
       "<style>\n",
       "    /* Turns off some styling */\n",
       "    progress {\n",
       "        /* gets rid of default border in Firefox and Opera. */\n",
       "        border: none;\n",
       "        /* Needs to be in here for Safari polyfill so background images work as expected. */\n",
       "        background-size: auto;\n",
       "    }\n",
       "    progress:not([value]), progress:not([value])::-webkit-progress-bar {\n",
       "        background: repeating-linear-gradient(45deg, #7e7e7e, #7e7e7e 10px, #5c5c5c 10px, #5c5c5c 20px);\n",
       "    }\n",
       "    .progress-bar-interrupted, .progress-bar-interrupted::-webkit-progress-bar {\n",
       "        background: #F44336;\n",
       "    }\n",
       "</style>\n"
      ],
      "text/plain": [
       "<IPython.core.display.HTML object>"
      ]
     },
     "metadata": {},
     "output_type": "display_data"
    },
    {
     "data": {
      "text/html": [
       "<table border=\"1\" class=\"dataframe\">\n",
       "  <thead>\n",
       "    <tr style=\"text-align: left;\">\n",
       "      <th>epoch</th>\n",
       "      <th>train_loss</th>\n",
       "      <th>valid_loss</th>\n",
       "      <th>time</th>\n",
       "    </tr>\n",
       "  </thead>\n",
       "  <tbody>\n",
       "    <tr>\n",
       "      <td>0</td>\n",
       "      <td>4361998.000000</td>\n",
       "      <td>25638736.000000</td>\n",
       "      <td>00:00</td>\n",
       "    </tr>\n",
       "    <tr>\n",
       "      <td>1</td>\n",
       "      <td>1209958.125000</td>\n",
       "      <td>8368821.000000</td>\n",
       "      <td>00:00</td>\n",
       "    </tr>\n",
       "    <tr>\n",
       "      <td>2</td>\n",
       "      <td>1153518.125000</td>\n",
       "      <td>718328.062500</td>\n",
       "      <td>00:00</td>\n",
       "    </tr>\n",
       "    <tr>\n",
       "      <td>3</td>\n",
       "      <td>1072896.625000</td>\n",
       "      <td>72083.593750</td>\n",
       "      <td>00:00</td>\n",
       "    </tr>\n",
       "  </tbody>\n",
       "</table>"
      ],
      "text/plain": [
       "<IPython.core.display.HTML object>"
      ]
     },
     "metadata": {},
     "output_type": "display_data"
    }
   ],
   "source": [
    "learn.fit_one_cycle(4)"
   ]
  },
  {
   "cell_type": "markdown",
   "id": "69034490-486e-49ba-8002-29e7d58424e6",
   "metadata": {},
   "source": [
    "## see if it works"
   ]
  },
  {
   "cell_type": "code",
   "execution_count": null,
   "id": "e852fe49-085b-4c8c-b5b8-487106cca58a",
   "metadata": {},
   "outputs": [
    {
     "data": {
      "text/html": [
       "\n",
       "<style>\n",
       "    /* Turns off some styling */\n",
       "    progress {\n",
       "        /* gets rid of default border in Firefox and Opera. */\n",
       "        border: none;\n",
       "        /* Needs to be in here for Safari polyfill so background images work as expected. */\n",
       "        background-size: auto;\n",
       "    }\n",
       "    progress:not([value]), progress:not([value])::-webkit-progress-bar {\n",
       "        background: repeating-linear-gradient(45deg, #7e7e7e, #7e7e7e 10px, #5c5c5c 10px, #5c5c5c 20px);\n",
       "    }\n",
       "    .progress-bar-interrupted, .progress-bar-interrupted::-webkit-progress-bar {\n",
       "        background: #F44336;\n",
       "    }\n",
       "</style>\n"
      ],
      "text/plain": [
       "<IPython.core.display.HTML object>"
      ]
     },
     "metadata": {},
     "output_type": "display_data"
    },
    {
     "data": {
      "text/html": [],
      "text/plain": [
       "<IPython.core.display.HTML object>"
      ]
     },
     "metadata": {},
     "output_type": "display_data"
    },
    {
     "data": {
      "text/html": [
       "<table border=\"1\" class=\"dataframe\">\n",
       "  <thead>\n",
       "    <tr style=\"text-align: right;\">\n",
       "      <th></th>\n",
       "      <th>x</th>\n",
       "      <th>y</th>\n",
       "    </tr>\n",
       "  </thead>\n",
       "  <tbody>\n",
       "    <tr>\n",
       "      <th>0</th>\n",
       "      <td>0.000049</td>\n",
       "      <td>8.357551</td>\n",
       "    </tr>\n",
       "  </tbody>\n",
       "</table>"
      ],
      "text/plain": [
       "<IPython.core.display.HTML object>"
      ]
     },
     "metadata": {},
     "output_type": "display_data"
    },
    {
     "data": {
      "text/html": [
       "\n",
       "<style>\n",
       "    /* Turns off some styling */\n",
       "    progress {\n",
       "        /* gets rid of default border in Firefox and Opera. */\n",
       "        border: none;\n",
       "        /* Needs to be in here for Safari polyfill so background images work as expected. */\n",
       "        background-size: auto;\n",
       "    }\n",
       "    progress:not([value]), progress:not([value])::-webkit-progress-bar {\n",
       "        background: repeating-linear-gradient(45deg, #7e7e7e, #7e7e7e 10px, #5c5c5c 10px, #5c5c5c 20px);\n",
       "    }\n",
       "    .progress-bar-interrupted, .progress-bar-interrupted::-webkit-progress-bar {\n",
       "        background: #F44336;\n",
       "    }\n",
       "</style>\n"
      ],
      "text/plain": [
       "<IPython.core.display.HTML object>"
      ]
     },
     "metadata": {},
     "output_type": "display_data"
    },
    {
     "data": {
      "text/html": [],
      "text/plain": [
       "<IPython.core.display.HTML object>"
      ]
     },
     "metadata": {},
     "output_type": "display_data"
    },
    {
     "data": {
      "text/html": [
       "<table border=\"1\" class=\"dataframe\">\n",
       "  <thead>\n",
       "    <tr style=\"text-align: right;\">\n",
       "      <th></th>\n",
       "      <th>x</th>\n",
       "      <th>y</th>\n",
       "    </tr>\n",
       "  </thead>\n",
       "  <tbody>\n",
       "    <tr>\n",
       "      <th>0</th>\n",
       "      <td>99.999659</td>\n",
       "      <td>106.460709</td>\n",
       "    </tr>\n",
       "  </tbody>\n",
       "</table>"
      ],
      "text/plain": [
       "<IPython.core.display.HTML object>"
      ]
     },
     "metadata": {},
     "output_type": "display_data"
    },
    {
     "data": {
      "text/html": [
       "\n",
       "<style>\n",
       "    /* Turns off some styling */\n",
       "    progress {\n",
       "        /* gets rid of default border in Firefox and Opera. */\n",
       "        border: none;\n",
       "        /* Needs to be in here for Safari polyfill so background images work as expected. */\n",
       "        background-size: auto;\n",
       "    }\n",
       "    progress:not([value]), progress:not([value])::-webkit-progress-bar {\n",
       "        background: repeating-linear-gradient(45deg, #7e7e7e, #7e7e7e 10px, #5c5c5c 10px, #5c5c5c 20px);\n",
       "    }\n",
       "    .progress-bar-interrupted, .progress-bar-interrupted::-webkit-progress-bar {\n",
       "        background: #F44336;\n",
       "    }\n",
       "</style>\n"
      ],
      "text/plain": [
       "<IPython.core.display.HTML object>"
      ]
     },
     "metadata": {},
     "output_type": "display_data"
    },
    {
     "data": {
      "text/html": [],
      "text/plain": [
       "<IPython.core.display.HTML object>"
      ]
     },
     "metadata": {},
     "output_type": "display_data"
    },
    {
     "data": {
      "text/html": [
       "<table border=\"1\" class=\"dataframe\">\n",
       "  <thead>\n",
       "    <tr style=\"text-align: right;\">\n",
       "      <th></th>\n",
       "      <th>x</th>\n",
       "      <th>y</th>\n",
       "    </tr>\n",
       "  </thead>\n",
       "  <tbody>\n",
       "    <tr>\n",
       "      <th>0</th>\n",
       "      <td>3000.000378</td>\n",
       "      <td>2951.463623</td>\n",
       "    </tr>\n",
       "  </tbody>\n",
       "</table>"
      ],
      "text/plain": [
       "<IPython.core.display.HTML object>"
      ]
     },
     "metadata": {},
     "output_type": "display_data"
    },
    {
     "data": {
      "text/html": [
       "\n",
       "<style>\n",
       "    /* Turns off some styling */\n",
       "    progress {\n",
       "        /* gets rid of default border in Firefox and Opera. */\n",
       "        border: none;\n",
       "        /* Needs to be in here for Safari polyfill so background images work as expected. */\n",
       "        background-size: auto;\n",
       "    }\n",
       "    progress:not([value]), progress:not([value])::-webkit-progress-bar {\n",
       "        background: repeating-linear-gradient(45deg, #7e7e7e, #7e7e7e 10px, #5c5c5c 10px, #5c5c5c 20px);\n",
       "    }\n",
       "    .progress-bar-interrupted, .progress-bar-interrupted::-webkit-progress-bar {\n",
       "        background: #F44336;\n",
       "    }\n",
       "</style>\n"
      ],
      "text/plain": [
       "<IPython.core.display.HTML object>"
      ]
     },
     "metadata": {},
     "output_type": "display_data"
    },
    {
     "data": {
      "text/html": [],
      "text/plain": [
       "<IPython.core.display.HTML object>"
      ]
     },
     "metadata": {},
     "output_type": "display_data"
    },
    {
     "data": {
      "text/html": [
       "<table border=\"1\" class=\"dataframe\">\n",
       "  <thead>\n",
       "    <tr style=\"text-align: right;\">\n",
       "      <th></th>\n",
       "      <th>x</th>\n",
       "      <th>y</th>\n",
       "    </tr>\n",
       "  </thead>\n",
       "  <tbody>\n",
       "    <tr>\n",
       "      <th>0</th>\n",
       "      <td>9999.99993</td>\n",
       "      <td>9818.710938</td>\n",
       "    </tr>\n",
       "  </tbody>\n",
       "</table>"
      ],
      "text/plain": [
       "<IPython.core.display.HTML object>"
      ]
     },
     "metadata": {},
     "output_type": "display_data"
    },
    {
     "data": {
      "text/html": [
       "\n",
       "<style>\n",
       "    /* Turns off some styling */\n",
       "    progress {\n",
       "        /* gets rid of default border in Firefox and Opera. */\n",
       "        border: none;\n",
       "        /* Needs to be in here for Safari polyfill so background images work as expected. */\n",
       "        background-size: auto;\n",
       "    }\n",
       "    progress:not([value]), progress:not([value])::-webkit-progress-bar {\n",
       "        background: repeating-linear-gradient(45deg, #7e7e7e, #7e7e7e 10px, #5c5c5c 10px, #5c5c5c 20px);\n",
       "    }\n",
       "    .progress-bar-interrupted, .progress-bar-interrupted::-webkit-progress-bar {\n",
       "        background: #F44336;\n",
       "    }\n",
       "</style>\n"
      ],
      "text/plain": [
       "<IPython.core.display.HTML object>"
      ]
     },
     "metadata": {},
     "output_type": "display_data"
    },
    {
     "data": {
      "text/html": [],
      "text/plain": [
       "<IPython.core.display.HTML object>"
      ]
     },
     "metadata": {},
     "output_type": "display_data"
    },
    {
     "data": {
      "text/html": [
       "<table border=\"1\" class=\"dataframe\">\n",
       "  <thead>\n",
       "    <tr style=\"text-align: right;\">\n",
       "      <th></th>\n",
       "      <th>x</th>\n",
       "      <th>y</th>\n",
       "    </tr>\n",
       "  </thead>\n",
       "  <tbody>\n",
       "    <tr>\n",
       "      <th>0</th>\n",
       "      <td>18999.999845</td>\n",
       "      <td>18648.03125</td>\n",
       "    </tr>\n",
       "  </tbody>\n",
       "</table>"
      ],
      "text/plain": [
       "<IPython.core.display.HTML object>"
      ]
     },
     "metadata": {},
     "output_type": "display_data"
    },
    {
     "data": {
      "text/html": [
       "\n",
       "<style>\n",
       "    /* Turns off some styling */\n",
       "    progress {\n",
       "        /* gets rid of default border in Firefox and Opera. */\n",
       "        border: none;\n",
       "        /* Needs to be in here for Safari polyfill so background images work as expected. */\n",
       "        background-size: auto;\n",
       "    }\n",
       "    progress:not([value]), progress:not([value])::-webkit-progress-bar {\n",
       "        background: repeating-linear-gradient(45deg, #7e7e7e, #7e7e7e 10px, #5c5c5c 10px, #5c5c5c 20px);\n",
       "    }\n",
       "    .progress-bar-interrupted, .progress-bar-interrupted::-webkit-progress-bar {\n",
       "        background: #F44336;\n",
       "    }\n",
       "</style>\n"
      ],
      "text/plain": [
       "<IPython.core.display.HTML object>"
      ]
     },
     "metadata": {},
     "output_type": "display_data"
    },
    {
     "data": {
      "text/html": [],
      "text/plain": [
       "<IPython.core.display.HTML object>"
      ]
     },
     "metadata": {},
     "output_type": "display_data"
    },
    {
     "data": {
      "text/html": [
       "<table border=\"1\" class=\"dataframe\">\n",
       "  <thead>\n",
       "    <tr style=\"text-align: right;\">\n",
       "      <th></th>\n",
       "      <th>x</th>\n",
       "      <th>y</th>\n",
       "    </tr>\n",
       "  </thead>\n",
       "  <tbody>\n",
       "    <tr>\n",
       "      <th>0</th>\n",
       "      <td>24999.999645</td>\n",
       "      <td>24534.242188</td>\n",
       "    </tr>\n",
       "  </tbody>\n",
       "</table>"
      ],
      "text/plain": [
       "<IPython.core.display.HTML object>"
      ]
     },
     "metadata": {},
     "output_type": "display_data"
    }
   ],
   "source": [
    "for i in [0, 100, 3000, 10000, 19000, 25000]:\n",
    "    row, clas, probs = learn.predict(df.iloc[i])\n",
    "    row.show()"
   ]
  },
  {
   "cell_type": "code",
   "execution_count": null,
   "id": "dfb541a2-55e6-4db6-9e4c-ee30b2d520ec",
   "metadata": {},
   "outputs": [],
   "source": [
    "plt.figure(figsize = (15,10))\n",
    "for i in range(1,25000,250):\n",
    "    row, _, _ = learn.predict(df.iloc[i].drop('y'))\n",
    "    plt.scatter(i, row['y'] - i, s = 50, c='orange')"
   ]
  }
 ],
 "metadata": {
  "kernelspec": {
   "display_name": "python3",
   "language": "python",
   "name": "python3"
  }
 },
 "nbformat": 4,
 "nbformat_minor": 5
}
