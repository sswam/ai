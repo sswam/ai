{
 "cells": [
  {
   "cell_type": "code",
   "execution_count": null,
   "id": "64b85d79-2259-431f-aa46-5962d617881c",
   "metadata": {},
   "outputs": [],
   "source": [
    "%load_ext autoreload\n",
    "%autoreload 2"
   ]
  },
  {
   "cell_type": "markdown",
   "id": "b15ee6e6-d3dc-4f45-a45f-3e42c3f10225",
   "metadata": {},
   "source": [
    "## add to libs"
   ]
  },
  {
   "cell_type": "markdown",
   "id": "5909bf79-b708-441e-b042-831e852631b6",
   "metadata": {},
   "source": [
    "## install requirements"
   ]
  },
  {
   "cell_type": "markdown",
   "id": "d12f69fa-14fb-439e-bb68-90669503d80b",
   "metadata": {},
   "source": [
    "* maybe I should use a fresh venv copied from ai base for each project?"
   ]
  },
  {
   "cell_type": "code",
   "execution_count": null,
   "id": "9d902276",
   "metadata": {},
   "outputs": [],
   "source": [
    "!pip install -qq -U fastai ipywidgets pillow pillow-avif-plugin inflect\n",
    "!pip install -qq -U selenium webdriver_manager retry\n",
    "!pip install -qq -U duckduckgo_search\n",
    "!pip install -qq -U clip-retrieval"
   ]
  },
  {
   "cell_type": "code",
   "execution_count": null,
   "id": "9b4e2376-b991-4a24-9f69-23295b6a659c",
   "metadata": {},
   "outputs": [
    {
     "name": "stdout",
     "output_type": "stream",
     "text": [
      "Enabling notebook extension jupyter-js-widgets/extension...\n",
      "      - Validating: \u001b[32mOK\u001b[0m\n"
     ]
    }
   ],
   "source": [
    "!jupyter nbextension enable --py --sys-prefix widgetsnbextension"
   ]
  },
  {
   "cell_type": "code",
   "execution_count": null,
   "id": "e13e4358-075f-423a-9984-9d72fb3af95b",
   "metadata": {},
   "outputs": [],
   "source": [
    "import pillow_avif\n",
    "from fastai.vision.all import *\n",
    "from send2trash import send2trash"
   ]
  },
  {
   "cell_type": "code",
   "execution_count": null,
   "id": "d96c9a3a-2009-49f9-9b8a-0223b9ef238f",
   "metadata": {},
   "outputs": [],
   "source": [
    "from duckduckgo_search import ddg_images\n",
    "from clip_retrieval.clip_client import ClipClient"
   ]
  },
  {
   "cell_type": "code",
   "execution_count": null,
   "id": "a532c906-c1ac-413a-85de-451684c00167",
   "metadata": {},
   "outputs": [],
   "source": [
    "sys.path.append('.')"
   ]
  },
  {
   "cell_type": "code",
   "execution_count": null,
   "id": "df9350ba-6270-48c7-bd00-720e1694b5df",
   "metadata": {},
   "outputs": [],
   "source": [
    "from sam_misc import *\n",
    "from google_images import install_webdriver, start_chrome, google_image_search"
   ]
  },
  {
   "cell_type": "markdown",
   "id": "c91f23c3-81bf-4a3d-b2fd-d499cd2f0a70",
   "metadata": {},
   "source": [
    "## general setup"
   ]
  },
  {
   "cell_type": "code",
   "execution_count": null,
   "id": "74ea50b7-19d0-40b9-a39d-9ba0bc98f668",
   "metadata": {},
   "outputs": [],
   "source": [
    "data = Path(\"bird_cat_dog\")"
   ]
  },
  {
   "cell_type": "code",
   "execution_count": null,
   "id": "11229554-beeb-4297-9881-db63ce53019b",
   "metadata": {},
   "outputs": [],
   "source": [
    "null_query = \"photo of outdoors\"\n",
    "labels = [\"bird\", \"cat\", \"dog\"]\n",
    "query_prefix = \"photo of \""
   ]
  },
  {
   "cell_type": "code",
   "execution_count": null,
   "id": "71d00f4f-9b9c-44d3-8b8b-f646a656b453",
   "metadata": {},
   "outputs": [],
   "source": [
    "samples_per_query = 200"
   ]
  },
  {
   "cell_type": "markdown",
   "id": "9a8abf6a-d012-4a4c-83a0-2e6ed7a1bc5a",
   "metadata": {},
   "source": [
    "## 1. find images using Google search"
   ]
  },
  {
   "cell_type": "code",
   "execution_count": null,
   "id": "4c454984-4e1a-4910-a619-be94460b2a10",
   "metadata": {},
   "outputs": [],
   "source": [
    "searcher = \"gimg\""
   ]
  },
  {
   "cell_type": "code",
   "execution_count": null,
   "id": "821b00ba-d37a-47bb-89d6-d5c36588d557",
   "metadata": {},
   "outputs": [
    {
     "data": {
      "application/vnd.jupyter.widget-view+json": {
       "model_id": "dcb745bf0ca54c0aa366e2ca8f563593",
       "version_major": 2,
       "version_minor": 0
      },
      "text/plain": [
       "Button(description='Move data to trash: bird_cat_dog/gimg?', layout=Layout(width='20em'), style=ButtonStyle())"
      ]
     },
     "metadata": {},
     "output_type": "display_data"
    }
   ],
   "source": [
    "confirm_delete(data/searcher)"
   ]
  },
  {
   "cell_type": "code",
   "execution_count": null,
   "id": "ccf5a365-d9d2-487f-a2c8-5521534aa6bf",
   "metadata": {},
   "outputs": [
    {
     "name": "stderr",
     "output_type": "stream",
     "text": [
      "INFO:WDM:====== WebDriver manager ======\n",
      "INFO:WDM:Get LATEST chromedriver version for google-chrome 111.0.5563\n",
      "INFO:WDM:Driver [/home/sam/.wdm/drivers/chromedriver/linux64/111.0.5563/chromedriver] found in cache\n"
     ]
    },
    {
     "name": "stdout",
     "output_type": "stream",
     "text": [
      "downloading: photo of outdoors -bird -cat -dog -stock\n",
      "downloading: photo of a bird -cat -dog -stock\n",
      "downloading: photo of a cat -bird -dog -stock\n",
      "downloading: photo of a dog -bird -cat -stock\n",
      "downloading: photo of a bird and a cat -dog -stock\n",
      "downloading: photo of a bird and a dog -cat -stock\n",
      "downloading: photo of a cat and a dog -bird -stock\n",
      "downloading: photo of a bird and a cat and a dog -stock\n"
     ]
    }
   ],
   "source": [
    "with start_chrome() as wd:\n",
    "    for comb in powerset(labels):\n",
    "        others = seq_diff(labels, comb)\n",
    "        dirname = \"_\".join(comb) + \"_\"\n",
    "        path = data/searcher/dirname\n",
    "        query = query_prefix + join_a_foo_and_a_bar(comb) if comb else null_query\n",
    "        query += \" \" + \" \".join(\"-\"+x for x in [*others, \"stock\"])\n",
    "        try:\n",
    "            path.mkdir(parents=True, exist_ok=False)\n",
    "        except FileExistsError as e:\n",
    "            print(f\"already downloaded: {query}\")\n",
    "            continue\n",
    "        print(f\"downloading: {query}\")\n",
    "        # want any = CC to avoid stock photos, but not many CC images have all three\n",
    "        opts = \"tbs=il:cl\" if len(comb) < 2 else ''\n",
    "        urls = google_image_search(query, safe=True, n=samples_per_query, opts=opts, wd=wd)\n",
    "        download_images(dest=path, urls=urls)"
   ]
  },
  {
   "cell_type": "markdown",
   "id": "b5559cb6-829a-4203-b4da-3af92c425d3d",
   "metadata": {},
   "source": [
    "## 2. find images using duckduckgo_search"
   ]
  },
  {
   "cell_type": "code",
   "execution_count": null,
   "id": "35b4df80-e9bf-469b-b899-265f6ac809ae",
   "metadata": {},
   "outputs": [],
   "source": [
    "searcher = \"ddg\""
   ]
  },
  {
   "cell_type": "code",
   "execution_count": null,
   "id": "344d343e-1bb7-4956-b18e-1dbb94817299",
   "metadata": {},
   "outputs": [
    {
     "data": {
      "application/vnd.jupyter.widget-view+json": {
       "model_id": "74fa0aacbeb74442944520b62a96e79c",
       "version_major": 2,
       "version_minor": 0
      },
      "text/plain": [
       "Button(description='Move data to trash: bird_cat_dog/ddg?', layout=Layout(width='20em'), style=ButtonStyle())"
      ]
     },
     "metadata": {},
     "output_type": "display_data"
    }
   ],
   "source": [
    "confirm_delete(data/searcher)"
   ]
  },
  {
   "cell_type": "code",
   "execution_count": null,
   "id": "4165b8d5-4c64-4a0e-a87f-d4fbc389b412",
   "metadata": {},
   "outputs": [
    {
     "name": "stdout",
     "output_type": "stream",
     "text": [
      "already downloaded: photo of outdoors -bird -cat -dog\n",
      "already downloaded: photo of a bird -cat -dog\n",
      "already downloaded: photo of a cat -bird -dog\n",
      "already downloaded: photo of a dog -bird -cat\n",
      "already downloaded: photo of a bird and a cat -dog\n",
      "already downloaded: photo of a bird and a dog -cat\n",
      "already downloaded: photo of a cat and a dog -bird\n",
      "already downloaded: photo of a bird and a cat and a dog \n"
     ]
    }
   ],
   "source": [
    "for comb in powerset(labels):\n",
    "    others = seq_diff(labels, comb)\n",
    "    dirname = \"_\".join(comb) + \"_\"\n",
    "    path = data/searcher/dirname\n",
    "    query = query_prefix + join_a_foo_and_a_bar(comb) if comb else null_query\n",
    "    query += \" \" + \" \".join(\"-\"+x for x in others)\n",
    "    try:\n",
    "        path.mkdir(parents=True, exist_ok=False)\n",
    "    except FileExistsError as e:\n",
    "        print(f\"already downloaded: {query}\")\n",
    "        continue\n",
    "    print(f\"downloading: {query}\")\n",
    "    # want any = CC to avoid stock photos, but not many CC images have all three\n",
    "    license = \"any\" if len(comb) < 2 else None\n",
    "    results = ddg_images(query, max_results=samples_per_query, license_image=license)\n",
    "    urls = [r[\"image\"] for r in results]\n",
    "    download_images(dest=path, urls=urls)"
   ]
  },
  {
   "cell_type": "markdown",
   "id": "9f4986c4-a44e-4991-926d-edc6ee6f0bdc",
   "metadata": {},
   "source": [
    "## 3. find images using laion"
   ]
  },
  {
   "cell_type": "markdown",
   "id": "250ab8d7-7e1f-40a3-94ef-2006c5072969",
   "metadata": {},
   "source": [
    "Deduplication means that fewer than `samples_per_query` images will be returned, around 75% or so."
   ]
  },
  {
   "cell_type": "code",
   "execution_count": null,
   "id": "0c35f683-b6c7-469e-a76f-1b89147fca90",
   "metadata": {},
   "outputs": [],
   "source": [
    "searcher = \"laion\""
   ]
  },
  {
   "cell_type": "code",
   "execution_count": null,
   "id": "9cd75334-f2b5-428f-8646-e1a12105d5cf",
   "metadata": {},
   "outputs": [
    {
     "data": {
      "application/vnd.jupyter.widget-view+json": {
       "model_id": "58e8ae02bc4c44f7b2305eb92b27b20b",
       "version_major": 2,
       "version_minor": 0
      },
      "text/plain": [
       "Button(description='Move data to trash: bird_cat_dog/laion?', layout=Layout(width='20em'), style=ButtonStyle()…"
      ]
     },
     "metadata": {},
     "output_type": "display_data"
    }
   ],
   "source": [
    "confirm_delete(data/searcher)"
   ]
  },
  {
   "cell_type": "code",
   "execution_count": null,
   "id": "7982d9f7-ffd2-4776-aff1-81b4d2b2d4c9",
   "metadata": {},
   "outputs": [],
   "source": [
    "laion = ClipClient(\n",
    "    url=\"https://knn.laion.ai/knn-service\",\n",
    "    indice_name=\"laion5B-H-14\",\n",
    "    aesthetic_score=0, aesthetic_weight=0,\n",
    "    num_images=samples_per_query)"
   ]
  },
  {
   "cell_type": "code",
   "execution_count": null,
   "id": "e5b303da-04d6-418a-8ba0-2c6ee11335a2",
   "metadata": {},
   "outputs": [
    {
     "name": "stdout",
     "output_type": "stream",
     "text": [
      "downloading: photo of outdoors\n",
      "downloading: photo of bird\n",
      "downloading: photo of cat\n",
      "downloading: photo of dog\n",
      "downloading: photo of bird, cat\n",
      "downloading: photo of bird, dog\n",
      "downloading: photo of cat, dog\n",
      "downloading: photo of bird, cat, dog\n"
     ]
    }
   ],
   "source": [
    "for comb in powerset(labels):\n",
    "    dirname = \"_\".join(comb) + \"_\"\n",
    "    path = data/searcher/dirname\n",
    "    query = query_prefix + \", \".join(comb) if comb else null_query\n",
    "    try:\n",
    "        path.mkdir(parents=True, exist_ok=False)\n",
    "    except FileExistsError as e:\n",
    "        print(f\"already downloaded: {query}\")\n",
    "        continue\n",
    "    print(f\"downloading: {query}\")\n",
    "    results = laion.query(text=query)\n",
    "    urls = [r[\"url\"] for r in results]\n",
    "    download_images(dest=path, urls=urls)"
   ]
  },
  {
   "cell_type": "markdown",
   "id": "a5b9979d-385f-44e4-9f83-c99e2f8d9b38",
   "metadata": {},
   "source": [
    "### references"
   ]
  },
  {
   "cell_type": "markdown",
   "id": "42d7aeb3-4f9c-4b58-ac54-0784b8de84ce",
   "metadata": {},
   "source": [
    "- https://replicate.com/blog/grab-hundreds-of-images-with-clip-and-laion\n",
    "- https://github.com/rom1504/clip-retrieval\n",
    "- https://rom1504.github.io/clip-retrieval/"
   ]
  },
  {
   "cell_type": "markdown",
   "id": "0ee2d10c-e610-4ca9-87bd-3e3127d89cb2",
   "metadata": {},
   "source": [
    "## scratch"
   ]
  }
 ],
 "metadata": {
  "kernelspec": {
   "display_name": "python3",
   "language": "python",
   "name": "python3"
  }
 },
 "nbformat": 4,
 "nbformat_minor": 5
}
