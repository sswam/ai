{
 "cells": [
  {
   "cell_type": "code",
   "execution_count": null,
   "id": "2f2a08c2-99cf-41c8-8600-d72730ef98e3",
   "metadata": {},
   "outputs": [],
   "source": [
    "from fastai.vision.all import *"
   ]
  },
  {
   "cell_type": "code",
   "execution_count": null,
   "id": "ca0edef3-48eb-45b0-8d90-aeead53d3dab",
   "metadata": {},
   "outputs": [
    {
     "data": {
      "text/plain": [
       "namespace(cpus=32,\n",
       "          benchmark=True,\n",
       "          use_cuda=None,\n",
       "          activation=torch.nn.modules.activation.ReLU,\n",
       "          callbacks=[fastai.callback.core.TrainEvalCallback,\n",
       "                     fastai.learner.Recorder,\n",
       "                     fastai.learner.CastToTensor,\n",
       "                     fastai.callback.progress.ProgressCallback],\n",
       "          lr=0.001)"
      ]
     },
     "execution_count": null,
     "metadata": {},
     "output_type": "execute_result"
    }
   ],
   "source": [
    "defaults"
   ]
  },
  {
   "cell_type": "code",
   "execution_count": null,
   "id": "7435a28f-48c8-44cf-84c9-95df20d6f3be",
   "metadata": {},
   "outputs": [],
   "source": [
    "defaults.cow = 1234"
   ]
  },
  {
   "cell_type": "code",
   "execution_count": null,
   "id": "66c7156c-5f53-4bef-abcf-758209f2dad5",
   "metadata": {},
   "outputs": [
    {
     "data": {
      "text/plain": [
       "namespace(cpus=32,\n",
       "          benchmark=True,\n",
       "          use_cuda=None,\n",
       "          activation=torch.nn.modules.activation.ReLU,\n",
       "          callbacks=[fastai.callback.core.TrainEvalCallback,\n",
       "                     fastai.learner.Recorder,\n",
       "                     fastai.learner.CastToTensor,\n",
       "                     fastai.callback.progress.ProgressCallback],\n",
       "          lr=0.001,\n",
       "          cow=1234)"
      ]
     },
     "execution_count": null,
     "metadata": {},
     "output_type": "execute_result"
    }
   ],
   "source": [
    "defaults"
   ]
  },
  {
   "cell_type": "code",
   "execution_count": null,
   "id": "0316e493-7da6-462e-93b0-c47e1909fcf6",
   "metadata": {},
   "outputs": [],
   "source": [
    "del defaults.cow"
   ]
  },
  {
   "cell_type": "code",
   "execution_count": null,
   "id": "d3b60cfe-6d00-49eb-92b5-d7aa0992659a",
   "metadata": {},
   "outputs": [
    {
     "data": {
      "text/plain": [
       "namespace(cpus=32,\n",
       "          benchmark=True,\n",
       "          use_cuda=None,\n",
       "          activation=torch.nn.modules.activation.ReLU,\n",
       "          callbacks=[fastai.callback.core.TrainEvalCallback,\n",
       "                     fastai.learner.Recorder,\n",
       "                     fastai.learner.CastToTensor,\n",
       "                     fastai.callback.progress.ProgressCallback],\n",
       "          lr=0.001)"
      ]
     },
     "execution_count": null,
     "metadata": {},
     "output_type": "execute_result"
    }
   ],
   "source": [
    "defaults"
   ]
  },
  {
   "cell_type": "markdown",
   "id": "f522a9ac-e433-4060-ab60-37f7f5fe8db3",
   "metadata": {},
   "source": [
    "## from bird_cat_dog scratch"
   ]
  },
  {
   "cell_type": "code",
   "execution_count": null,
   "id": "17a26659-937f-4903-915c-4b978a89fbac",
   "metadata": {},
   "outputs": [],
   "source": [
    "from duckduckgo_search import ddg_images"
   ]
  },
  {
   "cell_type": "code",
   "execution_count": null,
   "id": "b79e4ca2-e211-47df-b2d5-08c337458cab",
   "metadata": {},
   "outputs": [],
   "source": [
    "results = ddg_images(\"bird\", max_results=100, size=\"Medium\")"
   ]
  },
  {
   "cell_type": "code",
   "execution_count": null,
   "id": "cd7bc3f2-2c4b-4084-8df7-f4772d199485",
   "metadata": {},
   "outputs": [],
   "source": [
    "path = data/\"bird\""
   ]
  },
  {
   "cell_type": "code",
   "execution_count": null,
   "id": "4d52e4cb-16db-4a6f-bd49-55370683f14a",
   "metadata": {},
   "outputs": [],
   "source": [
    "path.mkdir(parents=True, exist_ok=True)\n",
    "download_images(dest=path, urls=map(lambda r: r[\"image\"], results))"
   ]
  },
  {
   "cell_type": "code",
   "execution_count": null,
   "id": "3bff1535-1a5d-4351-ab90-49704e10d071",
   "metadata": {},
   "outputs": [
    {
     "name": "stdout",
     "output_type": "stream",
     "text": [
      "already downloaded: \n",
      "already downloaded: bird\n",
      "already downloaded: cat\n",
      "already downloaded: dog\n",
      "downloading: bird cat\n",
      "downloading: bird dog\n",
      "downloading: cat dog\n",
      "downloading: bird cat dog\n"
     ]
    }
   ],
   "source": [
    "for comb in powerset(labels):\n",
    "    query = \" \".join(comb)\n",
    "    path = data/query\n",
    "    try:\n",
    "        path.mkdir(parents=True, exist_ok=False)\n",
    "    except FileExistsError as e:\n",
    "        print(f\"already downloaded: {query}\")\n",
    "        continue\n",
    "    print(f\"downloading: {query}\")\n",
    "    results = ddg_images(query, max_results=samples_per_query)\n",
    "    urls = [r[\"image\"] for r in results]\n",
    "    download_images(dest=path, urls=map(lambda r: r[\"image\"], results))"
   ]
  },
  {
   "cell_type": "code",
   "execution_count": null,
   "id": "c63f8b3d-0696-4a84-8914-ea130a9db1e3",
   "metadata": {},
   "outputs": [
    {
     "data": {
      "text/plain": [
       "''"
      ]
     },
     "execution_count": null,
     "metadata": {},
     "output_type": "execute_result"
    }
   ],
   "source": [
    "\"\".join(f\"{x}_\" for x in [])"
   ]
  },
  {
   "cell_type": "code",
   "execution_count": null,
   "id": "869156a5-072b-47bc-a041-ebfbe78f8244",
   "metadata": {},
   "outputs": [
    {
     "data": {
      "text/plain": [
       "'dog_cat_'"
      ]
     },
     "execution_count": null,
     "metadata": {},
     "output_type": "execute_result"
    }
   ],
   "source": [
    "\"_\".join([\"dog\", \"cat\"]) + \"_\""
   ]
  },
  {
   "cell_type": "code",
   "execution_count": null,
   "id": "6c896092-66d3-46b4-ab00-c17375895e9a",
   "metadata": {},
   "outputs": [],
   "source": [
    "def list_like(obj):\n",
    "    return hasattr(obj, \"__iter__\") and not isinstance(obj, str)\n",
    "\n",
    "def flexi_func(files):\n",
    "    # If only one argument is passed, and it is list-like, then unpack it\n",
    "    if len(files) == 1 and list_like(files[0]):\n",
    "        files = files[0]\n",
    "    print(files)"
   ]
  },
  {
   "cell_type": "code",
   "execution_count": null,
   "id": "1a240a68-358f-455d-9aac-4a28bbc42610",
   "metadata": {},
   "outputs": [],
   "source": [
    "def confirm_delete(del_path):\n",
    "    button = widgets.Button(description=f\"Delete data: {del_path}?\", layout=widgets.Layout(width='20em'))\n",
    "    # button.on_click(lambda b: shutil.rmtree(del_path, ignore_errors=True))\n",
    "    button.on_click(lambda b: subprocess.run([\"mr\", del_path]))\n",
    "    display(button)"
   ]
  },
  {
   "cell_type": "markdown",
   "id": "73c733db-2dae-464e-a65d-1755d68c12c7",
   "metadata": {},
   "source": [
    "## check image types"
   ]
  },
  {
   "cell_type": "markdown",
   "id": "6fe608d8-2f3a-41ad-a976-57ceb8a55db6",
   "metadata": {},
   "source": [
    "This was useful, but I know how to read Web/P and AVIF now"
   ]
  },
  {
   "cell_type": "code",
   "execution_count": null,
   "id": "62af49d1-d211-4ab3-b088-b8b848a3b399",
   "metadata": {},
   "outputs": [
    {
     "name": "stdout",
     "output_type": "stream",
     "text": [
      "data/bird_/084ff06c-427c-4658-8a3c-3f37f3d1a4da.jpg:                              gzip compressed data, from Unix, original size modulo 2^32 98001\n",
      "data/dups.txt:                                                                    ASCII text, with very long lines (765)\n",
      "data/dups.db:                                                                     Berkeley DB (Hash, version 9, native byte-order)\n"
     ]
    }
   ],
   "source": [
    "!find data/ -type f | xa file | grep -v -e 'image data' -e HTML -e Web/P -e AVIF"
   ]
  },
  {
   "cell_type": "code",
   "execution_count": null,
   "id": "3fb5ad80-0ab7-4977-844f-375b8ad235e4",
   "metadata": {},
   "outputs": [],
   "source": [
    "file = \"data/bird_dog_/2557a311-0e54-458b-870d-8076cfb9b7a1.jpg\"\n",
    "!file $file\n",
    "show_image(load_image(file))"
   ]
  },
  {
   "cell_type": "code",
   "execution_count": null,
   "id": "51903849-69d2-4444-91cf-88fd2f7ba92a",
   "metadata": {},
   "outputs": [],
   "source": [
    "file = \"data/bird_/904e0b03-27c8-4ffe-9fb5-be5abec72f9b.jpg\"\n",
    "!file $file\n",
    "show_image(load_image(file))"
   ]
  },
  {
   "cell_type": "code",
   "execution_count": null,
   "id": "c58898c3-86d6-49bd-9833-663adf769f44",
   "metadata": {},
   "outputs": [
    {
     "data": {
      "text/plain": [
       "'a banana and an apple'"
      ]
     },
     "execution_count": null,
     "metadata": {},
     "output_type": "execute_result"
    }
   ],
   "source": [
    "join_a_foo_and_a_bar([\"banana\", \"apple\"])"
   ]
  },
  {
   "cell_type": "markdown",
   "id": "df512247-f1f6-48bd-a8a9-0a277b735b14",
   "metadata": {},
   "source": [
    "## CSS style sheet for my notebooks"
   ]
  },
  {
   "cell_type": "markdown",
   "id": "851619a7-90bf-42bf-ac2c-1e2d0db02aac",
   "metadata": {},
   "source": [
    "This is a bit random, but I wanted to include mouse-over tips. I've since moved this to my blog stylesheet."
   ]
  },
  {
   "cell_type": "code",
   "execution_count": null,
   "id": "c3184837-0a9a-4889-b651-959051a09276",
   "metadata": {},
   "outputs": [],
   "source": [
    "#|export\n",
    "from IPython.display import display, HTML\n",
    "\n",
    "def styles():\n",
    "    display(HTML(\"\"\"\n",
    "        <style>\n",
    "        span[title] { color: green; cursor: help; }\n",
    "        </style>\n",
    "    \"\"\"))"
   ]
  },
  {
   "cell_type": "code",
   "execution_count": null,
   "id": "5d7f1906-b08d-49f1-b50b-74d18dede5b6",
   "metadata": {},
   "outputs": [
    {
     "data": {
      "text/html": [
       "\n",
       "        <style>\n",
       "        span[title] { color: green; cursor: help; }\n",
       "        </style>\n",
       "    "
      ],
      "text/plain": [
       "<IPython.core.display.HTML object>"
      ]
     },
     "metadata": {},
     "output_type": "display_data"
    }
   ],
   "source": [
    "styles()"
   ]
  }
 ],
 "metadata": {
  "kernelspec": {
   "display_name": "python3",
   "language": "python",
   "name": "python3"
  }
 },
 "nbformat": 4,
 "nbformat_minor": 5
}
