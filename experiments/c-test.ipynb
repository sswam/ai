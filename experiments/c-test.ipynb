{
 "cells": [
  {
   "cell_type": "code",
   "execution_count": 1,
   "id": "18a65518-7c21-4599-857a-16bc555eff0f",
   "metadata": {},
   "outputs": [
    {
     "name": "stdout",
     "output_type": "stream",
     "text": [
      "1\n"
     ]
    }
   ],
   "source": [
    "int i = 1;\n",
    "printf(\"%d\\n\", i);"
   ]
  },
  {
   "cell_type": "code",
   "execution_count": 2,
   "id": "fef39f44-2e60-42ab-be63-877597ebd514",
   "metadata": {},
   "outputs": [
    {
     "name": "stderr",
     "output_type": "stream",
     "text": [
      "/tmp/tmp4fluao89.c: In function ‘main’:\n",
      "/tmp/tmp4fluao89.c:4:16: error: ‘i’ undeclared (first use in this function)\n",
      "    4 | printf(\"%d\\n\", i+1);\n",
      "      |                ^\n",
      "/tmp/tmp4fluao89.c:4:16: note: each undeclared identifier is reported only once for each function it appears in\n",
      "[C kernel] GCC exited with code 1, the executable will not be executed"
     ]
    }
   ],
   "source": [
    "printf(\"%d\\n\", i+1);"
   ]
  },
  {
   "cell_type": "code",
   "execution_count": null,
   "id": "e84cd666-301f-4ed6-a2db-a48bca1cd873",
   "metadata": {},
   "outputs": [],
   "source": []
  }
 ],
 "metadata": {
  "kernelspec": {
   "display_name": "C",
   "language": "c",
   "name": "c"
  },
  "language_info": {
   "file_extension": ".c",
   "mimetype": "text/x-csrc",
   "name": "text/x-csrc"
  }
 },
 "nbformat": 4,
 "nbformat_minor": 5
}
