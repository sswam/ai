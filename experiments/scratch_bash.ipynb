{
 "cells": [
  {
   "cell_type": "code",
   "execution_count": null,
   "id": "4f82001f-6bef-4f2c-91d2-49b823e1d92f",
   "metadata": {},
   "outputs": [
    {
     "name": "stdout",
     "output_type": "stream",
     "text": [
      "/home/sam/ai/experiments\n"
     ]
    }
   ],
   "source": [
    "pwd"
   ]
  },
  {
   "cell_type": "code",
   "execution_count": null,
   "id": "a8e815bb-aa0f-4881-a880-396558d10cd1",
   "metadata": {},
   "outputs": [
    {
     "name": "stdout",
     "output_type": "stream",
     "text": [
      ".\n",
      "./snip_bash.ipynb\n",
      "./c-test.ipynb\n",
      "./scatch_bash.ipynb\n",
      "./bird_cat_dog\n",
      "./bird_cat_dog/today.txt\n",
      "./bird_cat_dog/ddg\n",
      "./data.csv\n",
      "./tabular.ipynb\n",
      "./tabular-1.ipynb\n",
      "./scratch_python.ipynb\n",
      "./bird_cat_dog.ipynb\n",
      "./models\n",
      "./.ipynb_checkpoints\n",
      "./.ipynb_checkpoints/snip_bash-checkpoint.ipynb\n",
      "./.ipynb_checkpoints/tabular-checkpoint.ipynb\n",
      "./.ipynb_checkpoints/scatch_bash-checkpoint.ipynb\n",
      "./.ipynb_checkpoints/c-test-checkpoint.ipynb\n",
      "./.ipynb_checkpoints/data-checkpoint.csv\n",
      "./.ipynb_checkpoints/scratch_python-checkpoint.ipynb\n",
      "./.ipynb_checkpoints/bird_cat_dog-checkpoint.ipynb\n",
      "./.ipynb_checkpoints/tabular-1-checkpoint.ipynb\n"
     ]
    }
   ],
   "source": [
    "find -maxdepth 2"
   ]
  },
  {
   "cell_type": "code",
   "execution_count": null,
   "id": "abd64659-3688-40b8-a73d-6838307c3097",
   "metadata": {},
   "outputs": [
    {
     "name": "stdout",
     "output_type": "stream",
     "text": [
      "total 1064\n",
      "drwxr-xr-x 3 sam sam   4096 Mar  3 20:56 \u001b[0m\u001b[01;34mbird_cat_dog\u001b[0m\n",
      "-rw-r--r-- 1 sam sam  21395 Mar  4 07:17 bird_cat_dog.ipynb\n",
      "-rw-r--r-- 1 sam sam   1454 Feb  7 15:06 c-test.ipynb\n",
      "-rw-r--r-- 1 sam sam 277792 Feb 22 17:48 data.csv\n",
      "drwxr-xr-x 2 sam sam   4096 Feb  9 19:49 \u001b[01;34mmodels\u001b[0m\n",
      "-rw-r--r-- 1 sam sam   4268 Mar  4 08:33 scatch_bash.ipynb\n",
      "-rw-r--r-- 1 sam sam   3226 Mar  4 08:32 scratch_python.ipynb\n",
      "-rw-r--r-- 1 sam sam   2272 Feb 24 07:32 snip_bash.ipynb\n",
      "-rw-r--r-- 1 sam sam  64426 Feb  9 18:48 tabular-1.ipynb\n",
      "-rw-r--r-- 1 sam sam 689481 Feb 25 03:16 tabular.ipynb\n"
     ]
    }
   ],
   "source": [
    "ls -l"
   ]
  },
  {
   "cell_type": "code",
   "execution_count": null,
   "id": "95005f59-d05f-4d3d-8c91-941f1b1ce193",
   "metadata": {},
   "outputs": [
    {
     "name": "stdout",
     "output_type": "stream",
     "text": [
      "jq -r '.cells[] | select(.cell_type == \"markdown\") | select(has(\"source\")) | .source | .[] | match(\"^#+\\\\s*(.*)$\") | .string'\n"
     ]
    }
   ],
   "source": [
    "cw notebook_headings"
   ]
  },
  {
   "cell_type": "code",
   "execution_count": null,
   "id": "cec79862-85ce-4486-bd04-19e18da3961c",
   "metadata": {},
   "outputs": [
    {
     "name": "stdout",
     "output_type": "stream",
     "text": [
      "## add to libs\n",
      "## install requirements\n",
      "## general setup\n",
      "## 1. find images using Google search\n",
      "## 2. find images using duckduckgo_search\n",
      "## 3. find images using laion\n",
      "## references\n",
      "## scratch\n"
     ]
    }
   ],
   "source": [
    "< bird_cat_dog.ipynb jq -r '\n",
    "    .cells[] | select(.cell_type == \"markdown\") | select(has(\"source\")) | .source | .[] |\n",
    "    match(\"^#+\\\\s*(.*)$\") | .string'\n",
    "'"
   ]
  },
  {
   "cell_type": "code",
   "execution_count": null,
   "id": "185e522f-0041-4099-b89a-894016f87116",
   "metadata": {},
   "outputs": [
    {
     "name": "stdout",
     "output_type": "stream",
     "text": [
      "-0.459903490689591\n"
     ]
    }
   ],
   "source": [
    "perl -we 'print(sin(123))'"
   ]
  },
  {
   "cell_type": "code",
   "execution_count": null,
   "id": "ce614b94-67ae-476f-aaca-c74d269b9500",
   "metadata": {},
   "outputs": [
    {
     "name": "stdout",
     "output_type": "stream",
     "text": [
      "Undefined subroutine &main::acos called at -e line 1.\n"
     ]
    },
    {
     "ename": "",
     "evalue": "255",
     "output_type": "error",
     "traceback": []
    }
   ],
   "source": [
    "perl -we 'print acos(0)'"
   ]
  },
  {
   "cell_type": "code",
   "execution_count": null,
   "id": "479e4db6-0a09-46af-99b3-65d2cb135c71",
   "metadata": {},
   "outputs": [
    {
     "name": "stdout",
     "output_type": "stream",
     "text": [
      "3.14159265358979\n"
     ]
    }
   ],
   "source": [
    "perl -e '\n",
    "use POSIX qw(acos);\n",
    "my $pi = 2 * acos(0);\n",
    "print($pi);\n",
    "'"
   ]
  },
  {
   "cell_type": "code",
   "execution_count": null,
   "id": "2804151c-0bc5-41b3-8b99-ee9af3409001",
   "metadata": {},
   "outputs": [
    {
     "name": "stdout",
     "output_type": "stream",
     "text": [
      "The value of pi is: 3.14159265358979\n"
     ]
    }
   ],
   "source": [
    "perl -e '\n",
    "use strict;\n",
    "use warnings;\n",
    "use Math::Trig qw(pi);\n",
    "\n",
    "print \"The value of pi is: \", pi, \"\\n\";\n",
    "'"
   ]
  },
  {
   "cell_type": "code",
   "execution_count": null,
   "id": "58137d6c-025d-4b0f-8280-11dc075a1397",
   "metadata": {},
   "outputs": [],
   "source": []
  },
  {
   "cell_type": "code",
   "execution_count": null,
   "id": "209c6115-3ffa-4921-89eb-5343c0653996",
   "metadata": {},
   "outputs": [],
   "source": []
  },
  {
   "cell_type": "code",
   "execution_count": null,
   "id": "94bf6a5d-e9d4-40f9-954d-d33e13369527",
   "metadata": {},
   "outputs": [],
   "source": []
  },
  {
   "cell_type": "code",
   "execution_count": null,
   "id": "aba249d2-f8a9-44d0-bdc8-8a7e6c0bbc9f",
   "metadata": {},
   "outputs": [],
   "source": []
  },
  {
   "cell_type": "code",
   "execution_count": null,
   "id": "c0424f65-5346-4782-aef6-616b811e7719",
   "metadata": {},
   "outputs": [],
   "source": []
  },
  {
   "cell_type": "code",
   "execution_count": null,
   "id": "12b9f022-1417-4d3d-bbdd-7c54e4c1b215",
   "metadata": {},
   "outputs": [],
   "source": []
  },
  {
   "cell_type": "code",
   "execution_count": null,
   "id": "5678ba53-ba66-490d-8b19-e5cec4b2d222",
   "metadata": {},
   "outputs": [],
   "source": []
  }
 ],
 "metadata": {
  "kernelspec": {
   "display_name": "bash",
   "language": "bash",
   "name": "bash"
  }
 },
 "nbformat": 4,
 "nbformat_minor": 5
}
