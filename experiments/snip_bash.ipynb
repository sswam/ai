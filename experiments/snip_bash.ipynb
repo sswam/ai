{
 "cells": [
  {
   "cell_type": "markdown",
   "id": "00488917-b9ac-441c-800a-782512741719",
   "metadata": {},
   "source": [
    "## use the old pip resolver, if necessary"
   ]
  },
  {
   "cell_type": "markdown",
   "id": "b7732cf9-a18b-4788-92c0-b1ad248e2f9f",
   "metadata": {},
   "source": [
    "As of pip 20.3, a new resolver has been introduced, which doesn't always work. As of pip 21.0 the old working resolver is unsupported and slated for removal dependent on pip team resources. So I'm downgrading pip to the last correctly working version, 20.2.4.\n",
    "\n",
    "Refer to https://stackoverflow.com/a/67408694 for more info."
   ]
  },
  {
   "cell_type": "code",
   "execution_count": null,
   "id": "9af82314-8d5a-4378-a854-b3a715b8e8bc",
   "metadata": {},
   "outputs": [
    {
     "name": "stdout",
     "output_type": "stream",
     "text": [
      "pip 23.0.1 from /usr/local/lib/python3.10/dist-packages/pip (python 3.10)\n"
     ]
    }
   ],
   "source": [
    "pip --version"
   ]
  },
  {
   "cell_type": "code",
   "execution_count": null,
   "id": "4b1c9831-1c11-46bf-8f86-fe60f3fa8d68",
   "metadata": {},
   "outputs": [
    {
     "name": "stdout",
     "output_type": "stream",
     "text": [
      "Collecting pip==20.2.4\n",
      "  Using cached pip-20.2.4-py2.py3-none-any.whl (1.5 MB)\n",
      "Installing collected packages: pip\n",
      "  Attempting uninstall: pip\n",
      "    Found existing installation: pip 23.0\n",
      "    Not uninstalling pip at /usr/lib/python3/dist-packages, outside environment /usr\n",
      "    Can't uninstall 'pip'. No files were found to uninstall.\n",
      "Successfully installed pip-20.2.4\n"
     ]
    }
   ],
   "source": [
    "pip install pip==20.2.4"
   ]
  },
  {
   "cell_type": "code",
   "execution_count": null,
   "id": "e42d6607-04b0-44c1-b7c1-73a7d2b513c5",
   "metadata": {},
   "outputs": [
    {
     "name": "stdout",
     "output_type": "stream",
     "text": [
      "pip 20.2.4 from /usr/local/lib/python3.10/dist-packages/pip (python 3.10)\n"
     ]
    }
   ],
   "source": [
    "pip --version"
   ]
  }
 ],
 "metadata": {
  "kernelspec": {
   "display_name": "bash",
   "language": "bash",
   "name": "bash"
  }
 },
 "nbformat": 4,
 "nbformat_minor": 5
}
